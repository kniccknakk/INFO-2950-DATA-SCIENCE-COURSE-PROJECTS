{
 "cells": [
  {
   "cell_type": "markdown",
   "metadata": {
    "id": "2tWUbIIuX2ze"
   },
   "source": [
    "# INFO 2950 Homework 6"
   ]
  },
  {
   "cell_type": "code",
   "execution_count": 1,
   "metadata": {
    "id": "ATc5oPUoZZha"
   },
   "outputs": [],
   "source": [
    "import numpy as np\n",
    "import pandas as pd\n",
    "import matplotlib.pyplot as plt\n",
    "from scipy.stats import binom, poisson, norm\n",
    "from numpy import random\n",
    "import seaborn as sns"
   ]
  },
  {
   "cell_type": "markdown",
   "metadata": {
    "id": "zIBcHCA8_SUd"
   },
   "source": [
    "# Probability Distributions"
   ]
  },
  {
   "cell_type": "markdown",
   "metadata": {
    "id": "m7YNRe_I_SUf"
   },
   "source": [
    "### Probability Models Cheatsheet\n",
    "| Model | Example | Random Variable | Parameters | Probability Mass Function |\n",
    "| --- | --- | --- | --- | --- |\n",
    "| Binomial | flip a coin n times | $X$ = number of successful coin flips {0, 1, ..., n} | $n$ = number of trials, $p$ = probability | $\\binom{n}{x} p^x (1-p)^{n-x} $|\n",
    "| Geometric | flip a coin until success | $X$ = number of failures before success {0, 1, ..., k} | $k$ = trial number, $p$ = probability | $p(1-p)^{k-1}$ |\n",
    "| Poisson | number of successful coin flips within a fixed interval | $X$ = number of events within a fixed interval | $k$ = trial number, $\\lambda$ = rate parameter, $p$ = probability | $\\dfrac{\\lambda^ke^{-\\lambda}}{k!}$ |\n",
    "| Negative Binomial | number of coin flips to reach a number of successes | $X$ = number of trials until the $r^{th}$ success| $x$ = trial number, $r$ = number of successes, $p$ = probability | $\\binom{x-1}{r-1}(1-p)^{x-r}p^r$\n"
   ]
  },
  {
   "cell_type": "markdown",
   "metadata": {
    "id": "9g6khyjbAAyD"
   },
   "source": [
    "---"
   ]
  },
  {
   "cell_type": "markdown",
   "metadata": {
    "deletable": false,
    "editable": false,
    "problem": 0
   },
   "source": [
    "### Problem 0 (10 points)\n",
    "\n",
    "Calculate the probability for each of the following scenarios. Hint: you'll want to alternate between using the cumulative distribution function (CDF) and probability mass function (PMF) according to the scenario. You can use functions from the `scipy.stats` package (e.g. here's the documentation for [SciPy's binomial functions](https://docs.scipy.org/doc/scipy/reference/generated/scipy.stats.binom.html))\n",
    "\n",
    "1. Professor Koenecke makes 60% of her free-throw attempts. If she shoots 12 free throws, what is the probability that she makes exactly 10? \n",
    "2. Professor Mimno flips a fair coin 5 times. What is the probability that the coin lands on heads 2 times or fewer? \n",
    "3. You roll a six-sided die 20 times. What is the probability of having exactly 8 rolls land on a number greater than 4? \n"
   ]
  },
  {
   "cell_type": "code",
   "execution_count": 58,
   "metadata": {
    "colab": {
     "base_uri": "https://localhost:8080/"
    },
    "id": "1WhfLpIv_SUk",
    "outputId": "4a777b85-76b1-4ee1-e75e-dea0b6bdac68"
   },
   "outputs": [
    {
     "data": {
      "text/plain": [
       "0.063852281856"
      ]
     },
     "execution_count": 58,
     "metadata": {},
     "output_type": "execute_result"
    }
   ],
   "source": [
    "binom.pmf(10, 12, .6)"
   ]
  },
  {
   "cell_type": "code",
   "execution_count": 77,
   "metadata": {
    "colab": {
     "base_uri": "https://localhost:8080/"
    },
    "id": "y7uW0y0J_SUl",
    "outputId": "82a8001b-0f25-4806-e3a1-97e93fd49f50"
   },
   "outputs": [
    {
     "data": {
      "text/plain": [
       "0.5"
      ]
     },
     "execution_count": 77,
     "metadata": {},
     "output_type": "execute_result"
    }
   ],
   "source": [
    "((binom.cdf(2,5,.5)))"
   ]
  },
  {
   "cell_type": "code",
   "execution_count": 4,
   "metadata": {
    "colab": {
     "base_uri": "https://localhost:8080/"
    },
    "id": "KgViSbj9_SUl",
    "outputId": "62263554-e166-4989-f568-b36a6d91c4d0"
   },
   "outputs": [
    {
     "data": {
      "text/plain": [
       "0.14797964561617596"
      ]
     },
     "execution_count": 4,
     "metadata": {},
     "output_type": "execute_result"
    }
   ],
   "source": [
    "binom.pmf(8,20,.33333333333333)"
   ]
  },
  {
   "cell_type": "markdown",
   "metadata": {
    "deletable": false,
    "editable": false,
    "problem": 1
   },
   "source": [
    "### Problem 1 (10 points)\n",
    "\n",
    "The geometric distribution shows the number of trials before success. Create a function called `check_geometric_pmf`. This function should take two inputs:\n",
    "1. Trial number\n",
    "2. Probability\n",
    "\n",
    "Based on those inputs, `check_geometric_pmf` should calculate the probability mass function (PMF) for the geometric model. The function should return this value. Make sure to write out the PMF fully (do not use a function from a Python module). \n",
    "\n",
    "Test your function to see the probability of success at the 3rd try, given a 20% probability.\n",
    "\n",
    "Then, use this function to test the probability of the first success occurring for each trial in 20 consecutive events. Visualize your result in a bar graph, including informative x and y axis labels. Make sure that there is a numeric label for all 20 events (hint: you can specify the `tick_label` parameter). "
   ]
  },
  {
   "cell_type": "code",
   "execution_count": 60,
   "metadata": {
    "id": "m7Ou3f5naxbN"
   },
   "outputs": [],
   "source": [
    "def check_geometric_pmf(k, p): \n",
    "    x = (p)*(1-p)**(k-1)\n",
    "    return x \n",
    "    "
   ]
  },
  {
   "cell_type": "code",
   "execution_count": 93,
   "metadata": {
    "colab": {
     "base_uri": "https://localhost:8080/"
    },
    "id": "ev9HWaOTcycw",
    "outputId": "313abb8a-d698-45b0-c16e-5295bfa2c9fb"
   },
   "outputs": [
    {
     "name": "stdout",
     "output_type": "stream",
     "text": [
      "0.12800000000000003\n",
      "<BarContainer object of 20 artists>\n"
     ]
    },
    {
     "data": {
      "image/png": "[encoded data removed]",
      "text/plain": [
       "<Figure size 432x288 with 1 Axes>"
      ]
     },
     "metadata": {
      "needs_background": "light"
     },
     "output_type": "display_data"
    }
   ],
   "source": [
    "print(check_geometric_pmf(3, .2)) \n",
    "\n",
    "\n",
    "value = range(21)[1:]\n",
    "\n",
    "mylist = [] \n",
    "for i in range(21)[1:]: \n",
    "    x = check_geometric_pmf(i, .2)\n",
    "    mylist.append(x) \n",
    "\n",
    "#print(mylist) \n",
    "graph = plt.bar(x=value, height = mylist, tick_label=value)\n",
    "plt.xlabel(\"trial number\")\n",
    "plt.ylabel(\"probability\")\n",
    "print(graph)"
   ]
  },
  {
   "cell_type": "code",
   "execution_count": null,
   "metadata": {
    "colab": {
     "base_uri": "https://localhost:8080/",
     "height": 279
    },
    "id": "JqDv6ONzcJWR",
    "outputId": "c8eb0193-4950-4137-c4bb-86e022c3010e"
   },
   "outputs": [],
   "source": []
  },
  {
   "cell_type": "markdown",
   "metadata": {
    "deletable": false,
    "editable": false,
    "problem": 2
   },
   "source": [
    "### Problem 2 (10 points)\n",
    "You want to learn about architecture on Cornell campus, so in between classes you ask random people whether they are Architecture majors (who account for 3.3% of the undergraduate student body). Using your function from Q1, what is the probability that you finally run into an Architecture major in the the 5th undergraduate student you speak to?  "
   ]
  },
  {
   "cell_type": "code",
   "execution_count": 72,
   "metadata": {
    "colab": {
     "base_uri": "https://localhost:8080/"
    },
    "id": "n6sHMlRX-fcS",
    "outputId": "0c8ab10d-ea6e-4324-ea50-814e034186f7"
   },
   "outputs": [
    {
     "data": {
      "text/plain": [
       "0.028854917451393"
      ]
     },
     "execution_count": 72,
     "metadata": {},
     "output_type": "execute_result"
    }
   ],
   "source": [
    "check_geometric_pmf(5, .033)"
   ]
  },
  {
   "cell_type": "markdown",
   "metadata": {
    "deletable": false,
    "editable": false,
    "problem": 3
   },
   "source": [
    "### Problem 3 (10 points)\n",
    "\n",
    "Use `np.random.normal` to generate four normal distributions, with sizes `20`, `100`, `1000`, and `3000`. All of these distributions should have a mean of `50` and standard deviation of `20`. We've already included a random seed of `2950` at the top. Make sure to keep this line of code!\n",
    "\n",
    "Calculate and print the mean for all four distributions and use seaborn's `displot` to visualize each distribution.\n",
    "\n",
    "Then, explain what you notice about the means and visualizations for each distribution. What happens as the size increases? "
   ]
  },
  {
   "cell_type": "code",
   "execution_count": 79,
   "metadata": {
    "colab": {
     "base_uri": "https://localhost:8080/"
    },
    "id": "fQKzYpp9DW1k",
    "outputId": "5ebf683a-17c0-4c85-9c83-b7f69a19ddb7"
   },
   "outputs": [
    {
     "name": "stdout",
     "output_type": "stream",
     "text": [
      "40.53088479453623\n",
      "<seaborn.axisgrid.FacetGrid object at 0x127ab80a0>\n",
      "50.28345798240403\n",
      "<seaborn.axisgrid.FacetGrid object at 0x12768a790>\n",
      "49.92328162760616\n",
      "<seaborn.axisgrid.FacetGrid object at 0x127b781f0>\n",
      "49.510379120805126\n",
      "<seaborn.axisgrid.FacetGrid object at 0x127d0f400>\n"
     ]
    },
    {
     "data": {
      "image/png": "[encoded data removed]",
      "text/plain": [
       "<Figure size 360x360 with 1 Axes>"
      ]
     },
     "metadata": {
      "needs_background": "light"
     },
     "output_type": "display_data"
    },
    {
     "data": {
      "image/png": "[encoded data removed]",
      "text/plain": [
       "<Figure size 360x360 with 1 Axes>"
      ]
     },
     "metadata": {
      "needs_background": "light"
     },
     "output_type": "display_data"
    },
    {
     "data": {
      "image/png": "[encoded data removed]",
      "text/plain": [
       "<Figure size 360x360 with 1 Axes>"
      ]
     },
     "metadata": {
      "needs_background": "light"
     },
     "output_type": "display_data"
    },
    {
     "data": {
      "image/png": "[encoded data removed]",
      "text/plain": [
       "<Figure size 360x360 with 1 Axes>"
      ]
     },
     "metadata": {
      "needs_background": "light"
     },
     "output_type": "display_data"
    }
   ],
   "source": [
    "np.random.seed(2950)\n",
    "\n",
    "a = np.random.normal(loc=50.0, scale=20.0, size=20)\n",
    "b = np.random.normal(loc=50.0, scale=20.0, size=100)\n",
    "c = np.random.normal(loc=50.0, scale=20.0, size=1000)\n",
    "d = np.random.normal(loc=50.0, scale=20.0, size=3000)\n",
    "\n",
    "print(a.mean()) \n",
    "print(sns.displot(data=a) ) \n",
    "\n",
    "\n",
    "print(b.mean())  \n",
    "print(sns.displot(data=b) )\n",
    "\n",
    "\n",
    "print(c.mean()) \n",
    "print(sns.displot(data=c))\n",
    "\n",
    "\n",
    "print(d.mean())\n",
    "print(sns.displot(data=d))\n"
   ]
  },
  {
   "cell_type": "code",
   "execution_count": null,
   "metadata": {
    "colab": {
     "base_uri": "https://localhost:8080/",
     "height": 1000
    },
    "id": "ikvfmVuyEHnV",
    "outputId": "c55ff8f6-7cae-4d18-c152-b60aae324f70"
   },
   "outputs": [],
   "source": []
  },
  {
   "cell_type": "markdown",
   "metadata": {
    "id": "OqWTEi_LFgzD"
   },
   "source": [
    "**Explain what you notice about the mean and visualizations**\n",
    "Then, explain what you notice about the means and visualizations for each distribution. What happens as the size increases? \n",
    "\n",
    "as the size increases the mean is increasingly centred around 50, as size increases, the distributions become more and more bell-shaped and increasingly follow the normal distribution"
   ]
  },
  {
   "cell_type": "markdown",
   "metadata": {
    "deletable": false,
    "editable": false,
    "problem": 4
   },
   "source": [
    "### Problem 4 (10 points)\n",
    "\n",
    "You've just given out an exam to 230 students, and have found that the mean and median are both 80; the variance is 25, and the histogram looks like a bell curve. Without writing any code:\n",
    "\n",
    "1. What type of distribution might be a good model for these scores? Explain your reasoning. \n",
    "2. How many students do you expect received between a 75% and 85% on the exam? Explain your reasoning. \n",
    "3. How many students received less than a 80% on the exam? Explain your reasoning.  \n",
    "4. How many students received between a 90% and 95%? Explain your reasoning. \n"
   ]
  },
  {
   "cell_type": "markdown",
   "metadata": {
    "id": "Jh36kqsIBROK"
   },
   "source": [
    "1. **Your answer here**\n",
    "a normal distribution because I would expect this model to nicely model the number of scores I receive for the exam, centred around the mean/median and in which more extreme values (higher and lower scores) are further out along the distribution, leading to a bell-curve shape\n",
    "2. **Your answer here**\n",
    "about 68% because the STD is 5 and about 68% of the mass is contained within 1 STD of the Mean. so this is about 156-7 students. \n",
    "3. **Your answer here**\n",
    "I would expect about 50% to have received less than an 80. In a perfect world, the mean is equal to the median and so exactly 50% would be above and below the mean. So this is 115 students. \n",
    "4. **Your answer here**\n",
    "According to google, \"68% of the observed data will occur within the first standard deviation, 95% will take place in the second deviation, and 99.7% within the third standard deviation\" so between 90 (2 stds away) and 95 (3 stds away), I would expect about 4.7/2, or 2.35% of 230,  5.4 (or from five to six students) to have received between a 90 and a 95 "
   ]
  },
  {
   "cell_type": "markdown",
   "metadata": {
    "id": "F54-6mA6_SUn"
   },
   "source": [
    "In the provided dataframe below we have data on the scientific productivity of PhD students ([source](https://rdrr.io/cran/scar/man/PhDPublications.html)). The column \"articles\" indicates the number of articles published in the last three years of their PhD."
   ]
  },
  {
   "cell_type": "code",
   "execution_count": 9,
   "metadata": {
    "id": "u9BCX05P_SUn",
    "outputId": "6d11211f-0a32-4194-d627-aadb4d4534a5"
   },
   "outputs": [
    {
     "name": "stdout",
     "output_type": "stream",
     "text": [
      "there are 915 students\n"
     ]
    },
    {
     "data": {
      "text/html": [
       "<div>\n",
       "<style scoped>\n",
       "    .dataframe tbody tr th:only-of-type {\n",
       "        vertical-align: middle;\n",
       "    }\n",
       "\n",
       "    .dataframe tbody tr th {\n",
       "        vertical-align: top;\n",
       "    }\n",
       "\n",
       "    .dataframe thead th {\n",
       "        text-align: right;\n",
       "    }\n",
       "</style>\n",
       "<table border=\"1\" class=\"dataframe\">\n",
       "  <thead>\n",
       "    <tr style=\"text-align: right;\">\n",
       "      <th></th>\n",
       "      <th>articles</th>\n",
       "      <th>gender</th>\n",
       "      <th>married</th>\n",
       "      <th>kids</th>\n",
       "      <th>prestige</th>\n",
       "      <th>mentor</th>\n",
       "    </tr>\n",
       "  </thead>\n",
       "  <tbody>\n",
       "    <tr>\n",
       "      <th>0</th>\n",
       "      <td>0</td>\n",
       "      <td>male</td>\n",
       "      <td>yes</td>\n",
       "      <td>0</td>\n",
       "      <td>2.52</td>\n",
       "      <td>7</td>\n",
       "    </tr>\n",
       "    <tr>\n",
       "      <th>1</th>\n",
       "      <td>0</td>\n",
       "      <td>female</td>\n",
       "      <td>no</td>\n",
       "      <td>0</td>\n",
       "      <td>2.05</td>\n",
       "      <td>6</td>\n",
       "    </tr>\n",
       "    <tr>\n",
       "      <th>2</th>\n",
       "      <td>0</td>\n",
       "      <td>female</td>\n",
       "      <td>no</td>\n",
       "      <td>0</td>\n",
       "      <td>3.75</td>\n",
       "      <td>6</td>\n",
       "    </tr>\n",
       "    <tr>\n",
       "      <th>3</th>\n",
       "      <td>0</td>\n",
       "      <td>male</td>\n",
       "      <td>yes</td>\n",
       "      <td>1</td>\n",
       "      <td>1.18</td>\n",
       "      <td>3</td>\n",
       "    </tr>\n",
       "    <tr>\n",
       "      <th>4</th>\n",
       "      <td>0</td>\n",
       "      <td>female</td>\n",
       "      <td>no</td>\n",
       "      <td>0</td>\n",
       "      <td>3.75</td>\n",
       "      <td>26</td>\n",
       "    </tr>\n",
       "  </tbody>\n",
       "</table>\n",
       "</div>"
      ],
      "text/plain": [
       "   articles  gender married  kids  prestige  mentor\n",
       "0         0    male     yes     0      2.52       7\n",
       "1         0  female      no     0      2.05       6\n",
       "2         0  female      no     0      3.75       6\n",
       "3         0    male     yes     1      1.18       3\n",
       "4         0  female      no     0      3.75      26"
      ]
     },
     "execution_count": 9,
     "metadata": {},
     "output_type": "execute_result"
    }
   ],
   "source": [
    "df = pd.read_csv('PhDPublications.csv')\n",
    "print(f'there are {len(df)} students')\n",
    "df.head()"
   ]
  },
  {
   "cell_type": "markdown",
   "metadata": {
    "deletable": false,
    "editable": false,
    "problem": 5
   },
   "source": [
    "### Problem 5 (10 points)\n",
    "\n",
    "Create a histogram indicating the number of PhD students (y-axis) for each number of articles published (x-axis), with 20 bins. From the four models listed above, what do you think is the best choice to simulate the number of articles a PhD student can publish within the last three years of their PhD? Explain your reasoning."
   ]
  },
  {
   "cell_type": "code",
   "execution_count": 14,
   "metadata": {
    "id": "z4PRYyth_SUo",
    "outputId": "c828c007-de70-44ee-94bb-58968cccd1f8"
   },
   "outputs": [
    {
     "name": "stdout",
     "output_type": "stream",
     "text": [
      "AxesSubplot(0.125,0.125;0.775x0.755)\n",
      "1.692896174863388\n"
     ]
    },
    {
     "data": {
      "image/png": "[encoded data removed]",
      "text/plain": [
       "<Figure size 432x288 with 1 Axes>"
      ]
     },
     "metadata": {
      "needs_background": "light"
     },
     "output_type": "display_data"
    }
   ],
   "source": [
    "print(sns.histplot(data = df, x = 'articles', bins = 20 ) )\n",
    "\n",
    "\n",
    "m = df['articles'].mean()\n",
    "print(m)"
   ]
  },
  {
   "cell_type": "markdown",
   "metadata": {
    "id": "0zsjzJSK_SUo"
   },
   "source": [
    "**Explain which model you would choose**\n",
    "\n",
    "I would use poisson because we are modelling the frequency of an event during a given time period. the number of articles in the PHD candidates last 3 years of their programme. "
   ]
  },
  {
   "cell_type": "markdown",
   "metadata": {
    "deletable": false,
    "editable": false,
    "problem": 6
   },
   "source": [
    "### Problem 6 (10 points)\n",
    "\n",
    "Use `np.random.poisson` to generate 4 arrays. Each array should contain 1000 draws sampled from the Poisson distribution. Each array should have a different value for the event rate (i.e. the lambda parameter). The first should have $\\lambda=0.5$, the second $\\lambda=1$, the third $\\lambda=2$, and the fourth $\\lambda=5$. Plot a histogram for each of the four sampling arrays *on the same chart*, remember to use a legend and properly label your axes.\n",
    "\n",
    "We've already included a random seed of `2950` at the top. Make sure to keep this line of code!"
   ]
  },
  {
   "cell_type": "code",
   "execution_count": 108,
   "metadata": {
    "colab": {
     "base_uri": "https://localhost:8080/",
     "height": 279
    },
    "id": "AEeD1JPL_SUp",
    "outputId": "741ae67c-8d04-4c66-cf34-3fdcc833e551"
   },
   "outputs": [
    {
     "data": {
      "text/plain": [
       "<matplotlib.legend.Legend at 0x127eb0520>"
      ]
     },
     "execution_count": 108,
     "metadata": {},
     "output_type": "execute_result"
    },
    {
     "data": {
      "image/png": "[encoded data removed]",
      "text/plain": [
       "<Figure size 432x288 with 1 Axes>"
      ]
     },
     "metadata": {
      "needs_background": "light"
     },
     "output_type": "display_data"
    }
   ],
   "source": [
    "np.random.seed(2950)\n",
    "\n",
    "a = np.random.poisson(lam=0.5, size=1000)\n",
    "b = np.random.poisson(lam=1.0, size=1000)\n",
    "c = np.random.poisson(lam=2.0, size=1000)\n",
    "d = np.random.poisson(lam=5.0, size=1000)\n",
    "\n",
    "group = [a, b, c, d]\n",
    "graph = plt.hist(group, label = ['\\u03BB = 0.5', '\\u03BB = 1', '\\u03BB = 2', '\\u03BB = 5']) \n",
    "plt.xlabel(\"event/outcome\")\n",
    "plt.ylabel(\"frequency\")\n",
    "plt.legend()\n",
    "\n",
    "# print(sns.displot(data=a)) \n",
    "# print(sns.displot(data=b))\n",
    "# print(sns.displot(data=c))\n",
    "# print(sns.displot(data=d))\n"
   ]
  },
  {
   "cell_type": "markdown",
   "metadata": {
    "deletable": false,
    "editable": false,
    "problem": 7
   },
   "source": [
    "### Problem 7 (10 points)\n",
    "\n",
    "The poisson distribution can be used to simulate the number of events occuring within a specific interval, in this case: the number of articles a PhD student publishes in their last three years.\n",
    "\n",
    "In 1905, Albert Einstein had an \"annus mirabilis,\" publishing 4 seminal papers. [Wikipedia](https://en.wikipedia.org/wiki/List_of_scientific_publications_by_Albert_Einstein) indicates he published 6 papers in total during the last three years of his PhD (excluding reviews).\n",
    "\n",
    "Create a numpy array called `draws` containing 1000 draws from the poisson distribution using the average number of articles published per student as your event rate. Then create a histogram of these draws. Finally, use `pyplot.axvline()` to overlay a red, dotted, vertical line indicating the number of articles published by Albert Einstein in the last three years of his PhD.\n",
    "\n",
    "We've already included a random seed of `2950` at the top. Make sure to keep this line of code!"
   ]
  },
  {
   "cell_type": "code",
   "execution_count": 103,
   "metadata": {
    "id": "WaOpMnIH_SUq",
    "outputId": "4cb9b417-4a6e-46af-dca9-9e6b78cb5523"
   },
   "outputs": [
    {
     "name": "stdout",
     "output_type": "stream",
     "text": [
      "(array([471., 271., 145.,  70.,  35.,   6.,   1.,   1.]), array([0.   , 1.125, 2.25 , 3.375, 4.5  , 5.625, 6.75 , 7.875, 9.   ]), <BarContainer object of 8 artists>)\n"
     ]
    },
    {
     "data": {
      "image/png": "[encoded data removed]",
      "text/plain": [
       "<Figure size 432x288 with 1 Axes>"
      ]
     },
     "metadata": {
      "needs_background": "light"
     },
     "output_type": "display_data"
    }
   ],
   "source": [
    "np.random.seed(2950)\n",
    "\n",
    "draws = np.random.poisson(lam= m, size=1000)\n",
    "draws = np.array(draws) \n",
    "#draws = np.array(draws)\n",
    "print(plt.hist(draws, bins = 8)) \n",
    "plt.axvline(6, color = 'r', linestyle = ':')\n",
    "plt.xlabel(\"outcome\")\n",
    "plt.ylabel(\"frequency\")\n",
    "plt.annotate(\"einstein\", (6, 250))\n",
    "plt.show()"
   ]
  },
  {
   "cell_type": "markdown",
   "metadata": {
    "deletable": false,
    "editable": false,
    "problem": 8
   },
   "source": [
    "### Problem 8 (10 points)\n",
    "\n",
    "Using the same event rate parameter as before (i.e. the average number of articles published per student), what is the probablity that a PhD student publishes the same number of articles as Albert Einstein did in the last three years of their PhD. **Hint:** use `poisson.pmf()` from `scipy.stats`. Round your percentage to three decimal places."
   ]
  },
  {
   "cell_type": "code",
   "execution_count": 107,
   "metadata": {
    "id": "7JiqlQ5C_SUq",
    "outputId": "53b61992-e769-4f7a-ac7c-ddd5ed081fa1"
   },
   "outputs": [
    {
     "name": "stdout",
     "output_type": "stream",
     "text": [
      "Rounded to three decimal places the answer is 0.601%\n"
     ]
    }
   ],
   "source": [
    "ans = (poisson.pmf(6, m))*100 \n",
    "ans = np.round_(ans, decimals=3, out=None)\n",
    "\n",
    "print(\"Rounded to three decimal places the answer is \" +  str(ans) + \"%\") "
   ]
  },
  {
   "cell_type": "markdown",
   "metadata": {
    "deletable": false,
    "editable": false,
    "problem": 9
   },
   "source": [
    "### Problem 9 (10 points)\n",
    "\n",
    "With the same distribution (i.e. using the same probability model), what is the probability that a student publishes more than 6 articles in the last three years of their PhD? **Hint:** use `poisson.sf()` from `scipy.stats`. Round your percentage to three decimal places."
   ]
  },
  {
   "cell_type": "code",
   "execution_count": 106,
   "metadata": {
    "id": "OXs5aMXW_SUq",
    "outputId": "81dddde5-2f80-4c5a-fc7a-c6653e205ee9"
   },
   "outputs": [
    {
     "name": "stdout",
     "output_type": "stream",
     "text": [
      "Rounded to three decimal places the answer is 0.183%\n"
     ]
    }
   ],
   "source": [
    "ans = (poisson.sf(6, m))*100\n",
    "ans = np.round_(ans, decimals=3, out=None)\n",
    "\n",
    "print(\"Rounded to three decimal places the answer is \" +  str(ans) + \"%\") "
   ]
  },
  {
   "cell_type": "code",
   "execution_count": null,
   "metadata": {},
   "outputs": [],
   "source": []
  }
 ],
 "metadata": {
  "celltoolbar": "Edit Metadata",
  "colab": {
   "collapsed_sections": [],
   "provenance": []
  },
  "kernelspec": {
   "display_name": "Python 3 (ipykernel)",
   "language": "python",
   "name": "python3"
  },
  "language_info": {
   "codemirror_mode": {
    "name": "ipython",
    "version": 3
   },
   "file_extension": ".py",
   "mimetype": "text/x-python",
   "name": "python",
   "nbconvert_exporter": "python",
   "pygments_lexer": "ipython3",
   "version": "3.8.13"
  },
  "vscode": {
   "interpreter": {
    "hash": "a408f72c364aabb483c894ff34204feb1aea5f269b94149000e56cbbff53af82"
   }
  }
 },
 "nbformat": 4,
 "nbformat_minor": 1
}
