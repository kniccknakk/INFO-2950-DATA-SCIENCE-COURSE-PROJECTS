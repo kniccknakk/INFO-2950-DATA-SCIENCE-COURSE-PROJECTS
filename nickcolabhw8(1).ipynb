{
  "cells": [
    {
      "cell_type": "code",
      "execution_count": 2,
      "id": "1c40ec90",
      "metadata": {
        "id": "1c40ec90",
        "colab": {
          "base_uri": "https://localhost:8080/"
        },
        "outputId": "a5f82a0a-9b49-428b-f443-af4abb8c8773"
      },
      "outputs": [
        {
          "output_type": "stream",
          "name": "stdout",
          "text": [
            "Mounted at /content/gdrive\n"
          ]
        }
      ],
      "source": [
        "import numpy as np\n",
        "import pandas as pd\n",
        "\n",
        "import seaborn\n",
        "from matplotlib import pyplot\n",
        "\n",
        "from sklearn.feature_extraction.text import CountVectorizer, TfidfVectorizer\n",
        "from sklearn.preprocessing import normalize\n",
        "\n",
        "from sklearn.cluster import KMeans\n",
        "from sklearn.naive_bayes import MultinomialNB\n",
        "from sklearn.linear_model import LogisticRegression\n",
        "from sklearn.model_selection import train_test_split\n",
        "from google.colab import drive\n",
        "\n",
        "drive.mount('/content/gdrive')\n"
      ]
    },
    {
      "cell_type": "markdown",
      "id": "1d84a5a4",
      "metadata": {
        "id": "1d84a5a4"
      },
      "source": [
        "## Setup\n",
        "\n",
        "The file `reviews.txt` contains tab-delimited data for 4835 reviews from Yelp.\n"
      ]
    },
    {
      "cell_type": "code",
      "execution_count": 3,
      "id": "eeb0fb72",
      "metadata": {
        "id": "eeb0fb72",
        "outputId": "13528468-251e-44eb-fa56-ed783d3ce49c",
        "scrolled": true,
        "colab": {
          "base_uri": "https://localhost:8080/",
          "height": 206
        }
      },
      "outputs": [
        {
          "output_type": "execute_result",
          "data": {
            "text/plain": [
              "     Rating                                               Text\n",
              "0  positive  These guys are AMAZING! I brought my car in an...\n",
              "1  positive  Matt and Tim were great. When going over solut...\n",
              "2  positive  Well, I have a little 2001 Ford Taurus. My lov...\n",
              "3  positive  You won't be disappointed. We've eaten here ab...\n",
              "4  positive  Wow, just realized my reviews were never finis..."
            ],
            "text/html": [
              "\n",
              "  <div id=\"df-3f9f5393-1006-4c3a-9118-cb9254300ac7\">\n",
              "    <div class=\"colab-df-container\">\n",
              "      <div>\n",
              "<style scoped>\n",
              "    .dataframe tbody tr th:only-of-type {\n",
              "        vertical-align: middle;\n",
              "    }\n",
              "\n",
              "    .dataframe tbody tr th {\n",
              "        vertical-align: top;\n",
              "    }\n",
              "\n",
              "    .dataframe thead th {\n",
              "        text-align: right;\n",
              "    }\n",
              "</style>\n",
              "<table border=\"1\" class=\"dataframe\">\n",
              "  <thead>\n",
              "    <tr style=\"text-align: right;\">\n",
              "      <th></th>\n",
              "      <th>Rating</th>\n",
              "      <th>Text</th>\n",
              "    </tr>\n",
              "  </thead>\n",
              "  <tbody>\n",
              "    <tr>\n",
              "      <th>0</th>\n",
              "      <td>positive</td>\n",
              "      <td>These guys are AMAZING! I brought my car in an...</td>\n",
              "    </tr>\n",
              "    <tr>\n",
              "      <th>1</th>\n",
              "      <td>positive</td>\n",
              "      <td>Matt and Tim were great. When going over solut...</td>\n",
              "    </tr>\n",
              "    <tr>\n",
              "      <th>2</th>\n",
              "      <td>positive</td>\n",
              "      <td>Well, I have a little 2001 Ford Taurus. My lov...</td>\n",
              "    </tr>\n",
              "    <tr>\n",
              "      <th>3</th>\n",
              "      <td>positive</td>\n",
              "      <td>You won't be disappointed. We've eaten here ab...</td>\n",
              "    </tr>\n",
              "    <tr>\n",
              "      <th>4</th>\n",
              "      <td>positive</td>\n",
              "      <td>Wow, just realized my reviews were never finis...</td>\n",
              "    </tr>\n",
              "  </tbody>\n",
              "</table>\n",
              "</div>\n",
              "      <button class=\"colab-df-convert\" onclick=\"convertToInteractive('df-3f9f5393-1006-4c3a-9118-cb9254300ac7')\"\n",
              "              title=\"Convert this dataframe to an interactive table.\"\n",
              "              style=\"display:none;\">\n",
              "        \n",
              "  <svg xmlns=\"http://www.w3.org/2000/svg\" height=\"24px\"viewBox=\"0 0 24 24\"\n",
              "       width=\"24px\">\n",
              "    <path d=\"M0 0h24v24H0V0z\" fill=\"none\"/>\n",
              "    <path d=\"M18.56 5.44l.94 2.06.94-2.06 2.06-.94-2.06-.94-.94-2.06-.94 2.06-2.06.94zm-11 1L8.5 8.5l.94-2.06 2.06-.94-2.06-.94L8.5 2.5l-.94 2.06-2.06.94zm10 10l.94 2.06.94-2.06 2.06-.94-2.06-.94-.94-2.06-.94 2.06-2.06.94z\"/><path d=\"M17.41 7.96l-1.37-1.37c-.4-.4-.92-.59-1.43-.59-.52 0-1.04.2-1.43.59L10.3 9.45l-7.72 7.72c-.78.78-.78 2.05 0 2.83L4 21.41c.39.39.9.59 1.41.59.51 0 1.02-.2 1.41-.59l7.78-7.78 2.81-2.81c.8-.78.8-2.07 0-2.86zM5.41 20L4 18.59l7.72-7.72 1.47 1.35L5.41 20z\"/>\n",
              "  </svg>\n",
              "      </button>\n",
              "      \n",
              "  <style>\n",
              "    .colab-df-container {\n",
              "      display:flex;\n",
              "      flex-wrap:wrap;\n",
              "      gap: 12px;\n",
              "    }\n",
              "\n",
              "    .colab-df-convert {\n",
              "      background-color: #E8F0FE;\n",
              "      border: none;\n",
              "      border-radius: 50%;\n",
              "      cursor: pointer;\n",
              "      display: none;\n",
              "      fill: #1967D2;\n",
              "      height: 32px;\n",
              "      padding: 0 0 0 0;\n",
              "      width: 32px;\n",
              "    }\n",
              "\n",
              "    .colab-df-convert:hover {\n",
              "      background-color: #E2EBFA;\n",
              "      box-shadow: 0px 1px 2px rgba(60, 64, 67, 0.3), 0px 1px 3px 1px rgba(60, 64, 67, 0.15);\n",
              "      fill: #174EA6;\n",
              "    }\n",
              "\n",
              "    [theme=dark] .colab-df-convert {\n",
              "      background-color: #3B4455;\n",
              "      fill: #D2E3FC;\n",
              "    }\n",
              "\n",
              "    [theme=dark] .colab-df-convert:hover {\n",
              "      background-color: #434B5C;\n",
              "      box-shadow: 0px 1px 3px 1px rgba(0, 0, 0, 0.15);\n",
              "      filter: drop-shadow(0px 1px 2px rgba(0, 0, 0, 0.3));\n",
              "      fill: #FFFFFF;\n",
              "    }\n",
              "  </style>\n",
              "\n",
              "      <script>\n",
              "        const buttonEl =\n",
              "          document.querySelector('#df-3f9f5393-1006-4c3a-9118-cb9254300ac7 button.colab-df-convert');\n",
              "        buttonEl.style.display =\n",
              "          google.colab.kernel.accessAllowed ? 'block' : 'none';\n",
              "\n",
              "        async function convertToInteractive(key) {\n",
              "          const element = document.querySelector('#df-3f9f5393-1006-4c3a-9118-cb9254300ac7');\n",
              "          const dataTable =\n",
              "            await google.colab.kernel.invokeFunction('convertToInteractive',\n",
              "                                                     [key], {});\n",
              "          if (!dataTable) return;\n",
              "\n",
              "          const docLinkHtml = 'Like what you see? Visit the ' +\n",
              "            '<a target=\"_blank\" href=https://colab.research.google.com/notebooks/data_table.ipynb>data table notebook</a>'\n",
              "            + ' to learn more about interactive tables.';\n",
              "          element.innerHTML = '';\n",
              "          dataTable['output_type'] = 'display_data';\n",
              "          await google.colab.output.renderOutput(dataTable, element);\n",
              "          const docLink = document.createElement('div');\n",
              "          docLink.innerHTML = docLinkHtml;\n",
              "          element.appendChild(docLink);\n",
              "        }\n",
              "      </script>\n",
              "    </div>\n",
              "  </div>\n",
              "  "
            ]
          },
          "metadata": {},
          "execution_count": 3
        }
      ],
      "source": [
        "reviews_df = pd.read_csv(\"/content/gdrive/My Drive/Colab Notebooks/reviews.tsv\", delimiter=\"\\t\")\n",
        "reviews_df.head()"
      ]
    },
    {
      "cell_type": "markdown",
      "id": "35d7c343",
      "metadata": {
        "id": "35d7c343"
      },
      "source": [
        "We can access just the \"Text\" column, and then get the 0th element of that column to get the full text of a review."
      ]
    },
    {
      "cell_type": "code",
      "execution_count": 4,
      "id": "ec64f94a",
      "metadata": {
        "id": "ec64f94a",
        "outputId": "17dc5217-0693-47f5-e463-46f8b67accb0",
        "colab": {
          "base_uri": "https://localhost:8080/"
        }
      },
      "outputs": [
        {
          "output_type": "stream",
          "name": "stdout",
          "text": [
            "These guys are AMAZING! I brought my car in and they checked over the WHOLE car! I realize my car needs some TLC. The guys prioritized my list of things I need to get done and made me estimates too. I know I have alot of money I need to save to fix my car but the guys are helping me out and we are doing a little at a time. I LOVE the fact they told me EVERYTHING that was wrong with my car. They have a GREAT staff, a WONDERFUL warranty (2 years/24,000 miles on Parts & Labor), AMAZING technicians, and an attitude of service. I feel at home and will NEVER take my car someplace else, EVEN just for an oil change!!!\n"
          ]
        }
      ],
      "source": [
        "print(reviews_df[\"Text\"][0])"
      ]
    },
    {
      "cell_type": "markdown",
      "id": "eb878e83",
      "metadata": {
        "deletable": false,
        "editable": false,
        "id": "eb878e83",
        "problem": 1
      },
      "source": [
        "## Problem 1 (5 points)\n",
        "\n",
        "Create a variable `count_vectorizer` and set it equal to a new `CountVectorizer()`.\n",
        "Then use the `fit_transform` function on the `\"Text\"` field, saving the result in a variable called `word_counts`. See [the sklearn docs](https://scikit-learn.org/stable/modules/generated/sklearn.feature_extraction.text.CountVectorizer.html) for an example.\n",
        "Print the first row of the `word_counts` array."
      ]
    },
    {
      "cell_type": "code",
      "execution_count": 5,
      "id": "d6c26c25",
      "metadata": {
        "id": "d6c26c25",
        "colab": {
          "base_uri": "https://localhost:8080/"
        },
        "outputId": "36f3d249-d39f-4e71-d06e-82dcdf8d9c7d"
      },
      "outputs": [
        {
          "output_type": "stream",
          "name": "stdout",
          "text": [
            "  (0, 17701)\t1\n",
            "  (0, 8096)\t3\n",
            "  (0, 1290)\t3\n",
            "  (0, 990)\t2\n",
            "  (0, 2634)\t1\n",
            "  (0, 11529)\t6\n",
            "  (0, 3047)\t6\n",
            "  (0, 8957)\t1\n",
            "  (0, 1058)\t5\n",
            "  (0, 17705)\t3\n",
            "  (0, 3401)\t1\n",
            "  (0, 12307)\t1\n",
            "  (0, 17668)\t4\n",
            "  (0, 19350)\t1\n",
            "  (0, 14100)\t1\n",
            "  (0, 11655)\t1\n",
            "  (0, 16264)\t1\n",
            "  (0, 17896)\t1\n",
            "  (0, 13572)\t1\n",
            "  (0, 10272)\t1\n",
            "  (0, 12016)\t3\n",
            "  (0, 17721)\t1\n",
            "  (0, 11649)\t2\n",
            "  (0, 17901)\t3\n",
            "  (0, 7632)\t1\n",
            "  :\t:\n",
            "  (0, 19491)\t1\n",
            "  (0, 19127)\t1\n",
            "  (0, 19641)\t1\n",
            "  (0, 178)\t1\n",
            "  (0, 1)\t1\n",
            "  (0, 11106)\t1\n",
            "  (0, 12098)\t1\n",
            "  (0, 12601)\t1\n",
            "  (0, 9880)\t1\n",
            "  (0, 17511)\t1\n",
            "  (0, 1044)\t2\n",
            "  (0, 1521)\t1\n",
            "  (0, 15529)\t1\n",
            "  (0, 6772)\t1\n",
            "  (0, 8581)\t1\n",
            "  (0, 19387)\t1\n",
            "  (0, 11705)\t1\n",
            "  (0, 17353)\t1\n",
            "  (0, 16273)\t1\n",
            "  (0, 6073)\t1\n",
            "  (0, 6368)\t1\n",
            "  (0, 9605)\t1\n",
            "  (0, 7159)\t1\n",
            "  (0, 12053)\t1\n",
            "  (0, 3324)\t1\n"
          ]
        }
      ],
      "source": [
        "count_vectorizer = CountVectorizer()\n",
        "word_counts = count_vectorizer.fit_transform(reviews_df[\"Text\"])\n",
        "print(word_counts[0,:])"
      ]
    },
    {
      "cell_type": "markdown",
      "id": "894636a8",
      "metadata": {
        "deletable": false,
        "editable": false,
        "id": "894636a8",
        "problem": 2
      },
      "source": [
        "##  Problem 2 (5 points)\n",
        "\n",
        "The vectorizer converts a string to an array representing the number of times each word occurs, which are called the *term frequencies*. It creates one of these arrays for each document. This process loses information. The vectorizer can also work in reverse: it turns a list of numbers into words. In order to see the effect of turning a document into a vector (array) of numbers, use the CountVectorizer's function `inverse_transform` to reverse this process for the 0th document, which is the first row of `word_counts`. Describe what is preserved about the original review and what is not preserved."
      ]
    },
    {
      "cell_type": "code",
      "execution_count": 6,
      "id": "283719c3",
      "metadata": {
        "id": "283719c3",
        "outputId": "25635a02-c5d5-4cbe-af96-91a52a2d7fa7",
        "colab": {
          "base_uri": "https://localhost:8080/"
        }
      },
      "outputs": [
        {
          "output_type": "execute_result",
          "data": {
            "text/plain": [
              "[array(['these', 'guys', 'are', 'amazing', 'brought', 'my', 'car', 'in',\n",
              "        'and', 'they', 'checked', 'over', 'the', 'whole', 'realize',\n",
              "        'needs', 'some', 'tlc', 'prioritized', 'list', 'of', 'things',\n",
              "        'need', 'to', 'get', 'done', 'made', 'me', 'estimates', 'too',\n",
              "        'know', 'have', 'alot', 'money', 'save', 'fix', 'but', 'helping',\n",
              "        'out', 'we', 'doing', 'little', 'at', 'time', 'love', 'fact',\n",
              "        'told', 'everything', 'that', 'was', 'wrong', 'with', 'great',\n",
              "        'staff', 'wonderful', 'warranty', 'years', '24', '000', 'miles',\n",
              "        'on', 'parts', 'labor', 'technicians', 'an', 'attitude', 'service',\n",
              "        'feel', 'home', 'will', 'never', 'take', 'someplace', 'else',\n",
              "        'even', 'just', 'for', 'oil', 'change'], dtype='<U79')]"
            ]
          },
          "metadata": {},
          "execution_count": 6
        }
      ],
      "source": [
        "count_vectorizer.inverse_transform((word_counts[0])) "
      ]
    },
    {
      "cell_type": "markdown",
      "id": "5ee2b025",
      "metadata": {
        "id": "5ee2b025"
      },
      "source": [
        "**Answer here**\n"
      ]
    },
    {
      "cell_type": "markdown",
      "id": "a2e7a3ae",
      "metadata": {
        "deletable": false,
        "editable": false,
        "id": "a2e7a3ae",
        "problem": 3
      },
      "source": [
        "## Problem 3 (Sparse representations, 5 points)\n",
        "\n",
        "One of the problems you will face in data science is how to work with really big data sets. One important skill is knowing how to use the most efficient data representations. \n",
        "\n",
        "So far we have been working with \"dense\" arrays. An array with 20 rows and 10 columns will allocate memory for 200 numbers. Dense arrays are fine for small data sets.\n",
        "The vectorizer converts an input string into a vector (array) representing the frequency of each word in each document.\n",
        "Since most words don't occur in most documents, it returns a \"sparse\" array that does not explicitly represent values of zero.\n",
        "\n",
        "Print the `shape` of the word_count array and the number of non-zeros (`.nnz`) in the array.\n",
        "A python floating point number takes 8 bytes. Calculate the number of bytes needed to store the full, dense matrix (ie multiply the dimensions of the array). A sparse array needs to store three numbers for each non-zero value: the index of the row, the index of the column, and the actual floating point value. Assume each takes eight bytes. Calculate the number of bytes needed to store the sparse array. Finally, print the size of the sparse array in bytes divided by the  size of the dense array in bytes."
      ]
    },
    {
      "cell_type": "code",
      "execution_count": 7,
      "id": "a4714d08",
      "metadata": {
        "id": "a4714d08",
        "outputId": "de44db31-6447-4bf4-b9a6-ee1deca49813",
        "colab": {
          "base_uri": "https://localhost:8080/"
        }
      },
      "outputs": [
        {
          "output_type": "stream",
          "name": "stdout",
          "text": [
            "(4835, 19790) 354342\n",
            "765477200 8504208\n",
            "0.011109681646951731\n"
          ]
        }
      ],
      "source": [
        "print(word_counts.shape, word_counts.nnz) \n",
        "\n",
        "print(4835*19790*8, 354342*3*8)\n",
        "\n",
        "print(8504208/765477200)\n"
      ]
    },
    {
      "cell_type": "markdown",
      "id": "806b2477",
      "metadata": {
        "deletable": false,
        "editable": false,
        "id": "806b2477",
        "problem": 4
      },
      "source": [
        "## Problem 4 (vocabularies and indices, 5 points)\n",
        "\n",
        "Use the `.get_feature_names_out()` function in the vectorizer object to get an array of the distinct word strings (word types) that the vectorizer identified in the reviews. Save this as a variable called `vocabulary`. Print the first 20 elements. Are the strings in any particular order?\n",
        "\n",
        "The *index* of a word is its position in this array. Use `np.where()` to find the index of the word \"amazing\".\n",
        "Print the index number and confirm that this index is correct by printing the element in `vocabulary` at that index position. **Confidence check: it should be at index 990.**"
      ]
    },
    {
      "cell_type": "code",
      "execution_count": 8,
      "id": "43619732",
      "metadata": {
        "id": "43619732",
        "outputId": "a97f27c2-5a83-4169-def0-30db440f574e",
        "colab": {
          "base_uri": "https://localhost:8080/"
        }
      },
      "outputs": [
        {
          "output_type": "stream",
          "name": "stdout",
          "text": [
            "['00' '000' '00am' '00pm' '01pm' '03' '03a' '05' '0500' '05am' '05pm' '06'\n",
            " '07' '08' '09' '10' '100' '1000' '100k' '100x']\n",
            "(array([990]),)\n",
            "amazing\n"
          ]
        }
      ],
      "source": [
        "vocabulary = count_vectorizer.get_feature_names_out()\n",
        "print(vocabulary[:20])\n",
        "print(np.where(vocabulary == 'amazing')) \n",
        "print(vocabulary[990])"
      ]
    },
    {
      "cell_type": "markdown",
      "id": "5ab8e371",
      "metadata": {
        "id": "5ab8e371"
      },
      "source": [
        "**Answer here**\n",
        "\n",
        "the strings are in numerical and then alphabetical order\n"
      ]
    },
    {
      "cell_type": "markdown",
      "id": "94d16b0f",
      "metadata": {
        "deletable": false,
        "editable": false,
        "id": "94d16b0f",
        "problem": 999
      },
      "source": [
        "## Demonstration: word frequencies\n",
        "\n",
        "One of the reasons it's hard to work with text data is that most distinct words (word types) are rare, but most of the words that occur in a document (word tokens) are frequent. Here we'll count the rare words and frequent words to show this effect.\n",
        "\n",
        "We're doing this as a demonstration because there are a lot of tricky programming issues relating to converting 2D arrays with one row to 1D arrays and functions that return one-element tuples containing arrays.\n",
        "\n",
        "There are about half a million tokens in the collection."
      ]
    },
    {
      "cell_type": "code",
      "execution_count": 9,
      "id": "60c8ee86",
      "metadata": {
        "id": "60c8ee86"
      },
      "outputs": [],
      "source": [
        "total_tokens = word_counts.sum()"
      ]
    },
    {
      "cell_type": "markdown",
      "id": "ba378d82",
      "metadata": {
        "id": "ba378d82"
      },
      "source": [
        "Of the 19,790 distinct word types, 13787 only occur less than five times."
      ]
    },
    {
      "cell_type": "code",
      "execution_count": 10,
      "id": "b023fbc7",
      "metadata": {
        "id": "b023fbc7",
        "outputId": "e5bd623f-140d-4ba8-c29f-86aef88bca6f",
        "colab": {
          "base_uri": "https://localhost:8080/"
        }
      },
      "outputs": [
        {
          "output_type": "stream",
          "name": "stdout",
          "text": [
            "(19790,)\n",
            "words that occur less than five times:  13787\n"
          ]
        }
      ],
      "source": [
        "word_totals = word_counts.sum(axis=0)\n",
        "word_totals = np.ravel(word_totals)\n",
        "print(word_totals.shape)\n",
        "vocabulary = count_vectorizer.get_feature_names_out()\n",
        "print(\"words that occur less than five times: \", len(vocabulary[np.where(word_totals < 5)]))"
      ]
    },
    {
      "cell_type": "markdown",
      "id": "ed7c6754",
      "metadata": {
        "id": "ed7c6754"
      },
      "source": [
        "Now let's look at the most frequent words. Counting words that occur more than 1000 times gives us about 70 word types that make up about 50% of all the word tokens in the collection!\n",
        "\n",
        "The most common three words (*the, and, of*) make up about 10% of the collection just by themselves. Frequencies drop off exponentially, and look closer to a line on a log-log plot."
      ]
    },
    {
      "cell_type": "code",
      "execution_count": 11,
      "id": "3b5e4cb5",
      "metadata": {
        "id": "3b5e4cb5",
        "outputId": "efe7c543-2758-4d36-dba8-f5c01bf24c10",
        "colab": {
          "base_uri": "https://localhost:8080/",
          "height": 592
        }
      },
      "outputs": [
        {
          "output_type": "stream",
          "name": "stdout",
          "text": [
            "total count:  246655\n",
            "[(26807, 'the'), (20218, 'and'), (13878, 'to'), (8182, 'of'), (7903, 'was'), (7852, 'it'), (7322, 'is'), (6574, 'for'), (6512, 'in'), (5820, 'my'), (5230, 'you'), (5210, 'that'), (4836, 'this'), (4686, 'they'), (4571, 'with'), (4089, 'have'), (3957, 'we'), (3905, 'on'), (3428, 'but'), (3160, 'are'), (3150, 'had'), (2914, 'not'), (2878, 'so'), (2834, 'at'), (2645, 'place'), (2592, 'me'), (2443, 'great'), (2400, 'be'), (2362, 'as'), (2307, 'there'), (2265, 'were'), (2170, 'food'), (2149, 'all'), (2021, 'out'), (1937, 'good'), (1928, 'very'), (1861, 'if'), (1810, 'here'), (1770, 'just'), (1766, 'like'), (1741, 'from'), (1695, 'can'), (1694, 'get'), (1646, 'their'), (1638, 'one'), (1601, 'time'), (1596, 'or'), (1581, 'when'), (1558, 'up'), (1541, 'about'), (1498, 'service'), (1497, 'go'), (1488, 'back'), (1485, 'he'), (1457, 'our'), (1455, 'an'), (1426, 'will'), (1389, 'been'), (1362, 'what'), (1355, 'would'), (1280, 'your'), (1209, 'love'), (1195, 'she'), (1184, 'some'), (1169, 'no'), (1161, 'really'), (1136, 'them'), (1073, 've'), (1068, 'by'), (1051, 'best'), (1046, 'even'), (1032, 'also'), (1003, 'has'), (1003, 'always')]\n"
          ]
        },
        {
          "output_type": "display_data",
          "data": {
            "text/plain": [
              "<Figure size 432x288 with 1 Axes>"
            ],
            "image/png": "[encoded data removed]"
          },
          "metadata": {
            "needs_background": "light"
          }
        },
        {
          "output_type": "execute_result",
          "data": {
            "text/plain": [
              "<matplotlib.axes._subplots.AxesSubplot at 0x7fcd31c079d0>"
            ]
          },
          "metadata": {},
          "execution_count": 11
        },
        {
          "output_type": "display_data",
          "data": {
            "text/plain": [
              "<Figure size 432x288 with 1 Axes>"
            ],
            "image/png": "[encoded data removed]"
          },
          "metadata": {
            "needs_background": "light"
          }
        }
      ],
      "source": [
        "most_frequent_words = vocabulary[np.where(word_totals > 1000)]\n",
        "most_frequent_word_counts = word_totals[np.where(word_totals > 1000)]\n",
        "\n",
        "print(\"total count: \", most_frequent_word_counts.sum())\n",
        "print(sorted(zip(most_frequent_word_counts, most_frequent_words), reverse=True))\n",
        "\n",
        "seaborn.lineplot(x=range(len(most_frequent_words), 0, -1),\n",
        "                 y=np.sort(most_frequent_word_counts))\n",
        "pyplot.show()\n",
        "pyplot.xscale('log')\n",
        "pyplot.yscale('log')\n",
        "seaborn.lineplot(x=range(len(most_frequent_words), 0, -1),\n",
        "                 y=np.sort(most_frequent_word_counts))"
      ]
    },
    {
      "cell_type": "markdown",
      "id": "85a7bc44",
      "metadata": {
        "deletable": false,
        "editable": false,
        "id": "85a7bc44",
        "problem": 5
      },
      "source": [
        "## Problem 5 (tf-idf weighting, 20 points)\n",
        "\n",
        "If we use the actual word counts, the values will be dominated by a few super-frequent words, and most of the other words will be rare words that we might never see again (eg typos, numbers, and variants like *yaaaaaaaassss*). In this problem we will read the reviews file again, but this time we will do two common pre-processing steps:\n",
        "\n",
        "1. Remove rare words that occur in fewer than five reviews\n",
        "2. Weight the remaining words by *inverse document frequency (IDF)*\n",
        "\n",
        "Term frequency is the number of times a word occurs in a document. The *document frequency* of a word type is the number of documents in the collection that contain at least one instance of the word. If the collection contains $D$ documents and $df_w$ is the document frequency of word $w$, the inverse document frequency for $w$ is usually defined as $-\\log(\\frac{df_w}{D}) = \\log(\\frac{D}{df_w})$.\n",
        "\n",
        "Using our favorite log probabilities, a word that occurs in 10% of documents would have IDF 2.3, and a word that occurs in 1 out of 100,000 documents would have IDF 11.5. Instead of recording the term frequency of word $w$ in document $d$, our array will now record the term frequency for $w$ in $d$ *multiplied* by the IDF for $w$. This weighting emphasizes rare words relative to frequent words.\n",
        "\n",
        "Given that there are 4835 reviews and we are dropping words that occur in fewer than 5 documents, print the maximum possible IDF value for a word in the resulting collection.\n",
        "\n",
        "Create a `TfidfVectorizer` called `tfidf_vectorizer` setting the minimum document frequency to 5. See [the API documentation](https://scikit-learn.org/stable/modules/generated/sklearn.feature_extraction.text.TfidfVectorizer.html) for the appropriate option.\n",
        "Use the `fit_transform` function to transform the `Text` field into an array. Save this array as a new variable `reviews_tfidf`.\n",
        "Create a new variable `tfidf_vocabulary` in the same way you did before. Find the index for the word *amazing* and comment on whether it is in the same index position as before, and why or why not."
      ]
    },
    {
      "cell_type": "code",
      "execution_count": 12,
      "id": "3778a0c5",
      "metadata": {
        "id": "3778a0c5",
        "outputId": "a3ef2e77-caaf-4077-ff74-baca4b58f1ae",
        "colab": {
          "base_uri": "https://localhost:8080/"
        }
      },
      "outputs": [
        {
          "output_type": "stream",
          "name": "stdout",
          "text": [
            "6.874198495453294\n",
            "(array([240]),)\n"
          ]
        }
      ],
      "source": [
        "print(np.log(4835/5))\n",
        "\n",
        "\n",
        "tfidf_vectorizer = TfidfVectorizer(min_df=5) \n",
        "reviews_tfidf = tfidf_vectorizer.fit_transform(reviews_df[\"Text\"])\n",
        "tfidf_vocabulary = tfidf_vectorizer.get_feature_names_out()\n",
        "print(np.where(tfidf_vocabulary == 'amazing')) "
      ]
    },
    {
      "cell_type": "code",
      "execution_count": 12,
      "id": "888ce3c7",
      "metadata": {
        "id": "888ce3c7"
      },
      "outputs": [],
      "source": []
    },
    {
      "cell_type": "markdown",
      "id": "9e8f6a12",
      "metadata": {
        "id": "9e8f6a12"
      },
      "source": [
        "**Answers here**\n",
        "\n",
        "\n",
        "It's in a different position because we've removed words and changed things around slightly"
      ]
    },
    {
      "cell_type": "markdown",
      "id": "9ae197d2",
      "metadata": {
        "deletable": false,
        "editable": false,
        "id": "9ae197d2",
        "problem": 6
      },
      "source": [
        "## Problem 6 (Naive Bayes classifier, 20 points)\n",
        "\n",
        "Now that we have a curated representation of our reviews data set, we can try running a classifier on it.\n",
        "\n",
        "Create a train/test split with 10% test size from the `reviews_tfidf` array and the \"Rating\" column of the original data set. Use random state 2950 so we identify correct answers efficiently when grading.\n",
        "\n",
        "Create a classifier called `nb_classifier` using `MultinomialNB` from sklearn (imported above) and fit it with the training reviews and the training ratings (positive/negative). Note that as with logistic regression you can pass strings as labels, sklearn will translate these into 0/1 for you.\n",
        "\n",
        "Use the `score` function on the classifier to get average accuracy for the test vectors and the test ratings. Print this value."
      ]
    },
    {
      "cell_type": "code",
      "execution_count": 13,
      "id": "a6b0fbec",
      "metadata": {
        "id": "a6b0fbec",
        "outputId": "34ac0b5f-50ca-4f3f-9c91-a2977127d570",
        "colab": {
          "base_uri": "https://localhost:8080/"
        }
      },
      "outputs": [
        {
          "output_type": "stream",
          "name": "stdout",
          "text": [
            "0.859504132231405\n"
          ]
        }
      ],
      "source": [
        "reviews_train, reviews_test, rating_train, rating_test = train_test_split(reviews_tfidf, reviews_df[\"Rating\"], test_size = 0.1, random_state = 2950)\n",
        "nb_classifier = MultinomialNB() \n",
        "nb_classifier.fit(reviews_train,rating_train) \n",
        "\n",
        "print(nb_classifier.score(reviews_test,rating_test))"
      ]
    },
    {
      "cell_type": "markdown",
      "id": "56b87df5",
      "metadata": {
        "deletable": false,
        "editable": false,
        "id": "56b87df5",
        "problem": 7
      },
      "source": [
        "## Problem 7 (comparing log probabilities, 10 points)\n",
        "\n",
        "The field `.feature_log_prob_` on the `nb_classifier` object is an array with one row per label (positive, negative) and one column per word type (input \"feature\" in machine learning). Each entry represents the log probability of the word in that type of document. \n",
        "\n",
        "Create an array that represents the difference between these two rows. Use `zip` to merge this array with the `tfidf_vocabulary` array into a list of tuples. Sort this array. Using a for loop, print the score (up to two decimal places) and the associated word for the first 50 entries and the last 50 entries in the sorted list of tuples. (Hint: Python sorts tuples by the entries in order, so make sure the numeric value comes first)\n",
        "\n",
        "Describe what the numbers mean, and comment on whether you think this is a good ranking of words for positive and negative reviews, and why"
      ]
    },
    {
      "cell_type": "code",
      "execution_count": 14,
      "id": "df79f848",
      "metadata": {
        "id": "df79f848",
        "outputId": "c2c846bb-2a66-454c-83b1-b2da35eca962",
        "colab": {
          "base_uri": "https://localhost:8080/"
        }
      },
      "outputs": [
        {
          "output_type": "stream",
          "name": "stdout",
          "text": [
            "rude -2.89\n",
            "worst -2.77\n",
            "terrible -2.76\n",
            "horrible -2.58\n",
            "awful -2.43\n",
            "disgusting -2.29\n",
            "cox -2.27\n",
            "worse -2.17\n",
            "poor -2.1\n",
            "nasty -2.06\n",
            "unprofessional -2.05\n",
            "ruined -1.99\n",
            "refund -1.98\n",
            "waste -1.89\n",
            "smoking -1.83\n",
            "overpriced -1.81\n",
            "poorly -1.81\n",
            "shitty -1.81\n",
            "incompetent -1.79\n",
            "bland -1.78\n",
            "tasteless -1.78\n",
            "cancelled -1.76\n",
            "airline -1.76\n",
            "dump -1.75\n",
            "cancel -1.75\n",
            "dirty -1.74\n",
            "fail -1.74\n",
            "cable -1.73\n",
            "refused -1.72\n",
            "garbage -1.72\n",
            "receipt -1.7\n",
            "overcooked -1.7\n",
            "lousy -1.7\n",
            "gross -1.7\n",
            "unfriendly -1.68\n",
            "technical -1.67\n",
            "disappointing -1.67\n",
            "rudely -1.66\n",
            "sucks -1.66\n",
            "airways -1.66\n",
            "annoyed -1.65\n",
            "message -1.65\n",
            "bureau -1.64\n",
            "downhill -1.63\n",
            "edible -1.62\n",
            "angry -1.61\n",
            "ontrac -1.6\n",
            "deposit -1.59\n",
            "poisoning -1.59\n",
            "trash -1.58\n",
            "positive reviews\n",
            "nice 1.25\n",
            "gem 1.25\n",
            "phoenix 1.26\n",
            "thank 1.26\n",
            "prices 1.26\n",
            "flavors 1.26\n",
            "selection 1.26\n",
            "recommended 1.3\n",
            "bruschetta 1.31\n",
            "clean 1.32\n",
            "spot 1.33\n",
            "variety 1.34\n",
            "recommend 1.35\n",
            "incredible 1.37\n",
            "fabulous 1.37\n",
            "comfortable 1.37\n",
            "unique 1.38\n",
            "town 1.38\n",
            "coffee 1.4\n",
            "fast 1.4\n",
            "quick 1.42\n",
            "affordable 1.43\n",
            "reasonable 1.44\n",
            "cool 1.47\n",
            "outstanding 1.47\n",
            "definitely 1.47\n",
            "perfectly 1.54\n",
            "tasty 1.55\n",
            "fresh 1.65\n",
            "yum 1.66\n",
            "always 1.67\n",
            "atmosphere 1.71\n",
            "professional 1.73\n",
            "super 1.75\n",
            "highly 1.8\n",
            "loved 1.83\n",
            "yummy 1.84\n",
            "fun 1.96\n",
            "wonderful 2.03\n",
            "friendly 2.08\n",
            "excellent 2.08\n",
            "favorite 2.14\n",
            "best 2.16\n",
            "perfect 2.16\n",
            "love 2.17\n",
            "fantastic 2.27\n",
            "great 2.29\n",
            "awesome 2.46\n",
            "delicious 2.55\n",
            "amazing 2.55\n"
          ]
        }
      ],
      "source": [
        "new_array = nb_classifier.feature_log_prob_\n",
        "new_array = new_array[1] - new_array[0]\n",
        "new_array = zip(new_array,tfidf_vocabulary) \n",
        "new_array = sorted(new_array) \n",
        "\n",
        "\n",
        "\n",
        "for i in list(new_array[:50]):\n",
        "    print(str(i[1]),(np.round_(i[0], 2)))  \n",
        "\n",
        "print(\"positive reviews\")\n",
        "    \n",
        "for i in list(new_array[-50:]):\n",
        "    print(str(i[1]),(np.round_(i[0], 2))) \n",
        "\n",
        "\n"
      ]
    },
    {
      "cell_type": "markdown",
      "id": "71200276",
      "metadata": {
        "id": "71200276"
      },
      "source": [
        "**Answer here**\n",
        "\n",
        "These numbers basically mean that the first 50 words are found with higher probability in the negative reviews and the last 50 are found with with higher probability in the positive reviews so yes I would say it makes sense. \n",
        "\n",
        "for example, `amazing 2.55` means that the difference of the log probability of \"amazing\" being in a good review versus a bad review is 2.55, so a positive number, whereas the same for \"poisoning\" is a negative number meaning that \"poisoning\" is less likely to be found in a positive review than \"amazing\"-- basically when subtracting these negative numbers from eachother `-9 - (-7)` still yields a negative number whereas `-7 - (-9)` would yield a positive number. \n",
        "\n",
        "I think this is a good ranking because I looked over the words and they seem overwhelmingly to make sense for the positive and negative reviews"
      ]
    },
    {
      "cell_type": "markdown",
      "id": "f6480acc",
      "metadata": {
        "deletable": false,
        "editable": false,
        "id": "f6480acc",
        "problem": 8
      },
      "source": [
        "## Problem 8 (make predictions, 10 points)\n",
        "\n",
        "Create a list called `my_reviews` that contains four strings, each containing a review that you write. You will transform this list into an array with `tfidf_vectorizer` and predict the rating using `nb_classifier`. The first review should be positive to you and score `positive` to the classifier. The second should be negative and score `negative`. The third should be positive but incorrectly score `negative`, and the fourth should be negative and incorrectly score `positive`. Use the words above as inspiration."
      ]
    },
    {
      "cell_type": "code",
      "execution_count": 15,
      "id": "1145adba",
      "metadata": {
        "id": "1145adba",
        "outputId": "d9b26e8b-eaa1-46b4-d50d-2d4d298a0d7f",
        "colab": {
          "base_uri": "https://localhost:8080/"
        }
      },
      "outputs": [
        {
          "output_type": "stream",
          "name": "stdout",
          "text": [
            "['positive' 'negative' 'negative' 'positive']\n"
          ]
        }
      ],
      "source": [
        "a = 'this place was so good i loved the food and the staff were also super nice. lovely atmosphere and fast service'\n",
        "b = 'zero stars, terrible service. food was cold'\n",
        "c =  'definintely not the worst'\n",
        "d = 'i am positive that this food was not the best'\n",
        "my_reviews = [a, b, c, d]\n",
        "\n",
        "predict_rating = nb_classifier.predict(tfidf_vectorizer.transform(my_reviews))\n",
        "print(predict_rating)\n"
      ]
    },
    {
      "cell_type": "markdown",
      "id": "7cd33a7e",
      "metadata": {
        "deletable": false,
        "editable": false,
        "id": "7cd33a7e",
        "problem": 9
      },
      "source": [
        "## Problem 9 (k-means clustering, 20 points)\n",
        "\n",
        "Create a `KMeans` clustering with $K=100$ in a variable called `clustering`. Fit it to the full `reviews_tfidf` data set (since we don't need labels, there's no need to do a train/test split).\n",
        "\n",
        "The `.labels_` array in a K-means clustering object has one elment per document, representing the ID of the cluster the document is assigned to.\n",
        "\n",
        "Print the cluster associated with the document at index 11. Then find the indices of all the documents assigned to that cluster. Print these indices. Finally, use a for loop to print the `Text` field of that document from the original data frame.\n",
        "\n",
        "Describe the contents of the cluster. Rerun the clustering a few times (do *not* set the random seed). Describe what changes from run to run and what is the same.\n",
        "\n",
        "Finally, look at the documents in three other clusters. Describe whether you can see a pattern in what documents are clustered together."
      ]
    },
    {
      "cell_type": "code",
      "execution_count": 22,
      "id": "e85f8cd2",
      "metadata": {
        "id": "e85f8cd2",
        "colab": {
          "base_uri": "https://localhost:8080/"
        },
        "outputId": "0c2b3f7b-6f97-4843-f854-e107ff503f6a"
      },
      "outputs": [
        {
          "output_type": "execute_result",
          "data": {
            "text/plain": [
              "44"
            ]
          },
          "metadata": {},
          "execution_count": 22
        }
      ],
      "source": [
        "#from pandas.core.internals.ops import operate_blockwise\n",
        "\n",
        "clustering = KMeans(n_clusters = 100).fit(reviews_tfidf)\n",
        "\n",
        "clustering.labels_[11]"
      ]
    },
    {
      "cell_type": "code",
      "execution_count": 17,
      "id": "3b7ee327",
      "metadata": {
        "id": "3b7ee327",
        "outputId": "29656226-b90a-4c47-ad0b-785b6a485488",
        "colab": {
          "base_uri": "https://localhost:8080/"
        }
      },
      "outputs": [
        {
          "output_type": "stream",
          "name": "stdout",
          "text": [
            "(array([   3,    5,    9,   11,  600,  623,  625,  626,  994, 1564, 1565,\n",
            "       1928, 2903, 3706, 3707, 3783, 4378, 4737, 4797]),)\n"
          ]
        }
      ],
      "source": [
        "c1 = np.where(clustering.labels_ == clustering.labels_[11])\n",
        "\n",
        "print(np.where(clustering.labels_ == clustering.labels_[11])) "
      ]
    },
    {
      "cell_type": "code",
      "execution_count": 18,
      "id": "74759144",
      "metadata": {
        "id": "74759144",
        "outputId": "57ebbae6-b750-4bb3-ba26-6853408abe6a",
        "colab": {
          "base_uri": "https://localhost:8080/"
        }
      },
      "outputs": [
        {
          "output_type": "stream",
          "name": "stdout",
          "text": [
            "[\"You won't be disappointed. We've eaten here about 7 times now, and we are ALWAYS delighted. The Beef Panang is just killer. The strips of beef are incredibly tender and of high quality. I usually find that the strips are a perfect medium (which I didn't know was possible in Thai cuisine). The sauce, ohhhhhh the sauce. Pour it over the rice (if you get it to go) and just love. Personally, my favorite is the yellow curry. Look, I've had Thai Elephant, Thai-E-Sam, Thai Basil, and another Thai joint in Phoenix that I can't remember. Yellow curry is my dish. It's absolutely the best here. Every time I eat it, my scalp tingles and I slip into a blissful happy place. The steamed vegetables are so tender that they fall apart. The little relish on the side is shockingly delicious and refreshing. The duck sauce that comes with the fried rolls makes them worthwhile. I know there's something with peanut sauce (satay?) that makes me happy. Appetizers and desserts are up to you. If you like cellophane wrapped veggie rolls, they're great here. If you like coconut ice cream, do it. If not, you can probably skip these as they cost as much as the entrees. Another note: don't come here thinking this is 100% authentic Thai cuisine. It's definitely Thai...but upgraded. In my opinion, it's perfect. It's also a good place to take someone on his or her first taste of Thai.\"\n",
            " 'Most of my reviews for Asian restaurants in Phoenix begin with something like, \"it\\'s good...for the area,\" but this place is just plain good. I\\'m a pretty serious Thai food snob and--even when I lived in Chicago--I only frequented a handful of Thai places. That being said, I\\'m definitely going to be a repeat customer at Wild Thaiger. My husband and I gave it a try for Dining out for Life when our first choice had a long wait. I\\'ve never been so happy I couldn\\'t get a table somewhere. We sat outside on their patio which I would recommend to anyone. It\\'s open yet cozy and comfortably cool. For our appetizer, we had the seafood pancake. I\\'ve never had anything like it but the description sounded too good to pass up. It\\'s a crispy pancake full of sprouts, scallions, shrimp, mussels and squid. It was delicious and really unique. For dinner, I ordered the Decha Boar. The description listed it as being perfect for the \"true Thai foodie.\" With a description like that, I had to order it. The dish was spicy and flavorful. I\\'d caution anyone not familiar with Thai food that it might be a bit too spicy for you even if you like spicy foods. Different chiles effect people differently. My husband ordered the Ginger Fish. The sauce on the fish was like liquid crack. I could\\'ve taken a bath in it. Long story short: it was SO good. I\\'ll definitely be back to try some of their other menu items. They have a smaller menu compared to most Thai places and I believe this allows them to focus on perfecting a few dishes instead of doing lots of mediocre things with Thai flavors. Check this place out!'\n",
            " 'This is a must try if you live in Phoenix and like Thai food. Great food, clean/hip place, great service, reasonably priced...what more can you ask for?'\n",
            " 'Consistently the BEST Thai food in Phoenix!'\n",
            " 'now called Tara Thai ~ http://www.yelp.com/biz/tara-thai-phoenix#hrid:jZ5ynxfXefkDBzm4vB1E4A'\n",
            " \"I've been coming here for nearly ten years and over the years as much as once a week and not much has changed except for them moving a couple doors down to be in a larger space. The quality has been consistenly very good, from the food to the service. The place is owned and run by a thai family and the food is as close to Thailand as I'll ever get. I've tried other thai places in AZ and in a couple of states and none can compare to Krua thai. As a regular to this place, I recommend giving it a try. I don't think you will be disappointed.\"\n",
            " 'OMG amazing!!! This is the go to place for my weekly cheat meal! The egg rolls and chicken pad thai with extra veggies is my favorite meal ever!! They are very friendly every time anyone walks in the door and you get very fast service! Whenever friends and family want to eat thai with us, we go here (: The food ALWAYS tastes fresh and is very consistent.'\n",
            " \"solid place to go for Thai. I like it hot but be careful if you're ordering Thai hot. The owner didn't let me on my first visit and she was spot on\"\n",
            " 'Ok, so when I\\'m not eating cheese pizzas I\\'m eating Thai Food. Much like pizza, Thai (or almost any Asian cuisine) is something I could eat almost everyday and being a vegetarian Thai food has a lot of options for me. Why am I telling you this? Cause eating a lot of Thai food makes me picky. Whenever I try any new Thai place I stick with one of two standards: Pad Thai or Green Curry. If you are a Thai restaurant and cannot handle either of these dishes, then you should just close down shop now. As for Thai Rama, they do both very well. I\\'ll even go as far as to say Thai Rama is my favorite Thai food in the valley. It\\'s near my home, open late and the staff is really friendly. I\\'ve eaten here for years and my favorite is the Pad Thai with fried tofu....dare I say the best in the valley?? I prefer my Pad Thai a little on the sweet side, not fishy tasting with some flavor, and most Thai places here have the more \"traditional\" type. If you like it spicy, this place can comply so watch out! Their green veggie curry is flavorful, with a good assortment of veggies. My only complaints would be their hot and sour soup, which is ok but WAY too much ginger flavor...to the point that I couldn\\'t enjoy it. Also, like so many other Thai places, they tempt you with the mango sticky rice only to never have mango!!! When they do, its awesome, otherwise settle for the custard sticky rice which is almost as good.'\n",
            " \"Great Thai food. Great selection. Prices are too low. I normally take home leftovers for a lunch the next day, so cost-wise it's like eating at McDonalds, but taste-wise it's fantastic. You are probably in disbelief but try this place once. Note - I just drink water so if you get a beer that will change your cost equation\"\n",
            " \"Touch of Thai used to have a location in old town Scottsdale. I are their pad thai, no joke at least twice a week. I loved their pad thai so much and frequented the place to the point where the owner John knew my name and order. Unfortunately it closed down and just kept their second location open. I now drive 35 minutes to dine here. I wish they would once more open a location in Tempe or Scottsdale. It's so authentic delicious and satisfying I crave it all the time. Highly recommend. However the Scottsdale location was much cleaner than this one. Still trying to find something local and comparable. Thai house is good but just not as good. Love Touch of Thai.\"\n",
            " 'A great neighborhood restaurant with quality food, nice atmosphere, and no attitude. I love to support independent, non-chain restaurants and when Sala Thai opened up in my neighborhood, I was very excited. I\\'ve eaten there over 10 times so far. It\\'s a great place to introduce Thai food \"newbies\" because the food is great and the menu has lots of photos of the entrees. No complaints about the food. And reasonably priced too. Appetizers worth sampling: spring rolls, chicken satay, and tofu Entrees worth trying: pad thai, pad see-u, curry dishes I saw a complaint here about the time it took to receive their food. The restaurant features a glass wall looking into the kitchen. They make all of their entrees to order; that\\'s why it takes longer. I will gladly wait another 10 minutes knowing I\\'m getting freshly prepared food. One final note: the restaurant is getting popular so watch out for a full restaurant during on-peak hours. Dinner service starts at 5pm and I\\'ve seen it fill up by 5:30pm on weekends.'\n",
            " 'This place has become one of our \"go-to\" spots for great food, service and atmosphere. I have yet to find a displeasing entree or appetizer. Some of my faves include the pad thai, cuban ruben, vigan, salmon, and the pork salad. You really can\\'t go wrong at The Vig Uptown!'\n",
            " \"Really good food. I'm not a fan of Thai but my wife loves it. We were both thrilled with what we got.\"\n",
            " \"Chanpen Thai is a hidden gem! My husband and I had been wanting to try it since hearing rave reviews from fellow foodies. We decided there was no better day than May Day and set out for our culinary adventure. We agree with other reviewers that the neighborhood is questionable and that the restaurant is cozy, but don't let that stop you from experiencing some of the best, most affordable Thai food in the Valley! He ordered Pad See Ew with beef, spice level two, and I had Red Curry with chicken, spice level three. Both dishes were quickly prepared and were divine. The service was professional, but what impressed us most was that the chef personally stepped out to check on how we enjoyed the meal. For this, as well as for the delectable dishes, we'll definitely be back again ... and again ... and again! Read this Phoenix New Times review if, after this and the other reviews, you are still contemplating where you'll enjoy your next Thai meal: http://www.phoenixnewtimes.com/2013-03-07/restaurants/chanpen-is-back-in-the-usa-lucky-us/.\"\n",
            " 'The best thai food in phoenix. I have ordered the eggplant dish, pad thai, lemon sole, and all three dishes have been delicious every time. The service has been fast and friendly every time. They do little cute things like making a rose bud out of the top of the straw wrapper and flowers/swans (not sure what they are) out of the napkins. I highly recommend this place just because of the food itself and rest is just topping on the cake.'\n",
            " 'Not impressed at all. Had the coconut soup and phad Thai. It tasted like it was one of the \"instant\" bowls. I\\'ve had Thai several times in my life, I\\'ve even purchased some of the Thai instant stuff for my home. The taste was ridiculously similar. It wasn\\'t a good experience at all. I won\\'t be back, unfortunately. I was really excited about this place seeing all the reviews.'\n",
            " \"Craving Thai food in North Phoenix and tried this place to go. Tried the red and peanut curries.. Extremely dissapointed in both. Very salty and the coconut flavor was sorely lacking. Next time we'll drive the extra few miles south for good Thai at Thai Basil.\"\n",
            " 'Disappointing food and atmosphere. We went to Red Thai the previous night and sat at the bar for the Happy Hour. We were so pleased with that experience that we decided to try Sochu. This is about 180 degrees on the atmosphere and the food was mediocre at best. We ordered the fried tofu (which is hard to screw up); Red curry with tofu and the pad thai with tofu (since we are both vegan). The Pad Thai was too sweet and had eggs in it when we specifically said we were vegan. The red curry was just ok. It feels like they took the \"A\" team to Red Thai. We would never come back to Sochu.']\n"
          ]
        }
      ],
      "source": [
        "r = np.array(reviews_df[\"Text\"])\n",
        "for i in c1 : \n",
        "  print(r[i])"
      ]
    },
    {
      "cell_type": "code",
      "execution_count": 19,
      "id": "37cf3971",
      "metadata": {
        "id": "37cf3971",
        "outputId": "941a9e81-15dd-4592-f1e4-aebd9d88b95a",
        "colab": {
          "base_uri": "https://localhost:8080/"
        }
      },
      "outputs": [
        {
          "output_type": "stream",
          "name": "stdout",
          "text": [
            "[\"You won't be disappointed. We've eaten here about 7 times now, and we are ALWAYS delighted. The Beef Panang is just killer. The strips of beef are incredibly tender and of high quality. I usually find that the strips are a perfect medium (which I didn't know was possible in Thai cuisine). The sauce, ohhhhhh the sauce. Pour it over the rice (if you get it to go) and just love. Personally, my favorite is the yellow curry. Look, I've had Thai Elephant, Thai-E-Sam, Thai Basil, and another Thai joint in Phoenix that I can't remember. Yellow curry is my dish. It's absolutely the best here. Every time I eat it, my scalp tingles and I slip into a blissful happy place. The steamed vegetables are so tender that they fall apart. The little relish on the side is shockingly delicious and refreshing. The duck sauce that comes with the fried rolls makes them worthwhile. I know there's something with peanut sauce (satay?) that makes me happy. Appetizers and desserts are up to you. If you like cellophane wrapped veggie rolls, they're great here. If you like coconut ice cream, do it. If not, you can probably skip these as they cost as much as the entrees. Another note: don't come here thinking this is 100% authentic Thai cuisine. It's definitely Thai...but upgraded. In my opinion, it's perfect. It's also a good place to take someone on his or her first taste of Thai.\"\n",
            " 'Most of my reviews for Asian restaurants in Phoenix begin with something like, \"it\\'s good...for the area,\" but this place is just plain good. I\\'m a pretty serious Thai food snob and--even when I lived in Chicago--I only frequented a handful of Thai places. That being said, I\\'m definitely going to be a repeat customer at Wild Thaiger. My husband and I gave it a try for Dining out for Life when our first choice had a long wait. I\\'ve never been so happy I couldn\\'t get a table somewhere. We sat outside on their patio which I would recommend to anyone. It\\'s open yet cozy and comfortably cool. For our appetizer, we had the seafood pancake. I\\'ve never had anything like it but the description sounded too good to pass up. It\\'s a crispy pancake full of sprouts, scallions, shrimp, mussels and squid. It was delicious and really unique. For dinner, I ordered the Decha Boar. The description listed it as being perfect for the \"true Thai foodie.\" With a description like that, I had to order it. The dish was spicy and flavorful. I\\'d caution anyone not familiar with Thai food that it might be a bit too spicy for you even if you like spicy foods. Different chiles effect people differently. My husband ordered the Ginger Fish. The sauce on the fish was like liquid crack. I could\\'ve taken a bath in it. Long story short: it was SO good. I\\'ll definitely be back to try some of their other menu items. They have a smaller menu compared to most Thai places and I believe this allows them to focus on perfecting a few dishes instead of doing lots of mediocre things with Thai flavors. Check this place out!'\n",
            " 'This is a must try if you live in Phoenix and like Thai food. Great food, clean/hip place, great service, reasonably priced...what more can you ask for?'\n",
            " 'Consistently the BEST Thai food in Phoenix!'\n",
            " 'now called Tara Thai ~ http://www.yelp.com/biz/tara-thai-phoenix#hrid:jZ5ynxfXefkDBzm4vB1E4A'\n",
            " \"I've been coming here for nearly ten years and over the years as much as once a week and not much has changed except for them moving a couple doors down to be in a larger space. The quality has been consistenly very good, from the food to the service. The place is owned and run by a thai family and the food is as close to Thailand as I'll ever get. I've tried other thai places in AZ and in a couple of states and none can compare to Krua thai. As a regular to this place, I recommend giving it a try. I don't think you will be disappointed.\"\n",
            " 'OMG amazing!!! This is the go to place for my weekly cheat meal! The egg rolls and chicken pad thai with extra veggies is my favorite meal ever!! They are very friendly every time anyone walks in the door and you get very fast service! Whenever friends and family want to eat thai with us, we go here (: The food ALWAYS tastes fresh and is very consistent.'\n",
            " \"solid place to go for Thai. I like it hot but be careful if you're ordering Thai hot. The owner didn't let me on my first visit and she was spot on\"\n",
            " 'Ok, so when I\\'m not eating cheese pizzas I\\'m eating Thai Food. Much like pizza, Thai (or almost any Asian cuisine) is something I could eat almost everyday and being a vegetarian Thai food has a lot of options for me. Why am I telling you this? Cause eating a lot of Thai food makes me picky. Whenever I try any new Thai place I stick with one of two standards: Pad Thai or Green Curry. If you are a Thai restaurant and cannot handle either of these dishes, then you should just close down shop now. As for Thai Rama, they do both very well. I\\'ll even go as far as to say Thai Rama is my favorite Thai food in the valley. It\\'s near my home, open late and the staff is really friendly. I\\'ve eaten here for years and my favorite is the Pad Thai with fried tofu....dare I say the best in the valley?? I prefer my Pad Thai a little on the sweet side, not fishy tasting with some flavor, and most Thai places here have the more \"traditional\" type. If you like it spicy, this place can comply so watch out! Their green veggie curry is flavorful, with a good assortment of veggies. My only complaints would be their hot and sour soup, which is ok but WAY too much ginger flavor...to the point that I couldn\\'t enjoy it. Also, like so many other Thai places, they tempt you with the mango sticky rice only to never have mango!!! When they do, its awesome, otherwise settle for the custard sticky rice which is almost as good.'\n",
            " \"Great Thai food. Great selection. Prices are too low. I normally take home leftovers for a lunch the next day, so cost-wise it's like eating at McDonalds, but taste-wise it's fantastic. You are probably in disbelief but try this place once. Note - I just drink water so if you get a beer that will change your cost equation\"\n",
            " \"Touch of Thai used to have a location in old town Scottsdale. I are their pad thai, no joke at least twice a week. I loved their pad thai so much and frequented the place to the point where the owner John knew my name and order. Unfortunately it closed down and just kept their second location open. I now drive 35 minutes to dine here. I wish they would once more open a location in Tempe or Scottsdale. It's so authentic delicious and satisfying I crave it all the time. Highly recommend. However the Scottsdale location was much cleaner than this one. Still trying to find something local and comparable. Thai house is good but just not as good. Love Touch of Thai.\"\n",
            " 'A great neighborhood restaurant with quality food, nice atmosphere, and no attitude. I love to support independent, non-chain restaurants and when Sala Thai opened up in my neighborhood, I was very excited. I\\'ve eaten there over 10 times so far. It\\'s a great place to introduce Thai food \"newbies\" because the food is great and the menu has lots of photos of the entrees. No complaints about the food. And reasonably priced too. Appetizers worth sampling: spring rolls, chicken satay, and tofu Entrees worth trying: pad thai, pad see-u, curry dishes I saw a complaint here about the time it took to receive their food. The restaurant features a glass wall looking into the kitchen. They make all of their entrees to order; that\\'s why it takes longer. I will gladly wait another 10 minutes knowing I\\'m getting freshly prepared food. One final note: the restaurant is getting popular so watch out for a full restaurant during on-peak hours. Dinner service starts at 5pm and I\\'ve seen it fill up by 5:30pm on weekends.'\n",
            " 'This place has become one of our \"go-to\" spots for great food, service and atmosphere. I have yet to find a displeasing entree or appetizer. Some of my faves include the pad thai, cuban ruben, vigan, salmon, and the pork salad. You really can\\'t go wrong at The Vig Uptown!'\n",
            " \"Really good food. I'm not a fan of Thai but my wife loves it. We were both thrilled with what we got.\"\n",
            " \"Chanpen Thai is a hidden gem! My husband and I had been wanting to try it since hearing rave reviews from fellow foodies. We decided there was no better day than May Day and set out for our culinary adventure. We agree with other reviewers that the neighborhood is questionable and that the restaurant is cozy, but don't let that stop you from experiencing some of the best, most affordable Thai food in the Valley! He ordered Pad See Ew with beef, spice level two, and I had Red Curry with chicken, spice level three. Both dishes were quickly prepared and were divine. The service was professional, but what impressed us most was that the chef personally stepped out to check on how we enjoyed the meal. For this, as well as for the delectable dishes, we'll definitely be back again ... and again ... and again! Read this Phoenix New Times review if, after this and the other reviews, you are still contemplating where you'll enjoy your next Thai meal: http://www.phoenixnewtimes.com/2013-03-07/restaurants/chanpen-is-back-in-the-usa-lucky-us/.\"\n",
            " 'The best thai food in phoenix. I have ordered the eggplant dish, pad thai, lemon sole, and all three dishes have been delicious every time. The service has been fast and friendly every time. They do little cute things like making a rose bud out of the top of the straw wrapper and flowers/swans (not sure what they are) out of the napkins. I highly recommend this place just because of the food itself and rest is just topping on the cake.'\n",
            " 'Not impressed at all. Had the coconut soup and phad Thai. It tasted like it was one of the \"instant\" bowls. I\\'ve had Thai several times in my life, I\\'ve even purchased some of the Thai instant stuff for my home. The taste was ridiculously similar. It wasn\\'t a good experience at all. I won\\'t be back, unfortunately. I was really excited about this place seeing all the reviews.'\n",
            " \"Craving Thai food in North Phoenix and tried this place to go. Tried the red and peanut curries.. Extremely dissapointed in both. Very salty and the coconut flavor was sorely lacking. Next time we'll drive the extra few miles south for good Thai at Thai Basil.\"\n",
            " 'Disappointing food and atmosphere. We went to Red Thai the previous night and sat at the bar for the Happy Hour. We were so pleased with that experience that we decided to try Sochu. This is about 180 degrees on the atmosphere and the food was mediocre at best. We ordered the fried tofu (which is hard to screw up); Red curry with tofu and the pad thai with tofu (since we are both vegan). The Pad Thai was too sweet and had eggs in it when we specifically said we were vegan. The red curry was just ok. It feels like they took the \"A\" team to Red Thai. We would never come back to Sochu.']\n"
          ]
        }
      ],
      "source": [
        "c2 = np.where(clustering.labels_ == clustering.labels_[9])\n",
        "r = np.array(reviews_df[\"Text\"])\n",
        "for i in c2 : \n",
        "  print(r[i])\n"
      ]
    },
    {
      "cell_type": "code",
      "execution_count": 20,
      "id": "aef4b5c3",
      "metadata": {
        "id": "aef4b5c3",
        "outputId": "3c958b70-dd4d-401b-88c9-b1ab9f0bb1e0",
        "colab": {
          "base_uri": "https://localhost:8080/"
        }
      },
      "outputs": [
        {
          "output_type": "stream",
          "name": "stdout",
          "text": [
            "['Matt and Tim were great. When going over solutions I felt they were straight forward and upfront about the cost of the repairs. I also felt that they understood how I felt about being separated from my money. Our Volvo is running great and we hope to keep it running for a long time with the help of Virginia Auto Service.'\n",
            " \"Well, I have a little 2001 Ford Taurus. My lovely silver grandma car is fantastic for the 100-200 miles I drive per month. And now, my little car has a great shop looking after her. I took my car in as it was time for an oil change and I was convinced my serpentine belt was about to go. It had that tell-tale burning smell which was making me nervous. Turns out I had a loose oil-filter from my last oil change and dripping oil + catalytic converter = my car is about to die smell. Virginia Auto Service changed my oil and cleaned up my engine. It was so nice to receive a call from them saying my belt was fine and an oil change was all I needed. It was refreshing to be given an honest assessment vs being told some great story about some random repair that was needed...I am a female after all and have received some rather odd diagnoses in the past (your rotors fell off, so you'll need to have them replaced for example). It is very reassuring to know I now have an honest, kind and reliable repair shop for my car. Did my oil change run a bit more than some $19.99 special? Yes, but it was so worth it! Now my little one won't be getting an oil change for another year most likely, but my service advisor, Robert, asked me to please stop by every three months so they could check out my belts, tire pressure, etc just to be safe. Now THAT is service!\"\n",
            " \"Need a good auto repair place, this is it. I have been using Terry's for over 8 years. I was introduced to Terry's Auto by a friend. Since that time, I have used this place exclusively for my cars. It is very tough to find an auto mechanic that you can trust. With Terry's, I drop my car off, tell them what I need and walk out. I come back, usually by the end of the day, and he is done. Fair price without a worry. Have been taking my wifes 1997 Chrysler there for years. Have had new transmission, new sets of tires, and multiple other basic maintenance. A vehicle that probably would not have lasted more than 100k miles is still running well at 150k plus miles. Terry has even been kind enough to work with me on payments when I had transmission installed. Can't promise he will do the same with you, but then, I have been going to him for 8 years. Need a good mechanic, look no further...\"\n",
            " \"Our car needed an oil change... and then, suddenly, the air would only blow warm. Never good in June! We made the mistake of taking it to the VW dealership, and was told that the relay (whatever that is...) needed to be replaced and that it would cost me $360. Ugh. Soooo... the Husband (much more knowledgeable about car stuff) gave Precision Imports a call. They told him to bring the car in to them and they'd make sure it was less. No kidding!! They got the work done asap, and only charged us $125. Savings of OVER $200! Now, THAT is good service! They just made loyal customers out of us... no more dealerships for our car!\"\n",
            " \"I believe I first stumbled into this place in 2001 or so. Had a Honda. These guys in their little greasy office were my new best friends! Honest, straight forward, no-nonsense, I'm running out of adjectives. They told me what I needed, how much it cost and when it would be ready. I picked up my car when they said and that was that. Sometimes they gave extra analysis. Time passed and I moved away for 6 years. I went back to them about a year ago with a mini cooper - they remembered me and wondered why I wasn't driving a Honda or Toyota :-). They honestly told me that they could not fix the issue I had (they did not have the high-tech Mini/BMW equipment required), so Mini fixed it for $1,700. I went back with a Toyota Rav4 - their specialty. Easy in and out for scheduled maintenance and always less than $40. Today, they did maintenance. Friendly service, easy for me in and out. Frank told me that the Right Rear shock was leaking and since it was under warranty I should take it to Toyota. I did, they fixed it free of charge (I know, few things in life are REALLY free - especially at the Toyota Dealership). My point is that Frank told me the up-front truth about my car and didn't try to sell me anything. He could have ignored it but that's not how he/they operate. Which is why he and Al are so well regarded and so appreciated on sites like this. It's also why you don't see their name on billboards, or bus benches, or mailers in your mailbox. No need. Their reputation supplies them with all the business they can handle. And they handle a LOT of business.\"\n",
            " \"Earlier this week, I came back to my parked car and it had left me a nice present in the form of an anti-freeze puddle on the ground (in other words, my car was heavily leaking green liquid) -_- Me being still relatively new to Phoenix, I didn't know where to turn to first. So of course, I turned to Yelp. I read all of the good reviews on here and was willing to give these guys a shot, much to the dismay of my father who said I should have went to the dealership. Plus, they were able to take me in on such short notice, and I support small business. The price they quoted me to replace my leaking Water Pump Hose was well under what i expected, and they were able to finish it rather quickly. I was late to work still, but for being a walk in customer, a half hour late to work was well worth it. The shop was clean, people were friendly, I didn't feel pressured at all, and no one tried to upsell me (I'm in sales, its quite annoying). Excellent, Professional work environment I got my car fixed on a Monday. It's Friday today, and I open my mail box to see a hand written Thank You post card from these guys saying they appreciate my business. Never have I ever received a post card from ANY company, let alone an Auto Shop saying thank you. Normally, I'm not one for the cheesy and fake customer service routines, but this was real and genuine. I will definitely be coming back for all my maintenance needs, and i would highly recommend them to anyone\"\n",
            " \"I'm gonna add to the growing list of previous reviewers who have also had great service at 25th Street Automotive by giving it a well deserved 5 stars. My clutch had all but completely gone out and I had to have it towed to the auto shop. The car was also running very hot in an unrelated issue. One of the Bills called me 3 or 4 times throughout the day to keep me in the loop of what they had discovered and what was recommended. The service was all complete in one day and I was able to pick it up the same evening. My car is running great! Every positive comment about this auto shop is very true. They are professional, extremely courteous, reasonable and above all, they are trustworthy. A good auto shop is one of those things that seems to be all so elusive, so I'm thankful for the previous yelpers guiding me here. I hope to not have anymore breakdowns or many maintenance needs but if I do, I will return here. I am a fan and I will recommend them to anyone I hear of having a vehicle issue.\"\n",
            " 'Thanks to Yelp, I found this awesome car repair shop. I have nothing but the absolute BEST things to say about them. The most professional, honest and effecient that I have ever worked with. Unfortunately, I just bought a \"lemon\" and 25th St. Automotive took some of the pain out this process. They are just amazing....I knew that the transmission was most likely shot. They spent the minimum amout of time and money to confirm this and were more than accomodating. I would bring another car back here in a heartbeat. Overall, a it\\'s very dismal circumstance regarding my newly purchased used car, but an absolutely fabulous experience with 25th Street Automotive.'\n",
            " \"Believe all the reviews! I took my car here after I got new tires and they informed me they couldn't do the alignment. Instead of telling me why, Ken brought me down to the lower shop area and showed me why an alignment wouldn't work until a certain part was replaced. I have never had an alignment shop do this. They normally just put the car on the machine, print out some fancy numbers, and charge me double what Jack charges. I am very impressed by their honesty and commitment to quality work. Plus the prices are pretty good too. From now on all my alignments will be done here!\"\n",
            " 'This place was awesome!! It took maybe 15 minutes for an oil change and they cleaned the windows. Very efficient. I will definitely be going back.'\n",
            " \"The best auto repair shop I have ever done business with. A friend from work recommended Gab's and I am ever so grateful she did. Family owned shop with years of experience. The minute I walked through the office door I was treated very kindly. They didn't laugh at me because I don't know a damn thing about auto repair. The service, prices and especially the staff are unbeatable. Truly second to none. What has impressed me the most is Gab's does not do any unnecessary work and keeps me up to date while my SUV is being serviced. Do yourself a favor make Gab's your auto mechanic. You will not be sorry and your pocket book will love it.\"\n",
            " \"I almost bought a used car at a traditional dealership. They told me how they have the mechanic look over the car and they only sell cars in perfect condition. I had my mechanic look it over and he found over $1200 in repairs needed. The next day I went to see Bob Bloom at Centennial. He showed me the carfax and the off site inspection and repair bill. Centennial isn't a traditional dealership. All the cars are inside and they set a fair price. No need to negotiate. We bought my son's first car from Bob and it was a great experience. I recommend you call Centennial and ask for Bob, you won't regret it. Tell them, Pat sent you :)\"\n",
            " 'My left rear tire was low, so after meeting a friend for lunch (at Sakana, which gets my next review of \"YUM!\"), I went to the gas station to use their air. I\\'ve had bad luck with these things, so I was trepedatious. Aaaaaand, for good reason - it did let more air out of my tire. Luckily, there was a Greulich\\'s Auto Repair next door, so I rolled over and asked if they could put air in my tires. They said, \"Sure!\" As the mechanic was filling my left rear tire, he found a nail. No wonder that tire was low! He repaired it on the spot and off I went. Very helpful, and nice! I live considerably north-er and would go back down to this Greulich\\'s.'\n",
            " \"I was looking for a repair shop close to my house and found Mike P's review and thought it was worth a shot. I have had my '96 Chevy truck there twice for two different situations and now my Subaru STI. They handled both repairs quickly and got me the best price they could with no pressure to repair additional items. Their shop is nothing fancy but they know their business. Great people to work with. Highly recommended.\"\n",
            " \"I just finished a check-up visit after my Golf R was repaired at Select. The owner Bud and the shop he runs are from another time...when quality, craftsmanship and friendly service were the hallmark of a customer centered business. Bud takes his customers' side, gets the insurance company to pay their due and turns out body work done with all new parts that is without compare. I don't wreck my car often, but when I do, I take it to Select ,)\"\n",
            " \"What an amazing experience with V.I. Auto Repair company! The first auto shop I took my 99 GMC Safari van to was honest in advising me that despite their many efforts, I should take it to a GM dealer. I knew that wouldn't work because they cost about $110-$120/hr plus parts. Praise God I made a few phone calls and found that not only was VI Auto reasonable with their rates ($80/hr) but that had two mechanics with GM certification. I had the vehicle towed there. I had three major issues that I was guessing would cost me a $1000 or more. The ac needed to be fixed, I had an electrical issue and my hatch window was broken. Not only did they fix all the repairs for a fraction of what I expected, but they did it so quickly! I would be pleased to be a reference for them. Being a single female, I felt Mark was honest and didn't try to take advantage of my lack of knowledge and need to get my vehicle fixed. THANK YOU FOR YOUR INTEGRITY & CUSTOMER SERVICE, Terry Q\"\n",
            " \"Yay! I've found my car repair shop! I wish all car repair shops were this honest. 6 months ago, I took my car to a shop that insisted I NEEDED $3000 in repairs. Given that my car is 10 years old, I declined. Well, I started having car issues. With the car struggling to turn over/start and the AC only blowing hot air, I figured it was the beginning of the end for my little Corolla. What I feared would be a major repair job, turned out to be a minor battery issue. As it turns out, all I really needed was a new battery. The new battery fixed the start up problems AND the AC issue. Auto Air & Electric could have easily sold me on some fancy-pants AC tune-up package and I never would have known the difference, but they didn't. Since I was there, I went ahead had a few other services completed as well. The service was great; my car was up and running with COLD AC and I was on my way within 3 hours. The people were super down to earth and the pricing was absolutely fair. I actually ended up paying a little less than they estimated. This is the type of shop you don't see much of anymore. Thanks for the great service!\"\n",
            " \"I recently moved into another house and I needed a lot of electrical work done since the house was built in 1978. To say the least, I was shocked on how older homes lacked the electrical needs I got used in my past house. I got three different bids and I ended up going with White Sands Electric. I couldn't be happier with the work they have done so far. They are very knowledgeable, professional, and detail oriented. This is the laundry list of things I had them do so far and I have plenty other work for them to do in the near future. I actually kept adding stuff that I wanted done/changed and they were very accommodating. On a side note about contractors in general, I find a lot of them to show up late. For the multiple times I have had White Sands out, they have always been on time. I wish all contractors had this trait or at least would call you if they were running late. If you are looking for a quality electrician in the Valley, look no further. - Redid the electrical wiring after we had 2 interiors walls knocked down and part of the ceiling raised - Installed 2 fan boxes and wired new outlets for the fans - Installed 4 can lights that work off dimmer switches - Redid 4 junction boxes/outlets - Installed and wired a new kitchen light - Wired exhaust fans in the bathrooms - Added 2 new circuits in the garage - Redid the wiring in the bathrooms since we couldn't even power a blow dryer off of the bathroom outlets - Rewired the exterior motion lights - Installed a new outlet for a sprinkler timer - Installed new outlets in my dining room\"\n",
            " \"I walked in the front door and was immediately greeted. I took a seat only to realize that I needed to use the bathroom in one of the best auto place bathrooms I've ever seen. To make a long story short, the customer service was phenomenal, the workmanship was exceptional, and the pricing was un-beatable. I was comfortable. I shopped around for gasket repair and Community Tire & Auto Pros did the best by me! They went above and beyond the call of duty.\"\n",
            " \"I had my whole house fully screened back in 2010 and it was at a very good price as I had seen Screen Mobile work on my neighbors house as well. Recently one of the 2nd story window screens became loose and I did not have a ladder tall enough to do it myself. I contacted Screen Mobile and they scheduled me in and got the work done free of charge. I couldn't ask for better service than that! Thank you very much!\"\n",
            " \"Simply amazed! I took my car in for a piece of metal stuck in one of my tires near the sidewall. The service tech checked the tire and was able to remove the metal without much resistance and asked that I pull the car into the garage to do a quick air check to ensure that it hadn't punctured the tire wall. Luckily, the metal didn't damage the tire and all was well. I asked the tech if I should now go inside and pay for the service, and they said that there would be no charge since there wasn't any need for work on the tire itself. That was an incredibly nice was to start off our weekend and it was totally unexpected. We will definitely be back for more service from this location.\"\n",
            " \"I have to concur with other reviewers. I thought my 2007 Toyota Corolla with 190K miles needed a new clutch. After having compared prices at 5 shops and reading Toyowork's reviews on here I selected them. Andre quickly determined I didnt need a clutch, just an adjustment and gear oil change. He gave me ideas for what to look for in the future in terms of what a bad clutch performs like. I am also particularly impressed by the cleanliness of his shop. Having 2 Toyota Corollas and driving 5K miles a month I will definately be back again.\"\n",
            " \"I love this place! I've been taking my car to 180 auto for the last couple years and have never left disappointed. Bogi, Lisa, Whitney, Angel and Kenny (yes, I know them all by name, that's how friendly and cool they are) have always been completely honest with me and have never tried to sell me work they didn't think I absolutely needed. They have shown me a level of customer service that is unparallel to anywhere. I frequently just stop in to chat with the crew. They have all become good friends of mine. If your looking for a place you can trust with amazing customer service go here, hands down!\"\n",
            " 'These girls are great as always. It took me a long time to get over Sam. He was a great dog. I felt it was time for a change. I got a kitten. I have heard from friends that their petsitters have gone out of business, but suprise - the girls are still there. They are amazing. They have done a great job with my ktten! Would hire them anytime - Highly recommended!'\n",
            " \"By far the best auto repair shop I've ever been to. I originally started going to Joel a little over a year ago for oil changes, but when I had an issue with my (awful) Cadillac Catera I decided to give him a try. I was definitely impressed with the value, quality, and responsiveness of his work and shop. He offers free pick up and drop off services within a five mile radius and has even fixed some of the smaller issues with my car for free. Would highly recommend to anyone in the area!\"\n",
            " 'WOW! Never have I experienced such great customer service at an auto shop. I do not exaggerate when I say that Arman was beyond fair and helpful today when I took my Camry into Doc Auto. I was getting my radiator replaced and he looked at an oil leak I have as well. He gave me clear, affordable options, and I could tell from the moment I started speaking to him he has a great deal of character and integrity. Definitely the place to go for anything related to your vehicle!'\n",
            " 'Been going back to these guys regularly since my first visit in early 2013 because they are awesome. Had a small oil leak and oil change and motor mounts replaced. They informed me an oil seal they installed had failed and replaced at no charge. They could of taken me to the cleaners, but they were honest. Hey, they also have great snacks in the waiting room too. Thank you!'\n",
            " \"We took our Jeep Commander into these folks, based on shopping around. We looked at everyone and for tires, they were absolutely the lowest. The location was amazingly clean and well layed out. They had the biggest tire selection in the area. They were running a special to include 4 free oil changes too! If all this wasn't enough, we went in and requested the wrong tire size, they cautioned us and installed them as requested. Then we realized they were rubbing and went back and they immediately without any questions changed them to what they should have been. The service we received was amazing, best I have ever gotten for auto repair. Prices were reasonable and the location is very convenient. They get busy, so get there early, but you can't go wrong here. Oh and I shot an email to corporate and Jerry Fletcher Jr. personally responded! I have a new home for all my auto care.\"\n",
            " \"this store is great. its been established in the neighborhood for a long time. i shopped here as a kid when checker owned it and now i am an employee under O'reilly Auto. please stop in and ask for me and i will help you with all your auto needs.\"\n",
            " \"Billy has always been awesome to work with and works around our busy schedule. Its important to find a great mechanic when moving to a new city and these guys are it. They have never overcharged me or tried to sell me something I didn't need. The guys at Fayad always take great care of us and our cars.We take the problem-prone Range Rover (POS) there and saved hundreds less than the dealership. Not saying the RR is cured of its demons, but it is running. :) These guys fix everything from a Ford to a $150k BMW. They are knowledgeable in just about every car. Give them a shot, they will not disappoint!\"\n",
            " 'I took my BMW here because the dealership I purchased it from (used) took it here to have an oil leak repaired. First off, the oil leak was \"repaired\" only to find out later that it really wasn\\'t. Turns out there was a slit (cut) in the valve cover gasket, which either occurred when this shop put the part in, or they purchased it with the defect, but either way, the problem was missed on their part, which tells me they do not pay attention to detail. So, when we noticed the leak was still an issue, it was under warranty through this shop for the original work, so I took it back. I spent a few hours waiting since I live in the far east valley, they did repair it, however later that day my \"service engine\" light came on, then went off. A few days later, I parked my car, turned it off, and went to start it again after picking up my mail, and the car would not start. Thankfully, my husband is a mechanic (the only reason he did not fix the oil leak the 2nd time around was because it was under warranty), we towed my vehicle back to my house, which was only down the road, but it was dead. Come to find out, the cam positioning sensor had not been plugged back into the vehicle all the way, which is what tripped my \"service engine\" light a couple of days before, and once it became looser over the course of driving the vehicle, the vehicle finally wouldn\\'t start. My husband plugged this in completely (like it should have been doen at the shop after fixing the oil leak), and there have been zero issues since. Now, I\\'m not sure if this shop did this on purpose, or if they just do not pay attention to detail very well. But, given that something as simple as an oil leak required TWO visits due to a part that they either didn\\'t notice was defective or they messed up themselves, and then they did not finish putting the vehicle back together when they were finished, I am not very happy. On top of it, I had to have my vehicle towed (thank goodness for towing on my insurance!), and had to deal with a dead vehicle when my school aged son, and I were both sick at the time. I would NEVER recommend this shop to anyone, I will never ever go back, and I also intend on notifying the dealership I purchased my vehicle from of the issues in the hopes that they choose another BMW shop in the future to service any used BMW\\'s that come onto their lot. What a complete and utter nightmare.'\n",
            " 'I have bringing my car here for service every 5000 miles for 4 years. They are consistently slow and give no information as to the progress. Simple service such as an oil change will take up to 4 hours when the car is dropped off first thing in the morning. I will not be coming here for service again. This happens every time.'\n",
            " 'Terrible Service,,,my advice = avoid this dealership at all cost. I took in my Ford vehicle running on it\\'s jump-started dead $120 FORMOCO 100 month warranty battery at age 40 months. No cars in service line, 6+ service advisor\\'s standing around plus the \"Service Manager\", all doing nothing at 10AM. I was told I would have to wait until late in the day for a mechanic to check battery for $75.00 and if found defective Parts would replace it prorated. I complained that if it was a NAPA, O\\'Reilly or Walmart, etc. battery it would be checked immediately by any available employee, replaced by same and I\\'d be on my way. I have done this many times US wide. Nope, No, Nada!! Did I want to wait or get a ride? I said neither!! I removed the battery myself, took it to parts counter where it was exchanged for a new same battery for $58. I replaced my battery and left. ANGRY. What took me 15 minutes was to have taken me about 6 hours because of this Ford Dealer\\'s stupid \"policies\"...no wonder China is kicking our US Butts. Hello, Ford Motor Co!!!!!!! Goodbye Bell Ford in Phoenix, AZ.'\n",
            " \"I have a similar story about Advanced Auto Service. Went in for a routine oil change and came back with a repair order of over $3000 based on the steering. New rack and pinion, shocks, the works. I politely declined and went to get a second estimate elsewhere. I didn't show this second autoshop the quote Advanced Auto gave me. He asked whether I was there because I've been quoted repairs, and showed him the quote. He laughed at it. My car needed none of the repairs I'd been quoted on. He even guessed which auto shop had quoted me before I showed him it was from Advanced Auto Service on Warner street. So my advice is be careful.\"\n",
            " 'On May 29th, Chapman Mitsubishi had an ad in the Arizona Republic for a brand new Mistubishi Lancer for $13,941. When we tried to purchase the vehicle, they said they could not sell it for the advertised price, even if we were paying cash. They insisted that I paid almost $1000 for a \"Desert Protection Package\" that they could not remove from the car. The salesman said this is how all advertising is done in the area and that you could not buy a vehicle for the price listed in an ad.'\n",
            " 'I went in for a routine oil change and was told that there were $750 worth of critical repairs needed to my front and rear brakes. I took my vehicle to Honest-1 on 59th Ave for a second opinion and none of the repairs were needed. Beware of their recommendations, they can cost you!'\n",
            " \"Insist on a lower rate!! Hertz in general charges high rates compared to other car rentals. However, their service doesn't seem to tie with the higher rates. I called for a billing question and they had me on hold for OVER 20 min!! The offices are often dirty and old, and the cars are also not always kept up. I got a rental recently until my personal car was repaired, and they rental I received had not been washed in or outside. I'll be looking for other firms offering rates that correspond to the service!!\"\n",
            " 'Camelback Toyota doesn\\'t have this big, beautiful, new facility on 16th Street, for nothing. I know I put more than my share of my hard earned money into that building. The last time I left tracks in this garage was after I was up-sold a ton of work that my SUV did not need at the time, to the tune of some nearly $2,000 - when I had gone in for a regular oil change. The car repair sales associate, Damion, seemed surprised when I requested the replaced parts after they finished all the work he \"recommended\" (scare tactic is more accurate). One freshly replaced part \"...couldn\\'t be found.\" (Interesting, in light of the fact that they had just finished it.) The rest of the parts didn\\'t seem to show enough wear to warrant replacement, in my opinion. So, I took them around for a couple of other neutral opinions. Even un-prefaced by explanation, those opinions all concurred with mine. I challenged the need for the work performed with Damion, at Camelback Toyota. And although I didn\\'t press charges in court (but did consider it, just didn\\'t have any extra time to deal with it at the time) - this formerly, quite loyal, customer will surely never return to this \"establishment\" and now they have a really sour review too. However, I have found solace in my car repair needs at 3A Auto Service in Sunnyslope. At this well established, family owned business, I am not treated as \"fresh meat\" because I am a woman embarking on an oil change sans a male figure for protection. To date, they have been honest about the work they have done and have been like a \"husband\" in that they provide a heads up as to what to expect for repairs or maintenance in the next few months. This could be a grand, auto, love affair! Rather than an auto affair that cost me grands!! I give 3A Auto Service a 5 star rating - girls, you gotta go there!'\n",
            " \"In the fall of last year my wife, visiting from Flagstaff, took her 05 prius in for a regular maintenence checkup. She was told that there was something drastic that needed repair to her car and it was expensive and it needed doing soon. She wisely declined the job. She returned to Flagstaff and took it immediately to the Toyota dealership in Flag and was told that there wasn't anything wrong with the car. Then last month, I took my 07 prius in for a tune up and was told that there was some 600.00 dollars worth of repair that needed doing. Mainly with oil systems. Having learned from my wife, I delcined the work and took it to Flagstaff and found that one of the jobs was not necessary and the other job should have been included with the tuneup that Camelback T was supposed to do. They charged over $200. for the simple tuneup and then didn't do all the work. When you look at the facility, you'll see it's modern and expensive looking. Perhaps from bilking unsuspecting customers with sleasy practices. Toyota on Camelback won't see me again. Won't see you again unless you can't learn from other peoples experiences. I don't know which dealership does fair and honest work but I intend to find out; Selling cars might be ok but repair is a gyp.\"\n",
            " 'Careful! Shady guys working there. I broke down on the 101 and was about 15 miles from home, did a quick search on the net and had my tow truck driver take my car to this place. They called a day or so later and gave me a quote of well over 1000 to fix my car and started naming a whole laundry list of \"what ifs\" that can be wrong and how much it will cost me if the \"what ifs\" happen. Well needless to say, I had my car towed out of there immediately. Took it to my usual mechanic and even after paying the tow truck, and Greulichs assanine \"diagnostic\" fee, I was still less than the Greulichs butthole quote. Oh yeah, and NONE of the \"what ifs\" I was given were an issue. BTW, What the hell do shocks have to do with \"get my car up on the road and running\"???? Just sayin\\'. I may be a girl, however you cant pull a fast one on me.... OH yeah, I am placing a complaint with the BBB.'\n",
            " \"The service was rude and when I left my car there for nearly two hours they still couldn't manage to get the oil change done by the time they said they would.\"\n",
            " 'Wow, there are quite a few five star reviews. I try not to call into question the legitimacy of other reviewers but my experience was very different from these five star reviewers. I had an experience similar to the reviewer from Fremont, CA. I brought in the bait and switch $15.88 oil change, fluid check and tire rotation coupon downloaded directly from their website. They told me that my car (\\'09 3.8 genesis) required a special oil filter. This is a falsehood. When I called in to set an appointment, the person on the phone told me that the coupon would not work because my car required full synthetic oil. I told him that he was incorrect and that the owner\\'s manual only suggested synthetic blend. When I realized that they were trying to charge me for a full priced oil change, I asked the person over the phone if the coupon would work and he said, \"yes.\" It was only when I drove down there, that they used the filter excuse to invalidate the coupon and charge me just under $29. Additionally, I did not receive the tire rotation. This is pretty much the definition of Bait and Switch.']\n"
          ]
        }
      ],
      "source": [
        "c3 = np.where(clustering.labels_ == clustering.labels_[1])\n",
        "r = np.array(reviews_df[\"Text\"])\n",
        "for i in c3 : \n",
        "  print(r[i])"
      ]
    },
    {
      "cell_type": "code",
      "source": [
        " c4 = np.where(clustering.labels_ == clustering.labels_[2])\n",
        "r = np.array(reviews_df[\"Text\"])\n",
        "for i in c4 : \n",
        "  print(r[i])"
      ],
      "metadata": {
        "colab": {
          "base_uri": "https://localhost:8080/"
        },
        "id": "hk3321szqqot",
        "outputId": "03b94d68-7ba7-49b8-e490-14b1773b1b01"
      },
      "id": "hk3321szqqot",
      "execution_count": 21,
      "outputs": [
        {
          "output_type": "stream",
          "name": "stdout",
          "text": [
            "['Matt and Tim were great. When going over solutions I felt they were straight forward and upfront about the cost of the repairs. I also felt that they understood how I felt about being separated from my money. Our Volvo is running great and we hope to keep it running for a long time with the help of Virginia Auto Service.'\n",
            " \"Well, I have a little 2001 Ford Taurus. My lovely silver grandma car is fantastic for the 100-200 miles I drive per month. And now, my little car has a great shop looking after her. I took my car in as it was time for an oil change and I was convinced my serpentine belt was about to go. It had that tell-tale burning smell which was making me nervous. Turns out I had a loose oil-filter from my last oil change and dripping oil + catalytic converter = my car is about to die smell. Virginia Auto Service changed my oil and cleaned up my engine. It was so nice to receive a call from them saying my belt was fine and an oil change was all I needed. It was refreshing to be given an honest assessment vs being told some great story about some random repair that was needed...I am a female after all and have received some rather odd diagnoses in the past (your rotors fell off, so you'll need to have them replaced for example). It is very reassuring to know I now have an honest, kind and reliable repair shop for my car. Did my oil change run a bit more than some $19.99 special? Yes, but it was so worth it! Now my little one won't be getting an oil change for another year most likely, but my service advisor, Robert, asked me to please stop by every three months so they could check out my belts, tire pressure, etc just to be safe. Now THAT is service!\"\n",
            " \"Need a good auto repair place, this is it. I have been using Terry's for over 8 years. I was introduced to Terry's Auto by a friend. Since that time, I have used this place exclusively for my cars. It is very tough to find an auto mechanic that you can trust. With Terry's, I drop my car off, tell them what I need and walk out. I come back, usually by the end of the day, and he is done. Fair price without a worry. Have been taking my wifes 1997 Chrysler there for years. Have had new transmission, new sets of tires, and multiple other basic maintenance. A vehicle that probably would not have lasted more than 100k miles is still running well at 150k plus miles. Terry has even been kind enough to work with me on payments when I had transmission installed. Can't promise he will do the same with you, but then, I have been going to him for 8 years. Need a good mechanic, look no further...\"\n",
            " \"Our car needed an oil change... and then, suddenly, the air would only blow warm. Never good in June! We made the mistake of taking it to the VW dealership, and was told that the relay (whatever that is...) needed to be replaced and that it would cost me $360. Ugh. Soooo... the Husband (much more knowledgeable about car stuff) gave Precision Imports a call. They told him to bring the car in to them and they'd make sure it was less. No kidding!! They got the work done asap, and only charged us $125. Savings of OVER $200! Now, THAT is good service! They just made loyal customers out of us... no more dealerships for our car!\"\n",
            " \"I believe I first stumbled into this place in 2001 or so. Had a Honda. These guys in their little greasy office were my new best friends! Honest, straight forward, no-nonsense, I'm running out of adjectives. They told me what I needed, how much it cost and when it would be ready. I picked up my car when they said and that was that. Sometimes they gave extra analysis. Time passed and I moved away for 6 years. I went back to them about a year ago with a mini cooper - they remembered me and wondered why I wasn't driving a Honda or Toyota :-). They honestly told me that they could not fix the issue I had (they did not have the high-tech Mini/BMW equipment required), so Mini fixed it for $1,700. I went back with a Toyota Rav4 - their specialty. Easy in and out for scheduled maintenance and always less than $40. Today, they did maintenance. Friendly service, easy for me in and out. Frank told me that the Right Rear shock was leaking and since it was under warranty I should take it to Toyota. I did, they fixed it free of charge (I know, few things in life are REALLY free - especially at the Toyota Dealership). My point is that Frank told me the up-front truth about my car and didn't try to sell me anything. He could have ignored it but that's not how he/they operate. Which is why he and Al are so well regarded and so appreciated on sites like this. It's also why you don't see their name on billboards, or bus benches, or mailers in your mailbox. No need. Their reputation supplies them with all the business they can handle. And they handle a LOT of business.\"\n",
            " \"Earlier this week, I came back to my parked car and it had left me a nice present in the form of an anti-freeze puddle on the ground (in other words, my car was heavily leaking green liquid) -_- Me being still relatively new to Phoenix, I didn't know where to turn to first. So of course, I turned to Yelp. I read all of the good reviews on here and was willing to give these guys a shot, much to the dismay of my father who said I should have went to the dealership. Plus, they were able to take me in on such short notice, and I support small business. The price they quoted me to replace my leaking Water Pump Hose was well under what i expected, and they were able to finish it rather quickly. I was late to work still, but for being a walk in customer, a half hour late to work was well worth it. The shop was clean, people were friendly, I didn't feel pressured at all, and no one tried to upsell me (I'm in sales, its quite annoying). Excellent, Professional work environment I got my car fixed on a Monday. It's Friday today, and I open my mail box to see a hand written Thank You post card from these guys saying they appreciate my business. Never have I ever received a post card from ANY company, let alone an Auto Shop saying thank you. Normally, I'm not one for the cheesy and fake customer service routines, but this was real and genuine. I will definitely be coming back for all my maintenance needs, and i would highly recommend them to anyone\"\n",
            " \"I'm gonna add to the growing list of previous reviewers who have also had great service at 25th Street Automotive by giving it a well deserved 5 stars. My clutch had all but completely gone out and I had to have it towed to the auto shop. The car was also running very hot in an unrelated issue. One of the Bills called me 3 or 4 times throughout the day to keep me in the loop of what they had discovered and what was recommended. The service was all complete in one day and I was able to pick it up the same evening. My car is running great! Every positive comment about this auto shop is very true. They are professional, extremely courteous, reasonable and above all, they are trustworthy. A good auto shop is one of those things that seems to be all so elusive, so I'm thankful for the previous yelpers guiding me here. I hope to not have anymore breakdowns or many maintenance needs but if I do, I will return here. I am a fan and I will recommend them to anyone I hear of having a vehicle issue.\"\n",
            " 'Thanks to Yelp, I found this awesome car repair shop. I have nothing but the absolute BEST things to say about them. The most professional, honest and effecient that I have ever worked with. Unfortunately, I just bought a \"lemon\" and 25th St. Automotive took some of the pain out this process. They are just amazing....I knew that the transmission was most likely shot. They spent the minimum amout of time and money to confirm this and were more than accomodating. I would bring another car back here in a heartbeat. Overall, a it\\'s very dismal circumstance regarding my newly purchased used car, but an absolutely fabulous experience with 25th Street Automotive.'\n",
            " \"Believe all the reviews! I took my car here after I got new tires and they informed me they couldn't do the alignment. Instead of telling me why, Ken brought me down to the lower shop area and showed me why an alignment wouldn't work until a certain part was replaced. I have never had an alignment shop do this. They normally just put the car on the machine, print out some fancy numbers, and charge me double what Jack charges. I am very impressed by their honesty and commitment to quality work. Plus the prices are pretty good too. From now on all my alignments will be done here!\"\n",
            " 'This place was awesome!! It took maybe 15 minutes for an oil change and they cleaned the windows. Very efficient. I will definitely be going back.'\n",
            " \"The best auto repair shop I have ever done business with. A friend from work recommended Gab's and I am ever so grateful she did. Family owned shop with years of experience. The minute I walked through the office door I was treated very kindly. They didn't laugh at me because I don't know a damn thing about auto repair. The service, prices and especially the staff are unbeatable. Truly second to none. What has impressed me the most is Gab's does not do any unnecessary work and keeps me up to date while my SUV is being serviced. Do yourself a favor make Gab's your auto mechanic. You will not be sorry and your pocket book will love it.\"\n",
            " \"I almost bought a used car at a traditional dealership. They told me how they have the mechanic look over the car and they only sell cars in perfect condition. I had my mechanic look it over and he found over $1200 in repairs needed. The next day I went to see Bob Bloom at Centennial. He showed me the carfax and the off site inspection and repair bill. Centennial isn't a traditional dealership. All the cars are inside and they set a fair price. No need to negotiate. We bought my son's first car from Bob and it was a great experience. I recommend you call Centennial and ask for Bob, you won't regret it. Tell them, Pat sent you :)\"\n",
            " 'My left rear tire was low, so after meeting a friend for lunch (at Sakana, which gets my next review of \"YUM!\"), I went to the gas station to use their air. I\\'ve had bad luck with these things, so I was trepedatious. Aaaaaand, for good reason - it did let more air out of my tire. Luckily, there was a Greulich\\'s Auto Repair next door, so I rolled over and asked if they could put air in my tires. They said, \"Sure!\" As the mechanic was filling my left rear tire, he found a nail. No wonder that tire was low! He repaired it on the spot and off I went. Very helpful, and nice! I live considerably north-er and would go back down to this Greulich\\'s.'\n",
            " \"I was looking for a repair shop close to my house and found Mike P's review and thought it was worth a shot. I have had my '96 Chevy truck there twice for two different situations and now my Subaru STI. They handled both repairs quickly and got me the best price they could with no pressure to repair additional items. Their shop is nothing fancy but they know their business. Great people to work with. Highly recommended.\"\n",
            " \"I just finished a check-up visit after my Golf R was repaired at Select. The owner Bud and the shop he runs are from another time...when quality, craftsmanship and friendly service were the hallmark of a customer centered business. Bud takes his customers' side, gets the insurance company to pay their due and turns out body work done with all new parts that is without compare. I don't wreck my car often, but when I do, I take it to Select ,)\"\n",
            " \"What an amazing experience with V.I. Auto Repair company! The first auto shop I took my 99 GMC Safari van to was honest in advising me that despite their many efforts, I should take it to a GM dealer. I knew that wouldn't work because they cost about $110-$120/hr plus parts. Praise God I made a few phone calls and found that not only was VI Auto reasonable with their rates ($80/hr) but that had two mechanics with GM certification. I had the vehicle towed there. I had three major issues that I was guessing would cost me a $1000 or more. The ac needed to be fixed, I had an electrical issue and my hatch window was broken. Not only did they fix all the repairs for a fraction of what I expected, but they did it so quickly! I would be pleased to be a reference for them. Being a single female, I felt Mark was honest and didn't try to take advantage of my lack of knowledge and need to get my vehicle fixed. THANK YOU FOR YOUR INTEGRITY & CUSTOMER SERVICE, Terry Q\"\n",
            " \"Yay! I've found my car repair shop! I wish all car repair shops were this honest. 6 months ago, I took my car to a shop that insisted I NEEDED $3000 in repairs. Given that my car is 10 years old, I declined. Well, I started having car issues. With the car struggling to turn over/start and the AC only blowing hot air, I figured it was the beginning of the end for my little Corolla. What I feared would be a major repair job, turned out to be a minor battery issue. As it turns out, all I really needed was a new battery. The new battery fixed the start up problems AND the AC issue. Auto Air & Electric could have easily sold me on some fancy-pants AC tune-up package and I never would have known the difference, but they didn't. Since I was there, I went ahead had a few other services completed as well. The service was great; my car was up and running with COLD AC and I was on my way within 3 hours. The people were super down to earth and the pricing was absolutely fair. I actually ended up paying a little less than they estimated. This is the type of shop you don't see much of anymore. Thanks for the great service!\"\n",
            " \"I recently moved into another house and I needed a lot of electrical work done since the house was built in 1978. To say the least, I was shocked on how older homes lacked the electrical needs I got used in my past house. I got three different bids and I ended up going with White Sands Electric. I couldn't be happier with the work they have done so far. They are very knowledgeable, professional, and detail oriented. This is the laundry list of things I had them do so far and I have plenty other work for them to do in the near future. I actually kept adding stuff that I wanted done/changed and they were very accommodating. On a side note about contractors in general, I find a lot of them to show up late. For the multiple times I have had White Sands out, they have always been on time. I wish all contractors had this trait or at least would call you if they were running late. If you are looking for a quality electrician in the Valley, look no further. - Redid the electrical wiring after we had 2 interiors walls knocked down and part of the ceiling raised - Installed 2 fan boxes and wired new outlets for the fans - Installed 4 can lights that work off dimmer switches - Redid 4 junction boxes/outlets - Installed and wired a new kitchen light - Wired exhaust fans in the bathrooms - Added 2 new circuits in the garage - Redid the wiring in the bathrooms since we couldn't even power a blow dryer off of the bathroom outlets - Rewired the exterior motion lights - Installed a new outlet for a sprinkler timer - Installed new outlets in my dining room\"\n",
            " \"I walked in the front door and was immediately greeted. I took a seat only to realize that I needed to use the bathroom in one of the best auto place bathrooms I've ever seen. To make a long story short, the customer service was phenomenal, the workmanship was exceptional, and the pricing was un-beatable. I was comfortable. I shopped around for gasket repair and Community Tire & Auto Pros did the best by me! They went above and beyond the call of duty.\"\n",
            " \"I had my whole house fully screened back in 2010 and it was at a very good price as I had seen Screen Mobile work on my neighbors house as well. Recently one of the 2nd story window screens became loose and I did not have a ladder tall enough to do it myself. I contacted Screen Mobile and they scheduled me in and got the work done free of charge. I couldn't ask for better service than that! Thank you very much!\"\n",
            " \"Simply amazed! I took my car in for a piece of metal stuck in one of my tires near the sidewall. The service tech checked the tire and was able to remove the metal without much resistance and asked that I pull the car into the garage to do a quick air check to ensure that it hadn't punctured the tire wall. Luckily, the metal didn't damage the tire and all was well. I asked the tech if I should now go inside and pay for the service, and they said that there would be no charge since there wasn't any need for work on the tire itself. That was an incredibly nice was to start off our weekend and it was totally unexpected. We will definitely be back for more service from this location.\"\n",
            " \"I have to concur with other reviewers. I thought my 2007 Toyota Corolla with 190K miles needed a new clutch. After having compared prices at 5 shops and reading Toyowork's reviews on here I selected them. Andre quickly determined I didnt need a clutch, just an adjustment and gear oil change. He gave me ideas for what to look for in the future in terms of what a bad clutch performs like. I am also particularly impressed by the cleanliness of his shop. Having 2 Toyota Corollas and driving 5K miles a month I will definately be back again.\"\n",
            " \"I love this place! I've been taking my car to 180 auto for the last couple years and have never left disappointed. Bogi, Lisa, Whitney, Angel and Kenny (yes, I know them all by name, that's how friendly and cool they are) have always been completely honest with me and have never tried to sell me work they didn't think I absolutely needed. They have shown me a level of customer service that is unparallel to anywhere. I frequently just stop in to chat with the crew. They have all become good friends of mine. If your looking for a place you can trust with amazing customer service go here, hands down!\"\n",
            " 'These girls are great as always. It took me a long time to get over Sam. He was a great dog. I felt it was time for a change. I got a kitten. I have heard from friends that their petsitters have gone out of business, but suprise - the girls are still there. They are amazing. They have done a great job with my ktten! Would hire them anytime - Highly recommended!'\n",
            " \"By far the best auto repair shop I've ever been to. I originally started going to Joel a little over a year ago for oil changes, but when I had an issue with my (awful) Cadillac Catera I decided to give him a try. I was definitely impressed with the value, quality, and responsiveness of his work and shop. He offers free pick up and drop off services within a five mile radius and has even fixed some of the smaller issues with my car for free. Would highly recommend to anyone in the area!\"\n",
            " 'WOW! Never have I experienced such great customer service at an auto shop. I do not exaggerate when I say that Arman was beyond fair and helpful today when I took my Camry into Doc Auto. I was getting my radiator replaced and he looked at an oil leak I have as well. He gave me clear, affordable options, and I could tell from the moment I started speaking to him he has a great deal of character and integrity. Definitely the place to go for anything related to your vehicle!'\n",
            " 'Been going back to these guys regularly since my first visit in early 2013 because they are awesome. Had a small oil leak and oil change and motor mounts replaced. They informed me an oil seal they installed had failed and replaced at no charge. They could of taken me to the cleaners, but they were honest. Hey, they also have great snacks in the waiting room too. Thank you!'\n",
            " \"We took our Jeep Commander into these folks, based on shopping around. We looked at everyone and for tires, they were absolutely the lowest. The location was amazingly clean and well layed out. They had the biggest tire selection in the area. They were running a special to include 4 free oil changes too! If all this wasn't enough, we went in and requested the wrong tire size, they cautioned us and installed them as requested. Then we realized they were rubbing and went back and they immediately without any questions changed them to what they should have been. The service we received was amazing, best I have ever gotten for auto repair. Prices were reasonable and the location is very convenient. They get busy, so get there early, but you can't go wrong here. Oh and I shot an email to corporate and Jerry Fletcher Jr. personally responded! I have a new home for all my auto care.\"\n",
            " \"this store is great. its been established in the neighborhood for a long time. i shopped here as a kid when checker owned it and now i am an employee under O'reilly Auto. please stop in and ask for me and i will help you with all your auto needs.\"\n",
            " \"Billy has always been awesome to work with and works around our busy schedule. Its important to find a great mechanic when moving to a new city and these guys are it. They have never overcharged me or tried to sell me something I didn't need. The guys at Fayad always take great care of us and our cars.We take the problem-prone Range Rover (POS) there and saved hundreds less than the dealership. Not saying the RR is cured of its demons, but it is running. :) These guys fix everything from a Ford to a $150k BMW. They are knowledgeable in just about every car. Give them a shot, they will not disappoint!\"\n",
            " 'I took my BMW here because the dealership I purchased it from (used) took it here to have an oil leak repaired. First off, the oil leak was \"repaired\" only to find out later that it really wasn\\'t. Turns out there was a slit (cut) in the valve cover gasket, which either occurred when this shop put the part in, or they purchased it with the defect, but either way, the problem was missed on their part, which tells me they do not pay attention to detail. So, when we noticed the leak was still an issue, it was under warranty through this shop for the original work, so I took it back. I spent a few hours waiting since I live in the far east valley, they did repair it, however later that day my \"service engine\" light came on, then went off. A few days later, I parked my car, turned it off, and went to start it again after picking up my mail, and the car would not start. Thankfully, my husband is a mechanic (the only reason he did not fix the oil leak the 2nd time around was because it was under warranty), we towed my vehicle back to my house, which was only down the road, but it was dead. Come to find out, the cam positioning sensor had not been plugged back into the vehicle all the way, which is what tripped my \"service engine\" light a couple of days before, and once it became looser over the course of driving the vehicle, the vehicle finally wouldn\\'t start. My husband plugged this in completely (like it should have been doen at the shop after fixing the oil leak), and there have been zero issues since. Now, I\\'m not sure if this shop did this on purpose, or if they just do not pay attention to detail very well. But, given that something as simple as an oil leak required TWO visits due to a part that they either didn\\'t notice was defective or they messed up themselves, and then they did not finish putting the vehicle back together when they were finished, I am not very happy. On top of it, I had to have my vehicle towed (thank goodness for towing on my insurance!), and had to deal with a dead vehicle when my school aged son, and I were both sick at the time. I would NEVER recommend this shop to anyone, I will never ever go back, and I also intend on notifying the dealership I purchased my vehicle from of the issues in the hopes that they choose another BMW shop in the future to service any used BMW\\'s that come onto their lot. What a complete and utter nightmare.'\n",
            " 'I have bringing my car here for service every 5000 miles for 4 years. They are consistently slow and give no information as to the progress. Simple service such as an oil change will take up to 4 hours when the car is dropped off first thing in the morning. I will not be coming here for service again. This happens every time.'\n",
            " 'Terrible Service,,,my advice = avoid this dealership at all cost. I took in my Ford vehicle running on it\\'s jump-started dead $120 FORMOCO 100 month warranty battery at age 40 months. No cars in service line, 6+ service advisor\\'s standing around plus the \"Service Manager\", all doing nothing at 10AM. I was told I would have to wait until late in the day for a mechanic to check battery for $75.00 and if found defective Parts would replace it prorated. I complained that if it was a NAPA, O\\'Reilly or Walmart, etc. battery it would be checked immediately by any available employee, replaced by same and I\\'d be on my way. I have done this many times US wide. Nope, No, Nada!! Did I want to wait or get a ride? I said neither!! I removed the battery myself, took it to parts counter where it was exchanged for a new same battery for $58. I replaced my battery and left. ANGRY. What took me 15 minutes was to have taken me about 6 hours because of this Ford Dealer\\'s stupid \"policies\"...no wonder China is kicking our US Butts. Hello, Ford Motor Co!!!!!!! Goodbye Bell Ford in Phoenix, AZ.'\n",
            " \"I have a similar story about Advanced Auto Service. Went in for a routine oil change and came back with a repair order of over $3000 based on the steering. New rack and pinion, shocks, the works. I politely declined and went to get a second estimate elsewhere. I didn't show this second autoshop the quote Advanced Auto gave me. He asked whether I was there because I've been quoted repairs, and showed him the quote. He laughed at it. My car needed none of the repairs I'd been quoted on. He even guessed which auto shop had quoted me before I showed him it was from Advanced Auto Service on Warner street. So my advice is be careful.\"\n",
            " 'On May 29th, Chapman Mitsubishi had an ad in the Arizona Republic for a brand new Mistubishi Lancer for $13,941. When we tried to purchase the vehicle, they said they could not sell it for the advertised price, even if we were paying cash. They insisted that I paid almost $1000 for a \"Desert Protection Package\" that they could not remove from the car. The salesman said this is how all advertising is done in the area and that you could not buy a vehicle for the price listed in an ad.'\n",
            " 'I went in for a routine oil change and was told that there were $750 worth of critical repairs needed to my front and rear brakes. I took my vehicle to Honest-1 on 59th Ave for a second opinion and none of the repairs were needed. Beware of their recommendations, they can cost you!'\n",
            " \"Insist on a lower rate!! Hertz in general charges high rates compared to other car rentals. However, their service doesn't seem to tie with the higher rates. I called for a billing question and they had me on hold for OVER 20 min!! The offices are often dirty and old, and the cars are also not always kept up. I got a rental recently until my personal car was repaired, and they rental I received had not been washed in or outside. I'll be looking for other firms offering rates that correspond to the service!!\"\n",
            " 'Camelback Toyota doesn\\'t have this big, beautiful, new facility on 16th Street, for nothing. I know I put more than my share of my hard earned money into that building. The last time I left tracks in this garage was after I was up-sold a ton of work that my SUV did not need at the time, to the tune of some nearly $2,000 - when I had gone in for a regular oil change. The car repair sales associate, Damion, seemed surprised when I requested the replaced parts after they finished all the work he \"recommended\" (scare tactic is more accurate). One freshly replaced part \"...couldn\\'t be found.\" (Interesting, in light of the fact that they had just finished it.) The rest of the parts didn\\'t seem to show enough wear to warrant replacement, in my opinion. So, I took them around for a couple of other neutral opinions. Even un-prefaced by explanation, those opinions all concurred with mine. I challenged the need for the work performed with Damion, at Camelback Toyota. And although I didn\\'t press charges in court (but did consider it, just didn\\'t have any extra time to deal with it at the time) - this formerly, quite loyal, customer will surely never return to this \"establishment\" and now they have a really sour review too. However, I have found solace in my car repair needs at 3A Auto Service in Sunnyslope. At this well established, family owned business, I am not treated as \"fresh meat\" because I am a woman embarking on an oil change sans a male figure for protection. To date, they have been honest about the work they have done and have been like a \"husband\" in that they provide a heads up as to what to expect for repairs or maintenance in the next few months. This could be a grand, auto, love affair! Rather than an auto affair that cost me grands!! I give 3A Auto Service a 5 star rating - girls, you gotta go there!'\n",
            " \"In the fall of last year my wife, visiting from Flagstaff, took her 05 prius in for a regular maintenence checkup. She was told that there was something drastic that needed repair to her car and it was expensive and it needed doing soon. She wisely declined the job. She returned to Flagstaff and took it immediately to the Toyota dealership in Flag and was told that there wasn't anything wrong with the car. Then last month, I took my 07 prius in for a tune up and was told that there was some 600.00 dollars worth of repair that needed doing. Mainly with oil systems. Having learned from my wife, I delcined the work and took it to Flagstaff and found that one of the jobs was not necessary and the other job should have been included with the tuneup that Camelback T was supposed to do. They charged over $200. for the simple tuneup and then didn't do all the work. When you look at the facility, you'll see it's modern and expensive looking. Perhaps from bilking unsuspecting customers with sleasy practices. Toyota on Camelback won't see me again. Won't see you again unless you can't learn from other peoples experiences. I don't know which dealership does fair and honest work but I intend to find out; Selling cars might be ok but repair is a gyp.\"\n",
            " 'Careful! Shady guys working there. I broke down on the 101 and was about 15 miles from home, did a quick search on the net and had my tow truck driver take my car to this place. They called a day or so later and gave me a quote of well over 1000 to fix my car and started naming a whole laundry list of \"what ifs\" that can be wrong and how much it will cost me if the \"what ifs\" happen. Well needless to say, I had my car towed out of there immediately. Took it to my usual mechanic and even after paying the tow truck, and Greulichs assanine \"diagnostic\" fee, I was still less than the Greulichs butthole quote. Oh yeah, and NONE of the \"what ifs\" I was given were an issue. BTW, What the hell do shocks have to do with \"get my car up on the road and running\"???? Just sayin\\'. I may be a girl, however you cant pull a fast one on me.... OH yeah, I am placing a complaint with the BBB.'\n",
            " \"The service was rude and when I left my car there for nearly two hours they still couldn't manage to get the oil change done by the time they said they would.\"\n",
            " 'Wow, there are quite a few five star reviews. I try not to call into question the legitimacy of other reviewers but my experience was very different from these five star reviewers. I had an experience similar to the reviewer from Fremont, CA. I brought in the bait and switch $15.88 oil change, fluid check and tire rotation coupon downloaded directly from their website. They told me that my car (\\'09 3.8 genesis) required a special oil filter. This is a falsehood. When I called in to set an appointment, the person on the phone told me that the coupon would not work because my car required full synthetic oil. I told him that he was incorrect and that the owner\\'s manual only suggested synthetic blend. When I realized that they were trying to charge me for a full priced oil change, I asked the person over the phone if the coupon would work and he said, \"yes.\" It was only when I drove down there, that they used the filter excuse to invalidate the coupon and charge me just under $29. Additionally, I did not receive the tire rotation. This is pretty much the definition of Bait and Switch.']\n"
          ]
        }
      ]
    },
    {
      "cell_type": "markdown",
      "id": "6460d1f8",
      "metadata": {
        "id": "6460d1f8"
      },
      "source": [
        "**Answer here**\n",
        "\n",
        "The first cluster seems to be based on thai food\n",
        "\n",
        "Second cluster seems to be based around the word 'Great' \n",
        "\n",
        "Third cluster seems to be about moving companies/transportation \n",
        "\n",
        "Fourth cluster seems to be about cars\n"
      ]
    },
    {
      "cell_type": "code",
      "source": [],
      "metadata": {
        "id": "V9Ov8jo4olpn"
      },
      "id": "V9Ov8jo4olpn",
      "execution_count": 21,
      "outputs": []
    }
  ],
  "metadata": {
    "colab": {
      "provenance": []
    },
    "kernelspec": {
      "display_name": "Python 3 (ipykernel)",
      "language": "python",
      "name": "python3"
    },
    "language_info": {
      "codemirror_mode": {
        "name": "ipython",
        "version": 3
      },
      "file_extension": ".py",
      "mimetype": "text/x-python",
      "name": "python",
      "nbconvert_exporter": "python",
      "pygments_lexer": "ipython3",
      "version": "3.8.13"
    }
  },
  "nbformat": 4,
  "nbformat_minor": 5
}