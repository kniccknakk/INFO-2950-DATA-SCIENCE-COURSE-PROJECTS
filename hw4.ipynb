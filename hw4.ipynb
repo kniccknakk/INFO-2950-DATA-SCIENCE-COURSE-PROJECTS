{
 "cells": [
  {
   "cell_type": "markdown",
   "metadata": {
    "id": "TxU6oSJx7639"
   },
   "source": [
    "# INFO 2950 Homework 4\n",
    "\n",
    "For our group time on Friday we will be going through a tutorial on web scraping together. We will not have a separate discussion question.\n",
    "\n",
    "After the initial demonstration the first graded problem will involve scraping a web page. You should expect to complete the first problem within the session time.\n",
    "\n",
    "Get started early! Programming involves getting stuck. You need time to be able to ask questions when you're not sure what's wrong or how to fix it. Give yourself enough time that you can ask for help. **Guideline: if you can't figure out how to do something by yourself in 30 minutes or with another person in 15 minutes, ASK FOR HELP.**\n",
    "\n",
    "You will turn in this notebook without any of the data files. We will not run your code, all cells must be executed and the notebook saved with output included.\n"
   ]
  },
  {
   "cell_type": "markdown",
   "metadata": {
    "id": "-34StO4VWhP6"
   },
   "source": [
    "## What is web scraping?\n",
    "\n",
    "Web scraping is the process of creating structured data frames readable by computers from less-structured web pages that are intended to be read by humans.\n",
    "\n",
    "## Do you need to scrape?\n",
    "\n",
    "Scraping is difficult, error-prone, and may get you in legal or ethical trouble. Always check if the information you are seeking already exists in a nicer format. Many companies also have APIs or other infrastructure dedicated to serving automated requests.\n",
    "\n",
    "## Ethics of scraping\n",
    "\n",
    "Scraping is the aspect of data science most likely to get you into trouble. Legally, there are two main concerns: copyright violation if you are making copies of content that is protected by copyright, and terms-of-service violation. Many sites will also attempt to block scrapers. Acting to avoid these blocks may constitute hacking.\n",
    "\n",
    "In addition to legal problems, there are ethical problems.\n",
    "\n",
    "* Respect other people's hard work. Collecting information for a cool website is difficult and takes a long time and careful preparation. Is it fair to take all that work and use it for your purposes?\n",
    "* Respect other people's businesses. People feed their families by collecting and sharing information, for example through ad revenue. They may be unhappy if they think you are trying to steal their work and prevent them from monetizing it. Websites also sometimes pay for bandwidth and cloud services, and you don't want to take up all their resources for purposes that provide no revenue.\n",
    "* Respect other people's audiences. Don't [DDOS](https://en.wikipedia.org/wiki/Denial-of-service_attack) a website! Keep requests spaced to about 2/second at most. Web hits don't take a lot of resources, but it's easy to flood a site with requests, locking others out.\n",
    "\n",
    "## Process\n",
    "\n",
    "Find a page that contains the info you want. Some older pages are static, but most of what you will see today are views of databases. For example, Amazon has a database of products, Letterboxd has a database of movies, and Netflix has a database of shows. Each page either lists entities in the database or gives information about specific entities.\n",
    "\n",
    "You would prefer to get access directly to the database, and [in some cases you can](https://s3.amazonaws.com/amazon-reviews-pds/readme.html). But for whatever reason sometimes the web page is all you can get. This process can be difficult because web pages are optimized for people to look at, not for computers to operate on. But it is simpler because in this case a computer has to generate a page *from* a database record and a web browser has to know how to display the elements on the page so that humans can read them. These constraints mean that there are regularities in how specific pieces of information are shown in  HTML, and if you can figure them out, you can reverse the page generation process and get back to something that looks more like a database.\n",
    "\n",
    "How do you know which pages to get? Often an index or search result page leads to individual pages with more detailed information.\n",
    "\n",
    "The [`requests`](https://requests.readthedocs.io/en/latest/) library allows you to download files from the web. It is much easier to use than `urllib`. You can use the `requests` library to get information from web pages so that you can save them to files or analyze their data in python.\n",
    "\n",
    "After using `requests` to access web data, you'll use [Beautiful Soup](https://www.crummy.com/software/BeautifulSoup/bs4/doc/) to parse that information, organized in HTML. `BeautifulSoup` makes querying a tree of tags and their attributes much easier than trying to parse HTML from scratch. You'll need to spend some time looking at the target web page and finding the combination of tag names and classes you're interested in, but `BeautifulSoup` can help access that information once you know what you need.\n",
    "\n",
    "\n",
    "## Installation\n",
    "As usual, to use these new modules you'll need to first **install `BeautifulSoup` and `requests` to your virtual environment for this class**. This should be a familiar process by now, but hw0 has instructions for installing new modules if you're uncertain. Only once you've completed that process can successfully you run the next cell of code to load in `requests`, `beautifulsoup4`, and other modules. \n",
    "\n",
    "\n",
    "\n"
   ]
  },
  {
   "cell_type": "code",
   "execution_count": 1,
   "metadata": {
    "id": "KIQy8gAoHZ9_"
   },
   "outputs": [],
   "source": [
    "import requests\n",
    "from bs4 import BeautifulSoup\n",
    "\n",
    "import pandas as pd\n",
    "import numpy as np\n",
    "import time\n",
    "\n",
    "import seaborn as sns\n",
    "from matplotlib import pyplot\n",
    "\n",
    "from sklearn.linear_model import LogisticRegression"
   ]
  },
  {
   "cell_type": "markdown",
   "metadata": {
    "id": "ow9aTWt01xEI"
   },
   "source": [
    "## In-session Example: US News college rankings\n",
    "\n",
    "The TA will show you [this page of college rankings](https://www.usnews.com/best-colleges/rankings/national-universities). The page lists the top national universities according to a variety of university-reported statistics that may or may not be made up (cough COLUMBIA cough).\n",
    "\n",
    "Our goal is to collect information about colleges. The rankings page contains many links that appear in different ways (eg menus, links in text, etc). We want to find the URL that links to more information about Cornell. How can we figure out how to find this link in the HTML?\n",
    "\n",
    "We need to put together clues from the structure of the page and the appearance of elements on the page. Appearance is usually determined by the CSS `style` property. Figuring out how to automatically find values from HTML will involve looking at HTML source, ^F searching for values that you want, and figuring out how to identify styles or containing elements. Modern web pages are long and have lots of complicated elements, many of which do not appear as visible content. Starting from the top of the document and reading through is not recommended.\n",
    "\n",
    "Here are two cached copies of US News pages. These are locally hosted so we don't have hundreds of students hitting US News at the same time. They probably wouldn't notice, but it's more responsible to keep it local."
   ]
  },
  {
   "cell_type": "code",
   "execution_count": 2,
   "metadata": {
    "id": "WIdt_LnDI_np"
   },
   "outputs": [],
   "source": [
    "usnews_url = \"https://mimno.infosci.cornell.edu/USNews/best_national.html\"\n",
    "cornell_url = \"https://mimno.infosci.cornell.edu/USNews/cornell.html\""
   ]
  },
  {
   "cell_type": "markdown",
   "metadata": {
    "id": "KcvxuNR88lq9"
   },
   "source": [
    "The following code does a `GET` request to the web host for the specified filename. HTTP is the protocol used to make web requests. It has a series of \"status codes\" that tell you the result of request. 200 is success. Others you have probably seen: 404 is \"page not found\", 403 is \"you do not have access\". Codes starting with 3-- are often redirects. 500 means there is a bug in the server-side code."
   ]
  },
  {
   "cell_type": "code",
   "execution_count": 3,
   "metadata": {
    "id": "BQDJgvq1nVmu"
   },
   "outputs": [],
   "source": [
    "usnews_result = requests.get(usnews_url)\n",
    "if usnews_result.status_code != 200:\n",
    "  print(\"something went wrong:\", usnews_result.status_code, usnews_result.reason)"
   ]
  },
  {
   "cell_type": "markdown",
   "metadata": {
    "id": "vPZXZnuD2AsW"
   },
   "source": [
    "You're never going to get the analysis of a web page right the first time, so it's good to save a local copy of the HTML source so we don't need to hit the server again."
   ]
  },
  {
   "cell_type": "code",
   "execution_count": 4,
   "metadata": {
    "id": "PFJ4jknengR1"
   },
   "outputs": [],
   "source": [
    "with open(\"best_national.html\", \"w\") as writer:\n",
    "  writer.write(usnews_result.text)"
   ]
  },
  {
   "cell_type": "markdown",
   "metadata": {
    "id": "F_3C4Kvj2NLW"
   },
   "source": [
    "Here we're immediately reading the file again, but you could split these into two separate notebooks, one for downloading, one for analysis."
   ]
  },
  {
   "cell_type": "code",
   "execution_count": 5,
   "metadata": {
    "id": "CTqSm-41ooUM"
   },
   "outputs": [],
   "source": [
    "with open(\"best_national.html\", \"r\") as reader:\n",
    "  html_source = reader.read()"
   ]
  },
  {
   "cell_type": "markdown",
   "metadata": {
    "id": "UwDLHUDO-pKK"
   },
   "source": [
    "There are a lot of things that can go wrong when you are accessing web documents. Get in the habit of constantly adding confidence checks to make sure the state of variables is what you expect it to be."
   ]
  },
  {
   "cell_type": "code",
   "execution_count": 6,
   "metadata": {
    "id": "AMiffI6s1sKF"
   },
   "outputs": [
    {
     "data": {
      "text/plain": [
       "'<!DOCTYPE html>\\n<!-- saved fro'"
      ]
     },
     "execution_count": 6,
     "metadata": {},
     "output_type": "execute_result"
    }
   ],
   "source": [
    "# Make sure this worked\n",
    "html_source[:30]"
   ]
  },
  {
   "cell_type": "markdown",
   "metadata": {
    "id": "fczJGcj19bGU"
   },
   "source": [
    "Here's where we turn the HTML text from a single long string into a searchable tree of tags. Beautiful Soup can support different ways of parsing including XML, here we'll use an HTML parser."
   ]
  },
  {
   "cell_type": "code",
   "execution_count": 7,
   "metadata": {
    "id": "IbpwpaC22Yoz"
   },
   "outputs": [],
   "source": [
    "page = BeautifulSoup(html_source, \"html.parser\")"
   ]
  },
  {
   "cell_type": "markdown",
   "metadata": {
    "id": "szxDwaxq918O"
   },
   "source": [
    "Now that we have a structured document we can ask for specific tags. See the Beautiful Soup documentation linked at the top for more details."
   ]
  },
  {
   "cell_type": "code",
   "execution_count": 8,
   "metadata": {
    "id": "21trTXjB2vRp"
   },
   "outputs": [
    {
     "data": {
      "text/plain": [
       "<title>2022-2023 Best National Universities | US News Rankings</title>"
      ]
     },
     "execution_count": 8,
     "metadata": {},
     "output_type": "execute_result"
    }
   ],
   "source": [
    "page.title"
   ]
  },
  {
   "cell_type": "markdown",
   "metadata": {
    "id": "_ubScxoZ-gEe"
   },
   "source": [
    "We can also find all of the instances of a given tag. We want to find the link that points us to the page where we can find more information about Cornell. What happens if we ask for all the `a` tags?"
   ]
  },
  {
   "cell_type": "code",
   "execution_count": 9,
   "metadata": {
    "id": "tpJzj53725j-"
   },
   "outputs": [
    {
     "name": "stdout",
     "output_type": "stream",
     "text": [
      "there are 454 links on the page\n"
     ]
    },
    {
     "data": {
      "text/plain": [
       "[<a class=\"header__LogoAnchor-sc-1geadoy-1 aBmO\" href=\"https://www.usnews.com/\"><img alt=\"U.S. News and World Report Logo\" height=\"28\" src=\"./2022-2023 Best National Universities _ US News Rankings_files/usn-logo-large.svg\" width=\"110\"/></a>,\n",
       " <a class=\"Anchor-byh49a-0 header__RootAnchor-sc-1geadoy-6 bFVXZb dtsmDg\" href=\"https://www.usnews.com/education\">Education</a>,\n",
       " <a class=\"header__RootNavAnchor-sc-1geadoy-8 inENeF\" data-tracking-campaign=\"Colleges\" data-tracking-id=\"top_nav\" href=\"https://www.usnews.com/best-colleges\">Colleges</a>,\n",
       " <a href=\"https://www.usnews.com/best-colleges/rankings\">Rankings and Directories</a>,\n",
       " <a class=\"item__ItemStyled-ji4pk4-0 fIebHX\" href=\"https://www.usnews.com/best-colleges/rankings/national-universities\">National Universities</a>,\n",
       " <a class=\"item__ItemStyled-ji4pk4-0 fIebHX\" href=\"https://www.usnews.com/best-colleges/rankings/national-liberal-arts-colleges\">National Liberal Arts Colleges</a>,\n",
       " <a class=\"item__ItemStyled-ji4pk4-0 fIebHX\" href=\"https://www.usnews.com/best-colleges/rankings/regional-universities\">Regional Universities</a>,\n",
       " <a class=\"item__ItemStyled-ji4pk4-0 fIebHX\" href=\"https://www.usnews.com/best-colleges/rankings/regional-colleges\">Regional Colleges</a>,\n",
       " <a class=\"item__ItemStyled-ji4pk4-0 fIebHX\" href=\"https://www.usnews.com/best-colleges/rankings/hbcu\">HBCUs</a>,\n",
       " <a class=\"item__ItemStyled-ji4pk4-0 fIebHX\" href=\"https://www.usnews.com/education/community-colleges\">Community Colleges</a>,\n",
       " <a class=\"item__ItemStyled-ji4pk4-0 fIebHX\" href=\"https://www.usnews.com/best-colleges/rankings\">All Rankings</a>,\n",
       " <a class=\"item__ItemStyled-ji4pk4-0 fIebHX\" href=\"https://www.usnews.com/best-colleges/admissions-calculator\">College Admissions Calculator</a>,\n",
       " <a class=\"item__ItemStyled-ji4pk4-0 fIebHX\" href=\"https://www.usnews.com/best-colleges/compare\">Compare Colleges</a>,\n",
       " <a class=\"item__ItemStyled-ji4pk4-0 fIebHX\" href=\"https://www.usnews.com/best-colleges/college-major-quiz\">College Major Quiz</a>,\n",
       " <a class=\"item__ItemStyled-ji4pk4-0 fIebHX\" href=\"https://www.usnews.com/best-colleges/college-search\">College Search</a>,\n",
       " <a class=\"item__ItemStyled-ji4pk4-0 fIebHX\" href=\"https://www.usnews.com/education/scholarship-search\">Scholarship Search</a>,\n",
       " <a href=\"https://www.usnews.com/education/best-colleges/advice\">Advice</a>,\n",
       " <a class=\"item__ItemStyled-ji4pk4-0 fIebHX\" href=\"https://www.usnews.com/education/best-colleges/college-majors\">College Majors</a>,\n",
       " <a class=\"item__ItemStyled-ji4pk4-0 fIebHX\" href=\"https://www.usnews.com/education/best-colleges/right-school\">Finding the Right School</a>,\n",
       " <a class=\"item__ItemStyled-ji4pk4-0 fIebHX\" href=\"https://www.usnews.com/education/best-colleges/apply-to-college\">Apply to College</a>]"
      ]
     },
     "execution_count": 9,
     "metadata": {},
     "output_type": "execute_result"
    }
   ],
   "source": [
    "links = page.find_all(\"a\")\n",
    "print(\"there are\", len(links), \"links on the page\")\n",
    "links[:20]"
   ]
  },
  {
   "cell_type": "markdown",
   "metadata": {
    "id": "XvAvMpv03Jhg"
   },
   "source": [
    "Whoa, that's too much! Most of these links seem to be navigation links in header menus.\n",
    "\n",
    "Let's be more specific. Viewing the source, we can search for an interesting string (like \"Cornell\") and look at the HTML around it.\n",
    "\n",
    "It seems to be oriented around \"cards\" for each college.\n",
    "\n",
    "Inspecting the HTML we find a `div` associated with Cornell with a number of class styles. The most promising one says `detail-card-colleges`. Here's how to find all of the divs with this style."
   ]
  },
  {
   "cell_type": "code",
   "execution_count": 10,
   "metadata": {
    "id": "epkaRtyz3Irp"
   },
   "outputs": [
    {
     "name": "stdout",
     "output_type": "stream",
     "text": [
      "40\n",
      "<div class=\"Box-w0dun1-0 DetailCardColleges__CardContainer-cecerc-0 kueIOo cZokCp detail-card-colleges detail-card-colleges\" id=\"2711\" name=\"Cornell University\" spacing=\"4\"><a class=\"Anchor-byh49a-0 PlBer DetailCardColleges__ImageContainer-cecerc-2 ThuBx\" href=\"https://www.usnews.com/best-colleges/cornell-university-2711#photo-strip\"><picture class=\"Image__Picture-sc-412cjc-0\"><source data-srcset=\"https://www.usnews.com/dims4/USNEWS/375ba3e/17177859217/thumbnail/420x420/quality/85/?url=https%3A%2F%2Fmedia.beam.usnews.com%2F59%2F0dd395ffda36a08c792a2b32303c7b%2Fcollege-photo_73.jpg\" media=\"(min-width: 1024px)\" srcset=\"https://www.usnews.com/dims4/USNEWS/375ba3e/17177859217/thumbnail/420x420/quality/85/?url=https%3A%2F%2Fmedia.beam.usnews.com%2F59%2F0dd395ffda36a08c792a2b32303c7b%2Fcollege-photo_73.jpg\"/><source data-srcset=\"https://www.usnews.com/dims4/USNEWS/3ba42b1/17177859217/thumbnail/336x336/quality/85/?url=https%3A%2F%2Fmedia.beam.usnews.com%2F59%2F0dd395ffda36a08c792a2b32303c7b%2Fcollege-photo_73.jpg\" media=\"(min-width: 640px)\" srcset=\"https://www.usnews.com/dims4/USNEWS/3ba42b1/17177859217/thumbnail/336x336/quality/85/?url=https%3A%2F%2Fmedia.beam.usnews.com%2F59%2F0dd395ffda36a08c792a2b32303c7b%2Fcollege-photo_73.jpg\"/><img class=\"Image__PictureImage-sc-412cjc-1 gBOJbW Image-sc-412cjc-2 DetailCardColleges__CardImage-cecerc-3 kQDDcT hkNnQR card-image\" src=\"./2022-2023 Best National Universities _ US News Rankings_files/saved_resource(16)\"/></picture><div class=\"DetailCardColleges__ImageCaption-cecerc-4 gEFWJT\">View all 5 photos</div></a><div class=\"Box-w0dun1-0 DetailCardColleges__TextContainer-cecerc-5 dWWnRo eAgzgd\"><div class=\"Box-w0dun1-0 DetailCardColleges__CardOverview-cecerc-7 dWWnRo fgUTrR\"><div class=\"Box-w0dun1-0 ggHDDx\" spacing=\"2\"><h3 class=\"Heading-sc-1w5xk2o-0 fOQLJm\"><a class=\"Anchor-byh49a-0 DetailCardColleges__StyledAnchor-cecerc-8 PlBer efWQzA card-name\" href=\"https://www.usnews.com/best-colleges/cornell-university-2711\">Cornell University</a></h3><p class=\"Paragraph-sc-1iyax29-0 pyUjv\">Ithaca, NY</p></div><div class=\"Box-w0dun1-0 doGngp\" spacing=\"3\"><ul class=\"RankList__List-sc-2xewen-0 ciVlaM DetailCardColleges__StyledRankList-cecerc-9 fCgSMB\" font-size=\"4\" spacing=\"0\"><li class=\"RankList__ListItem-sc-2xewen-1 dofuo rank-list-item\"><a class=\"RankList__RankLink-sc-2xewen-3 jHTFDg has-badge\"><div class=\"RankList__Rank-sc-2xewen-2 fxzjOx ranked has-badge\"><strong>#17</strong></div><span class=\"in\">in </span><strong>National Universities</strong></a></li></ul><div class=\"flex\"><div aria-label=\"4.92 out of 5\" class=\"Box-w0dun1-0 Rating__Container-sc-1naeqqj-0 fwvgzM eRZspG Rating-sc-1naeqqj-2 kiGUEr Rating-sc-1naeqqj-2 kiGUEr\" spacing=\"0\"><svg class=\"Rating__IconSvg-sc-1naeqqj-1 JKGGh\" fill=\"#1263D3\" stroke=\"#1263D3\"><use xlink:href=\"#star\"></use></svg><svg class=\"Rating__IconSvg-sc-1naeqqj-1 JKGGh\" fill=\"#1263D3\" stroke=\"#1263D3\"><use xlink:href=\"#star\"></use></svg><svg class=\"Rating__IconSvg-sc-1naeqqj-1 JKGGh\" fill=\"#1263D3\" stroke=\"#1263D3\"><use xlink:href=\"#star\"></use></svg><svg class=\"Rating__IconSvg-sc-1naeqqj-1 JKGGh\" fill=\"#1263D3\" stroke=\"#1263D3\"><use xlink:href=\"#star\"></use></svg><svg class=\"Rating__IconSvg-sc-1naeqqj-1 JKGGh\" fill=\"url(#900b7035-27a0-443a-b567-52c1875e3916)\" stroke=\"#1263D3\"><use xlink:href=\"#star\"></use><defs><lineargradient id=\"900b7035-27a0-443a-b567-52c1875e3916\" x1=\"0%\" x2=\"100%\" y1=\"0%\" y2=\"0%\"><stop offset=\"0%\" stop-color=\"#1263D3\"></stop><stop offset=\"92%\" stop-color=\"#1263D3\"></stop><stop offset=\"92%\" stop-color=\"#ffffff\"></stop><stop offset=\"100%\" stop-color=\"#ffffff\"></stop></lineargradient></defs></svg><a class=\"Anchor-byh49a-0 hkqDVB ml2\" href=\"https://www.usnews.com/best-colleges/cornell-university-2711/reviews\">24 reviews</a></div><span class=\"Span-sc-19wk4id-0 lCyXL\" size=\"4\" style=\"line-height: 0; cursor: pointer;\" tabindex=\"0\"><svg class=\"Icon-sc-9wq8ul-0 Tooltip__TooltipIcon-gfkrkc-0 hiHdJZ mmMeU\" fill=\"#6F7480\" height=\"1.5rem\" role=\"img\" width=\"1.5rem\"><use filter=\"0\" xlink:href=\"#help\"></use></svg></span></div></div><div class=\"MultilineEllipsis__Container-sc-1hoyc1r-5 cEYJIw Hide-kg09cx-0 hWOBmI\" id=\"ellipsis-container\" size=\"3\" spacing=\"0\"><div class=\"MultilineEllipsis__HeightRestriction-sc-1hoyc1r-6 hpOjWM\" size=\"3\" spacing=\"0\"><div class=\"MultilineEllipsis__ContentSizedContainer-sc-1hoyc1r-7 cEohUC\"><p class=\"Paragraph-sc-1iyax29-0 lbGMQc\">Cornell University, a private school in Ithaca, New York, has 14 colleges and schools. Each admits its own students, though every graduate receives a degree from Cornell University. The university has more than 1,000 student organizations on campus.</p><div class=\"MultilineEllipsis__FullHeightReferenceWrapper-sc-1hoyc1r-4 bTPBIi\"><p class=\"Paragraph-sc-1iyax29-0 lbGMQc\">Cornell University, a private school in Ithaca, New York, has 14 colleges and schools. Each admits its own students, though every graduate receives a degree from Cornell University. The university has more than 1,000 student organizations on campus.</p></div></div></div><div><a class=\"Anchor-byh49a-0 deBdCQ MultilineEllipsis__ReadMore-sc-1hoyc1r-3 JzQgR DetailCardColleges__ReadMore-cecerc-6 cSDAhw card-more\" href=\"https://www.usnews.com/best-colleges/cornell-university-2711\">Read More »</a></div></div></div><div class=\"Box-w0dun1-0 DetailCardColleges__CardStats-cecerc-10 dWWnRo iRnvhB\"><div class=\"Box-w0dun1-0 QuickStatHug__Container-hb1bl8-0 dWWnRo fkvuin QuickStatHug-hb1bl8-2 fyaies QuickStatHug-hb1bl8-2 fyaies\"><dl><div><dt class=\"label-wrapper\">Tuition and Fees</dt><dd class=\"QuickStatHug__Description-hb1bl8-1 eXguFl\">$63,200</dd><dt class=\"short-label-wrapper\">Tuition</dt></div></dl></div><div class=\"Box-w0dun1-0 QuickStatHug__Container-hb1bl8-0 dWWnRo fkvuin QuickStatHug-hb1bl8-2 fyaies QuickStatHug-hb1bl8-2 fyaies\"><dl><div><dt class=\"label-wrapper\">Undergraduate Enrollment</dt><dd class=\"QuickStatHug__Description-hb1bl8-1 eXguFl\">15,503<p class=\"Paragraph-sc-1iyax29-0 iSRbGf subtext-wrapper\">(fall 2021)</p></dd><dt class=\"short-label-wrapper\">Undergraduate Enrollment</dt></div></dl></div><h4 class=\"Heading-sc-1w5xk2o-0 LockedQuickStatHug__QuickStatLabel-l5tgdb-0 gyvROa fzCrLl\">SAT, GPA and More</h4><a class=\"Anchor-byh49a-0 LockedQuickStatHug__UnlockLink-l5tgdb-1 PlBer fekosD card-unlock\" data-tracking-apply-int-code=\"false\" data-tracking-campaign=\"compass_unlock\" data-tracking-id=\"compass_tracking_click\" data-tracking-placement=\"col_compass_searchranking_cardrail\" data-tracking-trigger-utag-link-event=\"true\" href=\"https://www.usnews.com/usnews/store/college_compass?src=web:col_compass:na:ranking_card_satgpa:20171003&amp;ref=https://www.usnews.com/best-colleges/rankings/national-universities\"><svg class=\"Icon-sc-9wq8ul-0 LockedQuickStatHug__UnlockIcon-l5tgdb-2 hiHdJZ domQkS\" fill=\"#1A1D26\" height=\"1.5rem\" role=\"img\" width=\"1.5rem\"><use filter=\"0\" xlink:href=\"#lock\"></use></svg><span class=\"Span-sc-19wk4id-0 LockedQuickStatHug__UnlockText-l5tgdb-3 lCyXL jTpAoh\" size=\"4\">Unlock SAT, GPA and More</span><span class=\"Span-sc-19wk4id-0 LockedQuickStatHug__UnlockText-l5tgdb-3 lCyXL kVPQKD\" size=\"4\">Unlock with Compass</span></a></div></div><div class=\"Box-w0dun1-0 DetailCardColleges__ActionContainer-cecerc-11 dWWnRo hNwuOy\"><div class=\"Box-w0dun1-0 dWWnRo DetailCardColleges__CompareCheckbox-cecerc-12 jLaLuy card-compare DetailCardColleges__CompareCheckbox-cecerc-12 jLaLuy card-compare\"><span class=\"input__Container-sc-1ie8rf0-0 cUXzSP\"><label class=\"input__Label-sc-1ie8rf0-5 btFngc size-small\"><input class=\"input__InputHidden-sc-1ie8rf0-6 dwcSGY\" name=\"compare-190415\" type=\"checkbox\" value=\"190415\"/><span class=\"input__Control-sc-1ie8rf0-1 cJxiOx\"><svg viewbox=\"0 0 100 100\"><path d=\"M12.1 52.1l24.4 24.4 53-53\" fill=\"none\" stroke-linecap=\"round\" stroke-linejoin=\"round\" stroke-miterlimit=\"10\" stroke-width=\"13\"></path></svg></span><span class=\"input__LabelSpan-sc-1ie8rf0-2 kDEaWM\"><span><span class=\"Span-sc-19wk4id-0 dDrKMw sm-hide\" size=\"3\">Add To Compare</span><span class=\"Span-sc-19wk4id-0 dDrKMw md-hide lg-hide\" size=\"3\">Compare</span></span></span></label></span></div><button background=\"white\" border=\"#9297A1\" class=\"Button__ButtonDeprecated-suns4m-1 DetailCardColleges__SaveButton-cecerc-13 fEpbOi card-save\" data-tracking-apply-int-code=\"false\" data-tracking-campaign=\"edu_save_cta_click\" data-tracking-id=\"edu_save_tracking\" data-tracking-placement=\"edu_save_cta_rankingcard\" data-tracking-trigger-utag-link-event=\"true\"><div class=\"button-content\"><svg class=\"Icon-sc-9wq8ul-0 hiHdJZ\" fill=\"#fff\" height=\"1.125rem\" role=\"img\" width=\"1.125rem\"><use filter=\"0\" xlink:href=\"#banner\"></use></svg>Save to My Schools</div></button></div></div>\n",
      "Cornell University\n"
     ]
    }
   ],
   "source": [
    "college_cards = page.find_all(\"div\", {\"class\": \"detail-card-colleges\"})\n",
    "print(len(college_cards))\n",
    "print(college_cards[16])\n",
    "print(college_cards[16][\"name\"])"
   ]
  },
  {
   "cell_type": "markdown",
   "metadata": {
    "id": "7JEHNmve4ST4"
   },
   "source": [
    "A common pattern for scraping is that you have a single page that lists links to other pages. Let's find the link to the page with more information about Cornell.\n",
    "\n",
    "Previously we have been searching the entire DOM tree, but we can also start with a specific element. The number of links just within the Cornell card `div` is more manageable.\n",
    "\n",
    "The class `card-name` seems promising! "
   ]
  },
  {
   "cell_type": "code",
   "execution_count": 11,
   "metadata": {
    "id": "zet-QiPi3r_i"
   },
   "outputs": [
    {
     "data": {
      "text/plain": [
       "[<a class=\"Anchor-byh49a-0 PlBer DetailCardColleges__ImageContainer-cecerc-2 ThuBx\" href=\"https://www.usnews.com/best-colleges/cornell-university-2711#photo-strip\"><picture class=\"Image__Picture-sc-412cjc-0\"><source data-srcset=\"https://www.usnews.com/dims4/USNEWS/375ba3e/17177859217/thumbnail/420x420/quality/85/?url=https%3A%2F%2Fmedia.beam.usnews.com%2F59%2F0dd395ffda36a08c792a2b32303c7b%2Fcollege-photo_73.jpg\" media=\"(min-width: 1024px)\" srcset=\"https://www.usnews.com/dims4/USNEWS/375ba3e/17177859217/thumbnail/420x420/quality/85/?url=https%3A%2F%2Fmedia.beam.usnews.com%2F59%2F0dd395ffda36a08c792a2b32303c7b%2Fcollege-photo_73.jpg\"/><source data-srcset=\"https://www.usnews.com/dims4/USNEWS/3ba42b1/17177859217/thumbnail/336x336/quality/85/?url=https%3A%2F%2Fmedia.beam.usnews.com%2F59%2F0dd395ffda36a08c792a2b32303c7b%2Fcollege-photo_73.jpg\" media=\"(min-width: 640px)\" srcset=\"https://www.usnews.com/dims4/USNEWS/3ba42b1/17177859217/thumbnail/336x336/quality/85/?url=https%3A%2F%2Fmedia.beam.usnews.com%2F59%2F0dd395ffda36a08c792a2b32303c7b%2Fcollege-photo_73.jpg\"/><img class=\"Image__PictureImage-sc-412cjc-1 gBOJbW Image-sc-412cjc-2 DetailCardColleges__CardImage-cecerc-3 kQDDcT hkNnQR card-image\" src=\"./2022-2023 Best National Universities _ US News Rankings_files/saved_resource(16)\"/></picture><div class=\"DetailCardColleges__ImageCaption-cecerc-4 gEFWJT\">View all 5 photos</div></a>,\n",
       " <a class=\"Anchor-byh49a-0 DetailCardColleges__StyledAnchor-cecerc-8 PlBer efWQzA card-name\" href=\"https://www.usnews.com/best-colleges/cornell-university-2711\">Cornell University</a>,\n",
       " <a class=\"RankList__RankLink-sc-2xewen-3 jHTFDg has-badge\"><div class=\"RankList__Rank-sc-2xewen-2 fxzjOx ranked has-badge\"><strong>#17</strong></div><span class=\"in\">in </span><strong>National Universities</strong></a>,\n",
       " <a class=\"Anchor-byh49a-0 hkqDVB ml2\" href=\"https://www.usnews.com/best-colleges/cornell-university-2711/reviews\">24 reviews</a>,\n",
       " <a class=\"Anchor-byh49a-0 deBdCQ MultilineEllipsis__ReadMore-sc-1hoyc1r-3 JzQgR DetailCardColleges__ReadMore-cecerc-6 cSDAhw card-more\" href=\"https://www.usnews.com/best-colleges/cornell-university-2711\">Read More »</a>,\n",
       " <a class=\"Anchor-byh49a-0 LockedQuickStatHug__UnlockLink-l5tgdb-1 PlBer fekosD card-unlock\" data-tracking-apply-int-code=\"false\" data-tracking-campaign=\"compass_unlock\" data-tracking-id=\"compass_tracking_click\" data-tracking-placement=\"col_compass_searchranking_cardrail\" data-tracking-trigger-utag-link-event=\"true\" href=\"https://www.usnews.com/usnews/store/college_compass?src=web:col_compass:na:ranking_card_satgpa:20171003&amp;ref=https://www.usnews.com/best-colleges/rankings/national-universities\"><svg class=\"Icon-sc-9wq8ul-0 LockedQuickStatHug__UnlockIcon-l5tgdb-2 hiHdJZ domQkS\" fill=\"#1A1D26\" height=\"1.5rem\" role=\"img\" width=\"1.5rem\"><use filter=\"0\" xlink:href=\"#lock\"></use></svg><span class=\"Span-sc-19wk4id-0 LockedQuickStatHug__UnlockText-l5tgdb-3 lCyXL jTpAoh\" size=\"4\">Unlock SAT, GPA and More</span><span class=\"Span-sc-19wk4id-0 LockedQuickStatHug__UnlockText-l5tgdb-3 lCyXL kVPQKD\" size=\"4\">Unlock with Compass</span></a>]"
      ]
     },
     "execution_count": 11,
     "metadata": {},
     "output_type": "execute_result"
    }
   ],
   "source": [
    "cornell = college_cards[16]\n",
    "\n",
    "cornell.find_all(\"a\")"
   ]
  },
  {
   "cell_type": "markdown",
   "metadata": {
    "id": "5iI5920jCT3T"
   },
   "source": [
    "Once we find a tag, we can also access attributes of the tag, like the URL target of a link or the text contained within the tag."
   ]
  },
  {
   "cell_type": "code",
   "execution_count": 12,
   "metadata": {
    "id": "Yfdkt4cJ5TOz"
   },
   "outputs": [
    {
     "name": "stdout",
     "output_type": "stream",
     "text": [
      "Princeton University https://www.usnews.com/best-colleges/princeton-university-2627\n",
      "Massachusetts Institute of Technology https://www.usnews.com/best-colleges/massachusetts-institute-of-technology-2178\n",
      "Harvard University https://www.usnews.com/best-colleges/harvard-university-2155\n",
      "Stanford University https://www.usnews.com/best-colleges/stanford-university-1305\n",
      "Yale University https://www.usnews.com/best-colleges/yale-university-1426\n",
      "University of Chicago https://www.usnews.com/best-colleges/university-of-chicago-1774\n",
      "Johns Hopkins University https://www.usnews.com/best-colleges/jhu-2077\n",
      "University of Pennsylvania https://www.usnews.com/best-colleges/university-of-pennsylvania-3378\n",
      "California Institute of Technology https://www.usnews.com/best-colleges/california-institute-of-technology-1131\n",
      "Duke University https://www.usnews.com/best-colleges/duke-university-2920\n",
      "Northwestern University https://www.usnews.com/best-colleges/northwestern-university-1739\n",
      "Dartmouth College https://www.usnews.com/best-colleges/dartmouth-college-2573\n",
      "Brown University https://www.usnews.com/best-colleges/brown-university-3401\n",
      "Vanderbilt University https://www.usnews.com/best-colleges/vanderbilt-3535\n",
      "Rice University https://www.usnews.com/best-colleges/rice-3604\n",
      "Washington University in St. Louis https://www.usnews.com/best-colleges/washington-university-in-st-louis-2520\n",
      "Cornell University https://www.usnews.com/best-colleges/cornell-university-2711\n",
      "Columbia University https://www.usnews.com/best-colleges/columbia-university-2707\n",
      "University of Notre Dame https://www.usnews.com/best-colleges/university-of-notre-dame-1840\n",
      "University of California, Berkeley https://www.usnews.com/best-colleges/university-of-california-berkeley-1312\n",
      "University of California, Los Angeles https://www.usnews.com/best-colleges/ucla-1315\n",
      "Carnegie Mellon University https://www.usnews.com/best-colleges/carnegie-mellon-university-3242\n",
      "Emory University https://www.usnews.com/best-colleges/emory-university-1564\n",
      "Georgetown University https://www.usnews.com/best-colleges/georgetown-university-1445\n",
      "New York University https://www.usnews.com/best-colleges/nyu-2785\n",
      "University of Michigan--Ann Arbor https://www.usnews.com/best-colleges/university-of-michigan-ann-arbor-9092\n",
      "University of Southern California https://www.usnews.com/best-colleges/university-of-southern-california-1328\n",
      "University of Virginia https://www.usnews.com/best-colleges/uva-6968\n",
      "University of Florida https://www.usnews.com/best-colleges/university-of-florida-1535\n",
      "University of North Carolina at Chapel Hill https://www.usnews.com/best-colleges/unc-2974\n",
      "Wake Forest University https://www.usnews.com/best-colleges/wake-forest-2978\n",
      "Tufts University https://www.usnews.com/best-colleges/tufts-university-2219\n",
      "University of California, Santa Barbara https://www.usnews.com/best-colleges/university-of-california-santa-barbara-1320\n",
      "University of California, Irvine https://www.usnews.com/best-colleges/university-of-california-irvine-1314\n",
      "University of California, San Diego https://www.usnews.com/best-colleges/university-of-california-san-diego-1317\n",
      "Boston College https://www.usnews.com/best-colleges/boston-college-2128\n",
      "University of Rochester https://www.usnews.com/best-colleges/university-of-rochester-2894\n",
      "University of California, Davis https://www.usnews.com/best-colleges/university-of-california-davis-1313\n",
      "University of Texas at Austin https://www.usnews.com/best-colleges/university-of-texas-at-austin-3658\n",
      "University of Wisconsin--Madison https://www.usnews.com/best-colleges/university-of-wisconsin-3895\n"
     ]
    }
   ],
   "source": [
    "for college in college_cards:\n",
    "  title_link = college.find(\"a\", {\"class\": \"card-name\"})\n",
    "  print(title_link.text, title_link[\"href\"])"
   ]
  },
  {
   "cell_type": "markdown",
   "metadata": {
    "deletable": false,
    "editable": false,
    "problem": 1
   },
   "source": [
    "\n",
    "With these links, we could repeat the process and go scrape each university's page. *Please don't do that*.\n",
    "\n",
    "## Problem 1 (15 points)\n",
    "\n",
    "\n",
    "The variable `cornell_url` above links to a cached copy of the [Cornell page](https://www.usnews.com/best-colleges/cornell-university-2711). Take some time to inspect the HTML of the page, and then load it, create a Beautiful Soup object, and find some information about Cornell.\n",
    "\n",
    "Notice the table of data **General Information** with information about Cornell's founding, setting, and academic year. Use `BeautifulSoup` and `requests` to scrape this data and format it as a data frame with one column for the categories of information (e.g., \"School Type\") and another for the Cornell-specific value (e.g., \"Private, Coed\"). \n",
    "\n",
    "Print out this data frame. \n",
    "\n",
    "**Hint: class names are not always meaningful strings like `card-name`.** You'll also notice that bottom right value (the website link). Is different from the other values. You'll need to use a slightly different tag class/name to get this tag. You should save the website's URL (not the word \"Website\"). \n",
    "\n"
   ]
  },
  {
   "cell_type": "code",
   "execution_count": 13,
   "metadata": {
    "id": "sRFhSY7BBvYp"
   },
   "outputs": [
    {
     "name": "stdout",
     "output_type": "stream",
     "text": [
      "                 details              information\n",
      "0            School Type            Private, Coed\n",
      "1           Year Founded                     1865\n",
      "2  Religious Affiliation                     None\n",
      "3      Academic Calendar                 Semester\n",
      "4                Setting                    Rural\n",
      "5                  Phone           (607) 255-2000\n",
      "6         School Website  http://www.cornell.edu/\n"
     ]
    },
    {
     "data": {
      "text/html": [
       "<div>\n",
       "<style scoped>\n",
       "    .dataframe tbody tr th:only-of-type {\n",
       "        vertical-align: middle;\n",
       "    }\n",
       "\n",
       "    .dataframe tbody tr th {\n",
       "        vertical-align: top;\n",
       "    }\n",
       "\n",
       "    .dataframe thead th {\n",
       "        text-align: right;\n",
       "    }\n",
       "</style>\n",
       "<table border=\"1\" class=\"dataframe\">\n",
       "  <thead>\n",
       "    <tr style=\"text-align: right;\">\n",
       "      <th></th>\n",
       "      <th>details</th>\n",
       "      <th>information</th>\n",
       "    </tr>\n",
       "  </thead>\n",
       "  <tbody>\n",
       "    <tr>\n",
       "      <th>0</th>\n",
       "      <td>School Type</td>\n",
       "      <td>Private, Coed</td>\n",
       "    </tr>\n",
       "    <tr>\n",
       "      <th>1</th>\n",
       "      <td>Year Founded</td>\n",
       "      <td>1865</td>\n",
       "    </tr>\n",
       "    <tr>\n",
       "      <th>2</th>\n",
       "      <td>Religious Affiliation</td>\n",
       "      <td>None</td>\n",
       "    </tr>\n",
       "    <tr>\n",
       "      <th>3</th>\n",
       "      <td>Academic Calendar</td>\n",
       "      <td>Semester</td>\n",
       "    </tr>\n",
       "    <tr>\n",
       "      <th>4</th>\n",
       "      <td>Setting</td>\n",
       "      <td>Rural</td>\n",
       "    </tr>\n",
       "    <tr>\n",
       "      <th>5</th>\n",
       "      <td>Phone</td>\n",
       "      <td>(607) 255-2000</td>\n",
       "    </tr>\n",
       "    <tr>\n",
       "      <th>6</th>\n",
       "      <td>School Website</td>\n",
       "      <td>http://www.cornell.edu/</td>\n",
       "    </tr>\n",
       "  </tbody>\n",
       "</table>\n",
       "</div>"
      ],
      "text/plain": [
       "                 details              information\n",
       "0            School Type            Private, Coed\n",
       "1           Year Founded                     1865\n",
       "2  Religious Affiliation                     None\n",
       "3      Academic Calendar                 Semester\n",
       "4                Setting                    Rural\n",
       "5                  Phone           (607) 255-2000\n",
       "6         School Website  http://www.cornell.edu/"
      ]
     },
     "execution_count": 13,
     "metadata": {},
     "output_type": "execute_result"
    }
   ],
   "source": [
    "# Code goes here\n",
    "\n",
    "# load cornell_url (from office hours)\n",
    "cornell_page = requests.get(cornell_url)\n",
    "cornell_html = cornell_page.text\n",
    "cornell_html[:30] \n",
    "#create beautiful soup object \n",
    "\n",
    "page = BeautifulSoup(cornell_html, \"html.parser\")\n",
    "page.title\n",
    "cornell_links = page.find_all(\"p\", {\"class\": \"Paragraph-sc-1iyax29-0 lbGMQc\"})\n",
    "looping = [looping.text for looping in cornell_links]\n",
    "\n",
    "link2 = page.find_all(\"p\", {\"class\": \"Paragraph-sc-1iyax29-0 clmBuI\"})\n",
    "looping2 = [looping.text for looping in link2]\n",
    "looping2.append(page.find(\"a\", {\"class\": \"optly-school-website\"})[\"href\"])\n",
    "\n",
    "cornell_information = {\"details\": looping, \"information\": looping2}\n",
    "cornelldf = pd.DataFrame(cornell_information)\n",
    "\n",
    "print(cornelldf) \n",
    "cornelldf\n",
    "\n"
   ]
  },
  {
   "cell_type": "markdown",
   "metadata": {
    "deletable": false,
    "editable": false,
    "problem": 2
   },
   "source": [
    "## Problem 2 (20 points)\n",
    "\n",
    "Select a page from the web, extract some information from it/them and convert this information into a data frame. Create a visualization of this data frame.\n",
    "\n",
    "As a suggestion, you may use the [Wikipedia page for Tompkins County, NY](https://en.wikipedia.org/wiki/Tompkins_County,_New_York).\n",
    "\n",
    "Keep a log of how you chose the page (if you do not use the suggested page), what you had to do to extract information from it, and any challenges you faced and how you overcame them. Mention any people or web pages that you consulted or benefitted from."
   ]
  },
  {
   "cell_type": "markdown",
   "metadata": {
    "id": "o5q0LwwG5UP_"
   },
   "source": [
    "**Keep your log notes here.**\n",
    "\n",
    "I'm going to try do scrape from the tompkins county wikipedia page. \n",
    "\n",
    "I used this function to just get miles squared: \n",
    "https://stackoverflow.com/questions/8865878/skipping-every-other-element-after-the-first"
   ]
  },
  {
   "cell_type": "code",
   "execution_count": 14,
   "metadata": {
    "id": "g_R-iUAq5T60"
   },
   "outputs": [
    {
     "name": "stdout",
     "output_type": "stream",
     "text": [
      "    area in square miles  population\n",
      "0                   6.07       32108\n",
      "1                   6.00        7245\n",
      "2                   1.77        4114\n",
      "3                   4.63        3648\n",
      "4                   1.80        3175\n",
      "5                   1.50        2701\n",
      "6                   3.60        2231\n",
      "7                   1.74        2145\n",
      "8                   1.77        1887\n",
      "9                   1.39        1714\n",
      "10                  0.30        1168\n",
      "11                  2.80        1078\n",
      "12                  0.71         767\n",
      "13                  1.20         725\n",
      "14                  3.60         516\n",
      "15                  3.46         506\n",
      "16                  1.09         498\n",
      "17                  0.23         378\n",
      "18                  0.24         261\n",
      "19                  1.36         211\n",
      "20                  0.26         208\n",
      "AxesSubplot(0.125,0.125;0.775x0.755)\n"
     ]
    },
    {
     "data": {
      "image/png": "[encoded data removed]",
      "text/plain": [
       "<Figure size 432x288 with 1 Axes>"
      ]
     },
     "metadata": {
      "needs_background": "light"
     },
     "output_type": "display_data"
    }
   ],
   "source": [
    "# Code goes here\n",
    "\n",
    "tompkins_url = \"https://en.wikipedia.org/wiki/Tompkins_County,_New_York\"\n",
    "tpage = requests.get(tompkins_url)\n",
    "thtml = tpage.text\n",
    "page = BeautifulSoup(thtml, \"html.parser\")\n",
    "\n",
    "page.title\n",
    "\n",
    "#tcategories = ''\n",
    "\n",
    "tcoordinates = page.find_all(\"span\", {\"class\": \"latitude\"})\n",
    "looping = [looping.text for looping in tcoordinates]\n",
    "x = [x.text for x in tcoordinates]\n",
    "#looping.drop([0]) \n",
    "# print((looping)) \n",
    "# print(len(looping)) \n",
    "\n",
    "tpop= page.find_all(\"td\", {\"align\": \"right\"})\n",
    "looping2 = [looping2.text for looping2 in tpop]\n",
    "y = [y.text for y in tpop]\n",
    "\n",
    "loop2=[]\n",
    "# print((looping2)) \n",
    "\n",
    "for x in looping2: \n",
    "    x = int(x.replace(',', ''))\n",
    "    loop2.append(x) \n",
    "\n",
    "def altElement(a):\n",
    "    return a[::2]\n",
    "\n",
    "tarea= page.find_all(\"td\", {\"style\" : \"text-align:right;\"}) \n",
    "\n",
    "tarea2 = (altElement(tarea)) \n",
    "looping3 = [looping3.text for looping3 in tarea2]\n",
    "loop3=[]\n",
    "\n",
    "for x in looping3 : \n",
    "    x=x[:-1]\n",
    "    x=float(x) \n",
    "    loop3.append(x) \n",
    "\n",
    "# print((looping3)) \n",
    "\n",
    "# print((looping3)) \n",
    "\n",
    "# print(len(looping3)) \n",
    "\n",
    "# <td style=\"text-align:right;\" data-sort-value=\"7006466197859860480\">1.8\n",
    "# </td>\n",
    "\n",
    "\n",
    "data = {\"area in square miles\":loop3, \"population\": loop2 }\n",
    "datadf = pd.DataFrame(data)\n",
    "print(datadf) \n",
    "\n",
    "#print (looping)\n",
    "\n",
    "#make a graph\n",
    "\n",
    "\n",
    "print(sns.regplot(data=datadf, x=loop3, y=loop2) ) \n",
    "\n",
    "\n",
    "\n"
   ]
  },
  {
   "cell_type": "markdown",
   "metadata": {
    "deletable": false,
    "editable": false,
    "problem": 3
   },
   "source": [
    "## Problem 3 (12 points)\n",
    "\n",
    "In class we mentioned that there are four combinations of logs for inputs and outputs (assume that $\\log(x) = \\ln(x)$):\n",
    "\n",
    "1. $y_i = \\alpha + \\beta x_i + \\epsilon_i$\n",
    "1. $y_i = \\alpha + \\beta \\log(x_i) + \\epsilon_i$\n",
    "1. $\\log(y_i) = \\alpha + \\beta x_i + \\epsilon_i$ or equivalently $y_i = e^{\\alpha + \\beta x_i + \\epsilon_i}$\n",
    "1. $\\log(y_i) = \\alpha + \\beta \\log(x_i) + \\epsilon_i$ or equivalently $y_i = e^{\\alpha + \\beta \\log(x_i) + \\epsilon_i}$\n",
    "\n",
    "Match these equations to the following statements. Remember that $e^{λ + μ} = e^\\lambda e^\\mu$. Explain each answer.\n",
    "\n",
    "*  if you multiply $x$ by $e\\ (≈ 2.7)$, we expect $y$ to change by $\\beta$\n",
    "* if you increase $x$ by 1, we expect $y$ to change by a factor of $e^\\beta$\n",
    "* if you increase $x$ by 1, we expect $y$ to change by $\\beta$\n",
    "* if you multiply $x$ by $e\\ (≈ 2.7)$, we expect $y$ to change by a factor of $e^\\beta$"
   ]
  },
  {
   "cell_type": "markdown",
   "metadata": {
    "id": "Aa8WmOhmjrIF"
   },
   "source": [
    "**Match each equation with its description here.**\n",
    "\n",
    "1. (if you increase 𝑥 by 1, we expect 𝑦 to change by 𝛽 )- linear \n",
    "\n",
    "\n",
    "2. if you multiply 𝑥 by 𝑒 (≈2.7), we expect 𝑦 to change by 𝛽 -  because x is logged \n",
    "\n",
    "\n",
    "3. if you increase 𝑥 by 1, we expect 𝑦 to change by a factor of 𝑒^𝛽; because y is regular, x is an exponent of e \n",
    "\n",
    "\n",
    "4. if you multiply 𝑥 by 𝑒 (≈2.7), we expect 𝑦 to change by a factor of 𝑒^𝛽 because both sides of equation have log \n",
    "\n",
    "**Describe whether the statements are the same or different from the interpretations given in Lecture 7, and explain why or why not.**\n",
    "\n",
    "the most obvious difference is that this talks about a change in the equation and beta in terms of e~2.7 -- here it seems to be more parameter based and in lecture, lecture notes phrase it in terms of percentage changes. To me the lecture notes seem more digestible than how it is phrased here, in terms of changing \"by a factor\". "
   ]
  },
  {
   "cell_type": "markdown",
   "metadata": {
    "deletable": false,
    "editable": false,
    "problem": 4
   },
   "source": [
    "## Problem 4 (12 points)\n",
    "\n",
    "Match the following scenarios to one of the four equations in Problem 3, which may be used multiple times or not at all. Explain your answers, including any aspects of the selected model that would not fit if applicable, such as ranges of inputs where a regression equation would or would not be appropriate.\n",
    "\n",
    "| Input | Output |\n",
    "| --- | --- |\n",
    "| Years from 1900-2020 | Population of [Las Vegas, NV](https://en.wikipedia.org/wiki/Las_Vegas) |\n",
    "| Annual income | Reported happiness |\n",
    "| Years from 1980-2000 | [S&P 500 index](https://en.wikipedia.org/wiki/S%26P_500)   |\n",
    "| Days from Aug 25, 2022 to Sept 19, 2022 | [S&P 500 index (live)](https://www.google.com/search?q=s%26p+500) |\n",
    "| Days after Feb 1, 2020 | Global COVID cases |\n",
    "| The [rank of an English word](https://en.wikipedia.org/wiki/Zipf%27s_law) (1st most common, 2nd most common, ...) | The frequency of that word in a collection of documents (eg \"the\" occurs 1.5M times).<br> **Hint: usually about half of the words in a collection appear once** | \n"
   ]
  },
  {
   "cell_type": "code",
   "execution_count": null,
   "metadata": {},
   "outputs": [],
   "source": []
  },
  {
   "cell_type": "markdown",
   "metadata": {
    "id": "HeAHES0vn1PV"
   },
   "source": [
    "**Match scenarios to equations here**\n",
    "1) Years from 1900-2020 \tPopulation of Las Vegas, NV: looks to be exponential and positive beta: 𝑦𝑖=𝑒^(𝛼+𝛽𝑥𝑖+𝜖𝑖) : (equation 3) from: https://www.macrotrends.net/cities/23043/las-vegas/population and https://geochange.er.usgs.gov/sw/changes/anthropogenic/population/las_vegas/ .\n",
    "\n",
    "\n",
    "2) Annual income \tReported happiness: money is important if your baseline is no income but income becomes negligible after a certain point and more money wont make you happier: 𝑦𝑖=𝛼+𝛽log(𝑥𝑖)+𝜖𝑖: (equation2, and positive beta) \n",
    "\n",
    "\n",
    "3) 1980-2000 S&P 500: looks to be exponential: 𝑦𝑖=𝑒^(𝛼+𝛽𝑥𝑖+𝜖𝑖) : (equation 3 and positive beta) \n",
    "\n",
    "4) Days from Aug 25, 2022 to Sept 19, 2022 \tS&P 500 index (live): seems linear (negative beta): 𝑦𝑖=𝛼+𝛽𝑥𝑖+𝜖𝑖 (Equation 1 ) \n",
    "\n",
    "\n",
    "\n",
    "5) Days after Feb 1, 2020 \tGlobal COVID cases: seems exponential: 𝑦𝑖=𝑒^(𝛼+𝛽𝑥𝑖+𝜖𝑖) (equation 3 and a positive beta since modelling positive exponential growth)   \n",
    "\n",
    "6) The rank of an English word and The frequency of that word in a collection of documents: \n",
    " 𝑦𝑖=𝑒^(𝛼+𝛽log(𝑥𝑖)+𝜖𝑖) -- decreasing nature can be modeled using this equation using a negative beta (equation 4) \n",
    "\n",
    "\n"
   ]
  },
  {
   "cell_type": "markdown",
   "metadata": {
    "deletable": false,
    "editable": false,
    "problem": 5
   },
   "source": [
    "## Problem 5 (12 points)\n",
    "\n",
    "Each of the following plots was generated from one of the four equations in Problem 3. Each equation was used once.\n",
    "\n",
    "For each equation from the previous problem, specify which of the four plots is most consistent with the equation. State whether $\\beta$ is positive or negative. Explain your answers.\n",
    "\n",
    "<img src=\"data:image/png;base64,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\"/>\n",
    "<img src=\"data:image/png;base64,iVBORw0KGgoAAAANSUhEUgAAAXQAAAEICAYAAABPgw/pAAAABHNCSVQICAgIfAhkiAAAAAlwSFlzAAALEgAACxIB0t1+/AAAADh0RVh0U29mdHdhcmUAbWF0cGxvdGxpYiB2ZXJzaW9uMy4xLjMsIGh0dHA6Ly9tYXRwbG90bGliLm9yZy+AADFEAAAgAElEQVR4nO3df3TU9Z3v8ed7QmAg/DSEHw1CTKFFUQSatbgrbgvdXmpd7aplbXvtj9WTu3tKocves/1x1/Z0e8/tcbeHXind9tLarXrbKlddSy31bovuFXcLNlAUEBWKgCgkMQIJgYEk875/ZGacTL6TTMgMk/nm9Tgnh8zMl5n3d77wms98Pp/v52vujoiIlL5IsQsQEZH8UKCLiISEAl1EJCQU6CIiIaFAFxEJCQW6iEhIKNBFREJCgS6SYGaHzOysmZ02sxNm9gszu7TYdYnkSoEu0tOfuvtYYDrQCHy7yPWI5EyBLhLA3WPAI8AVxa5FJFcKdJEAZjYG+HNgW7FrEcnViGIXIDLEPG5mncBYoAn4T0WuRyRnaqGL9PQRd58IjAJWAv/PzKYVuSaRnCjQRQK4e5e7PwZ0AdcVux6RXKjLRSSAmRlwEzAJ2FfkckRyokAX6ennZtYFOHAY+JS77y1yTSI5MV3gQkQkHNSHLiISEgp0EZGQUKCLiISEAl1EJCSKNstl8uTJXlNTU6yXFxEpSTt27HjT3auCHitaoNfU1NDQ0FCslxcRKUlmdjjbY+pyEREJCQW6iEhIKNBFREJCgS4iEhIKdBGRkFCgi4iEREmtthiPO4da2mlsjTF1fJSaygoiESt2WSIiQ0LJBHo87jy59zhrNu4i1hEnWh5h7YoFLJ83TaEuIkIJdbkcamlPhTlArCPOmo27ONTSXuTKRESGhpIJ9MbWWCrMk2IdcZraYkWqSERkaCmZQJ86Pkq0vGe50fIIU8ZFi1SRiMjQUjKBXlNZwdoVC1KhnuxDr6msKHJlIiJDQ8kMikYixvJ505i7aglNbTGmjNMsFxGRdCUT6NAd6rVVY6mtGlvsUkREhpyS6XIREZG+KdBFREKi30A3s6iZPWdmz5vZXjP7WsA2nzazZjPblfi5qzDliohINrn0oZ8Dlrr7aTMrB541s1+6+7aM7R5295X5L1FERHLRb6C7uwOnEzfLEz9eyKJERGTgcupDN7MyM9sFNAG/cvftAZvdamYvmNkjZnZpluepN7MGM2tobm4eRNkiIpIpp0B39y53XwDMAK4xsyszNvk5UOPu84FfA/dneZ4N7l7n7nVVVYEXrRYRkQs0oFku7n4S+Ddgecb9Le5+LnHz+8B78lKdiIjkLJdZLlVmNjHx+2jgA8BLGdtMT7t5E7Avn0WKiEj/cpnlMh2438zK6P4A2OjuT5jZ3wMN7r4JWGVmNwGdwFvApwtVsIiIBLPuSSwXX11dnTc0NBTltUVESpWZ7XD3uqDHdKaoiEhIKNBFREJCgS4iEhIKdBGRkFCgi4iEhAJdRCQkFOgiIiGhQBcRCQkFuohISCjQRURCQoEuIhISCnQRkZBQoIuIhIQCXUQkJBToIiIhoUAXEQkJBbqISEgo0EVEQkKBLiISEgp0EZGQUKCLiIREv4FuZlEze87MnjezvWb2tYBtRpnZw2Z2wMy2m1lNIYoVEZHscmmhnwOWuvvVwAJguZktztjmTuCEu88GvgXck98yRUSkP/0Gunc7nbhZnvjxjM1uBu5P/P4IsMzMLG9ViohIv3LqQzezMjPbBTQBv3L37RmbVAOvAbh7J3AKqAx4nnozazCzhubm5sFVLiIiPeQU6O7e5e4LgBnANWZ2ZcYmQa3xzFY87r7B3evcva6qqmrg1YqISFYDmuXi7ieBfwOWZzx0FLgUwMxGABOAt/JQn4iI5CiXWS5VZjYx8fto4APASxmbbQI+lfj9NuApd+/VQhcRkcIZkcM204H7zayM7g+Aje7+hJn9PdDg7puA+4AHzewA3S3z2wtWsYiIBOo30N39BWBhwP1fSfs9Bnw0v6WJiMhA6ExREZGQUKCLiISEAl1EJCQU6CIiIaFAFxEJCQW6iEhIKNBFREJCgS4iEhIKdBGRkFCgi4iEhAJdRCQkFOgiIiGhQBcRCQkFuohISOSyHvqQFI87h1raaWyNMXV8lJrKCiIRXZdaRIavkgz0eNx5cu9x1mzcRawjTrQ8wtoVC1g+b5pCXUSGrZLscjnU0p4Kc4BYR5w1G3dxqKW9yJWJiBRPSQZ6Y2ssFeZJsY44TW2xIlUkIlJ8JRnoU8dHiZb3LD1aHmHKuGiRKhIRKb6SDPSaygrWrliQCvVkH3pNZUWRKxMRKZ6SHBSNRIzl86Yxd9USmtpiTBmnWS4iIv220M3sUjN72sz2mdleM1sdsM37zOyUme1K/HylMOW+LRIxaqvGsrh2MrVVYxXmIjLs5dJC7wT+xt13mtk4YIeZ/crdX8zYbqu735j/EkVEJBf9ttDd/Zi770z83gbsA6oLXZiIiAzMgAZFzawGWAhsD3j4WjN73sx+aWbzsvz9ejNrMLOG5ubmARcrIiLZ5RzoZjYWeBT4vLu3Zjy8E5jl7lcD3wYeD3oOd9/g7nXuXldVVXWhNYuISICcAt3MyukO8x+7+2OZj7t7q7ufTvy+GSg3s8l5rVRERPqUyywXA+4D9rn72izbTEtsh5ldk3jelnwWKiIifctllssfAXcAu81sV+K+LwMzAdz9e8BtwF+ZWSdwFrjd3b0A9YqISBb9Brq7Pwv0Ocnb3dcD6/NVlIiIDFxJnvovIiK9KdBFREJCgS4iEhIKdBGRkFCgi4iEhAJdRCQkFOgiIiGhQBcRCQkFuohISCjQRURCQoEuIhISCnQRkZBQoIuIhIQCXUQkJBToIiIhoUAXEQkJBbqISEgo0EVEQiKXa4oOefG4c6ilncbWGFPHR6mprCAS6fOqeSIioVPygR6PO0/uPc6ajbuIdcSJlkdYu2IBy+dNU6iLyLBS0l0u8biz+/WTvHS8lbuW1DJ9QpRYR5w1G3dxqKW92OWJiFxU/Qa6mV1qZk+b2T4z22tmqwO2MTNbZ2YHzOwFM1tUmHLflmyZ//mGbazbcoAfbD3IHYtnpUK9qS1W6BJERIaUXFroncDfuPvlwGLgs2Z2RcY2HwLmJH7qge/mtcoAh1raU90sALGOOOue2s8ti2YQLY8wZVy00CWIiAwp/Qa6ux9z952J39uAfUB1xmY3Aw94t23ARDObnvdq0zS2xlJhnhTriFMWgbUrFlBTWVHIlxcRGXIG1IduZjXAQmB7xkPVwGtpt4/SO/Qxs3ozazCzhubm5oFVmmHq+CjR8p7lR8sjLJs7RQOiIjIs5RzoZjYWeBT4vLu3Zj4c8Fe81x3uG9y9zt3rqqqqBlZphprKCtauWJAK9eTslquqJyrMRWRYymnaopmV0x3mP3b3xwI2OQpcmnZ7BvDG4MvLLhIxls+bxtxVS2hqizFlnOafi8jw1m+gm5kB9wH73H1tls02ASvN7CHgvcApdz+WvzKDRSJGbdVYaqvGFvqlRESGvFxa6H8E3AHsNrNdifu+DMwEcPfvAZuBG4ADwBngM/kvVURE+tJvoLv7swT3kadv48Bn81WUiIgMXEmfKSoiIm9ToIuIhIQCXUQkJBToIiIhoUAXEQkJBbqISEgo0EVEQkKBLiISEgp0EZGQUKCLiISEAl1EJCQU6CIiIaFAFxEJCQW6iEhIKNBFREJCgS4iEhI5XVO0FMXjzqGWdhpbY0wdr+uNikj4hTLQ43Hnyb3HWbNxF7GOONHyCGtXLGD5vGkKdREJrVB2uRxqaU+FOUCsI86ajbs41NJe5MpERAonlIHe2BpLhXlSrCNOU1usSBWJiBReKAN96vgo0fKeuxYtjzBlXLRIFYmIFF6/gW5mPzSzJjPbk+Xx95nZKTPblfj5Sv7LHJiaygrWrliQCvVkH3pNZUWRKxMRKZxcBkV/BKwHHuhjm63ufmNeKsqDSMRYPm8ac1ctoaktxpRxmuUiIuHXb6C7+zNmVlP4UvIrEjFqq8ZSWzW22KWIiFwU+epDv9bMnjezX5rZvGwbmVm9mTWYWUNzc3OeXlpERCA/gb4TmOXuVwPfBh7PtqG7b3D3Onevq6qqysNLi4hI0qAD3d1b3f104vfNQLmZTR50ZSIiMiCDDnQzm2Zmlvj9msRztgz2eUVEZGD6HRQ1s58C7wMmm9lR4KtAOYC7fw+4DfgrM+sEzgK3u7sXrGIREQmUyyyXj/Xz+Hq6pzUOeVqwS0TCLJSLcwXRgl0iEnahPPU/SLYFu3a/fpJ4XD1EIlL6hk2gZ1uwa8tLTTy597hCXURK3rAJ9GwLdnXF0dK6IhIKwybQgxbsWrV0Do/tPKqldUUkFIbNoGhywa7q+sVseamJrjg8uO0wx07FtLSuiITCsAl06A71q6on8vrJWK/ZLlpaV0RK3bAKdNDSuiISXsMu0EFL64pIOIU+0HV2qIgMF6EO9It1dqg+NERkKAj1tMVsZ4fmc8558kPjhnVb+dj3t3PDuq06UUlEiiLUgZ7t7NB8zjm/GB8aIiK5CHWgZzs7NJ9zzi/Gh4aISC5CHehBZ4fme875xfjQEBHJRagHRS/GnPPkh4ZOVBKRYrNiXVyorq7OGxoaivLa+Zac5aITlUSk0Mxsh7vXBT0W6hb6xaITlURkKAh1H7qIyHCiQBcRCQkFuohISPQb6Gb2QzNrMrM9WR43M1tnZgfM7AUzW5T/MoeOeNw52Hya3/z+TQ42n6azM97jts4QFZFiyWVQ9EfAeuCBLI9/CJiT+Hkv8N3En6GTuTbMrMrRfG7pHP7u8T0DWitGa7+ISCH0G+ju/oyZ1fSxyc3AA949/3GbmU00s+nufixPNQ4Zmaf53zi/OhXm8PZp/3NXLck64yVowbD1H1/IZZVjaWpTwIvIhcvHtMVq4LW020cT9/UKdDOrB+oBZs6cmYeXvrgyT/M3I+tp/7VVYwNb4pkfCpPGjGR/42lW/uR3BV0RUkTCLx+BHpQ6gR3J7r4B2ADdJxbl4bUvquRp/ukhHnR7yrho1qV7J40p77H9LYtmcO+W/QNq5YuIBMnHLJejwKVpt2cAb+TheYeczLVhfv786/z3j1wZuFZMtlUYx4wc0WPtl75a+QOROVirwVmR4ScfLfRNwEoze4juwdBTYew/h+C1YWZOGsOimZN6nfbf0n6OO6+rxRLfXx7dcZRjp2J0dHX1WPulzLK38nN1sS7kISJDW7+BbmY/Bd4HTDazo8BXgXIAd/8esBm4ATgAnAE+U6hih4Kg0/wzb8fjzhsnY9z37MFUwK5aOoeHG44weewoTp7toP76WuIOFSPL+NpN8/jqpr0XvLhXtm8D6rYRGV5ymeXysX4ed+CzeasoBA61tPOFR1/oEbDrntrPhjvq6IqTGgBNmlU5mn+47WpeaWwjYnDF9HEDallnW5O9sTWWelyzZ0TCT4tzFUC2gC0vM5raej92uOUsrzS2sf6pAwD84TsrqZmce8s622BtR5dzw7qt6oYRGSZ06n8BZLvoxdTxUaaMC34suYrxhVwcI+hCHvfcOp+7f7Zbl8YTGUYU6AWQ7UpJMyeN4dWW06xeNqfHY2v+5F08tvPoBV8cIzlYu3nVEh6qfy+bVy3hHROjHG4522M7XRpPJNzU5VIA2a6UdKilnZU/+R2TxoxMzYCJWHcXy/wZEwZ0cYz0k5bGjBzB+a4uKitGcU1NZervD3b2jIiUFgV6gQTNhkn2rR87FeM7Tx9I3f+H76xkce3knJ87aJpichbNF5ZfzvJ50y7o0nhaY0aktCnQL6Jsg5cDbTUHTVNc99R+7ryutsd0xQ9ePpWH6xdz7FSM6RNGM2/6+KwBrbnsIqVPfegXUba+9YH0mSdb0UGzaJJnnTa1xejsjPMfB1vY8lITe95oZdVDO/nXfY1ZzyDNNpddg6gipUMt9IsoW996ri3gZCv65eOtgS199+4/p42P8os9x1Jz4ZNdMvc8uY/qiVGuqp7Y6zWzTbVMLjQmIkOfAv0iG8wFpZOt6EljRrJq6RzWPbW/Vx/62hUL6IoTeGLTndfVsv1gCyfOdDCyLMK0CW9/oOSrO0hEikeBXkLSB1Uf3HY4NVPm2tpLGDUiwvIruwdDt7/aEtjanhAtoyJazl/+7x2pD4L/8WdXsWjmRGZOGjPgQVQRGVoU6CUkvRWdnCkTLY9wy8LqHi3+bK3tudMnUP9gQ4+W+5f/ZTf119cyd9p4Pnj5VDZfYHeQiBSfBkVLSK6DqkHbff3mK3nz9LnAlnvcYc3GXRw5cYbaqrEsrp1MbdXYvIa5lvcVKTy10EtIroOq6ds1tsY429HF136+lz+9ujrrYGpyMa9CDICWypTIoT4Pf6jXJ8WnQC8xuQ6qJrcDUgt0PbrjaOBg6oPbDqcW84rHPe8hkevyvsUMrHx96BRqH0rlQ1GKS10uIZc+HTE5mLry/bO59/YF1F9fy4PbDnPizHlWLZ3D3T/bXZB5531NiUxKBtYN67byse9v54Z1W3ly7/GL1jWTj3n4nZ1xnj3wJo/vep1//30Ln/nRc3nbB50nILlQCz3kMgdIj52Ksf7pA/z4zvfySuNpbn3PDNzhwW2HOXYqVpB557lMiQwKrHue3MeMiVHebD9PxcgRTB0/ipmXFKbVPth5+PG4Z537P3fauAt+T5Mt/lca23SegPRLLfSQyxwgnVU5mg131NEa62BEpPvSeN95+gDHTsUKNu88l8HczECdPiHKx6+ZxYoN2/iLHzXwqX9+jl/uOc5TL2c/23Uwsi15nOv7ke2iJjfOr77gFS7Tv7XseaN1UPXJ8KAWesilD5C+1X6O10/GUlMXo+URVi+bwwO/6e52KdS881wGczNb8bcsmsG3fv1Kj4C8d8t+6q+vpXbyhZ2Y1ZcLWcwsXbYW/qxLRjO6fMQFjU2kf2sJGv/QeQKSSYE+DKQPkP7n+57rFZL/eNvV7G9qG/Cl7y6khmxBnBmoZRECA7J64miaT5/rd7BxoIOTF7osQ/J1ImaB3UqH3zrLVzbt7TWAmUt9QeMfd15Xy7x3jOPdU8dz2WTNcsmnMMwiUqAPI9lakS8nLn830Evf5VNmoI4uH8GGZw72Csgjb53lqwEBmS7XGSFB/4EHsixD+utMGjOS1cvmcO+W3jOIMmf15Fpf0PjHfc8epP76WsC4bHJFziF0oWFVyJAbSgEalllECvRhJNvgZHJRr2L3x6a34uNx79UFki0gM+UyTTIf/4HTX+fYqRgP/OYw9dfXMm/6BF54/VRqoDlZQ3IAM9f63OGbiW9PGxuOpmYjJWcmXbF6CS8ea+t3Hzo742zec4y/TRuwTd8uW7AWKuTicefIW+3sPHKSL//L7iERoLlOrR3qchoUNbPlZvaymR0wsy8GPP5pM2s2s12Jn7vyX6oMVtDg5Kqlc3jihdeHXH9sssX+i88t4Z8+sZA7r6sNDMgguUyTHOw0wKBljI+dirFuywFGjjDue/Zgqlbo+YHZX33JIP3wt7ey8qe/4389c5CVS2ezetmc1HvQfSLYuaz7kH5m7o4jJ1Jhnr7dq2+29zldNJ9TJdPr+fcDb/Kve4+nwnywz53tdXI9Izked5rbznHXklpWLp3N9AnRVE2ldsnGflvoZlYGfAf4E+Ao8Fsz2+TuL2Zs+rC7ryxAjZInmWeQjhlZRkdXPLWo11D7ahmJGO+cMhYzWLPx+ZxXgsz8JjJ9QpSP1s3g7Pkunn/tJOe7umiLdfaaVXPLohm80tgG0Of70d8yxjMv6XuANds3pdHlZVmD9OtPvMid19WmPiSi5RHaz3cGfjA0tsZ46fjbLfd7br0qcLsjb7Un3tveoX3F6iVZ190/3NI+oC6bV99sZ9+x1h7fNO6+8QomjRnZ40NvsNMwL+QbRbarfyW/BU0bH+Vg8+k+u4WGUtdRLl0u1wAH3P0ggJk9BNwMZAa6lIDBLN9bLAOdgZK+/aQxI/nktbN69W2PiLx9zdXpE6LcsXhWrxkk2YKgr2WM165YwGWTK7hsckVqPGDa+Chdcdj+agtTx0d7rWw5q3I0X1h+OVv3v0nr2U7KIhYYpGWJ79PJ15l1SUXgB8O5zu45/Mn7x4wcEbjdmJEjAr8tTBozkp1HTnK4pT3w7/3utZOc7Yj32z3SV1h+/YkXqb++lnVbDvR47sF0+x15q52Xjrdy15JaoHtKbvIaAGfOdwWGbbarf9VfX8v8GRP67dLq60Mk+fwXM+jNve+vJGZ2G7Dc3e9K3L4DeG96a9zMPg18A2gGXgH+2t1fC3iueqAeYObMme85fPhwnnZDwi7ZCsp1Bkpy++a2c3zqn5/rFUor3z+bsohx75budeLve7b3AOzmLP2nv/n9m3zs+9uBt1v2ZrBk9mT+oOaSXgOvQf/hP3j5VPYeO8X2gy1URMv5+hMvpsL9G382n22vthD37lBKniOwsX4xZzq6UvsP8PMX3uh1MtPDDUe4cX516rq1X/zQu3Gnx4fa3TdewdUzJjB21AiW37u1x76vWjabDc8cZNKYkb0+6L60fC5t5zo53xVn2dypXFU9Ietx+H3TaT787a293tc7r6vlO08f4Ju3zefvfrYntd9fv/kqysssFX6QeyDG487ju17v0Sf/1x94F9EREb7x5EtZw/aVxjb2vNHKMy83seRdU7DE0y++bBLTJ4wJrD/938XB5tOppTXSt/nF55bwcmP/4xsXwsx2uHtd0GO5tNCDXj3zU+DnwE/d/ZyZ/SVwP7C0119y3wBsAKirq9Nye5KzgX6zSG6frb861tk9t/v+z1zDiTPnB3QWZl/LGGf+Z83WD7151RLOnO/iVKyLtb/en/qm8Od1M/mL+3/bK6Bv/4OZNJ0+x9J3T+3xGu+YGE2ti59+xm9Z2ujY/f9xmL/641pWL5tD1dhRHDlxhvVPHUide7D+4wtZ+ZPfpV7zXVPGpfYtfd39q6oncOjNdtY/fYBYR5wNzxxMfTgdOXGmV/Aefiv7pRKj5RHaYh1887arMYOxo0Zw9892c7jlLNHyCOs/vpDznZ5zIB5qae/VJ/+tX79C/fW1vd77d2eE7azK0fzl9bP52hN7U6/1zslXcb4rzl1LalMfqtD97aW57Vyiy3IEja1ns3ZnZevKijsFa7XnEuhHgUvTbs8A3kjfwN1b0m5+H7hn8KWJDF5fM3tOnDlP1bhRVI0bNaCrNQ2kC6ivAdCp46M95tvfsmhGqjWc3G7dU/v5h9uu5hub93HizPle3xoqK0YFfruom3VJap9OnDnPlPFRLqkYySd/2PPbypqNu/jF55b0WAc/Oesp8wPrH267utfJXms27mLDHXU9TlZLBm9Flq6eiME/3nY1nV1x/usjz/fqjjl2KsYLR0/1mLba36yTbO9z5phoUNjeOL86FebJbb70L7tT39ySdQF88tpZqW980fII30pMMgjqzsrWlVXImT25zHL5LTDHzC4zs5HA7cCm9A3MbHrazZuAfXmpTmSQcpnZM9CLdycHlzevWsJD9e9l86olWf9T9rWkQE1lBX+QCF4gdZHvdLGOOK80tqVmtmTOugiqff3HF/KOCVH+6ROLePi/LObJ1Uv44BXT6Ip74PM3n471WAf/ssndzzmrcjSfff9sVi2bzXc/sYiWtuDQbDj8VuBslanjR7F62Zwetd194xVc+Y4JHG5p50sZLep1T+3nlkUzAIh78HuRbdZJtvc585AEhW229z15f7Kuj9bNSHVbJbe579nfs/7ji1i1bDYrl85mVuVo1q5YwNTxo3rV89G6GQWZ2ZOu3xa6u3ea2Urg/wJlwA/dfa+Z/T3Q4O6bgFVmdhPQCbwFfDpvFYoMQq4zewZ6lmiuXUB9teYjEePa2kruuXU+X3j0BYDA1l5ymCvoW0PmCVnTxkd58VgbN65/tsfrzbykIufrxkYixgcvn0pHV7xH//w3/mw+sypHc7jlbI+/39UzC1PBe01NJXOmjqX++lriDhGDrq44X920l1vfMyNriAKUWfB7MZBvTck+9OTzJN+LZNhmPne29z3WEWd+9XjKR/TcZvqEKEvnTmPlT3amnv+eW+fzwcu7u8Uy60l2ZQW9V/mapNDvoGih1NXVeUNDQ1FeW+Ri6m9AN/l4cq2d9BDNXGunv6/n2QbpNq9aQk1lRc7T+rI9T2b3yj23zmftr17uFfKb086KTe67YXz+4V0cOxVj5dLZ/GBr766iZDfHQPvQk+/j7tdPsuWlJrri8NjOo0B3y3jhpROZlfg2BvR4H2ZVjuZzS+fwd4/vCez+Se4P0OM9+ez7Z/c5mJ553N3pd5A1F4MdFBWRQeivNZ/++KK4c1X1BJraYlSN7e5jXzhzYs5ry/S3DHCu30SyPU95mfXob585aQzlZZGs4wnp+3aw+TQnzpwHCFxs7J5b51M9Mcqti6pTf3+g35quqp7I6ydjPeqZO208f/yuKT3+bub7MHPSGBbNnERja4yOLufun+1OhXn6/uSy3lDyvc487kFnP+f7hD610EVCpK8W+kBagQN5nlynlGZO4QyaqpivqzsNZIrrQP5++klEI8sifOK+7QN6rwdbG/TdQlegi4RIPi+lV6h1XAYbaENFsRb0UqCLDCP5Cs0whW+hFOM9Uh+6yDCSr+UdSnGZiIttqL1HugSdiEhIKNBFREJCgS4iEhIKdBGRkFCgi4iEhAJdRCQkijYP3cyagQu5wsVk4M08l1MKtN/Di/Z7eBnIfs9y96qgB4oW6BfKzBqyTaoPM+338KL9Hl7ytd/qchERCQkFuohISJRioG8odgFFov0eXrTfw0te9rvk+tBFRCRYKbbQRUQkgAJdRCQkSirQzWy5mb1sZgfM7IvFrqdQzOxSM3vazPaZ2V4zW524/xIz+5WZ7U/8OanYteabmZWZ2e/M7InE7cvMbHtinx82s5HFrjHfzGyimT1iZi8ljvm1w+RY/3Xi3/ceM/upmUXDeLzN7Idm1mRme9LuCzy+1m1dIuNeMLNFA3mtkgl0MysDvgN8CLgC+JiZXVHcqgqmE/gbd78cWAx8NrGvXwS2uPscYKDafJkAAALcSURBVEvidtisBval3b4H+FZin08AdxalqsK6F3jS3ecCV9O9/6E+1mZWDawC6tz9SqAMuJ1wHu8fAcsz7st2fD8EzEn81APfHcgLlUygA9cAB9z9oLufBx4Cbi5yTQXh7sfcfWfi9za6/4NX072/9yc2ux/4SHEqLAwzmwF8GPhB4rYBS4FHEpuEcZ/HA9cD9wG4+3l3P0nIj3XCCGC0mY0AxgDHCOHxdvdngLcy7s52fG8GHvBu24CJZjY919cqpUCvBl5Lu300cV+omVkNsBDYDkx192PQHfrAlOJVVhD/E/hbIHnV3UrgpLt3Jm6H8ZjXAs3APye6mn5gZhWE/Fi7++vAN4EjdAf5KWAH4T/eSdmO76ByrpQCPehCfaGec2lmY4FHgc+7e2ux6ykkM7sRaHL3Hel3B2watmM+AlgEfNfdFwLthKx7JUiiz/hm4DLgHUAF3d0NmcJ2vPszqH/zpRToR4FL027PAN4oUi0FZ2bldIf5j939scTdjcmvX4k/m4pVXwH8EXCTmR2iuzttKd0t9omJr+QQzmN+FDjq7tsTtx+hO+DDfKwBPgC86u7N7t4BPAb8IeE/3knZju+gcq6UAv23wJzEKPhIugdQNhW5poJI9B3fB+xz97VpD20CPpX4/VPAzy52bYXi7l9y9xnuXkP3sX3K3T8BPA3cltgsVPsM4O7HgdfM7N2Ju5YBLxLiY51wBFhsZmMS/96T+x3q450m2/HdBHwyMdtlMXAq2TWTE3cvmR/gBuAV4PfAfyt2PQXcz+vo/pr1ArAr8XMD3X3KW4D9iT8vKXatBdr/9wFPJH6vBZ4DDgD/BxhV7PoKsL8LgIbE8X4cmDQcjjXwNeAlYA/wIDAqjMcb+Cnd4wQddLfA78x2fOnucvlOIuN20z0LKOfX0qn/IiIhUUpdLiIi0gcFuohISCjQRURCQoEuIhISCnQRkZBQoIuIhIQCXUQkJP4/05TbpJKXhDsAAAAASUVORK5CYII=\"/>\n",
    "\n",
    "\n",
    "<img src=\"data:image/png;base64,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\" />\n",
    "\n",
    "<img src=\"data:image/png;base64,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\"/>\n",
    "\n",
    "\n"
   ]
  },
  {
   "cell_type": "markdown",
   "metadata": {
    "id": "jD835adIlwFD"
   },
   "source": [
    "**Match the four equations to the four plots here**\n",
    "\n",
    "  A equation 3: beta is positive and outputs exponentially increase \n",
    " B equation 4: beta is negative and outputs exponentially decrease and approach 0 . \n",
    " C eqaution 2: beta is positive, as the input increases, the rate of increase of the    outputs approaches 0 \n",
    " D equation 1: beta is negative, it looks like a negative linear relationship "
   ]
  },
  {
   "cell_type": "markdown",
   "metadata": {
    "deletable": false,
    "editable": false,
    "problem": 6
   },
   "source": [
    "## Problem 6 (9 points)\n",
    "\n",
    "The following question was inspired by [a visualization by Kyle Walker](https://gist.github.com/walkerke/f31b90ffc24908e424c9e08d6fcd5cad). The data is saved from running his R script. It combines data from the US Census Bureau about people working from home and data from the Daily Kos about US election results from 2020.\n",
    "\n",
    "Each row of the file `wfh_congress.csv` represents a US congressional district. The column `wfh_percent` is the proportion of people reporting that they work from home some amount of the time. The column `biden` is the proportion of votes in the 2020 US presidential election going to Joe Biden. `party` is a string representing whether the elected representative of the district is a Republican or Democrat.\n",
    "\n",
    "Load the file and display the first five rows.\n",
    "\n",
    "Use `seaborn` to create a scatter plot showing one point for each district with Biden % on the $x$-axis and WFH % on the $y$-axis, with the `hue` set to the `party`. (**Hint: it's fine to pass a string value to `hue`**).\n",
    "\n",
    "Comment on whether you think `party` can be predicted from Biden % and WFH %, and which of those two variables will be more accurate. Explain your answer by describing properties of the scatter plot. "
   ]
  },
  {
   "cell_type": "code",
   "execution_count": 15,
   "metadata": {
    "id": "wceTPIgmy4_a"
   },
   "outputs": [
    {
     "data": {
      "text/plain": [
       "<AxesSubplot:xlabel='biden', ylabel='wfh_percent'>"
      ]
     },
     "execution_count": 15,
     "metadata": {},
     "output_type": "execute_result"
    },
    {
     "data": {
      "image/png": "[encoded data removed]",
      "text/plain": [
       "<Figure size 432x288 with 1 Axes>"
      ]
     },
     "metadata": {
      "needs_background": "light"
     },
     "output_type": "display_data"
    }
   ],
   "source": [
    "# Code goes here\n",
    "\n",
    "df= pd.read_csv('wfh_congress.csv')\n",
    "sns.scatterplot(x=df['biden'], y=df[\"wfh_percent\"], hue=df['party'])\n"
   ]
  },
  {
   "cell_type": "markdown",
   "metadata": {
    "id": "kkmHPGaMIO7U"
   },
   "source": [
    "**Your discussion here.**\n",
    "\n",
    "yes I think that party can be somwhat inferred from wfh percent because all of the highest values of wfh percent are dems whereas the lowest percentage of wfh individuals are republicans, despite overlap between the two. Predicticting party based on who voted for biden and who did not is definitely more straight-forward because when looking at the graph, there seems to be a clear divide between biden voters and dems vs non biden voters and republicans "
   ]
  },
  {
   "cell_type": "markdown",
   "metadata": {
    "deletable": false,
    "editable": false,
    "problem": 7
   },
   "source": [
    "## Problem 7 (10 points)\n",
    "\n",
    "Use `sklearn` to fit a logistic regression model that predicts `party` given `biden`. **Hint: sklearn can interpret string values as binary outputs, you don't need to modify them.** Print the coefficients and intercept of the resulting model.\n",
    "\n",
    "Use `predict_proba` to calculate the probability that each district will have a value of `party`. Add predicted probability as a new variable `biden_prediction` on the dataframe. **Hint: this function returns a 2D array containing the probability of each output symbol (\"R\" and \"D\") for each input. Select the 0th column**.\n",
    "\n",
    "Create a scatter plot showing `biden` on the $x$-axis, `party` on the $y$-axis, with `hue` from `biden_prediction`.\n",
    "\n",
    "Repeat this process, replacing `biden` with `wfh_percent`. Display regression parameters, create a new column `wfh_prediction`, and show a scatter plot.\n",
    "\n",
    "Describe the interpretation of your two models. What happens to the odds of having a Republican representative if each input variable goes up by 1%? Based on the scatter plots, how confident are the two models in their predictions?"
   ]
  },
  {
   "cell_type": "code",
   "execution_count": 16,
   "metadata": {
    "id": "2DM6CLjazVcU"
   },
   "outputs": [
    {
     "name": "stdout",
     "output_type": "stream",
     "text": [
      "[[-0.5617738]]\n",
      "[27.99464835]\n",
      "AxesSubplot(0.125,0.125;0.775x0.755)\n"
     ]
    },
    {
     "data": {
      "image/png": "[encoded data removed]",
      "text/plain": [
       "<Figure size 432x288 with 1 Axes>"
      ]
     },
     "metadata": {
      "needs_background": "light"
     },
     "output_type": "display_data"
    }
   ],
   "source": [
    "# Code goes here\n",
    "\n",
    "x = np.array(df['biden']).reshape(-1,1) \n",
    "y = np.array(df['party']) \n",
    "model=LogisticRegression().fit(x,y)\n",
    "\n",
    "biden_prediction = model.predict_proba(x)[:,0]\n",
    "\n",
    "print(model.coef_ ) \n",
    "print(model.intercept_ ) \n",
    "\n",
    "print(sns.scatterplot(data=df, x=\"biden\", y=\"party\", hue= biden_prediction)) \n",
    "\n",
    "\n",
    "\n"
   ]
  },
  {
   "cell_type": "code",
   "execution_count": 17,
   "metadata": {},
   "outputs": [
    {
     "name": "stdout",
     "output_type": "stream",
     "text": [
      "[[-0.16720445]]\n",
      "[2.73113439]\n"
     ]
    },
    {
     "data": {
      "text/plain": [
       "<AxesSubplot:xlabel='wfh_percent', ylabel='party'>"
      ]
     },
     "execution_count": 17,
     "metadata": {},
     "output_type": "execute_result"
    },
    {
     "data": {
      "image/png": "[encoded data removed]",
      "text/plain": [
       "<Figure size 432x288 with 1 Axes>"
      ]
     },
     "metadata": {
      "needs_background": "light"
     },
     "output_type": "display_data"
    }
   ],
   "source": [
    "\n",
    "x = np.array(df['wfh_percent']).reshape(-1,1) \n",
    "y = np.array(df['party']) \n",
    "model=LogisticRegression().fit(x,y)\n",
    "\n",
    "print(model.coef_ ) \n",
    "print(model.intercept_ )\n",
    "\n",
    "wfh_prediction = model.predict_proba(x)[:,0]\n",
    "\n",
    "\n",
    "sns.scatterplot(data=df, x=\"wfh_percent\", y=\"party\", hue= wfh_prediction)"
   ]
  },
  {
   "cell_type": "markdown",
   "metadata": {
    "id": "RCG0z3GGI06K"
   },
   "source": [
    "**Your discussion here.**\n",
    "Describe the interpretation of your two models. What happens to the odds of having a Republican representative if each input variable goes up by 1%? Based on the scatter plots, how confident are the two models in their predictions?\n",
    "\n",
    "from my understanding of the scatterplot, a 1% change in each input variable wouldn't substantially change the outcome. Because of the nature of these models if everything changes by 1%, they would still be in the same relation to each other and you wouldn't notice a significant change. \n",
    "\n",
    "Model one seems much more confident in terms of predicting, because it is much more polarised in terms of most registered repiblicans voted for biden with a low probability and most registered dems voted for biden with a higher probability, and these probabilities tended to skew towards a discrete 0 or 1-- insofar as guessing who voted for whom based on party registration and guessing party registration based on who voted for whom is relatively straight forward and easy to predict. \n",
    "\n",
    "predicting party registration is somewhat less straighforward but still visually possible-- we can tell that more dems are wfh than there are repubs who wfh and more repubs who do not wfh than there are dems who do not wfh. "
   ]
  },
  {
   "cell_type": "markdown",
   "metadata": {
    "deletable": false,
    "editable": false,
    "problem": 8
   },
   "source": [
    "## Problem 8 (10 points)\n",
    "\n",
    "Train a third logistic regression model with *both* `wfh_percent` and `biden` as inputs. Print the coefficients and intercept.\n",
    "\n",
    "Describe whether these values are similar or different to the previous two models. Explain why you might have gotten these results."
   ]
  },
  {
   "cell_type": "code",
   "execution_count": 18,
   "metadata": {
    "id": "FBYCokxZ2xb8"
   },
   "outputs": [
    {
     "name": "stdout",
     "output_type": "stream",
     "text": [
      "[[ 0.03449056 -0.57849804]]\n",
      "[28.19719259]\n"
     ]
    }
   ],
   "source": [
    "# Code goes here\n",
    "\n",
    "# a = np.array(df['biden']).reshape(-1,1) \n",
    "# b = np.array(df['wfh_percent']).reshape(-1,1)\n",
    "# c = df[\"party\"]\n",
    "\n",
    "\n",
    "# ab_model =LogisticRegression().fit(a+b, c)\n",
    "# coef = ab_model.coef_\n",
    "# print(coef) \n",
    "# intercept = ab_model.intercept_ \n",
    "# print(intercept)\n",
    "\n",
    "# print(\"      \")\n",
    "\n",
    "model2= LogisticRegression().fit(df[['wfh_percent','biden']],df['party'])\n",
    "print(model2.coef_)\n",
    "print(model2.intercept_)\n"
   ]
  },
  {
   "cell_type": "markdown",
   "metadata": {
    "id": "whzxDhHhI6lG"
   },
   "source": [
    "**Your discussion here.**\n",
    "\n",
    "\n",
    "comparing: \n",
    "\n",
    " 0.03449056 and -0.16720445 : this is a weaker correlation so I would expect more variation between the two, given the weaker relationship. I would say that the positive correlation coefficient is definitely more correct than the netative coefficient. \n",
    " \n",
    "and \n",
    "\n",
    "-0.57849804 and -0.5617738 : these are more similar and I would expect this because this is for a stronger correlation than wfh% \n",
    "\n",
    "and comparing: \n",
    "\n",
    "27.99464835 and 28.19719259 : I would expect a really close estimate for the intercept, which is what we get. "
   ]
  },
  {
   "cell_type": "code",
   "execution_count": null,
   "metadata": {},
   "outputs": [],
   "source": []
  },
  {
   "cell_type": "code",
   "execution_count": null,
   "metadata": {},
   "outputs": [],
   "source": []
  }
 ],
 "metadata": {
  "celltoolbar": "Edit Metadata",
  "colab": {
   "provenance": []
  },
  "kernelspec": {
   "display_name": "Python 3 (ipykernel)",
   "language": "python",
   "name": "python3"
  },
  "language_info": {
   "codemirror_mode": {
    "name": "ipython",
    "version": 3
   },
   "file_extension": ".py",
   "mimetype": "text/x-python",
   "name": "python",
   "nbconvert_exporter": "python",
   "pygments_lexer": "ipython3",
   "version": "3.8.13"
  }
 },
 "nbformat": 4,
 "nbformat_minor": 1
}
