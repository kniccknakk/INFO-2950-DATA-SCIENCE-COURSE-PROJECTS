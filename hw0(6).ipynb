{
 "cells": [
  {
   "cell_type": "markdown",
   "metadata": {},
   "source": [
    "# INFO 2950 - Homework 0\n",
    "\n",
    "---"
   ]
  },
  {
   "cell_type": "markdown",
   "metadata": {},
   "source": [
    "# Part 0: Introduction\n",
    "\n",
    "Each homework will be released as a Jupyter Notebook, like this one!\n",
    "\n",
    "There will be problems clearly marked by **problem heading cells**. We are using some code to help facilitate grading logistics, so it is important that you **do not alter the problem header cells in hw notebooks**. You may add cells between problem headers and those will all be seen during grading, but anything written in problem header cells will **not** be seen.\n",
    "\n",
    "Removing the header cells will also break the grading code. If you accidentally delete any problem headers, please re-download a fresh blank copy of the hw and paste your answers there (you can copy + paste entire cells between Jupyter notebooks).\n",
    "\n",
    "Make sure to save your notebook with the code executed before submitting. **The TAs will not execute your notebook**, so it is important that all output is visible when you save it.\n",
    "\n",
    "Let me say this one more time for the people in the back...\n",
    "\n",
    "### *Do not move or modify any problem header cells.*\n",
    "\n",
    "---"
   ]
  },
  {
   "cell_type": "markdown",
   "metadata": {
    "problem": 1
   },
   "source": [
    "## Problem 1 (0 pts)\n",
    "(This is a problem header cell. **DO NOT EDIT OR MODIFY.** Anything written here will **not** appear in your hw submission when it is being graded.)\n",
    "\n",
    "Instructions for problem 1 will appear here. Read all instructions carefully to make sure you've done every part of the question! As you can see, the number of points each problem is worth will be given next to the problem number above.\n",
    "\n",
    "---"
   ]
  },
  {
   "cell_type": "markdown",
   "metadata": {},
   "source": [
    "Here is a sample answer to problem 1. This cell will appear as part of your homework submission for problem 1."
   ]
  },
  {
   "cell_type": "code",
   "execution_count": 1,
   "metadata": {},
   "outputs": [
    {
     "name": "stdout",
     "output_type": "stream",
     "text": [
      "This will show up in your hw submission for problem 1.\n"
     ]
    }
   ],
   "source": [
    "## This cell will also appear for problem 1, as will its output when executed\n",
    "a_message = \"This will show up in your hw submission for problem 1.\"\n",
    "print(a_message)"
   ]
  },
  {
   "cell_type": "code",
   "execution_count": null,
   "metadata": {},
   "outputs": [],
   "source": [
    "## This cell will appear, but since it wasn't executed, its output will NOT show up in the hw solutions.\n",
    "y = 7\n",
    "print(y)\n",
    "\n",
    "## The value of y hasn't actually been printed!!"
   ]
  },
  {
   "cell_type": "markdown",
   "metadata": {
    "problem": 2
   },
   "source": [
    "---\n",
    "\n",
    "## Problem 2 (0 pts)\n",
    "\n",
    "This is where problem 2 would be described.\n",
    "\n",
    "---"
   ]
  },
  {
   "cell_type": "markdown",
   "metadata": {},
   "source": [
    "This cell would appear in your submission for problem **2** not 1, since it is after the \"Problem 2\" header, and before the \"Problem 3\" header."
   ]
  },
  {
   "cell_type": "markdown",
   "metadata": {
    "colab_type": "text",
    "id": "hDnL-y1NjGLL"
   },
   "source": [
    "---\n",
    "\n",
    "# Part 1: Working in Jupyter Notebooks\n",
    "\n",
    "Jupyter Notebooks have a few features to help you easily write intelligible documents, either to share with others or just to keep yourself organized in your own work.\n",
    "\n",
    "You can add content to a Jupyter Notebook in **cells**, of which there are two types: **text** cells and **code** cells. You can add a new cell directly below the currently active one by clicking the **+** icon in the menu bar above. By default, Jupyter will insert a code cell. You can convert it to a text cell by pressing the `m` key on your keyboard while the cell is selected, or by going to the dropdown list in the menu bar that says \"Code\" and instead selecting \"Markdown\".\n",
    "\n",
    "### Text cells\n",
    "\n",
    "Text cells support **Markdown** and **$\\LaTeX$** formatting.\n",
    "\n",
    "Markdown is a lightweight markup language, which allows you to \"mark up\" plain text by adding simple formatting (like *italics* or **bold**) using a combination of special symbols, like asterisks and hashtags. An overview of the Markdown formatting supported by Jupyter can be found [here](https://dataplatform.cloud.ibm.com/docs/content/wsj/analyze-data/markd-jupyter.html)."
   ]
  },
  {
   "cell_type": "markdown",
   "metadata": {
    "problem": 3
   },
   "source": [
    "---\n",
    "\n",
    "## Problem 3 (6 pts)\n",
    "\n",
    "Insert a new text cell directly below this one. Create a level 4 heading (four hashtags) with the text \"My discussion question points\". Create a bulleted (non-numbered) list with three different points in response to this week's discussion question. Mark what you think is the most important point by bolding it, and the least important point by italicising it.\n",
    "\n",
    "When you're done typing in a text cell, you can execute it (so it displays nicely) by hitting the \"Run\" button in the above toolbar, or by using the keyboard shortcut `shift + enter`. This also works for code cells, except it will actually run the code in the cell.\n",
    "\n",
    "---"
   ]
  },
  {
   "cell_type": "code",
   "execution_count": null,
   "metadata": {},
   "outputs": [],
   "source": [
    "#### My discussion question points \n",
    "# - Using good data that you can work with and that is usable for your purposes \n",
    "# - Making sure you have cleaned your data \n",
    "# - Use coding best practices and documenting so that other people can follow your work and thought process\n"
   ]
  },
  {
   "cell_type": "markdown",
   "metadata": {
    "colab_type": "text",
    "id": "uC8YsCyYXDDu"
   },
   "source": [
    "---\n",
    "\n",
    "$\\LaTeX^{(1)}$ is a markup language often used to typeset mathematics$^{(2)}$. Jupyter allows you to insert math symbols and equations using $\\LaTeX$ syntax, which must be wrapped by `$` symbols. For instance, the syntax `$y = mx + b$` nicely displays the equation of a line: $y = mx + b$. If you wish to display an equation on a separate line, wrap your LaTeX syntax with `$$`, i.e. `$$y = mx + b$$`, which results in $$y = mx + b.$$\n",
    "\n",
    "Since $\\LaTeX$ uses \\\\$ as a special character to start and end a math environment, if you wish to use a \\\\$ symbol just as a dollar sign when writing text, you need to \"escape\" it with a backslash, like this: `\\$`. Sometimes you need two backslashes ¯\\\\\\_(ツ)\\_/¯. (Escaping dollar signs may come in handy with the data we'll analyze below!)\n",
    "\n",
    "A short list of the $\\LaTeX$ formatting available in Jupyter notebooks can be found [here](https://math.meta.stackexchange.com/questions/5020/mathjax-basic-tutorial-and-quick-reference). \n",
    "\n",
    "--\n",
    "\n",
    "<small>$^{(1)}$ It's pronounced *lah-tek* or *lay-tek*; the \"X\" is actually the Greek letter [chi](https://en.wikipedia.org/wiki/Chi_(letter)).\n",
    "\n",
    "$^{(2)}$ It's actually [much more than that](https://en.wikipedia.org/wiki/LaTeX), but for our purposes you can think of it as a math markup language.</small>"
   ]
  },
  {
   "cell_type": "markdown",
   "metadata": {
    "problem": 4
   },
   "source": [
    "## Problem 4 (2 pts)\n",
    "\n",
    "In the empty text cell directly below, replicate this equation:\n",
    "\n",
    "<img src=\"eqn1.png\" width=\"150\">\n",
    "\n",
    "(If you don't see an image, check the hw0 folder of materials downloaded from CMS for `eqn1.png` and make sure the image is saved in the same file directory as where this python notebook is saved)\n",
    "\n",
    "To actually display the math properly, don't forget to run the cell once you've typed the formatting, either by clicking the Run button in the menu bar above, or by using the keyboard shortcut `shift + enter` after you're done typing.\n",
    "*(Hint: the little \"e\" at the end of the equation is the symbol epsilon and can be rendered with the $\\LaTeX$ command `\\varepsilon`)*\n",
    "\n",
    "---"
   ]
  },
  {
   "cell_type": "markdown",
   "metadata": {},
   "source": [
    "$$ Y = \\beta_0 + \\beta_1 X + \\epsilon $$"
   ]
  },
  {
   "cell_type": "markdown",
   "metadata": {
    "colab_type": "text",
    "id": "C5-ZgtBIZbnl"
   },
   "source": [
    "---\n",
    "\n",
    "### Code cells\n",
    "\n",
    "In this class, we only use Python 3, and we refer to it simply as \"Python\"."
   ]
  },
  {
   "cell_type": "markdown",
   "metadata": {
    "problem": 5
   },
   "source": [
    "## Problem 5 (1 pt)\n",
    "\n",
    "Execute the following code cell to check that you are actually running Python 3 in this notebook.\n",
    "\n",
    "---"
   ]
  },
  {
   "cell_type": "code",
   "execution_count": 1,
   "metadata": {
    "scrolled": false
   },
   "outputs": [
    {
     "name": "stdout",
     "output_type": "stream",
     "text": [
      "3.8.13\n"
     ]
    }
   ],
   "source": [
    "import platform\n",
    "print(platform.python_version())"
   ]
  },
  {
   "cell_type": "markdown",
   "metadata": {},
   "source": [
    "---\n",
    "\n",
    "It is *totally normal* to get stuck while coding or to run into errors. When you do run into issues, there are a few things you can do:\n",
    "\n",
    "1. **Read the documentation!** This should be your first line of defense. Find the function that's giving you trouble and look at its input arguments, their types, and what it returns. (Type errors are some of the most common!) In this class, we will often use the packages [seaborn](https://seaborn.pydata.org/index.html), [matplotlib](https://matplotlib.org/3.1.1/contents.html), [pandas](https://pandas.pydata.org/pandas-docs/stable/), [numpy](https://docs.scipy.org/doc/numpy/), so we've linked their documentation here for quick reference.\n",
    "2. **Google the error message + \"python\" (having removed specifics like your  variable names)**. This might give you a better idea of what went wrong. Python error messages can be terrible. It's not your fault! Interpreting error messages takes experience, so don't get frustrated if it's not immediately clear to you what's wrong. Each time you make a mistake, remember what the error message was, so when you see it again you have a guess about what might be wrong."
   ]
  },
  {
   "cell_type": "markdown",
   "metadata": {
    "problem": 6
   },
   "source": [
    "---\n",
    "\n",
    "## Problem 6 (2 pts)\n",
    "\n",
    "Use the search function on the `pandas` documentation page linked above to look for the function `pandas.read_csv()`. What output type does this function return?\n",
    "\n",
    "---"
   ]
  },
  {
   "cell_type": "markdown",
   "metadata": {},
   "source": [
    "dataframe or textparser "
   ]
  },
  {
   "cell_type": "markdown",
   "metadata": {
    "problem": 7
   },
   "source": [
    "---\n",
    "\n",
    "## Problem 7 (2 pts)\n",
    "\n",
    "We will now look at some statistics about players on the [US Soccer Womens National Team from 2021](https://www.ussoccer.com/uswnt-stats/2021). We want to read a data frame in CSV format from a file called `uswnt_2021.csv`. Modify the cell below to give the `read_csv` function the correct path to this file.\n",
    "\n",
    "The last line in the cell displays the first five lines of a data frame, you will see statistics about players when you have this correct.\n",
    "\n",
    "---"
   ]
  },
  {
   "cell_type": "code",
   "execution_count": 2,
   "metadata": {},
   "outputs": [
    {
     "data": {
      "text/html": [
       "<div>\n",
       "<style scoped>\n",
       "    .dataframe tbody tr th:only-of-type {\n",
       "        vertical-align: middle;\n",
       "    }\n",
       "\n",
       "    .dataframe tbody tr th {\n",
       "        vertical-align: top;\n",
       "    }\n",
       "\n",
       "    .dataframe thead th {\n",
       "        text-align: right;\n",
       "    }\n",
       "</style>\n",
       "<table border=\"1\" class=\"dataframe\">\n",
       "  <thead>\n",
       "    <tr style=\"text-align: right;\">\n",
       "      <th></th>\n",
       "      <th>Name</th>\n",
       "      <th>Position</th>\n",
       "      <th>GamesPlayed</th>\n",
       "      <th>GamesStarted</th>\n",
       "      <th>Minutes</th>\n",
       "      <th>Goals</th>\n",
       "      <th>Assists</th>\n",
       "      <th>Yellow</th>\n",
       "      <th>Red</th>\n",
       "      <th>Caps</th>\n",
       "      <th>CareerGoals</th>\n",
       "    </tr>\n",
       "  </thead>\n",
       "  <tbody>\n",
       "    <tr>\n",
       "      <th>0</th>\n",
       "      <td>Balcer, Bethany</td>\n",
       "      <td>F</td>\n",
       "      <td>1</td>\n",
       "      <td>0</td>\n",
       "      <td>12</td>\n",
       "      <td>0</td>\n",
       "      <td>0</td>\n",
       "      <td>0</td>\n",
       "      <td>0</td>\n",
       "      <td>1</td>\n",
       "      <td>0</td>\n",
       "    </tr>\n",
       "    <tr>\n",
       "      <th>1</th>\n",
       "      <td>Campbell, Jane</td>\n",
       "      <td>GK</td>\n",
       "      <td>4</td>\n",
       "      <td>4</td>\n",
       "      <td>360</td>\n",
       "      <td>0</td>\n",
       "      <td>0</td>\n",
       "      <td>0</td>\n",
       "      <td>0</td>\n",
       "      <td>7</td>\n",
       "      <td>0</td>\n",
       "    </tr>\n",
       "    <tr>\n",
       "      <th>2</th>\n",
       "      <td>Cook, Alana</td>\n",
       "      <td>D</td>\n",
       "      <td>3</td>\n",
       "      <td>3</td>\n",
       "      <td>270</td>\n",
       "      <td>0</td>\n",
       "      <td>0</td>\n",
       "      <td>0</td>\n",
       "      <td>0</td>\n",
       "      <td>4</td>\n",
       "      <td>0</td>\n",
       "    </tr>\n",
       "    <tr>\n",
       "      <th>3</th>\n",
       "      <td>Dahlkemper, Abby</td>\n",
       "      <td>D</td>\n",
       "      <td>15</td>\n",
       "      <td>14</td>\n",
       "      <td>1308</td>\n",
       "      <td>0</td>\n",
       "      <td>0</td>\n",
       "      <td>0</td>\n",
       "      <td>0</td>\n",
       "      <td>77</td>\n",
       "      <td>0</td>\n",
       "    </tr>\n",
       "    <tr>\n",
       "      <th>4</th>\n",
       "      <td>Davidson, Tierna</td>\n",
       "      <td>D</td>\n",
       "      <td>19</td>\n",
       "      <td>14</td>\n",
       "      <td>1258</td>\n",
       "      <td>0</td>\n",
       "      <td>2</td>\n",
       "      <td>0</td>\n",
       "      <td>0</td>\n",
       "      <td>45</td>\n",
       "      <td>1</td>\n",
       "    </tr>\n",
       "  </tbody>\n",
       "</table>\n",
       "</div>"
      ],
      "text/plain": [
       "               Name Position  GamesPlayed  GamesStarted  Minutes  Goals  \\\n",
       "0   Balcer, Bethany        F            1             0       12      0   \n",
       "1    Campbell, Jane       GK            4             4      360      0   \n",
       "2       Cook, Alana        D            3             3      270      0   \n",
       "3  Dahlkemper, Abby        D           15            14     1308      0   \n",
       "4  Davidson, Tierna        D           19            14     1258      0   \n",
       "\n",
       "   Assists  Yellow  Red  Caps  CareerGoals  \n",
       "0        0       0    0     1            0  \n",
       "1        0       0    0     7            0  \n",
       "2        0       0    0     4            0  \n",
       "3        0       0    0    77            0  \n",
       "4        2       0    0    45            1  "
      ]
     },
     "execution_count": 2,
     "metadata": {},
     "output_type": "execute_result"
    }
   ],
   "source": [
    "# Load a data frame from a csv file\n",
    "\n",
    "import pandas\n",
    "\n",
    "season_df = pandas.read_csv(\"uswnt_2021.csv\")\n",
    "\n",
    "season_df.head()"
   ]
  },
  {
   "cell_type": "markdown",
   "metadata": {},
   "source": [
    "You can install packages from Anaconda, but you can also directly install them from a notebook. This style is more frequently used for cloud services like Google colab. Lines in code cells that start with `!` are interpreted as commands to the operating system, as if you were in a terminal window.\n",
    "\n",
    "Installing packages can be a problem if there are multiple python installations on your computer. The `sys.executable` used here ensures that we are calling the python associated with this notebook. This command is taken from [this post by Jake Vanderplas](https://jakevdp.github.io/blog/2017/12/05/installing-python-packages-from-jupyter/), which has more a detailed explanation of the problem and the solution.\n",
    "\n",
    "Once you have the packages installed, you do not need to run this cell again."
   ]
  },
  {
   "cell_type": "code",
   "execution_count": 3,
   "metadata": {},
   "outputs": [
    {
     "name": "stdout",
     "output_type": "stream",
     "text": [
      "Collecting duckdb-engine\n",
      "  Downloading duckdb_engine-0.6.2-py3-none-any.whl (14 kB)\n",
      "Collecting sqlalchemy<2.0.0,>=1.3.19\n",
      "  Downloading SQLAlchemy-1.4.40.tar.gz (8.3 MB)\n",
      "\u001b[2K     \u001b[90m━━━━━━━━━━━━━━━━━━━━━━━━━━━━━━━━━━━━━━━━\u001b[0m \u001b[32m8.3/8.3 MB\u001b[0m \u001b[31m16.7 MB/s\u001b[0m eta \u001b[36m0:00:00\u001b[0m00:01\u001b[0m00:01\u001b[0m\n",
      "\u001b[?25h  Preparing metadata (setup.py) ... \u001b[?25ldone\n",
      "\u001b[?25hRequirement already satisfied: numpy in /Applications/anaconda3/envs/info2950/lib/python3.8/site-packages (from duckdb-engine) (1.23.1)\n",
      "Collecting duckdb>=0.2.8\n",
      "  Downloading duckdb-0.4.0-cp38-cp38-macosx_10_9_x86_64.whl (15.3 MB)\n",
      "\u001b[2K     \u001b[90m━━━━━━━━━━━━━━━━━━━━━━━━━━━━━━━━━━━━━━━━\u001b[0m \u001b[32m15.3/15.3 MB\u001b[0m \u001b[31m18.4 MB/s\u001b[0m eta \u001b[36m0:00:00\u001b[0m00:01\u001b[0m00:01\u001b[0m\n",
      "\u001b[?25hCollecting greenlet!=0.4.17\n",
      "  Downloading greenlet-1.1.3.tar.gz (91 kB)\n",
      "\u001b[2K     \u001b[90m━━━━━━━━━━━━━━━━━━━━━━━━━━━━━━━━━━━━━━━━\u001b[0m \u001b[32m91.6/91.6 kB\u001b[0m \u001b[31m2.0 MB/s\u001b[0m eta \u001b[36m0:00:00\u001b[0mta \u001b[36m0:00:01\u001b[0m\n",
      "\u001b[?25h  Preparing metadata (setup.py) ... \u001b[?25ldone\n",
      "\u001b[?25hBuilding wheels for collected packages: sqlalchemy, greenlet\n",
      "  Building wheel for sqlalchemy (setup.py) ... \u001b[?25ldone\n",
      "\u001b[?25h  Created wheel for sqlalchemy: filename=SQLAlchemy-1.4.40-cp38-cp38-macosx_10_9_x86_64.whl size=1546375 sha256=80b051213da655ec8e13c3b38a62ffee8c0294d08edd5d5999b4743a5be67dec\n",
      "  Stored in directory: /Users/Nic/Library/Caches/pip/wheels/b6/24/79/b40cf000cb96fbda45242a556ce18006f8ca34712487c09a90\n",
      "  Building wheel for greenlet (setup.py) ... \u001b[?25ldone\n",
      "\u001b[?25h  Created wheel for greenlet: filename=greenlet-1.1.3-cp38-cp38-macosx_10_9_x86_64.whl size=93695 sha256=f50378899225e3d54f90d216231fc5174225a3012862e1e0770ff540ffab8415\n",
      "  Stored in directory: /Users/Nic/Library/Caches/pip/wheels/a2/47/6b/4e16e812b7705f619112a376f34452eb267fab71623248fa56\n",
      "Successfully built sqlalchemy greenlet\n",
      "Installing collected packages: greenlet, duckdb, sqlalchemy, duckdb-engine\n",
      "Successfully installed duckdb-0.4.0 duckdb-engine-0.6.2 greenlet-1.1.3 sqlalchemy-1.4.40\n",
      "Collecting ipython-sql\n",
      "  Downloading ipython_sql-0.4.1-py3-none-any.whl (21 kB)\n",
      "Requirement already satisfied: ipython-genutils>=0.1.0 in /Applications/anaconda3/envs/info2950/lib/python3.8/site-packages (from ipython-sql) (0.2.0)\n",
      "Collecting sqlparse\n",
      "  Downloading sqlparse-0.4.2-py3-none-any.whl (42 kB)\n",
      "\u001b[2K     \u001b[90m━━━━━━━━━━━━━━━━━━━━━━━━━━━━━━━━━━━━━━━━\u001b[0m \u001b[32m42.3/42.3 kB\u001b[0m \u001b[31m3.5 MB/s\u001b[0m eta \u001b[36m0:00:00\u001b[0m\n",
      "\u001b[?25hRequirement already satisfied: six in /Applications/anaconda3/envs/info2950/lib/python3.8/site-packages (from ipython-sql) (1.16.0)\n",
      "Collecting prettytable<1\n",
      "  Downloading prettytable-0.7.2.zip (28 kB)\n",
      "  Preparing metadata (setup.py) ... \u001b[?25ldone\n",
      "\u001b[?25hRequirement already satisfied: sqlalchemy>=0.6.7 in /Applications/anaconda3/envs/info2950/lib/python3.8/site-packages (from ipython-sql) (1.4.40)\n",
      "Requirement already satisfied: ipython>=1.0 in /Applications/anaconda3/envs/info2950/lib/python3.8/site-packages (from ipython-sql) (8.4.0)\n",
      "Requirement already satisfied: decorator in /Applications/anaconda3/envs/info2950/lib/python3.8/site-packages (from ipython>=1.0->ipython-sql) (5.1.1)\n",
      "Requirement already satisfied: traitlets>=5 in /Applications/anaconda3/envs/info2950/lib/python3.8/site-packages (from ipython>=1.0->ipython-sql) (5.1.1)\n",
      "Requirement already satisfied: setuptools>=18.5 in /Applications/anaconda3/envs/info2950/lib/python3.8/site-packages (from ipython>=1.0->ipython-sql) (63.4.1)\n",
      "Requirement already satisfied: prompt-toolkit!=3.0.0,!=3.0.1,<3.1.0,>=2.0.0 in /Applications/anaconda3/envs/info2950/lib/python3.8/site-packages (from ipython>=1.0->ipython-sql) (3.0.20)\n",
      "Requirement already satisfied: pygments>=2.4.0 in /Applications/anaconda3/envs/info2950/lib/python3.8/site-packages (from ipython>=1.0->ipython-sql) (2.11.2)\n",
      "Requirement already satisfied: matplotlib-inline in /Applications/anaconda3/envs/info2950/lib/python3.8/site-packages (from ipython>=1.0->ipython-sql) (0.1.2)\n",
      "Requirement already satisfied: stack-data in /Applications/anaconda3/envs/info2950/lib/python3.8/site-packages (from ipython>=1.0->ipython-sql) (0.2.0)\n",
      "Requirement already satisfied: pexpect>4.3 in /Applications/anaconda3/envs/info2950/lib/python3.8/site-packages (from ipython>=1.0->ipython-sql) (4.8.0)\n",
      "Requirement already satisfied: appnope in /Applications/anaconda3/envs/info2950/lib/python3.8/site-packages (from ipython>=1.0->ipython-sql) (0.1.2)\n",
      "Requirement already satisfied: jedi>=0.16 in /Applications/anaconda3/envs/info2950/lib/python3.8/site-packages (from ipython>=1.0->ipython-sql) (0.18.1)\n",
      "Requirement already satisfied: backcall in /Applications/anaconda3/envs/info2950/lib/python3.8/site-packages (from ipython>=1.0->ipython-sql) (0.2.0)\n",
      "Requirement already satisfied: pickleshare in /Applications/anaconda3/envs/info2950/lib/python3.8/site-packages (from ipython>=1.0->ipython-sql) (0.7.5)\n",
      "Requirement already satisfied: greenlet!=0.4.17 in /Applications/anaconda3/envs/info2950/lib/python3.8/site-packages (from sqlalchemy>=0.6.7->ipython-sql) (1.1.3)\n",
      "Requirement already satisfied: parso<0.9.0,>=0.8.0 in /Applications/anaconda3/envs/info2950/lib/python3.8/site-packages (from jedi>=0.16->ipython>=1.0->ipython-sql) (0.8.3)\n",
      "Requirement already satisfied: ptyprocess>=0.5 in /Applications/anaconda3/envs/info2950/lib/python3.8/site-packages (from pexpect>4.3->ipython>=1.0->ipython-sql) (0.7.0)\n",
      "Requirement already satisfied: wcwidth in /Applications/anaconda3/envs/info2950/lib/python3.8/site-packages (from prompt-toolkit!=3.0.0,!=3.0.1,<3.1.0,>=2.0.0->ipython>=1.0->ipython-sql) (0.2.5)\n",
      "Requirement already satisfied: asttokens in /Applications/anaconda3/envs/info2950/lib/python3.8/site-packages (from stack-data->ipython>=1.0->ipython-sql) (2.0.5)\n",
      "Requirement already satisfied: pure-eval in /Applications/anaconda3/envs/info2950/lib/python3.8/site-packages (from stack-data->ipython>=1.0->ipython-sql) (0.2.2)\n",
      "Requirement already satisfied: executing in /Applications/anaconda3/envs/info2950/lib/python3.8/site-packages (from stack-data->ipython>=1.0->ipython-sql) (0.8.3)\n",
      "Building wheels for collected packages: prettytable\n",
      "  Building wheel for prettytable (setup.py) ... \u001b[?25ldone\n",
      "\u001b[?25h  Created wheel for prettytable: filename=prettytable-0.7.2-py3-none-any.whl size=13695 sha256=c4d2f94b13e3417d1e18812051aa9f034d1a108ed4c250e2f9d85704ec42862c\n",
      "  Stored in directory: /Users/Nic/Library/Caches/pip/wheels/48/6d/77/9517cb933af254f51a446f1a5ec9c2be3e45f17384940bce68\n",
      "Successfully built prettytable\n",
      "Installing collected packages: prettytable, sqlparse, ipython-sql\n",
      "Successfully installed ipython-sql-0.4.1 prettytable-0.7.2 sqlparse-0.4.2\n"
     ]
    }
   ],
   "source": [
    "import sys\n",
    "!{sys.executable} -m pip install duckdb-engine\n",
    "!{sys.executable} -m pip install ipython-sql"
   ]
  },
  {
   "cell_type": "markdown",
   "metadata": {},
   "source": [
    "Installing a package is like downloading a file. It's now available, but you still have to open it."
   ]
  },
  {
   "cell_type": "code",
   "execution_count": 4,
   "metadata": {},
   "outputs": [
    {
     "name": "stderr",
     "output_type": "stream",
     "text": [
      "/Applications/anaconda3/envs/info2950/lib/python3.8/site-packages/scipy/__init__.py:146: UserWarning: A NumPy version >=1.16.5 and <1.23.0 is required for this version of SciPy (detected version 1.23.1\n",
      "  warnings.warn(f\"A NumPy version >={np_minversion} and <{np_maxversion}\"\n"
     ]
    }
   ],
   "source": [
    "import duckdb, sqlalchemy\n",
    "import seaborn"
   ]
  },
  {
   "cell_type": "markdown",
   "metadata": {},
   "source": [
    "The following commands start with `%`, which indicates they are for setting properties of the notebook itself, not code to be run. These define a new type of cell, `%sql`, which is interpreted as a SQL command rather than Python code. The configuration options are copied from [the DuckDB documentation](https://duckdb.org/docs/guides/python/jupyter)."
   ]
  },
  {
   "cell_type": "code",
   "execution_count": 5,
   "metadata": {},
   "outputs": [],
   "source": [
    "%load_ext sql\n",
    "\n",
    "%config SqlMagic.autopandas = True\n",
    "%config SqlMagic.feedback = False\n",
    "%config SqlMagic.displaycon = False\n",
    "\n",
    "%sql duckdb:///:memory:"
   ]
  },
  {
   "cell_type": "markdown",
   "metadata": {},
   "source": [
    "You must use single quotes for strings in `%sql` cells. You will get an error `Binder Error: Referenced column \"...\" not found in FROM clause!` if you use doublequotes. Here we'll select only the players who are defenders."
   ]
  },
  {
   "cell_type": "code",
   "execution_count": 7,
   "metadata": {},
   "outputs": [
    {
     "data": {
      "text/html": [
       "<div>\n",
       "<style scoped>\n",
       "    .dataframe tbody tr th:only-of-type {\n",
       "        vertical-align: middle;\n",
       "    }\n",
       "\n",
       "    .dataframe tbody tr th {\n",
       "        vertical-align: top;\n",
       "    }\n",
       "\n",
       "    .dataframe thead th {\n",
       "        text-align: right;\n",
       "    }\n",
       "</style>\n",
       "<table border=\"1\" class=\"dataframe\">\n",
       "  <thead>\n",
       "    <tr style=\"text-align: right;\">\n",
       "      <th></th>\n",
       "      <th>Name</th>\n",
       "      <th>Position</th>\n",
       "      <th>GamesPlayed</th>\n",
       "      <th>GamesStarted</th>\n",
       "      <th>Minutes</th>\n",
       "      <th>Goals</th>\n",
       "      <th>Assists</th>\n",
       "      <th>Yellow</th>\n",
       "      <th>Red</th>\n",
       "      <th>Caps</th>\n",
       "      <th>CareerGoals</th>\n",
       "    </tr>\n",
       "  </thead>\n",
       "  <tbody>\n",
       "    <tr>\n",
       "      <th>0</th>\n",
       "      <td>Cook, Alana</td>\n",
       "      <td>D</td>\n",
       "      <td>3</td>\n",
       "      <td>3</td>\n",
       "      <td>270</td>\n",
       "      <td>0</td>\n",
       "      <td>0</td>\n",
       "      <td>0</td>\n",
       "      <td>0</td>\n",
       "      <td>4</td>\n",
       "      <td>0</td>\n",
       "    </tr>\n",
       "    <tr>\n",
       "      <th>1</th>\n",
       "      <td>Dahlkemper, Abby</td>\n",
       "      <td>D</td>\n",
       "      <td>15</td>\n",
       "      <td>14</td>\n",
       "      <td>1308</td>\n",
       "      <td>0</td>\n",
       "      <td>0</td>\n",
       "      <td>0</td>\n",
       "      <td>0</td>\n",
       "      <td>77</td>\n",
       "      <td>0</td>\n",
       "    </tr>\n",
       "    <tr>\n",
       "      <th>2</th>\n",
       "      <td>Davidson, Tierna</td>\n",
       "      <td>D</td>\n",
       "      <td>19</td>\n",
       "      <td>14</td>\n",
       "      <td>1258</td>\n",
       "      <td>0</td>\n",
       "      <td>2</td>\n",
       "      <td>0</td>\n",
       "      <td>0</td>\n",
       "      <td>45</td>\n",
       "      <td>1</td>\n",
       "    </tr>\n",
       "    <tr>\n",
       "      <th>3</th>\n",
       "      <td>Dorsey, Imani</td>\n",
       "      <td>D</td>\n",
       "      <td>1</td>\n",
       "      <td>0</td>\n",
       "      <td>12</td>\n",
       "      <td>0</td>\n",
       "      <td>0</td>\n",
       "      <td>0</td>\n",
       "      <td>0</td>\n",
       "      <td>1</td>\n",
       "      <td>0</td>\n",
       "    </tr>\n",
       "    <tr>\n",
       "      <th>4</th>\n",
       "      <td>Dunn, Crystal</td>\n",
       "      <td>D</td>\n",
       "      <td>18</td>\n",
       "      <td>17</td>\n",
       "      <td>1424</td>\n",
       "      <td>0</td>\n",
       "      <td>2</td>\n",
       "      <td>0</td>\n",
       "      <td>0</td>\n",
       "      <td>123</td>\n",
       "      <td>24</td>\n",
       "    </tr>\n",
       "  </tbody>\n",
       "</table>\n",
       "</div>"
      ],
      "text/plain": [
       "               Name Position  GamesPlayed  GamesStarted  Minutes  Goals  \\\n",
       "0       Cook, Alana        D            3             3      270      0   \n",
       "1  Dahlkemper, Abby        D           15            14     1308      0   \n",
       "2  Davidson, Tierna        D           19            14     1258      0   \n",
       "3     Dorsey, Imani        D            1             0       12      0   \n",
       "4     Dunn, Crystal        D           18            17     1424      0   \n",
       "\n",
       "   Assists  Yellow  Red  Caps  CareerGoals  \n",
       "0        0       0    0     4            0  \n",
       "1        0       0    0    77            0  \n",
       "2        2       0    0    45            1  \n",
       "3        0       0    0     1            0  \n",
       "4        2       0    0   123           24  "
      ]
     },
     "execution_count": 7,
     "metadata": {},
     "output_type": "execute_result"
    }
   ],
   "source": [
    "%sql select * from season_df where Position = 'D' order by Name limit 5"
   ]
  },
  {
   "cell_type": "markdown",
   "metadata": {},
   "source": [
    "In this cell we're using some non-standard SQL syntax to save the output of a query into a new data frame called `forwards_df`. Since goals and assists are both relatively rare events, I'm adding them together to get an aggregate \"scoring events\" variable. Next I'm going to plot this value against minutes played to see if there is a correlation for forwards."
   ]
  },
  {
   "cell_type": "code",
   "execution_count": 8,
   "metadata": {},
   "outputs": [
    {
     "name": "stdout",
     "output_type": "stream",
     "text": [
      "Returning data to local variable forwards_df\n"
     ]
    }
   ],
   "source": [
    "%sql forwards_df << select Minutes, Goals + Assists as Scoring from season_df where Position = 'F'"
   ]
  },
  {
   "cell_type": "code",
   "execution_count": 10,
   "metadata": {},
   "outputs": [
    {
     "data": {
      "text/plain": [
       "<AxesSubplot:xlabel='Minutes', ylabel='Scoring'>"
      ]
     },
     "execution_count": 10,
     "metadata": {},
     "output_type": "execute_result"
    },
    {
     "data": {
      "image/png": "[encoded data removed]",
      "text/plain": [
       "<Figure size 432x288 with 1 Axes>"
      ]
     },
     "metadata": {
      "needs_background": "light"
     },
     "output_type": "display_data"
    }
   ],
   "source": [
    "seaborn.scatterplot(x=\"Minutes\", y=\"Scoring\", data=forwards_df)"
   ]
  },
  {
   "cell_type": "markdown",
   "metadata": {
    "problem": 8
   },
   "source": [
    "---\n",
    "\n",
    "## Problem 8 (2 pts)\n",
    "Consult the [documentation](https://seaborn.pydata.org/generated/seaborn.scatterplot.html#seaborn.scatterplot) for a scatter plot. Work with a group in your discussion section to try variations showing two or more variables in different ways. Choose your favorite and include it in the version you turn in.\n",
    "\n",
    " \n",
    "---"
   ]
  },
  {
   "cell_type": "code",
   "execution_count": 17,
   "metadata": {},
   "outputs": [
    {
     "data": {
      "text/plain": [
       "<AxesSubplot:xlabel='Minutes', ylabel='Scoring'>"
      ]
     },
     "execution_count": 17,
     "metadata": {},
     "output_type": "execute_result"
    },
    {
     "data": {
      "image/png": "[encoded data removed]",
      "text/plain": [
       "<Figure size 432x288 with 1 Axes>"
      ]
     },
     "metadata": {
      "needs_background": "light"
     },
     "output_type": "display_data"
    }
   ],
   "source": [
    "seaborn.scatterplot(x=\"Minutes\", y=\"Scoring\", data=forwards_df)"
   ]
  },
  {
   "cell_type": "code",
   "execution_count": null,
   "metadata": {},
   "outputs": [],
   "source": []
  }
 ],
 "metadata": {
  "kernelspec": {
   "display_name": "Python 3 (ipykernel)",
   "language": "python",
   "name": "python3"
  },
  "language_info": {
   "codemirror_mode": {
    "name": "ipython",
    "version": 3
   },
   "file_extension": ".py",
   "mimetype": "text/x-python",
   "name": "python",
   "nbconvert_exporter": "python",
   "pygments_lexer": "ipython3",
   "version": "3.8.13"
  }
 },
 "nbformat": 4,
 "nbformat_minor": 4
}
