{
 "cells": [
  {
   "cell_type": "markdown",
   "id": "95fdaabe",
   "metadata": {
    "id": "95fdaabe"
   },
   "source": [
    "# INFO 2950 Homework 5\n",
    "\n"
   ]
  },
  {
   "cell_type": "code",
   "execution_count": 1,
   "id": "f60fa0af",
   "metadata": {
    "id": "f60fa0af"
   },
   "outputs": [],
   "source": [
    "import pandas as pd\n",
    "import numpy as np\n",
    "\n",
    "from sklearn.linear_model import LinearRegression, LogisticRegression\n",
    "from sklearn.model_selection import train_test_split, KFold, cross_val_score\n",
    "from sklearn import metrics\n",
    "from sklearn.metrics import PrecisionRecallDisplay\n",
    "\n",
    "import seaborn as sns\n",
    "import matplotlib.pyplot as plt"
   ]
  },
  {
   "cell_type": "markdown",
   "id": "665a9fd0",
   "metadata": {
    "id": "665a9fd0"
   },
   "source": [
    "## Part 1: predict diamond prices\n",
    "\n",
    "This problem is based on an example in *R for Data Science* by Wickham and Grolemund. The file `diamonds.csv` contains measurements of the size, quality, and price of diamonds. Can we predict the price based on different attributes?\n",
    "\n",
    "### Q1. Import data (2 points)\n",
    "\n",
    "Create a DataFrame using `pandas` from the CSV file. Display the first five rows using the `head()` function."
   ]
  },
  {
   "cell_type": "code",
   "execution_count": 2,
   "id": "ff59cd69",
   "metadata": {
    "id": "ff59cd69"
   },
   "outputs": [
    {
     "data": {
      "text/html": [
       "<div>\n",
       "<style scoped>\n",
       "    .dataframe tbody tr th:only-of-type {\n",
       "        vertical-align: middle;\n",
       "    }\n",
       "\n",
       "    .dataframe tbody tr th {\n",
       "        vertical-align: top;\n",
       "    }\n",
       "\n",
       "    .dataframe thead th {\n",
       "        text-align: right;\n",
       "    }\n",
       "</style>\n",
       "<table border=\"1\" class=\"dataframe\">\n",
       "  <thead>\n",
       "    <tr style=\"text-align: right;\">\n",
       "      <th></th>\n",
       "      <th>carat</th>\n",
       "      <th>cut</th>\n",
       "      <th>color</th>\n",
       "      <th>clarity</th>\n",
       "      <th>depth</th>\n",
       "      <th>table</th>\n",
       "      <th>price</th>\n",
       "      <th>x</th>\n",
       "      <th>y</th>\n",
       "      <th>z</th>\n",
       "    </tr>\n",
       "  </thead>\n",
       "  <tbody>\n",
       "    <tr>\n",
       "      <th>0</th>\n",
       "      <td>0.23</td>\n",
       "      <td>Ideal</td>\n",
       "      <td>E</td>\n",
       "      <td>SI2</td>\n",
       "      <td>61.5</td>\n",
       "      <td>55.0</td>\n",
       "      <td>326</td>\n",
       "      <td>3.95</td>\n",
       "      <td>3.98</td>\n",
       "      <td>2.43</td>\n",
       "    </tr>\n",
       "    <tr>\n",
       "      <th>1</th>\n",
       "      <td>0.21</td>\n",
       "      <td>Premium</td>\n",
       "      <td>E</td>\n",
       "      <td>SI1</td>\n",
       "      <td>59.8</td>\n",
       "      <td>61.0</td>\n",
       "      <td>326</td>\n",
       "      <td>3.89</td>\n",
       "      <td>3.84</td>\n",
       "      <td>2.31</td>\n",
       "    </tr>\n",
       "    <tr>\n",
       "      <th>2</th>\n",
       "      <td>0.23</td>\n",
       "      <td>Good</td>\n",
       "      <td>E</td>\n",
       "      <td>VS1</td>\n",
       "      <td>56.9</td>\n",
       "      <td>65.0</td>\n",
       "      <td>327</td>\n",
       "      <td>4.05</td>\n",
       "      <td>4.07</td>\n",
       "      <td>2.31</td>\n",
       "    </tr>\n",
       "    <tr>\n",
       "      <th>3</th>\n",
       "      <td>0.29</td>\n",
       "      <td>Premium</td>\n",
       "      <td>I</td>\n",
       "      <td>VS2</td>\n",
       "      <td>62.4</td>\n",
       "      <td>58.0</td>\n",
       "      <td>334</td>\n",
       "      <td>4.20</td>\n",
       "      <td>4.23</td>\n",
       "      <td>2.63</td>\n",
       "    </tr>\n",
       "    <tr>\n",
       "      <th>4</th>\n",
       "      <td>0.31</td>\n",
       "      <td>Good</td>\n",
       "      <td>J</td>\n",
       "      <td>SI2</td>\n",
       "      <td>63.3</td>\n",
       "      <td>58.0</td>\n",
       "      <td>335</td>\n",
       "      <td>4.34</td>\n",
       "      <td>4.35</td>\n",
       "      <td>2.75</td>\n",
       "    </tr>\n",
       "  </tbody>\n",
       "</table>\n",
       "</div>"
      ],
      "text/plain": [
       "   carat      cut color clarity  depth  table  price     x     y     z\n",
       "0   0.23    Ideal     E     SI2   61.5   55.0    326  3.95  3.98  2.43\n",
       "1   0.21  Premium     E     SI1   59.8   61.0    326  3.89  3.84  2.31\n",
       "2   0.23     Good     E     VS1   56.9   65.0    327  4.05  4.07  2.31\n",
       "3   0.29  Premium     I     VS2   62.4   58.0    334  4.20  4.23  2.63\n",
       "4   0.31     Good     J     SI2   63.3   58.0    335  4.34  4.35  2.75"
      ]
     },
     "execution_count": 2,
     "metadata": {},
     "output_type": "execute_result"
    }
   ],
   "source": [
    "diamonds_df = pd.read_csv(\"diamonds.csv\")\n",
    "diamonds_df.head(n=5)"
   ]
  },
  {
   "cell_type": "markdown",
   "id": "d1e60fdf",
   "metadata": {
    "id": "d1e60fdf"
   },
   "source": [
    "### Q2. Coding observations as numbers (5 points)\n",
    "\n",
    "Linear regression assumes that the input values are numbers, but the values for several attributes are strings. Use the `map()` function to replace these string values to numeric values. In class we used a function, but you can also just pass a dictionary with substitutions. I'm including three dictionaries with appropriate values for the fields you need to convert. Display the first five rows after the transformation."
   ]
  },
  {
   "cell_type": "code",
   "execution_count": 3,
   "id": "b35ba148",
   "metadata": {
    "id": "b35ba148"
   },
   "outputs": [],
   "source": [
    "# These dictionaries map strings to numeric values for three\n",
    "# categories of diamond quality. Larger numbers are associated\n",
    "# with higher quality.\n",
    "\n",
    "cut_map = {\"Fair\": 1, \"Good\": 2, \"Very Good\": 3, \"Premium\": 4, \"Ideal\": 5}\n",
    "color_map = {\"J\": 1, \"I\": 2, \"H\": 3, \"G\": 4, \"F\": 5, \"E\": 6, \"D\": 7}\n",
    "clarity_map = {\"I1\": 1, \"SI2\": 2, \"SI1\": 3, \"VS2\": 4, \"VS1\": 5, \"VVS2\": 6, \"VVS1\": 7, \"IF\": 8}\n"
   ]
  },
  {
   "cell_type": "code",
   "execution_count": 4,
   "id": "4aa97d9e",
   "metadata": {
    "id": "4aa97d9e"
   },
   "outputs": [
    {
     "data": {
      "text/html": [
       "<div>\n",
       "<style scoped>\n",
       "    .dataframe tbody tr th:only-of-type {\n",
       "        vertical-align: middle;\n",
       "    }\n",
       "\n",
       "    .dataframe tbody tr th {\n",
       "        vertical-align: top;\n",
       "    }\n",
       "\n",
       "    .dataframe thead th {\n",
       "        text-align: right;\n",
       "    }\n",
       "</style>\n",
       "<table border=\"1\" class=\"dataframe\">\n",
       "  <thead>\n",
       "    <tr style=\"text-align: right;\">\n",
       "      <th></th>\n",
       "      <th>carat</th>\n",
       "      <th>cut</th>\n",
       "      <th>color</th>\n",
       "      <th>clarity</th>\n",
       "      <th>depth</th>\n",
       "      <th>table</th>\n",
       "      <th>price</th>\n",
       "      <th>x</th>\n",
       "      <th>y</th>\n",
       "      <th>z</th>\n",
       "    </tr>\n",
       "  </thead>\n",
       "  <tbody>\n",
       "    <tr>\n",
       "      <th>0</th>\n",
       "      <td>0.23</td>\n",
       "      <td>5</td>\n",
       "      <td>6</td>\n",
       "      <td>2</td>\n",
       "      <td>61.5</td>\n",
       "      <td>55.0</td>\n",
       "      <td>326</td>\n",
       "      <td>3.95</td>\n",
       "      <td>3.98</td>\n",
       "      <td>2.43</td>\n",
       "    </tr>\n",
       "    <tr>\n",
       "      <th>1</th>\n",
       "      <td>0.21</td>\n",
       "      <td>4</td>\n",
       "      <td>6</td>\n",
       "      <td>3</td>\n",
       "      <td>59.8</td>\n",
       "      <td>61.0</td>\n",
       "      <td>326</td>\n",
       "      <td>3.89</td>\n",
       "      <td>3.84</td>\n",
       "      <td>2.31</td>\n",
       "    </tr>\n",
       "    <tr>\n",
       "      <th>2</th>\n",
       "      <td>0.23</td>\n",
       "      <td>2</td>\n",
       "      <td>6</td>\n",
       "      <td>5</td>\n",
       "      <td>56.9</td>\n",
       "      <td>65.0</td>\n",
       "      <td>327</td>\n",
       "      <td>4.05</td>\n",
       "      <td>4.07</td>\n",
       "      <td>2.31</td>\n",
       "    </tr>\n",
       "    <tr>\n",
       "      <th>3</th>\n",
       "      <td>0.29</td>\n",
       "      <td>4</td>\n",
       "      <td>2</td>\n",
       "      <td>4</td>\n",
       "      <td>62.4</td>\n",
       "      <td>58.0</td>\n",
       "      <td>334</td>\n",
       "      <td>4.20</td>\n",
       "      <td>4.23</td>\n",
       "      <td>2.63</td>\n",
       "    </tr>\n",
       "    <tr>\n",
       "      <th>4</th>\n",
       "      <td>0.31</td>\n",
       "      <td>2</td>\n",
       "      <td>1</td>\n",
       "      <td>2</td>\n",
       "      <td>63.3</td>\n",
       "      <td>58.0</td>\n",
       "      <td>335</td>\n",
       "      <td>4.34</td>\n",
       "      <td>4.35</td>\n",
       "      <td>2.75</td>\n",
       "    </tr>\n",
       "  </tbody>\n",
       "</table>\n",
       "</div>"
      ],
      "text/plain": [
       "   carat  cut  color  clarity  depth  table  price     x     y     z\n",
       "0   0.23    5      6        2   61.5   55.0    326  3.95  3.98  2.43\n",
       "1   0.21    4      6        3   59.8   61.0    326  3.89  3.84  2.31\n",
       "2   0.23    2      6        5   56.9   65.0    327  4.05  4.07  2.31\n",
       "3   0.29    4      2        4   62.4   58.0    334  4.20  4.23  2.63\n",
       "4   0.31    2      1        2   63.3   58.0    335  4.34  4.35  2.75"
      ]
     },
     "execution_count": 4,
     "metadata": {},
     "output_type": "execute_result"
    }
   ],
   "source": [
    "diamonds_df[\"cut\"] = diamonds_df[\"cut\"].map(cut_map)\n",
    "\n",
    "diamonds_df[\"color\"] = diamonds_df[\"color\"].map(color_map) \n",
    "\n",
    "diamonds_df[\"clarity\"] = diamonds_df[\"clarity\"].map(clarity_map) \n",
    "\n",
    "\n",
    "(diamonds_df.head(n=5)) "
   ]
  },
  {
   "cell_type": "markdown",
   "id": "d276572c",
   "metadata": {
    "id": "d276572c"
   },
   "source": [
    "### Q3: Train/test split (5 points)\n",
    "\n",
    "Use the function `train_test_split` to create two new dataframes, `diamonds_train` and `diamonds_test`, with testing proportion 10% and random state 2950 (setting the random seed will ensure that the TAs can check your outputs quickly).\n",
    "\n",
    "Print the shape of the two arrays and the first row of the training set. **Confidence check:** the first row of the train data should have index 3651.\n",
    "\n",
    "Note: in the slides we split two arrays (`X` and `y`) simultaneously, you  can also split just one."
   ]
  },
  {
   "cell_type": "code",
   "execution_count": 5,
   "id": "d7b12607",
   "metadata": {
    "id": "d7b12607"
   },
   "outputs": [],
   "source": [
    "diamonds_train, diamonds_test = train_test_split(diamonds_df, test_size = 0.1, random_state = 2950) "
   ]
  },
  {
   "cell_type": "code",
   "execution_count": 6,
   "id": "0aaa4d99",
   "metadata": {
    "id": "0aaa4d99"
   },
   "outputs": [
    {
     "name": "stdout",
     "output_type": "stream",
     "text": [
      "(48546, 10)\n",
      "(5394, 10)\n",
      "      carat  cut  color  clarity  depth  table  price     x     y     z\n",
      "3651   0.73    5      2        4   60.8   56.0   3438  5.82  5.85  3.55\n"
     ]
    }
   ],
   "source": [
    "#diamonds_train.iloc[2]\n",
    "\n",
    "print(diamonds_train.shape)\n",
    "print(diamonds_test.shape)\n",
    "print(diamonds_train.head(1))"
   ]
  },
  {
   "cell_type": "markdown",
   "id": "6a87794f",
   "metadata": {
    "id": "6a87794f"
   },
   "source": [
    "### Q4: Single regressions (15 points)\n",
    "\n",
    "Create a function `run_regression` that takes four arguments:\n",
    "* a **list** of variable name strings\n",
    "* a training  set\n",
    "* a testing set\n",
    "* the name of the predicted target variable\n",
    "\n",
    "In the function, create a `LinearRegression` model and fit it with the training data. Then generate predictions for the training data and the test data. Use `numpy` functions to calculate the mean squared error between predicted price and actual price. Finally print the list of variables, the coefficients and intercept from the model, the train and test RMSE, and the train and test MAE.\n",
    "\n",
    "Iterate through list of variables names, `carat`, `cut`, `color`, and `clarity`, and generate training and test predictions for each variable with your `run_regression` function. \n",
    "\n",
    "In  the markdown cell below, for each of the four models discuss the interpretation of the parameters (intercept and coefficients). Then state whether the sign of the slope parameters matches your expectations, and why or why not.\n",
    "\n",
    "Finally, plot the regression line with a confidence interval for the input `carat` and output `price`. Describe in your own words what the CI tells you."
   ]
  },
  {
   "cell_type": "code",
   "execution_count": 7,
   "id": "365224d2",
   "metadata": {
    "id": "365224d2"
   },
   "outputs": [],
   "source": [
    "\n",
    "def run_regression(var_list, train, test, tar_var):\n",
    "    \n",
    "    #xtrain = np.array(train[var_list]).reshape(-1, 1)\n",
    "    xtrain = np.array(train[var_list])\n",
    "    ytrain = np.array(train[tar_var]) \n",
    "    \n",
    "    #xtest = np.array(test[var_list]).reshape(-1, 1)\n",
    "    xtest = np.array(test[var_list])\n",
    "    ytest = np.array(test[tar_var]) \n",
    "    \n",
    "    model= LinearRegression().fit(xtrain, ytrain)\n",
    "    y_train_prediction = model.predict(xtrain)\n",
    "    y_test_prediction = model.predict(xtest)\n",
    "    \n",
    "    #print list of variables \n",
    "    print(\"variable:\")\n",
    "    print(var_list)\n",
    "    \n",
    "    #print coefficient and intercept\n",
    "    \n",
    "    print(\"coefficient:\")\n",
    "    print(model.coef_) \n",
    "    \n",
    "    print(\"intercept\")\n",
    "    print(model.intercept_)\n",
    "    \n",
    "    #print train and test RMSE\n",
    "    print(\"train RMSE\")\n",
    "    print((np.square(ytrain - y_train_prediction).mean())**0.5 )\n",
    "    \n",
    "    print(\"test RMSE\")\n",
    "    print((np.square(ytest -y_test_prediction).mean())**0.5)\n",
    "    \n",
    "    #print train and test MAE\n",
    "    print(\"train MAE\")\n",
    "    print( metrics.mean_absolute_error(ytrain, y_train_prediction))\n",
    "    \n",
    "    print (\"test MAE\") \n",
    "    print(metrics.mean_absolute_error(ytest, y_test_prediction))"
   ]
  },
  {
   "cell_type": "code",
   "execution_count": 8,
   "id": "d41daf00",
   "metadata": {
    "id": "d41daf00"
   },
   "outputs": [
    {
     "name": "stdout",
     "output_type": "stream",
     "text": [
      "\n",
      "\n",
      "variable:\n",
      "['carat']\n",
      "coefficient:\n",
      "[7754.59319528]\n",
      "intercept\n",
      "-2254.324910815912\n",
      "train RMSE\n",
      "1549.0130044812227\n",
      "test RMSE\n",
      "1544.2116892066142\n",
      "train MAE\n",
      "1008.3951957251111\n",
      "test MAE\n",
      "997.3748627257746\n",
      "\n",
      "\n",
      "variable:\n",
      "['cut']\n",
      "coefficient:\n",
      "[-196.1281576]\n",
      "intercept\n",
      "4703.394248802723\n",
      "train RMSE\n",
      "3994.378583760071\n",
      "test RMSE\n",
      "3886.2547865726347\n",
      "train MAE\n",
      "3029.6963453969056\n",
      "test MAE\n",
      "2943.789156955115\n",
      "\n",
      "\n",
      "variable:\n",
      "['color']\n",
      "coefficient:\n",
      "[-404.30984045]\n",
      "intercept\n",
      "5719.348163738857\n",
      "train RMSE\n",
      "3940.7875416414777\n",
      "test RMSE\n",
      "3827.3953722299793\n",
      "train MAE\n",
      "2968.1419712674997\n",
      "test MAE\n",
      "2870.75168499773\n",
      "\n",
      "\n",
      "variable:\n",
      "['clarity']\n",
      "coefficient:\n",
      "[-358.15153861]\n",
      "intercept\n",
      "5388.035138282368\n",
      "train RMSE\n",
      "3956.6970601364324\n",
      "test RMSE\n",
      "3850.3058843557774\n",
      "train MAE\n",
      "2957.7128041841\n",
      "test MAE\n",
      "2863.6061218451364\n",
      "AxesSubplot(0.125,0.125;0.775x0.755)\n"
     ]
    },
    {
     "data": {
      "image/png": "[encoded data removed]",
      "text/plain": [
       "<Figure size 432x288 with 1 Axes>"
      ]
     },
     "metadata": {
      "needs_background": "light"
     },
     "output_type": "display_data"
    }
   ],
   "source": [
    "variables_list = [\"carat\", \"cut\", \"color\", \"clarity\"]\n",
    "\n",
    "for i in variables_list: \n",
    "    print(\"\\n\")\n",
    "    run_regression([i], diamonds_train, diamonds_test, \"price\") \n",
    "\n",
    "\n",
    "\n",
    "print(sns.regplot(x=diamonds_df[\"carat\"], y=diamonds_df[\"price\"], ci=95 )) "
   ]
  },
  {
   "cell_type": "markdown",
   "id": "2a73343d",
   "metadata": {
    "id": "2a73343d"
   },
   "source": [
    "**Discuss the four models here**\n",
    "\n",
    "The four models I have vary in terms of intercept and coefficient value which is to be expected because different factors will influence the data in different ways. The Cut, Color, and Clarity Coefficients surprised me because I would expect a positive coefficient but instead I saw a negative coefficient for each of these. I would say that this is likely because other factors are influencing the overall result and that's why on these individual variables we see a negative coefficient value. Of course, more than one variable (a combination of variables) in actuality contributes to the price of a diamond, so all of these variables probably interact with each other. \n",
    "\n",
    "\n",
    "In the markdown cell below, for each of the four models discuss the interpretation of the parameters (intercept and coefficients). Then state whether the sign of the slope parameters matches your expectations, and why or why not.\n",
    "\n",
    "['carat']\n",
    "coefficient:\n",
    "[7754.59319528]  So I would expect an increase of about $7754.59 for each additional carat, and this coefficient is positive which makes sense to me. \n",
    "intercept\n",
    "-2254.324910815912 -- the price the model expects for a carat of 0. This is not a realistic prediction, but a carat of 0 would not be a diamond so I'm not sure that that is realistic either. \\\n",
    "\n",
    "\n",
    "variable:\n",
    "['cut']\n",
    "coefficient:\n",
    "[-196.1281576]- model expects decrease of 196.13 dollars for each incremental increase in our cut scoring system. Not what I would expect because diamonds with better cuts should cost more. \n",
    "intercept\n",
    "4703.394248802723 for a cut of score 0 the model predicts a price of 4703.39 USD but this is not possible because the lowest score that our model allows for is a 1 and not a 0. \n",
    "\n",
    "\n",
    "['color']\n",
    "coefficient:\n",
    "[-404.30984045] so out model predicts that for every single step increase in our colour scoring, a decrease of 404.31 dollars in the price but I wouldn't expect this because better-coloured /more highly ranked coloured diamonds should be worth more. \n",
    "intercept\n",
    "5719.348163738857 the model expects for a colour score of 0 a price of 5719.35 USD which is not possible because the lowest score that our model allows for is a 1 and not a 0 \n",
    "\n",
    "\n",
    "['clarity']\n",
    "coefficient:\n",
    "[-358.15153861] this means that our model predicts that for every single step discrete increase in our clarity scoring system, there would be a decrease in the price by 358.15 USD which of course I wouldn't expect because as the rating of clarity goes up, so should the price. \n",
    "intercept\n",
    "5388.035138282368 the model predicts for clarity score 0, a price of 5388.04 USD which is not possible because of how the scoring system works-- the lowest score possible is a 1 and not a 0  \n",
    "\n"
   ]
  },
  {
   "cell_type": "code",
   "execution_count": null,
   "id": "21be98c1",
   "metadata": {
    "id": "21be98c1"
   },
   "outputs": [],
   "source": []
  },
  {
   "cell_type": "markdown",
   "id": "7df73469",
   "metadata": {
    "id": "7df73469"
   },
   "source": [
    "**Describe the CI here**\n",
    "\n",
    "the confidence interval exists because it is inherent to the regression plot on seaborn but on our chart it is too small to see. Having a small interval aids our certainty, because the small interval means we can be more certain of our model"
   ]
  },
  {
   "cell_type": "markdown",
   "id": "fe0a17d8",
   "metadata": {
    "id": "fe0a17d8"
   },
   "source": [
    "### Q5. Multiple regression (15 points)\n",
    "\n",
    "Now call the same function with all four inputs to predict `price`. Describe how the coefficients are or are not different from the individual regressions. If they are different, make an argument about why modeling these variables jointly would result in different relationships than modeling them individually. (**Hint:** think about the relationship between the size of diamonds and their quality, both in terms of geology and markets)\n",
    "\n",
    "Next, describe the train and test evaluation metrics you got. Should we be concerned about overfitting? Between RMSE and MAE, which metric takes outliers into account more?\n",
    "\n",
    "Lastly, let's explore bootstrapping. First, make 1000 bootstrapped samples of the full diamonds dataset. Then, train models on each of those samples. Finally, plot the distribution of the coefficient $\\beta$ for the `carat` variable. Describe what this distribution tells you, and how it relates to your output in the first part of this question."
   ]
  },
  {
   "cell_type": "code",
   "execution_count": 9,
   "id": "46b53556",
   "metadata": {
    "id": "46b53556"
   },
   "outputs": [
    {
     "name": "stdout",
     "output_type": "stream",
     "text": [
      "variable:\n",
      "['carat', 'cut', 'color', 'clarity']\n",
      "coefficient:\n",
      "[8775.83453445  153.82203811  319.83314131  524.35086914]\n",
      "intercept\n",
      "-7201.687163566516\n",
      "train RMSE\n",
      "1236.5781546041733\n",
      "test RMSE\n",
      "1220.6376811712876\n",
      "train MAE\n",
      "856.1542839519135\n",
      "test MAE\n",
      "845.0680090353013\n"
     ]
    },
    {
     "data": {
      "image/png": "[encoded data removed]",
      "text/plain": [
       "<Figure size 432x288 with 1 Axes>"
      ]
     },
     "metadata": {
      "needs_background": "light"
     },
     "output_type": "display_data"
    }
   ],
   "source": [
    "variables_list = [\"carat\", \"cut\", \"color\", \"clarity\"]\n",
    "\n",
    "run_regression(variables_list, diamonds_train, diamonds_test, \"price\")\n",
    "\n",
    "\n",
    "\n",
    "bs_coef = np.zeros(1000)\n",
    "for i in range (1000): \n",
    "    bs_sample = diamonds_df.sample(n=diamonds_df.shape[0], replace=True)\n",
    "    model = LinearRegression().fit(bs_sample[[\"carat\", \"cut\", \"color\", \"clarity\"]], bs_sample[[\"price\"]])\n",
    "    bs_coef[i] = model.coef_[0][0]\n",
    "\n",
    "plt.hist(bs_coef) \n",
    "plt.show() "
   ]
  },
  {
   "cell_type": "markdown",
   "id": "e74e25b6",
   "metadata": {
    "id": "e74e25b6"
   },
   "source": [
    "**Discuss the multi-input model here**\n",
    "\n",
    "our multiple input model makes more sense to me because all of the coefficients are positive, which is what I would expect to see. These variables probably interact with each other in more complex ways than the model represents. \n",
    "In diamonds carat quality is the biggest determiner of price, and the other factors are often contingent on that. As carat size increases you are less likely to find diamonds with good cut colour and clarity, so there seems to be an inverse relationship between the two. I would say that overall, our multivariable model makes the most sense to me. "
   ]
  },
  {
   "cell_type": "markdown",
   "id": "e6f04e0f",
   "metadata": {
    "id": "e6f04e0f"
   },
   "source": [
    "**Discuss the evaluation metrics here**\n",
    "\n",
    "train RMSE\n",
    "1236.5781546041733\n",
    "\n",
    "test RMSE\n",
    "1220.6376811712876\n",
    "\n",
    "train MAE\n",
    "856.1542839519135\n",
    "\n",
    "test MAE\n",
    "845.0680090353013\n",
    "\n",
    "\n",
    "Root Mean Squared Error (RMSE) and Mean Absolute Error (MAE) are metrics used for numerical non-binary outputs so we are using it in this situation. And I would say that, according to my online research, \"RMSE is more sensitive to outliers than the MAE.\" the test and train RMSE and MAE are relatively similar but not the same, but I would say overall, these results make sense and are what I would expect.\n",
    "\n",
    "One of the pros of using a train/test split is \"confirmation that you’re not overfitting across variables\" according to the class slides"
   ]
  },
  {
   "cell_type": "code",
   "execution_count": null,
   "id": "dfb8cf47",
   "metadata": {
    "id": "dfb8cf47"
   },
   "outputs": [],
   "source": []
  },
  {
   "cell_type": "markdown",
   "id": "8750afc2",
   "metadata": {
    "id": "8750afc2"
   },
   "source": [
    "**Describe what the $\\beta$ distribution tells you**\n",
    "\n",
    "it shows the distribution of  $\\beta$ based on our bootstrapped samples. So based on our samples, some of the coefficients are higher and some are lower, but they are all centered around the actual  $\\beta$ that we have, which is 8775.83453445. The distribution is bell shaped and looks to be fairly normal "
   ]
  },
  {
   "cell_type": "markdown",
   "id": "ddb4fa42",
   "metadata": {
    "id": "ddb4fa42"
   },
   "source": [
    "## Part 2: Cars\n",
    "\n",
    "For the remaining part of the homework we'll be working with a [dataset of information about cars](https://www.kaggle.com/toramky/automobile-dataset) that was compiled in 1985."
   ]
  },
  {
   "cell_type": "code",
   "execution_count": 10,
   "id": "c9efa927",
   "metadata": {
    "id": "c9efa927",
    "outputId": "7efd851c-612e-429a-86c9-259b2e1a2fcb"
   },
   "outputs": [
    {
     "name": "stdout",
     "output_type": "stream",
     "text": [
      "(205, 26)\n"
     ]
    },
    {
     "data": {
      "text/html": [
       "<div>\n",
       "<style scoped>\n",
       "    .dataframe tbody tr th:only-of-type {\n",
       "        vertical-align: middle;\n",
       "    }\n",
       "\n",
       "    .dataframe tbody tr th {\n",
       "        vertical-align: top;\n",
       "    }\n",
       "\n",
       "    .dataframe thead th {\n",
       "        text-align: right;\n",
       "    }\n",
       "</style>\n",
       "<table border=\"1\" class=\"dataframe\">\n",
       "  <thead>\n",
       "    <tr style=\"text-align: right;\">\n",
       "      <th></th>\n",
       "      <th>symboling</th>\n",
       "      <th>normalized-losses</th>\n",
       "      <th>make</th>\n",
       "      <th>fuel-type</th>\n",
       "      <th>aspiration</th>\n",
       "      <th>num-of-doors</th>\n",
       "      <th>body-style</th>\n",
       "      <th>drive-wheels</th>\n",
       "      <th>engine-location</th>\n",
       "      <th>wheel-base</th>\n",
       "      <th>...</th>\n",
       "      <th>engine-size</th>\n",
       "      <th>fuel-system</th>\n",
       "      <th>bore</th>\n",
       "      <th>stroke</th>\n",
       "      <th>compression-ratio</th>\n",
       "      <th>horsepower</th>\n",
       "      <th>peak-rpm</th>\n",
       "      <th>city-mpg</th>\n",
       "      <th>highway-mpg</th>\n",
       "      <th>price</th>\n",
       "    </tr>\n",
       "  </thead>\n",
       "  <tbody>\n",
       "    <tr>\n",
       "      <th>0</th>\n",
       "      <td>3</td>\n",
       "      <td>?</td>\n",
       "      <td>alfa-romero</td>\n",
       "      <td>gas</td>\n",
       "      <td>std</td>\n",
       "      <td>two</td>\n",
       "      <td>convertible</td>\n",
       "      <td>rwd</td>\n",
       "      <td>front</td>\n",
       "      <td>88.6</td>\n",
       "      <td>...</td>\n",
       "      <td>130</td>\n",
       "      <td>mpfi</td>\n",
       "      <td>3.47</td>\n",
       "      <td>2.68</td>\n",
       "      <td>9.0</td>\n",
       "      <td>111</td>\n",
       "      <td>5000</td>\n",
       "      <td>21</td>\n",
       "      <td>27</td>\n",
       "      <td>13495</td>\n",
       "    </tr>\n",
       "    <tr>\n",
       "      <th>1</th>\n",
       "      <td>3</td>\n",
       "      <td>?</td>\n",
       "      <td>alfa-romero</td>\n",
       "      <td>gas</td>\n",
       "      <td>std</td>\n",
       "      <td>two</td>\n",
       "      <td>convertible</td>\n",
       "      <td>rwd</td>\n",
       "      <td>front</td>\n",
       "      <td>88.6</td>\n",
       "      <td>...</td>\n",
       "      <td>130</td>\n",
       "      <td>mpfi</td>\n",
       "      <td>3.47</td>\n",
       "      <td>2.68</td>\n",
       "      <td>9.0</td>\n",
       "      <td>111</td>\n",
       "      <td>5000</td>\n",
       "      <td>21</td>\n",
       "      <td>27</td>\n",
       "      <td>16500</td>\n",
       "    </tr>\n",
       "    <tr>\n",
       "      <th>2</th>\n",
       "      <td>1</td>\n",
       "      <td>?</td>\n",
       "      <td>alfa-romero</td>\n",
       "      <td>gas</td>\n",
       "      <td>std</td>\n",
       "      <td>two</td>\n",
       "      <td>hatchback</td>\n",
       "      <td>rwd</td>\n",
       "      <td>front</td>\n",
       "      <td>94.5</td>\n",
       "      <td>...</td>\n",
       "      <td>152</td>\n",
       "      <td>mpfi</td>\n",
       "      <td>2.68</td>\n",
       "      <td>3.47</td>\n",
       "      <td>9.0</td>\n",
       "      <td>154</td>\n",
       "      <td>5000</td>\n",
       "      <td>19</td>\n",
       "      <td>26</td>\n",
       "      <td>16500</td>\n",
       "    </tr>\n",
       "    <tr>\n",
       "      <th>3</th>\n",
       "      <td>2</td>\n",
       "      <td>164</td>\n",
       "      <td>audi</td>\n",
       "      <td>gas</td>\n",
       "      <td>std</td>\n",
       "      <td>four</td>\n",
       "      <td>sedan</td>\n",
       "      <td>fwd</td>\n",
       "      <td>front</td>\n",
       "      <td>99.8</td>\n",
       "      <td>...</td>\n",
       "      <td>109</td>\n",
       "      <td>mpfi</td>\n",
       "      <td>3.19</td>\n",
       "      <td>3.4</td>\n",
       "      <td>10.0</td>\n",
       "      <td>102</td>\n",
       "      <td>5500</td>\n",
       "      <td>24</td>\n",
       "      <td>30</td>\n",
       "      <td>13950</td>\n",
       "    </tr>\n",
       "    <tr>\n",
       "      <th>4</th>\n",
       "      <td>2</td>\n",
       "      <td>164</td>\n",
       "      <td>audi</td>\n",
       "      <td>gas</td>\n",
       "      <td>std</td>\n",
       "      <td>four</td>\n",
       "      <td>sedan</td>\n",
       "      <td>4wd</td>\n",
       "      <td>front</td>\n",
       "      <td>99.4</td>\n",
       "      <td>...</td>\n",
       "      <td>136</td>\n",
       "      <td>mpfi</td>\n",
       "      <td>3.19</td>\n",
       "      <td>3.4</td>\n",
       "      <td>8.0</td>\n",
       "      <td>115</td>\n",
       "      <td>5500</td>\n",
       "      <td>18</td>\n",
       "      <td>22</td>\n",
       "      <td>17450</td>\n",
       "    </tr>\n",
       "  </tbody>\n",
       "</table>\n",
       "<p>5 rows × 26 columns</p>\n",
       "</div>"
      ],
      "text/plain": [
       "   symboling normalized-losses         make fuel-type aspiration num-of-doors  \\\n",
       "0          3                 ?  alfa-romero       gas        std          two   \n",
       "1          3                 ?  alfa-romero       gas        std          two   \n",
       "2          1                 ?  alfa-romero       gas        std          two   \n",
       "3          2               164         audi       gas        std         four   \n",
       "4          2               164         audi       gas        std         four   \n",
       "\n",
       "    body-style drive-wheels engine-location  wheel-base  ...  engine-size  \\\n",
       "0  convertible          rwd           front        88.6  ...          130   \n",
       "1  convertible          rwd           front        88.6  ...          130   \n",
       "2    hatchback          rwd           front        94.5  ...          152   \n",
       "3        sedan          fwd           front        99.8  ...          109   \n",
       "4        sedan          4wd           front        99.4  ...          136   \n",
       "\n",
       "   fuel-system  bore  stroke compression-ratio horsepower  peak-rpm city-mpg  \\\n",
       "0         mpfi  3.47    2.68               9.0        111      5000       21   \n",
       "1         mpfi  3.47    2.68               9.0        111      5000       21   \n",
       "2         mpfi  2.68    3.47               9.0        154      5000       19   \n",
       "3         mpfi  3.19     3.4              10.0        102      5500       24   \n",
       "4         mpfi  3.19     3.4               8.0        115      5500       18   \n",
       "\n",
       "  highway-mpg  price  \n",
       "0          27  13495  \n",
       "1          27  16500  \n",
       "2          26  16500  \n",
       "3          30  13950  \n",
       "4          22  17450  \n",
       "\n",
       "[5 rows x 26 columns]"
      ]
     },
     "execution_count": 10,
     "metadata": {},
     "output_type": "execute_result"
    }
   ],
   "source": [
    "cars = pd.read_csv(\"Automobile_data.csv\")\n",
    "print(cars.shape)\n",
    "cars.head()"
   ]
  },
  {
   "cell_type": "markdown",
   "id": "83fd2f15",
   "metadata": {
    "id": "83fd2f15"
   },
   "source": [
    "### Q6: Indicator variables (5 points)\n",
    "\n",
    "We know how to use numerical values as inputs, but many interesting variables are categorical. We'll look at the `body-style` variable:"
   ]
  },
  {
   "cell_type": "code",
   "execution_count": 11,
   "id": "2cbedd79",
   "metadata": {
    "id": "2cbedd79"
   },
   "outputs": [
    {
     "data": {
      "text/plain": [
       "body-style\n",
       "convertible     6\n",
       "hardtop         8\n",
       "hatchback      70\n",
       "sedan          96\n",
       "wagon          25\n",
       "Name: body-style, dtype: int64"
      ]
     },
     "execution_count": 11,
     "metadata": {},
     "output_type": "execute_result"
    }
   ],
   "source": [
    "cars.groupby(\"body-style\")[\"body-style\"].count()"
   ]
  },
  {
   "cell_type": "markdown",
   "id": "65bb899f",
   "metadata": {
    "id": "65bb899f"
   },
   "source": [
    "There are five distinct values (this was before SUVs were a thing). To use this variable as an input we need to transform it into five variables (one per value) that are 1 if the `body-style` variable has that value, and 0 otherwise. Only one of these new variables will be active for any given car, so this way of encoding categories is sometimes called \"one hot\". Other terms are \"indicator variables\" or \"dummy variables\".\n",
    "\n",
    "Use the `pd.get_dummies()` function to create a new dataframe called `style_dummies` with five 0/1 variables for the `body-style` categories (you don't need to drop the first). Display the first five rows.\n",
    "\n",
    "Set the variable `cars` equal to the concatenation of `cars` and `style_dummies` along the rows. Print the shape of the resulting data frame. **Confidence check:** It should be `(205, 31)`.\n"
   ]
  },
  {
   "cell_type": "code",
   "execution_count": 12,
   "id": "897e2e7b",
   "metadata": {
    "id": "897e2e7b"
   },
   "outputs": [
    {
     "name": "stdout",
     "output_type": "stream",
     "text": [
      "   convertible  hardtop  hatchback  sedan  wagon\n",
      "0            1        0          0      0      0\n",
      "1            1        0          0      0      0\n",
      "2            0        0          1      0      0\n",
      "3            0        0          0      1      0\n",
      "4            0        0          0      1      0\n",
      "(205, 31)\n"
     ]
    },
    {
     "data": {
      "text/html": [
       "<div>\n",
       "<style scoped>\n",
       "    .dataframe tbody tr th:only-of-type {\n",
       "        vertical-align: middle;\n",
       "    }\n",
       "\n",
       "    .dataframe tbody tr th {\n",
       "        vertical-align: top;\n",
       "    }\n",
       "\n",
       "    .dataframe thead th {\n",
       "        text-align: right;\n",
       "    }\n",
       "</style>\n",
       "<table border=\"1\" class=\"dataframe\">\n",
       "  <thead>\n",
       "    <tr style=\"text-align: right;\">\n",
       "      <th></th>\n",
       "      <th>symboling</th>\n",
       "      <th>normalized-losses</th>\n",
       "      <th>make</th>\n",
       "      <th>fuel-type</th>\n",
       "      <th>aspiration</th>\n",
       "      <th>num-of-doors</th>\n",
       "      <th>body-style</th>\n",
       "      <th>drive-wheels</th>\n",
       "      <th>engine-location</th>\n",
       "      <th>wheel-base</th>\n",
       "      <th>...</th>\n",
       "      <th>horsepower</th>\n",
       "      <th>peak-rpm</th>\n",
       "      <th>city-mpg</th>\n",
       "      <th>highway-mpg</th>\n",
       "      <th>price</th>\n",
       "      <th>convertible</th>\n",
       "      <th>hardtop</th>\n",
       "      <th>hatchback</th>\n",
       "      <th>sedan</th>\n",
       "      <th>wagon</th>\n",
       "    </tr>\n",
       "  </thead>\n",
       "  <tbody>\n",
       "    <tr>\n",
       "      <th>0</th>\n",
       "      <td>3</td>\n",
       "      <td>?</td>\n",
       "      <td>alfa-romero</td>\n",
       "      <td>gas</td>\n",
       "      <td>std</td>\n",
       "      <td>two</td>\n",
       "      <td>convertible</td>\n",
       "      <td>rwd</td>\n",
       "      <td>front</td>\n",
       "      <td>88.6</td>\n",
       "      <td>...</td>\n",
       "      <td>111</td>\n",
       "      <td>5000</td>\n",
       "      <td>21</td>\n",
       "      <td>27</td>\n",
       "      <td>13495</td>\n",
       "      <td>1</td>\n",
       "      <td>0</td>\n",
       "      <td>0</td>\n",
       "      <td>0</td>\n",
       "      <td>0</td>\n",
       "    </tr>\n",
       "    <tr>\n",
       "      <th>1</th>\n",
       "      <td>3</td>\n",
       "      <td>?</td>\n",
       "      <td>alfa-romero</td>\n",
       "      <td>gas</td>\n",
       "      <td>std</td>\n",
       "      <td>two</td>\n",
       "      <td>convertible</td>\n",
       "      <td>rwd</td>\n",
       "      <td>front</td>\n",
       "      <td>88.6</td>\n",
       "      <td>...</td>\n",
       "      <td>111</td>\n",
       "      <td>5000</td>\n",
       "      <td>21</td>\n",
       "      <td>27</td>\n",
       "      <td>16500</td>\n",
       "      <td>1</td>\n",
       "      <td>0</td>\n",
       "      <td>0</td>\n",
       "      <td>0</td>\n",
       "      <td>0</td>\n",
       "    </tr>\n",
       "    <tr>\n",
       "      <th>2</th>\n",
       "      <td>1</td>\n",
       "      <td>?</td>\n",
       "      <td>alfa-romero</td>\n",
       "      <td>gas</td>\n",
       "      <td>std</td>\n",
       "      <td>two</td>\n",
       "      <td>hatchback</td>\n",
       "      <td>rwd</td>\n",
       "      <td>front</td>\n",
       "      <td>94.5</td>\n",
       "      <td>...</td>\n",
       "      <td>154</td>\n",
       "      <td>5000</td>\n",
       "      <td>19</td>\n",
       "      <td>26</td>\n",
       "      <td>16500</td>\n",
       "      <td>0</td>\n",
       "      <td>0</td>\n",
       "      <td>1</td>\n",
       "      <td>0</td>\n",
       "      <td>0</td>\n",
       "    </tr>\n",
       "    <tr>\n",
       "      <th>3</th>\n",
       "      <td>2</td>\n",
       "      <td>164</td>\n",
       "      <td>audi</td>\n",
       "      <td>gas</td>\n",
       "      <td>std</td>\n",
       "      <td>four</td>\n",
       "      <td>sedan</td>\n",
       "      <td>fwd</td>\n",
       "      <td>front</td>\n",
       "      <td>99.8</td>\n",
       "      <td>...</td>\n",
       "      <td>102</td>\n",
       "      <td>5500</td>\n",
       "      <td>24</td>\n",
       "      <td>30</td>\n",
       "      <td>13950</td>\n",
       "      <td>0</td>\n",
       "      <td>0</td>\n",
       "      <td>0</td>\n",
       "      <td>1</td>\n",
       "      <td>0</td>\n",
       "    </tr>\n",
       "    <tr>\n",
       "      <th>4</th>\n",
       "      <td>2</td>\n",
       "      <td>164</td>\n",
       "      <td>audi</td>\n",
       "      <td>gas</td>\n",
       "      <td>std</td>\n",
       "      <td>four</td>\n",
       "      <td>sedan</td>\n",
       "      <td>4wd</td>\n",
       "      <td>front</td>\n",
       "      <td>99.4</td>\n",
       "      <td>...</td>\n",
       "      <td>115</td>\n",
       "      <td>5500</td>\n",
       "      <td>18</td>\n",
       "      <td>22</td>\n",
       "      <td>17450</td>\n",
       "      <td>0</td>\n",
       "      <td>0</td>\n",
       "      <td>0</td>\n",
       "      <td>1</td>\n",
       "      <td>0</td>\n",
       "    </tr>\n",
       "  </tbody>\n",
       "</table>\n",
       "<p>5 rows × 31 columns</p>\n",
       "</div>"
      ],
      "text/plain": [
       "   symboling normalized-losses         make fuel-type aspiration num-of-doors  \\\n",
       "0          3                 ?  alfa-romero       gas        std          two   \n",
       "1          3                 ?  alfa-romero       gas        std          two   \n",
       "2          1                 ?  alfa-romero       gas        std          two   \n",
       "3          2               164         audi       gas        std         four   \n",
       "4          2               164         audi       gas        std         four   \n",
       "\n",
       "    body-style drive-wheels engine-location  wheel-base  ...  horsepower  \\\n",
       "0  convertible          rwd           front        88.6  ...         111   \n",
       "1  convertible          rwd           front        88.6  ...         111   \n",
       "2    hatchback          rwd           front        94.5  ...         154   \n",
       "3        sedan          fwd           front        99.8  ...         102   \n",
       "4        sedan          4wd           front        99.4  ...         115   \n",
       "\n",
       "   peak-rpm  city-mpg  highway-mpg  price convertible  hardtop hatchback  \\\n",
       "0      5000        21           27  13495           1        0         0   \n",
       "1      5000        21           27  16500           1        0         0   \n",
       "2      5000        19           26  16500           0        0         1   \n",
       "3      5500        24           30  13950           0        0         0   \n",
       "4      5500        18           22  17450           0        0         0   \n",
       "\n",
       "  sedan wagon  \n",
       "0     0     0  \n",
       "1     0     0  \n",
       "2     0     0  \n",
       "3     1     0  \n",
       "4     1     0  \n",
       "\n",
       "[5 rows x 31 columns]"
      ]
     },
     "execution_count": 12,
     "metadata": {},
     "output_type": "execute_result"
    }
   ],
   "source": [
    "data = pd.get_dummies(cars[\"body-style\"]) \n",
    "\n",
    "style_dummies = pd.DataFrame(data) \n",
    "\n",
    "print(style_dummies.head(n=5)) \n",
    "\n",
    "\n",
    "cars = pd.concat([cars, style_dummies], axis = 1) \n",
    "\n",
    "print(cars.shape)\n",
    "\n",
    "(cars.head(n=5))"
   ]
  },
  {
   "cell_type": "code",
   "execution_count": null,
   "id": "a255dff3",
   "metadata": {
    "id": "a255dff3"
   },
   "outputs": [],
   "source": []
  },
  {
   "cell_type": "markdown",
   "id": "98a68391",
   "metadata": {
    "id": "98a68391"
   },
   "source": [
    "### Q7 : Cleaning (5 points)\n",
    "\n",
    "There are two `?`s in the `horsepower` column, so pandas will interpret the column as a string. Remove the rows with non-numeric values and convert the column to the type `float`. Consult documentation on converting strings to floats.\n",
    "\n",
    "Display the mean of the `horsepower` variable."
   ]
  },
  {
   "cell_type": "code",
   "execution_count": 27,
   "id": "c7c9bffd",
   "metadata": {
    "id": "c7c9bffd"
   },
   "outputs": [
    {
     "name": "stdout",
     "output_type": "stream",
     "text": [
      "(203, 32)\n",
      "104.25615763546799\n"
     ]
    }
   ],
   "source": [
    "\n",
    "cars = cars[cars[\"horsepower\"] != \"?\"]\n",
    "\n",
    "cars = cars.astype({'horsepower':'float'})\n",
    "\n",
    "print(cars.shape)\n",
    "print(cars[\"horsepower\"].mean()) \n"
   ]
  },
  {
   "cell_type": "markdown",
   "id": "4555471d",
   "metadata": {
    "id": "4555471d"
   },
   "source": [
    "### Q8 : Transformations (3 points)\n",
    "\n",
    "Add a new variable called `highway-gphm` to the `cars` data frame that is equal to 100 divided by `highway-mpg`. This is \"gallons per hundred miles\"."
   ]
  },
  {
   "cell_type": "code",
   "execution_count": 14,
   "id": "b480d2ae",
   "metadata": {
    "id": "b480d2ae"
   },
   "outputs": [
    {
     "data": {
      "text/html": [
       "<div>\n",
       "<style scoped>\n",
       "    .dataframe tbody tr th:only-of-type {\n",
       "        vertical-align: middle;\n",
       "    }\n",
       "\n",
       "    .dataframe tbody tr th {\n",
       "        vertical-align: top;\n",
       "    }\n",
       "\n",
       "    .dataframe thead th {\n",
       "        text-align: right;\n",
       "    }\n",
       "</style>\n",
       "<table border=\"1\" class=\"dataframe\">\n",
       "  <thead>\n",
       "    <tr style=\"text-align: right;\">\n",
       "      <th></th>\n",
       "      <th>symboling</th>\n",
       "      <th>normalized-losses</th>\n",
       "      <th>make</th>\n",
       "      <th>fuel-type</th>\n",
       "      <th>aspiration</th>\n",
       "      <th>num-of-doors</th>\n",
       "      <th>body-style</th>\n",
       "      <th>drive-wheels</th>\n",
       "      <th>engine-location</th>\n",
       "      <th>wheel-base</th>\n",
       "      <th>...</th>\n",
       "      <th>peak-rpm</th>\n",
       "      <th>city-mpg</th>\n",
       "      <th>highway-mpg</th>\n",
       "      <th>price</th>\n",
       "      <th>convertible</th>\n",
       "      <th>hardtop</th>\n",
       "      <th>hatchback</th>\n",
       "      <th>sedan</th>\n",
       "      <th>wagon</th>\n",
       "      <th>highway-gphm</th>\n",
       "    </tr>\n",
       "  </thead>\n",
       "  <tbody>\n",
       "    <tr>\n",
       "      <th>0</th>\n",
       "      <td>3</td>\n",
       "      <td>?</td>\n",
       "      <td>alfa-romero</td>\n",
       "      <td>gas</td>\n",
       "      <td>std</td>\n",
       "      <td>two</td>\n",
       "      <td>convertible</td>\n",
       "      <td>rwd</td>\n",
       "      <td>front</td>\n",
       "      <td>88.6</td>\n",
       "      <td>...</td>\n",
       "      <td>5000</td>\n",
       "      <td>21</td>\n",
       "      <td>27</td>\n",
       "      <td>13495</td>\n",
       "      <td>1</td>\n",
       "      <td>0</td>\n",
       "      <td>0</td>\n",
       "      <td>0</td>\n",
       "      <td>0</td>\n",
       "      <td>3.703704</td>\n",
       "    </tr>\n",
       "    <tr>\n",
       "      <th>1</th>\n",
       "      <td>3</td>\n",
       "      <td>?</td>\n",
       "      <td>alfa-romero</td>\n",
       "      <td>gas</td>\n",
       "      <td>std</td>\n",
       "      <td>two</td>\n",
       "      <td>convertible</td>\n",
       "      <td>rwd</td>\n",
       "      <td>front</td>\n",
       "      <td>88.6</td>\n",
       "      <td>...</td>\n",
       "      <td>5000</td>\n",
       "      <td>21</td>\n",
       "      <td>27</td>\n",
       "      <td>16500</td>\n",
       "      <td>1</td>\n",
       "      <td>0</td>\n",
       "      <td>0</td>\n",
       "      <td>0</td>\n",
       "      <td>0</td>\n",
       "      <td>3.703704</td>\n",
       "    </tr>\n",
       "    <tr>\n",
       "      <th>2</th>\n",
       "      <td>1</td>\n",
       "      <td>?</td>\n",
       "      <td>alfa-romero</td>\n",
       "      <td>gas</td>\n",
       "      <td>std</td>\n",
       "      <td>two</td>\n",
       "      <td>hatchback</td>\n",
       "      <td>rwd</td>\n",
       "      <td>front</td>\n",
       "      <td>94.5</td>\n",
       "      <td>...</td>\n",
       "      <td>5000</td>\n",
       "      <td>19</td>\n",
       "      <td>26</td>\n",
       "      <td>16500</td>\n",
       "      <td>0</td>\n",
       "      <td>0</td>\n",
       "      <td>1</td>\n",
       "      <td>0</td>\n",
       "      <td>0</td>\n",
       "      <td>3.846154</td>\n",
       "    </tr>\n",
       "    <tr>\n",
       "      <th>3</th>\n",
       "      <td>2</td>\n",
       "      <td>164</td>\n",
       "      <td>audi</td>\n",
       "      <td>gas</td>\n",
       "      <td>std</td>\n",
       "      <td>four</td>\n",
       "      <td>sedan</td>\n",
       "      <td>fwd</td>\n",
       "      <td>front</td>\n",
       "      <td>99.8</td>\n",
       "      <td>...</td>\n",
       "      <td>5500</td>\n",
       "      <td>24</td>\n",
       "      <td>30</td>\n",
       "      <td>13950</td>\n",
       "      <td>0</td>\n",
       "      <td>0</td>\n",
       "      <td>0</td>\n",
       "      <td>1</td>\n",
       "      <td>0</td>\n",
       "      <td>3.333333</td>\n",
       "    </tr>\n",
       "    <tr>\n",
       "      <th>4</th>\n",
       "      <td>2</td>\n",
       "      <td>164</td>\n",
       "      <td>audi</td>\n",
       "      <td>gas</td>\n",
       "      <td>std</td>\n",
       "      <td>four</td>\n",
       "      <td>sedan</td>\n",
       "      <td>4wd</td>\n",
       "      <td>front</td>\n",
       "      <td>99.4</td>\n",
       "      <td>...</td>\n",
       "      <td>5500</td>\n",
       "      <td>18</td>\n",
       "      <td>22</td>\n",
       "      <td>17450</td>\n",
       "      <td>0</td>\n",
       "      <td>0</td>\n",
       "      <td>0</td>\n",
       "      <td>1</td>\n",
       "      <td>0</td>\n",
       "      <td>4.545455</td>\n",
       "    </tr>\n",
       "  </tbody>\n",
       "</table>\n",
       "<p>5 rows × 32 columns</p>\n",
       "</div>"
      ],
      "text/plain": [
       "   symboling normalized-losses         make fuel-type aspiration num-of-doors  \\\n",
       "0          3                 ?  alfa-romero       gas        std          two   \n",
       "1          3                 ?  alfa-romero       gas        std          two   \n",
       "2          1                 ?  alfa-romero       gas        std          two   \n",
       "3          2               164         audi       gas        std         four   \n",
       "4          2               164         audi       gas        std         four   \n",
       "\n",
       "    body-style drive-wheels engine-location  wheel-base  ...  peak-rpm  \\\n",
       "0  convertible          rwd           front        88.6  ...      5000   \n",
       "1  convertible          rwd           front        88.6  ...      5000   \n",
       "2    hatchback          rwd           front        94.5  ...      5000   \n",
       "3        sedan          fwd           front        99.8  ...      5500   \n",
       "4        sedan          4wd           front        99.4  ...      5500   \n",
       "\n",
       "   city-mpg  highway-mpg  price convertible hardtop  hatchback sedan wagon  \\\n",
       "0        21           27  13495           1       0          0     0     0   \n",
       "1        21           27  16500           1       0          0     0     0   \n",
       "2        19           26  16500           0       0          1     0     0   \n",
       "3        24           30  13950           0       0          0     1     0   \n",
       "4        18           22  17450           0       0          0     1     0   \n",
       "\n",
       "  highway-gphm  \n",
       "0     3.703704  \n",
       "1     3.703704  \n",
       "2     3.846154  \n",
       "3     3.333333  \n",
       "4     4.545455  \n",
       "\n",
       "[5 rows x 32 columns]"
      ]
     },
     "execution_count": 14,
     "metadata": {},
     "output_type": "execute_result"
    }
   ],
   "source": [
    "\n",
    "\n",
    "cars[\"highway-gphm\"] = 100/(cars[\"highway-mpg\"]) \n",
    "\n",
    "cars.head(n=5) "
   ]
  },
  {
   "cell_type": "markdown",
   "id": "412b9383",
   "metadata": {
    "id": "412b9383"
   },
   "source": [
    "### Q9: Train/test split (5 points)\n",
    "\n",
    "Create a 80%/20% train/test split with random seed 2022. Save the result to variables `cars_train` and `cars_test`. Display the number of each body style for the test set (in other words, you'll group by the `body-style` value)."
   ]
  },
  {
   "cell_type": "code",
   "execution_count": 15,
   "id": "697e4d8c",
   "metadata": {
    "id": "697e4d8c"
   },
   "outputs": [
    {
     "name": "stdout",
     "output_type": "stream",
     "text": [
      "body-style\n",
      "convertible     2\n",
      "hardtop         1\n",
      "hatchback      15\n",
      "sedan          20\n",
      "wagon           3\n",
      "Name: body-style, dtype: int64\n"
     ]
    }
   ],
   "source": [
    "cars_train, cars_test = train_test_split(cars, test_size = 0.2, random_state = 2022) \n",
    "print(cars_test.groupby(\"body-style\")[\"body-style\"].count()) \n",
    "\n"
   ]
  },
  {
   "cell_type": "markdown",
   "id": "7ff52b83",
   "metadata": {
    "id": "7ff52b83"
   },
   "source": [
    "\n",
    "### Q10: Logistic regression (15 points)\n",
    "\n",
    "Create a function `run_logistic_regression` with the same format as the previous function. Instead of RMSE and MAE, we now want to calculate accuracy, precision, recall, and F1. You may use functions from [sklearn metrics](https://scikit-learn.org/stable/modules/classes.html#module-sklearn.metrics).\n",
    "\n",
    "This function should return:\n",
    "\n",
    "*  variable names\n",
    "* model coefficient and intercept\n",
    "* train and test accuracy\n",
    "* train and test precision\n",
    "* train and test recall\n",
    "* train and test f1\n",
    "\n",
    "Then, use this function (once) with multiple input variables, `wheel-base`, `engine-size`, `horsepower`, `highway-mpg`, and with the target `sedan`.\n",
    "\n",
    "Interpret the resulting regression for the `wheel-base` variable (units are inches). Then, describe the train and test metrics in your own words. Should we be concerned about overfitting?"
   ]
  },
  {
   "cell_type": "code",
   "execution_count": 16,
   "id": "c21a934c",
   "metadata": {
    "id": "c21a934c"
   },
   "outputs": [],
   "source": [
    "def run_logistic_regression(var_list, train, test, tar_var):\n",
    "    \n",
    "    #xtrain = np.array(train[var_list]).reshape(-1, 1)\n",
    "    xtrain = np.array(train[var_list])\n",
    "    ytrain = np.array(train[tar_var]) \n",
    "    \n",
    "    #xtest = np.array(test[var_list]).reshape(-1, 1)\n",
    "    xtest = np.array(test[var_list])\n",
    "    ytest = np.array(test[tar_var]) \n",
    "    \n",
    "    model= LogisticRegression().fit(xtrain, ytrain)\n",
    "    y_train_prediction = model.predict(xtrain)\n",
    "    y_test_prediction = model.predict(xtest)\n",
    "    \n",
    "    \n",
    "    #print list of variables \n",
    "    print(\"variable:\")\n",
    "    print(var_list)\n",
    "    print(\"\\n\")\n",
    "    \n",
    "    #print coefficient and intercept\n",
    "    print(\"coefficient:\")\n",
    "    print(model.coef_) \n",
    "    \n",
    "    \n",
    "    print(\"intercept\")\n",
    "    print(model.intercept_)\n",
    "    print(\"\\n\")\n",
    "    \n",
    "    #print train and test accuracy\n",
    "    \n",
    "    print(\"train accuracy\")\n",
    "    print(metrics.accuracy_score(ytrain, y_train_prediction))\n",
    "    \n",
    "    \n",
    "    print(\"test accuracy\")\n",
    "    print((metrics.accuracy_score(ytest, y_test_prediction)))\n",
    "    print(\"\\n\")\n",
    "    \n",
    "    #print train and test precision     \n",
    "    print(\"train precision\")      \n",
    "    print(metrics.precision_score(ytrain, y_train_prediction))      \n",
    "          \n",
    "    print(\"test precision\")\n",
    "    print((metrics.precision_score(ytest, y_test_prediction)))       \n",
    "    print(\"\\n\")\n",
    "    #print train and test recall \n",
    "    \n",
    "    print(\"train recall\")      \n",
    "    print(metrics.recall_score(ytrain, y_train_prediction))      \n",
    "          \n",
    "    print(\"test recall\")\n",
    "    print((metrics.recall_score(ytest, y_test_prediction))) \n",
    "    print(\"\\n\")\n",
    "    \n",
    "    #print train and test f1 score \n",
    "    print(\"train f1\")      \n",
    "    print(metrics.f1_score(ytrain, y_train_prediction))      \n",
    "          \n",
    "    print(\"test f1\")\n",
    "    print((metrics.f1_score(ytest, y_test_prediction)))    \n",
    "    "
   ]
  },
  {
   "cell_type": "code",
   "execution_count": 17,
   "id": "c9d00d32",
   "metadata": {
    "id": "c9d00d32"
   },
   "outputs": [
    {
     "name": "stdout",
     "output_type": "stream",
     "text": [
      "variable:\n",
      "['wheel-base', 'engine-size', 'horsepower', 'highway-mpg']\n",
      "\n",
      "\n",
      "coefficient:\n",
      "[[0.13651678 0.00226047 0.00089683 0.09267285]]\n",
      "intercept\n",
      "[-16.85833264]\n",
      "\n",
      "\n",
      "train accuracy\n",
      "0.6296296296296297\n",
      "test accuracy\n",
      "0.5853658536585366\n",
      "\n",
      "\n",
      "train precision\n",
      "0.6538461538461539\n",
      "test precision\n",
      "0.6153846153846154\n",
      "\n",
      "\n",
      "train recall\n",
      "0.4473684210526316\n",
      "test recall\n",
      "0.4\n",
      "\n",
      "\n",
      "train f1\n",
      "0.53125\n",
      "test f1\n",
      "0.4848484848484849\n"
     ]
    }
   ],
   "source": [
    "variables_list = [\"wheel-base\", \"engine-size\", \"horsepower\", \"highway-mpg\"]\n",
    "\n",
    "run_logistic_regression(variables_list, cars_train, cars_test, \"sedan\") "
   ]
  },
  {
   "cell_type": "markdown",
   "id": "7549767e",
   "metadata": {
    "id": "7549767e"
   },
   "source": [
    "**Discuss the wheelbase interpretation here**\n",
    "\n",
    "for wheelbase discussion, 0.13651678 is the coefficient and it means that as the wheelbase size increases (in inches), the more that the car is likely to be a sedan "
   ]
  },
  {
   "cell_type": "markdown",
   "id": "55e82e65",
   "metadata": {
    "id": "55e82e65"
   },
   "source": [
    "**Discuss the train and test evaluation metrics here**\n",
    "the train and test evaluation metrics are all relatively similar to each other but I notice higher values for all metrics for the train sets comparted to the test set, which makes sense because we are training on the train set so the train set will likely yield \"better\" results than the test set. if the train set fared significantly better than our test set there would be a concern about overfitting on the train, but we don't see that so we don't need to worry about that"
   ]
  },
  {
   "cell_type": "markdown",
   "id": "fc01ec7a",
   "metadata": {
    "id": "fc01ec7a"
   },
   "source": [
    "### Q11 : Checking covariates (15 points)\n",
    "\n",
    "Using the train set, generate the correlation matrix for the four inputs in the previous regression. Describe what concerns you.\n",
    "\n",
    "Re-run the logistic regression with three inputs instead of four (dropping one input to avoid multicollinearity). Describe the differences in coefficients between Q10 and Q11. Describe whether dropping this input changes train or test accuracy.\n",
    "\n",
    "Then, plot the PR (precision-recall) curve on your test set using the `PrecisionRecallDisplay` function. Describe what the PR curve tells you.\n"
   ]
  },
  {
   "cell_type": "code",
   "execution_count": 18,
   "id": "551a91c3",
   "metadata": {
    "id": "551a91c3"
   },
   "outputs": [
    {
     "name": "stdout",
     "output_type": "stream",
     "text": [
      "             wheel-base  engine-size  horsepower  highway-mpg\n",
      "wheel-base     1.000000     0.516773    0.310855    -0.505632\n",
      "engine-size    0.516773     1.000000    0.820804    -0.687502\n",
      "horsepower     0.310855     0.820804    1.000000    -0.760193\n",
      "highway-mpg   -0.505632    -0.687502   -0.760193     1.000000\n"
     ]
    }
   ],
   "source": [
    "print(cars_train[variables_list].corr() ) \n",
    "\n"
   ]
  },
  {
   "cell_type": "markdown",
   "id": "48d946ed",
   "metadata": {},
   "source": [
    "**Describe what concerns you.**\n",
    "\n",
    "I'm concerned because the other variables are all correlated with each other as well, and we are failing to capture these interactions by the model. For example, horsepower and engine size are highly correlated, but our model doesn't necessarily take that into account, because we haven't modelled this interaction or defined an interaction variable."
   ]
  },
  {
   "cell_type": "code",
   "execution_count": 19,
   "id": "izfLdtnrlNOr",
   "metadata": {
    "id": "izfLdtnrlNOr"
   },
   "outputs": [
    {
     "name": "stdout",
     "output_type": "stream",
     "text": [
      "variable:\n",
      "['wheel-base', 'horsepower', 'highway-mpg']\n",
      "\n",
      "\n",
      "coefficient:\n",
      "[[0.14131562 0.00257741 0.09306028]]\n",
      "intercept\n",
      "[-17.23268976]\n",
      "\n",
      "\n",
      "train accuracy\n",
      "0.6234567901234568\n",
      "test accuracy\n",
      "0.6097560975609756\n",
      "\n",
      "\n",
      "train precision\n",
      "0.6470588235294118\n",
      "test precision\n",
      "0.6428571428571429\n",
      "\n",
      "\n",
      "train recall\n",
      "0.4342105263157895\n",
      "test recall\n",
      "0.45\n",
      "\n",
      "\n",
      "train f1\n",
      "0.5196850393700788\n",
      "test f1\n",
      "0.5294117647058824\n"
     ]
    }
   ],
   "source": [
    "variables_list = [\"wheel-base\", \"horsepower\", \"highway-mpg\"]\n",
    "\n",
    "run_logistic_regression(variables_list, cars_train, cars_test, \"sedan\") "
   ]
  },
  {
   "cell_type": "markdown",
   "id": "01cb7f43",
   "metadata": {
    "id": "01cb7f43"
   },
   "source": [
    "**Discuss coefficient differences here**\n",
    "there is a difference in all of the coefficients which probably has something to do with the deletion of engine size from my model. I would say that the biggest difference in was in the horsepower variable's coefficient, and the other differenced were pretty minimal. I think that this says something about the multicollinearity between horsepower and engine size. \n"
   ]
  },
  {
   "cell_type": "markdown",
   "id": "85da1dbb",
   "metadata": {
    "id": "85da1dbb"
   },
   "source": [
    "**Discuss whether dropping the input changes train or test accuracy here**\n",
    "dropping the input increased both accuracies by a little bit, so I think this means we are on the right track! "
   ]
  },
  {
   "cell_type": "code",
   "execution_count": 26,
   "id": "30dd3bca",
   "metadata": {
    "id": "30dd3bca"
   },
   "outputs": [
    {
     "data": {
      "image/png": "[encoded data removed]",
      "text/plain": [
       "<Figure size 432x288 with 1 Axes>"
      ]
     },
     "metadata": {
      "needs_background": "light"
     },
     "output_type": "display_data"
    }
   ],
   "source": [
    "model = LogisticRegression().fit(cars_train[variables_list], cars_train[\"sedan\"])\n",
    "result = model.predict(cars_test[variables_list])\n",
    "plot= PrecisionRecallDisplay.from_predictions(cars_test['sedan'],result)\n",
    "\n",
    "\n",
    "\n",
    "\n",
    "# precision, recall, _ = precision_recall_curve(y_test, predictions)\n",
    "# disp = PrecisionRecallDisplay(precision=precision, recall=recall)\n",
    "# disp.plot()\n",
    "# plt.show()\n"
   ]
  },
  {
   "cell_type": "markdown",
   "id": "84a05d6f",
   "metadata": {
    "id": "84a05d6f"
   },
   "source": [
    "**Describe the PR curve here**\n",
    "\n",
    "We are modelling two variables that are binary so in terms of recall and precidison we see the \"step\"-like structure of the curve. There is a trade-off between precision and recall, that manifests itself in the negative/inverse relationship between the two. \n"
   ]
  },
  {
   "cell_type": "markdown",
   "id": "685ce4b4",
   "metadata": {
    "id": "685ce4b4"
   },
   "source": [
    "### Q12 : Cross-Validating (10 points)\n",
    "\n",
    "Now we'll perform cross validation on the full cars dataframe, instead of using the train/test split that we did before.  Use `KFold` to make 3 splits that are not randomly shuffled (i.e., shuffle=False so no random seed is needed).\n",
    "\n",
    "Use the `cross_val_score` function to print the F1 score on the logistic regression from Q11 for each of the 3 splits.\n",
    "\n",
    "Then, calculate the average F1 score across splits, and the standard deviation of the F1 score across splits.\n",
    "\n",
    "Finally, discuss the differences between this F1 score and the F1 score you got in Q11. Which F1 score do you trust more, and why?"
   ]
  },
  {
   "cell_type": "code",
   "execution_count": 31,
   "id": "6914640f",
   "metadata": {
    "id": "6914640f"
   },
   "outputs": [
    {
     "name": "stdout",
     "output_type": "stream",
     "text": [
      "0.48250747499742247\n",
      "0.08689554958792134\n",
      "[0.37735849 0.48       0.59016393]\n"
     ]
    }
   ],
   "source": [
    " X = [\"wheel-base\", \"horsepower\", \"highway-mpg\"]\n",
    "\n",
    "\n",
    "tmp = cross_val_score(estimator = LogisticRegression(), X = cars[X], y = cars['sedan'],\\\n",
    "                       scoring = 'f1', cv = KFold(n_splits = 3, shuffle = False, random_state = None))\n",
    "\n",
    "print(tmp.mean()) #compare to test f1\n",
    "print(tmp.std())\n",
    "print(tmp) \n"
   ]
  },
  {
   "cell_type": "markdown",
   "id": "ecafdd2d",
   "metadata": {
    "id": "ecafdd2d"
   },
   "source": [
    "**Discuss F1 score differences here**\n",
    "\n",
    "The fscore in 11 is better than the fscore in 10 because it is higher, and the fscore we have here is even higher. I trust this fscore more because of how we derived it (train/validate/test) and not just (train/test). "
   ]
  },
  {
   "cell_type": "code",
   "execution_count": null,
   "id": "975acff8",
   "metadata": {},
   "outputs": [],
   "source": []
  }
 ],
 "metadata": {
  "colab": {
   "provenance": []
  },
  "kernelspec": {
   "display_name": "Python 3 (ipykernel)",
   "language": "python",
   "name": "python3"
  },
  "language_info": {
   "codemirror_mode": {
    "name": "ipython",
    "version": 3
   },
   "file_extension": ".py",
   "mimetype": "text/x-python",
   "name": "python",
   "nbconvert_exporter": "python",
   "pygments_lexer": "ipython3",
   "version": "3.8.13"
  },
  "vscode": {
   "interpreter": {
    "hash": "31f2aee4e71d21fbe5cf8b01ff0e069b9275f58929596ceb00d14d90e3e16cd6"
   }
  }
 },
 "nbformat": 4,
 "nbformat_minor": 5
}
