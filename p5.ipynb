{
 "cells": [
  {
   "cell_type": "markdown",
   "id": "f630ffe1",
   "metadata": {},
   "source": [
    "# INFO 2950 Final Project: The Comparative Costs of NYC Taxis and Ubers\n",
    "#### By Nicholas Araya, Bella Cruz, Eric Dias, and Akira Goh\n",
    "\n",
    "***\n",
    "\n",
    "# Introduction"
   ]
  },
  {
   "cell_type": "markdown",
   "id": "68b0a44e",
   "metadata": {},
   "source": [
    "*Please note that all data cleaning was completed in the Appendix which can be found in this Google drive named p5_Appendix.ipynb*\n",
    "\n",
    "https://drive.google.com/drive/folders/1zpyKQnmFfWrFfb2cYPAJ2dDc6xE0OtTI?usp=sharing\n",
    "\n",
    "*Therefore, if re-running the project, please download the appendix file and run it in the same directory before restarting and running the Kernel.*"
   ]
  },
  {
   "cell_type": "markdown",
   "id": "2ae65214",
   "metadata": {},
   "source": [
    "**Context:**\n",
    "In an era of inflation and high costs of living, we wanted to investigate the comparative costs of Taxi and Uber rides in New York City, one of the most expensive cities in the US. As two of the main methods of transportation in New York City, there have been a number of news stories over the past few years surrounding competition between Uber and Taxi drivers. However, we wanted to explore which mode of transportation is best for the consumer. Because of this, we created a model that helps to predict the cost of an Uber and taxi ride given a set of information about the ride.\n",
    "\n",
    "**Research Question:**\n",
    "Given a starting location and an ending destination, is there a statistically significant way to determine the cheaper car ride option between New York City taxis or Uber?\n",
    "\n",
    "**Importance of Research Question:**\n",
    "Analyzing data and determining the impact of different features will allow us greater transparency in the way Uber or Taxis price their fares. This gives us important information to be an informed consumer when utilizing Uber or Taxi services and reduces information asymmetry between corporations and individuals when it comes to pricing.\n",
    "\n",
    "**Summarized Results:**\n",
    "It was determined that Uber rides tend to be more expensive than Taxi rides. Additionally, this conclusion is still accurate when the model considers the precipitation on a given day or whether it is rush hour. This informs consumers that their most economic option is to take taxis, however Uber does offer premium benefits that taxis do not. As a follow up research question, our group would want to explore the comparative prices of taxis and the different \"levels\" of Ubers (i.e. Uber Comfort vs. Uber Black).\n",
    "***"
   ]
  },
  {
   "cell_type": "markdown",
   "id": "4c0f9140",
   "metadata": {},
   "source": [
    "# Data Description"
   ]
  },
  {
   "cell_type": "markdown",
   "id": "52bc9277",
   "metadata": {},
   "source": [
    "### Motivation\n",
    "\n",
    "\n",
    "**For what purpose was the dataset created?** The taxi dataset was created in an effort to teach individuals how to form an effective machine learning model to determine taxi prices in New York City. Additionally, the Uber dataset was also created in an effort to predict Uber prices in New York City. Finally, the weather dataset was retrieved from the National Oceanic and Atmospheric Administration, which provides the data as a public service. The organization is also likely to use the data for governmental purposes.\n",
    "\n",
    "**Who created the dataset (e.g., which team, research group) and on behalf go which entity (e.g., company, institution, organization)?** Both of the datasets were published on Kaggle. The taxi dataset was created as part of a competition and is associated with both Google Cloud and Coursera. The Uber dataset’s owner is listed as ‘M Yasser H’, and the dataset is listed as having a CC0: Public Domain license. Meanwhile, the weather data was provided by the National Centers for Environmental Information: National Oceanic and Atmospheric Administration, a department within the US department of commerce. \n",
    "\n",
    "**Who funded the creation of the dataset?** This information is not available for the Uber dataset. Meanwhile, the taxi dataset was likely funded by Google Cloud and Coursera, however this is not explicitly stated in the dataset’s description. And, the weather data set was funded by the US government.\n",
    "\n",
    "**Any other comments?** The Uber dataset is updated annually, however no data has been uploaded since 2015. The taxi dataset was partially used to advertise products offered by Google Cloud and Coursera. And, the weather data set is a living data set. Because of this, the NOAA website (https://www.ncdc.noaa.gov/cdo-web/search) gives users the ability to select the parameters for the data that they want.\n",
    "\n",
    "### Composition\n",
    "\n",
    "**What do the instances that comprise the dataset represent (e.g., documents, photos, people countries)? What data does each instance consist of?** In the taxi dataset, each instance represents a taxi ride in New York City, while each instance in the Uber dataset represents an Uber ride in New York City. For both datasets, each instance is associated with a unique identifier, a fare amount, a pickup date and time, a pickup/drop-off longitude, a pickup/drop-off latitude, and a passenger count. As part of the analysis conducted, additional columns were added to each instance to breakdown information about the date and time associated with each ride. For the weather dataset, each instance represents a daily measurement, and the instances consist of information about the weather station ID and location, the date, the amount of precipitation, and the amount of snow. \n",
    "\n",
    "**How many instances are there in total (of each type, if appropriate)?** Each of the Taxi and Uber datasets contains 200,000 instances. The number of instances within each dataset was reduced using random sampling so that the datasets could be uploaded to Github. Please reference the information regarding the data cleaning process below for additional information on the data sampling process. Additionally, the weather data set had 2,557 days. We were able to select the range of dates that matched the other two data sets when downloading the data.\n",
    "\n",
    "**Does the dataset contain all possible instances or is it a sample (not necessarily random) of instances from a larger set?** To our knowledge, the transportation datasets were representative given the time and location constraints associated with the datasets. More specifically, both datasets contain information for Uber and taxi rides within New York City between 2009 and 2015. However, the data that is being used in the analysis for this project was selected based on a random sampling process that our group believes is representative of the original datasets. The sizes of the original datasets were reduced so that the data could be uploaded to Github. Finally, the weather dataset was accessed by requesting the information from the NOAA website, which gives individuals the ability to select the parameters of the dataset that an individual receives, such as the location and the dates of the data. Because of this, the weather dataset is a subset of a larger dataset that has been selected based on the range of dates provided by the other two datasets.\n",
    "\n",
    "**Is there a label or target associated with each instance?** Beyond the unique identifier, there is not a specific label or target associated with each instance for the transportation information. For example, individual riders or drivers are not identified. In terms of the weather data, each instance is connected to a specific station ID and date. \n",
    "\n",
    "**Is any information missing from individual instances?** The datasets appear to have a comprehensive and complete set of information that can be used for the analysis within the project.\n",
    "\n",
    "**Are relationships between individual instances made explicit (e.g., users’ movie ratings, social network links)?** As individual instances are not associated with specific individuals in the transportation datasets, there are not points of connection between the instances. Each row is associated with a ride rather than a rider or a driver, and so there are no relationships present between instances. Meanwhile, the weather dataset is simply providing precipitation measurements at a specific location, and so relationships between instances are not very relevant.\n",
    "\n",
    "**Are there recommended data splits (e.g., training, development/validation testing)?** It is possible to download files of data that have been split for the taxi dataset. This is likely due to the fact that this dataset was created for educational purposes. The Uber dataset does not contain recommendations regarding how to split the data. For the project, our group did not leverage the data that had been split into the testing set, however we utilized the training set data. The latter action was taken because the original dataset was extremely large, and the training set was large enough for our uses to be treated as the overall dataset. This question does not apply to the weather data.\n",
    "\n",
    "**Are there any errors, sources of noise, or redundancies in the dataset?** The datasets contained a few instances that were outliers. Additionally, a few of the instances contained longitude and latitude information that did not contain decimal points. The aforementioned outliers and misrepresented data points were removed by creating limits regarding reasonable latitude, longitude, and fare values based on the size of New York City. This question does not apply to the weather data.\n",
    "\n",
    "**Is the dataset self-contained, or does it link to or otherwise rely on external resources (e.g., websites, tweets, other datasets)?** Both of the transportation datasets appear to be self-contained based on the available information on Kaggle. The weather dataset is also self contained.\n",
    "\n",
    "**Does the dataset contain data that might be considered confidential (e.g., data that is protected by legal privilege or by doctor-patient confidentiality, data that includes the content of individuals’ non-public communications?** The datasets do not contain information that is confidential. Moreover, the transportation data has been encoded using unique identifiers such that instances cannot be associated with specific drivers or riders.\n",
    "\n",
    "**Does the dataset contain data that, if viewed directly, might be offensive, insulting, threatening, or might otherwise cause anxiety?** It is unlikely that the datasets contain sensitive information, however we cannot predict how every person will react to the data given their personal histories and backgrounds.\n",
    "\n",
    "**Does the dataset identify any subpopulations (e.g., by age, gender)?** The datasets do not identify any subpopulations. While the transportation information may have made it slightly easier to associate specific individuals with the instances, the datasets may have been able to provide additional insights if subpopulations had been identified. For example, it may have been useful to analyze the impact of a rider's or driver's gender on their Uber and taxi fares. \n",
    "\n",
    "**Is it possible to identify individuals (i.e., one or more natural persons), either directly or indirectly (i.e., in combination with other data) from the dataset?** This is likely not possible.\n",
    "\n",
    "**Does the dataset contain data that might be considered sensitive in any way (e.g., data that reveals race or ethnic origins, sexual orientations, religious beliefs, political opinions or union memberships, or locations; financial or health data; biometric or genetic data; forms of government identification, such as social security numbers; criminal history)?** While the datasets do contain location data, this data cannot be connected to individual people due to a lack of identifying demographic information. \n",
    "\n",
    "### Collection Process\n",
    "\n",
    "**How was the data associated with each instance acquired? What mechanisms or procedures were used to collect the data (e.g., hardware apparatuses or sensors, manual human curation, software programs, software APIs)?** This information is not readily available for the transportation data. The weather data was collected by way of the tools of the NOAA, such as its software and the data that is produced by its weather stations.\n",
    "\n",
    "**If the dataset is a sample from a larger set, what was the sampling strategy (e.g., deterministic, probabilistic with specific sampling probabilities)?** The datasets that were used in our analysis for the transportatino data were created through a random sampling process. Please see the data cleaning section for additional information on the steps that were taken. Meanwhile, the weather dataset was selected based on the range of dates that were used for the other two datasets.\n",
    "\n",
    "**Who was involved in the data collection process (e.g., students, crowd workers, contractors) and how were they compensated (e.g., how much were crowd workers paid)?** This information is not readily available for the transportaion data, however the weather data was likely collected by paid government officials and potentially volunteers.\n",
    "\n",
    "**Over what timeframe was the data collected?** The transportation data was collected from 2009 through 2015 for both datasets. There are likely other datasets that exist that contain similar information for more extensive timeframes, however the datasets that were used provided comparable and complete sets of data that could be utilized to generate an effective machine learning model. Alternatively, the weather data set is constantly being updated by the NOAA. \n",
    "\n",
    "**Were any ethical review processes conducted (e.g., by an institutional review board)?** This information is not readily available. \n",
    "\n",
    "**Did you collect the data from the individuals in question directly, or obtain it via their parties or other sources (e.g., websites)?** Both of the transporation datasets were collected through a third-party source (Kaggle.com). However, the weather dataset was collected directly from the NOAA website.\n",
    "\n",
    "**Were the individuals in question notified about the data collection? Did the individuals in question consent to the collection and use of their data? If consent was obtained, were the consenting individuals provided with a mechanism to revoke their consent in the future or for certain uses?** This information is not readily available. \n",
    "\n",
    "**Has an analysis of the potential impact of the dataset and its use on data subjects (e.g., a data protection impact analysis) been conducted?** This information is not readily available. It is unlikely that the aforementioned analysis has been completed. \n",
    "\n",
    "### Preprocessing/Cleaning/Labeling\n",
    "\n",
    "**Was any preprocessing/cleaning/labeling of the data done (e.g., discretization or bucketing, tokenization, part-of-speech tagging, SIFT feature extraction, removal of instances, processing of missing values)?** \n",
    "\n",
    "**Uber and Taxi Data**\n",
    "\n",
    "**(1)** After analyzing a number of data sets on Kaggle, we determined that it would be particularly relevant to compare Uber and Taxi prices over time. This is not only relevant for consumers who want to minimize their transportation costs, but it is also important to consider price differentials between Uber and Taxis in light of controversies surrounding the presence of Uber in New York City. Because of this, we identified two data sets that contained the same information on Uber and Taxis for the same range of dates. \n",
    "\n",
    "**(2)** We downloaded the cvs files for both taxi and uber fare data. However, the taxi dataset was 5 gigabytes and had 1 million rows. Therefore, in order to get the file size small enough to work with on github, we randomly sampled the data using Microsoft Excel by giving each row a random number, sorting them in ascending order, and taking the first 200,000 rows. Once that was done, the file size was below 25mb, and we were able to upload the data onto gihub.\n",
    "\n",
    "**(3)** We used pd.read_csv to obtain dataframes. Since the only relevant information are longtitudes, latitudes, pickup time and date, fare, and numer of passengers, we decided to drop the other less relevant columns.\n",
    "\n",
    "**(4)** We used pd.to_datetime to convert the pickup_datetime column to have datetime datatypes. We then used .dt.year, .dt.month, .dt.day, .dt.dayofweek, .dt.hour, and dt.minute methods to extract more detailed information about the pickup time. We wanted to extract the hour number and minute number since whole integers would work with the machine learning model.\n",
    "\n",
    "**(5)** We repeated step 3 for the dataframe containing taxi data. \n",
    "\n",
    "**(6)** Once we had the information about the specific hour that the rides are occuring, we created a new column to discern if the ride occured during a rush hour or outside of rush hours. Since we know rush hours affect ride times and overall fares, we thought this might be important to include. We used mapping to do this, and mapped the values to binary values so that it would be more compatible with machine learning algorithms.\n",
    "\n",
    "**(7)** We then removed fare and distance outliers in the data as part of an additional data cleaning process prior to hypothesis testing and building the machine learning model. This process is detailed in a later section named 'Additional Data Cleaning'\n",
    "\n",
    "\n",
    "**Was the “raw” data saved in addition to the preprocessed/cleaned/labeled data (e.g., to support unanticipated future uses)?** The raw data was saved to our Github directory and Google Drive linked at the end of the report. Additionally, the original datasets are available online.\n",
    "\n",
    "**Is the software the was used to preprocess/clean/label the data available?** The softwares that were used to preprocess and clean the datasets were Excel and Jupyter Notebooks. Both of these softwares are still available for usage. \n",
    "\n",
    "**Weather Data**\n",
    "\n",
    "This data was obtained from the National Oceanic and Atmospheric Administration, provided by the US Department of Commerce.\n",
    "\n",
    "**(1)** We requested data from their database for daily precipitation and snow data from the beginning of 2009 to the end of 2015, to ensure that the data overlaps with both the uber and taxi data. \n",
    "\n",
    "**(2)** We changed the titles in the csv file to be lower case so that it would be easier to reference later on. All the weather data is obtained from the JFK Airport weather station, associated with the station id of USW00094789.\n",
    "\n",
    "**(3)** We then joined the data to the existing uber and taxi dataframes based on dates using SQL\n",
    "\n",
    "\n",
    "\n",
    "\n",
    "### Uses\n",
    "\n",
    "**Has the dataset been used for any tasks already?** Our group has used both of the transportation datasets to complete a preliminary analysis of the data. Additionally, these datasets are available to the public, and other people have used them to create machine learning models. In particular, the taxi dataset was used as part of a competition in which individuals attempted to optimize their machine learning models. Meanwhile, the weather dataset is a public resource that is provided by the US government. Because of this, it has likely that a vast number of samples of the data have been used by other individuals to conduct analyses and research.\n",
    "\n",
    "**Is there a repository that links to any or all papers or systems that use the dataset?** The dataset is included in our group’s Github repository. Additionally, the datasets have been loaded into the Jupyter Notebook that is being used to complete the data analysis in question. \n",
    "\n",
    "**What (other) tasks could the dataset be used for?** While the datasets will help to form a machine learning model that can be used to determine Uber and taxi prices within the context of this project, the datasets can be used to evaluate past trends surrounding Uber and taxis, as well. Additionally, it would be possible to use the location and time data to make inferences regarding location trends in New York City. While these are a few examples of alternative uses for these datasets, there are a number of other ways to leverage these datasets in an analysis.  \n",
    "\n",
    "**Is there anything about the composition of the dataset or the way it was collected and preprocessed/cleaned/labeled that might impact future uses?** If the individual instances within the transportation datasets could be traced back to specific individuals, this may have a future impact on the individuals that are associated with specific instances and may provide a greater potential for the datasets to be used for malicious purposes.\n",
    "\n",
    "**Are there tasks for which the dataset should not be used?** The transportation datasets should not be used to track individual riders or drivers. Additionally, the datasets should not be used to disrupt the free-market economics that the Uber and taxi systems utilize. \n",
    "***"
   ]
  },
  {
   "cell_type": "markdown",
   "id": "81460b56",
   "metadata": {},
   "source": [
    "# Preregistration Statement\n",
    "\n",
    "**Hypothesis 1:**\n",
    "The slope of the regression for the distance traveled during a ride for both taxis and Ubers and the fare of the ride in New York City is non-zero.\n",
    "\n",
    "**Hypothesis 2:**\n",
    "There is a significant difference between the prices of Ubers and taxis during the rush hours of New York City.\n",
    "\n",
    "We chose these hypotheses to test since all of us have been in New York City at some point, and given how expensive the city is, every bit of saving counts. We have also heard anecdotally that Taxis (if you can manage to hail them) are usually cheaper than ubers, especiallly during rush hours when surge pricing comes into effect. We therefore wanted to test these hypotheses on the data we have so that we may gather some additional intuition as to what drives uber and taxi pricing. While we do not have access to uber or taxi's pricing algorithms, we can glean insight into what determines fare pricing for these two different pricing mechanisms\n",
    "***"
   ]
  },
  {
   "cell_type": "markdown",
   "id": "753f5a5f",
   "metadata": {},
   "source": [
    "# Data Analysis"
   ]
  },
  {
   "cell_type": "markdown",
   "id": "6ebff545",
   "metadata": {},
   "source": [
    "### Data Pre-Processing: See Appendix One\n",
    "\n",
    "The following steps were undertaken as part of the original data pre-processing: \n",
    "\n",
    "1.) The taxi and Uber data files were loaded into the notebook and unnecessary columns were removed, such as the key column. \n",
    "\n",
    "2.) New columns were created within the taxi and Uber datasets that included the decomposed date and time information and whether a ride occurred during rush hour. It was assumed that rush hour in New York City occurs during the following time periods: 7am - 10am and 5pm to 8pm. \n",
    "\n",
    "3.) Finally, all NaN values were dropped from the datasets. "
   ]
  },
  {
   "cell_type": "code",
   "execution_count": 1,
   "id": "d6e1f11f",
   "metadata": {},
   "outputs": [],
   "source": [
    "import numpy as np\n",
    "import seaborn as sns\n",
    "import pandas as pd\n",
    "import matplotlib.pyplot as plt\n",
    "import duckdb, sqlalchemy\n",
    "from scipy import stats\n",
    "import statsmodels.api as sm\n",
    "from sklearn.linear_model import LinearRegression\n",
    "from sklearn.model_selection import train_test_split\n",
    "from sklearn.metrics import mean_absolute_error"
   ]
  },
  {
   "cell_type": "code",
   "execution_count": 2,
   "id": "a56f5e3b",
   "metadata": {},
   "outputs": [],
   "source": [
    "%load_ext sql\n",
    "\n",
    "%config SqlMagic.autopandas = True\n",
    "%config SqlMagic.feedback = False\n",
    "%config SqlMagic.displaycon = False\n",
    "\n",
    "%sql duckdb:///:memory:"
   ]
  },
  {
   "cell_type": "code",
   "execution_count": 3,
   "id": "c4d5a30c",
   "metadata": {},
   "outputs": [
    {
     "name": "stdout",
     "output_type": "stream",
     "text": [
      "Load cleaned datasets\n"
     ]
    }
   ],
   "source": [
    "# Load the cleaned datasets\n",
    "\n",
    "print(\"Load cleaned datasets\")\n",
    "uber_df = pd.read_csv('uber_df_cleaned.csv')\n",
    "taxi_df = pd.read_csv('taxi_df_cleaned.csv')"
   ]
  },
  {
   "cell_type": "code",
   "execution_count": 4,
   "id": "1bb0bb84",
   "metadata": {},
   "outputs": [
    {
     "name": "stdout",
     "output_type": "stream",
     "text": [
      "Returning data to local variable uber_fare\n"
     ]
    }
   ],
   "source": [
    "%sql uber_fare << SELECT fare_amount FROM uber_df"
   ]
  },
  {
   "cell_type": "markdown",
   "id": "ca751a49",
   "metadata": {},
   "source": [
    "---\n",
    "### Summary Statistics: Uber Dataset"
   ]
  },
  {
   "cell_type": "code",
   "execution_count": 5,
   "id": "9c3e6570",
   "metadata": {},
   "outputs": [
    {
     "name": "stdout",
     "output_type": "stream",
     "text": [
      "Example of the Uber Fares:\n"
     ]
    },
    {
     "data": {
      "text/html": [
       "<div>\n",
       "<style scoped>\n",
       "    .dataframe tbody tr th:only-of-type {\n",
       "        vertical-align: middle;\n",
       "    }\n",
       "\n",
       "    .dataframe tbody tr th {\n",
       "        vertical-align: top;\n",
       "    }\n",
       "\n",
       "    .dataframe thead th {\n",
       "        text-align: right;\n",
       "    }\n",
       "</style>\n",
       "<table border=\"1\" class=\"dataframe\">\n",
       "  <thead>\n",
       "    <tr style=\"text-align: right;\">\n",
       "      <th></th>\n",
       "      <th>fare_amount</th>\n",
       "    </tr>\n",
       "  </thead>\n",
       "  <tbody>\n",
       "    <tr>\n",
       "      <th>0</th>\n",
       "      <td>7.5</td>\n",
       "    </tr>\n",
       "    <tr>\n",
       "      <th>1</th>\n",
       "      <td>7.7</td>\n",
       "    </tr>\n",
       "    <tr>\n",
       "      <th>2</th>\n",
       "      <td>12.9</td>\n",
       "    </tr>\n",
       "    <tr>\n",
       "      <th>3</th>\n",
       "      <td>5.3</td>\n",
       "    </tr>\n",
       "    <tr>\n",
       "      <th>4</th>\n",
       "      <td>16.0</td>\n",
       "    </tr>\n",
       "  </tbody>\n",
       "</table>\n",
       "</div>"
      ],
      "text/plain": [
       "   fare_amount\n",
       "0          7.5\n",
       "1          7.7\n",
       "2         12.9\n",
       "3          5.3\n",
       "4         16.0"
      ]
     },
     "execution_count": 5,
     "metadata": {},
     "output_type": "execute_result"
    }
   ],
   "source": [
    "print(\"Example of the Uber Fares:\")\n",
    "uber_fare.head()"
   ]
  },
  {
   "cell_type": "code",
   "execution_count": 6,
   "id": "68b2ba74",
   "metadata": {},
   "outputs": [
    {
     "name": "stdout",
     "output_type": "stream",
     "text": [
      "Mean Uber Fare:\n"
     ]
    },
    {
     "data": {
      "text/plain": [
       "fare_amount    11.359955\n",
       "dtype: float64"
      ]
     },
     "execution_count": 6,
     "metadata": {},
     "output_type": "execute_result"
    }
   ],
   "source": [
    "print(\"Mean Uber Fare:\")\n",
    "uber_fare.mean(axis = 0)"
   ]
  },
  {
   "cell_type": "code",
   "execution_count": 7,
   "id": "ecf88e53",
   "metadata": {},
   "outputs": [
    {
     "name": "stdout",
     "output_type": "stream",
     "text": [
      "Median Uber Fare:\n"
     ]
    },
    {
     "data": {
      "text/plain": [
       "fare_amount    8.5\n",
       "dtype: float64"
      ]
     },
     "execution_count": 7,
     "metadata": {},
     "output_type": "execute_result"
    }
   ],
   "source": [
    "print(\"Median Uber Fare:\")\n",
    "uber_fare.median(axis = 0)"
   ]
  },
  {
   "cell_type": "code",
   "execution_count": 8,
   "id": "7047aefa",
   "metadata": {},
   "outputs": [
    {
     "name": "stdout",
     "output_type": "stream",
     "text": [
      "Standard Deviation of the Uber Fares:\n"
     ]
    },
    {
     "data": {
      "text/plain": [
       "fare_amount    9.901776\n",
       "dtype: float64"
      ]
     },
     "execution_count": 8,
     "metadata": {},
     "output_type": "execute_result"
    }
   ],
   "source": [
    "print(\"Standard Deviation of the Uber Fares:\")\n",
    "uber_fare.std(axis = 0)"
   ]
  },
  {
   "cell_type": "code",
   "execution_count": 9,
   "id": "f5073dca",
   "metadata": {},
   "outputs": [
    {
     "data": {
      "text/plain": [
       "[Text(0.5, 1.0, 'Uber Fares'),\n",
       " Text(0, 0.5, 'Number of Rides'),\n",
       " Text(0.5, 0, 'Fare Amount')]"
      ]
     },
     "execution_count": 9,
     "metadata": {},
     "output_type": "execute_result"
    },
    {
     "data": {
      "image/png": "[encoded data removed]",
      "text/plain": [
       "<Figure size 432x288 with 1 Axes>"
      ]
     },
     "metadata": {
      "needs_background": "light"
     },
     "output_type": "display_data"
    }
   ],
   "source": [
    "sns.histplot(uber_fare).set(title=\"Uber Fares\",ylabel=\"Number of Rides\",xlabel=\"Fare Amount\")"
   ]
  },
  {
   "cell_type": "code",
   "execution_count": 10,
   "id": "5c583951",
   "metadata": {},
   "outputs": [],
   "source": [
    "uber_fare_outliers_removed = %sql SELECT fare_amount FROM uber_df WHERE fare_amount < 100"
   ]
  },
  {
   "cell_type": "code",
   "execution_count": 11,
   "id": "09bc7087",
   "metadata": {},
   "outputs": [
    {
     "data": {
      "text/plain": [
       "[Text(0.5, 1.0, 'Uber Fares without Outliers'),\n",
       " Text(0, 0.5, 'Number of Rides'),\n",
       " Text(0.5, 0, 'Fare Amount')]"
      ]
     },
     "execution_count": 11,
     "metadata": {},
     "output_type": "execute_result"
    },
    {
     "data": {
      "image/png": "[encoded data removed]",
      "text/plain": [
       "<Figure size 432x288 with 1 Axes>"
      ]
     },
     "metadata": {
      "needs_background": "light"
     },
     "output_type": "display_data"
    }
   ],
   "source": [
    "sns.histplot(uber_fare_outliers_removed).set(title=\"Uber Fares without Outliers\",ylabel=\"Number of Rides\",xlabel=\"Fare Amount\")"
   ]
  },
  {
   "cell_type": "markdown",
   "id": "9ee04115",
   "metadata": {},
   "source": [
    "---\n",
    "### Summary Statistics: Taxi Dataset"
   ]
  },
  {
   "cell_type": "code",
   "execution_count": 12,
   "id": "f01718cf",
   "metadata": {},
   "outputs": [
    {
     "name": "stdout",
     "output_type": "stream",
     "text": [
      "Returning data to local variable taxi_fare\n"
     ]
    }
   ],
   "source": [
    "%sql taxi_fare << SELECT fare_amount FROM taxi_df"
   ]
  },
  {
   "cell_type": "code",
   "execution_count": 13,
   "id": "20fe599b",
   "metadata": {},
   "outputs": [
    {
     "name": "stdout",
     "output_type": "stream",
     "text": [
      "Example of the Taxi Fares:\n"
     ]
    },
    {
     "data": {
      "text/html": [
       "<div>\n",
       "<style scoped>\n",
       "    .dataframe tbody tr th:only-of-type {\n",
       "        vertical-align: middle;\n",
       "    }\n",
       "\n",
       "    .dataframe tbody tr th {\n",
       "        vertical-align: top;\n",
       "    }\n",
       "\n",
       "    .dataframe thead th {\n",
       "        text-align: right;\n",
       "    }\n",
       "</style>\n",
       "<table border=\"1\" class=\"dataframe\">\n",
       "  <thead>\n",
       "    <tr style=\"text-align: right;\">\n",
       "      <th></th>\n",
       "      <th>fare_amount</th>\n",
       "    </tr>\n",
       "  </thead>\n",
       "  <tbody>\n",
       "    <tr>\n",
       "      <th>0</th>\n",
       "      <td>7.3</td>\n",
       "    </tr>\n",
       "    <tr>\n",
       "      <th>1</th>\n",
       "      <td>5.7</td>\n",
       "    </tr>\n",
       "    <tr>\n",
       "      <th>2</th>\n",
       "      <td>13.7</td>\n",
       "    </tr>\n",
       "    <tr>\n",
       "      <th>3</th>\n",
       "      <td>4.1</td>\n",
       "    </tr>\n",
       "    <tr>\n",
       "      <th>4</th>\n",
       "      <td>28.0</td>\n",
       "    </tr>\n",
       "  </tbody>\n",
       "</table>\n",
       "</div>"
      ],
      "text/plain": [
       "   fare_amount\n",
       "0          7.3\n",
       "1          5.7\n",
       "2         13.7\n",
       "3          4.1\n",
       "4         28.0"
      ]
     },
     "execution_count": 13,
     "metadata": {},
     "output_type": "execute_result"
    }
   ],
   "source": [
    "print(\"Example of the Taxi Fares:\")\n",
    "taxi_fare.head()"
   ]
  },
  {
   "cell_type": "code",
   "execution_count": 14,
   "id": "9d0699da",
   "metadata": {},
   "outputs": [],
   "source": [
    "taxi_fare.dropna(axis=0, how='any', inplace=True)"
   ]
  },
  {
   "cell_type": "code",
   "execution_count": 15,
   "id": "85320408",
   "metadata": {},
   "outputs": [
    {
     "name": "stdout",
     "output_type": "stream",
     "text": [
      "Mean Taxi Fares:\n"
     ]
    },
    {
     "data": {
      "text/plain": [
       "fare_amount    11.357321\n",
       "dtype: float64"
      ]
     },
     "execution_count": 15,
     "metadata": {},
     "output_type": "execute_result"
    }
   ],
   "source": [
    "print(\"Mean Taxi Fares:\")\n",
    "taxi_fare.mean(axis = 0)"
   ]
  },
  {
   "cell_type": "code",
   "execution_count": 16,
   "id": "a1768d52",
   "metadata": {},
   "outputs": [
    {
     "name": "stdout",
     "output_type": "stream",
     "text": [
      "Median Taxi Fares:\n"
     ]
    },
    {
     "data": {
      "text/plain": [
       "fare_amount    8.5\n",
       "dtype: float64"
      ]
     },
     "execution_count": 16,
     "metadata": {},
     "output_type": "execute_result"
    }
   ],
   "source": [
    "print(\"Median Taxi Fares:\")\n",
    "taxi_fare.median(axis = 0)"
   ]
  },
  {
   "cell_type": "code",
   "execution_count": 17,
   "id": "ba1a1f50",
   "metadata": {},
   "outputs": [
    {
     "name": "stdout",
     "output_type": "stream",
     "text": [
      "Standard Deviation of the Taxi Fares:\n"
     ]
    },
    {
     "data": {
      "text/plain": [
       "fare_amount    9.90939\n",
       "dtype: float64"
      ]
     },
     "execution_count": 17,
     "metadata": {},
     "output_type": "execute_result"
    }
   ],
   "source": [
    "print(\"Standard Deviation of the Taxi Fares:\")\n",
    "taxi_fare.std(axis = 0)"
   ]
  },
  {
   "cell_type": "code",
   "execution_count": 18,
   "id": "d3d1ba82",
   "metadata": {},
   "outputs": [
    {
     "data": {
      "text/plain": [
       "[Text(0.5, 1.0, 'Taxi Fares'),\n",
       " Text(0, 0.5, 'Number of Rides'),\n",
       " Text(0.5, 0, 'Fare Amount')]"
      ]
     },
     "execution_count": 18,
     "metadata": {},
     "output_type": "execute_result"
    },
    {
     "data": {
      "image/png": "[encoded data removed]",
      "text/plain": [
       "<Figure size 432x288 with 1 Axes>"
      ]
     },
     "metadata": {
      "needs_background": "light"
     },
     "output_type": "display_data"
    }
   ],
   "source": [
    "sns.histplot(taxi_fare).set(title=\"Taxi Fares\",ylabel=\"Number of Rides\",xlabel=\"Fare Amount\")"
   ]
  },
  {
   "cell_type": "code",
   "execution_count": 19,
   "id": "1b40c212",
   "metadata": {},
   "outputs": [],
   "source": [
    "taxi_fare_outliers_removed = %sql SELECT fare_amount FROM taxi_df WHERE fare_amount < 100"
   ]
  },
  {
   "cell_type": "code",
   "execution_count": 20,
   "id": "477cf516",
   "metadata": {},
   "outputs": [
    {
     "data": {
      "text/plain": [
       "[Text(0.5, 1.0, 'Taxi Fares without Outliers'),\n",
       " Text(0, 0.5, 'Number of Rides'),\n",
       " Text(0.5, 0, 'Fare Amount')]"
      ]
     },
     "execution_count": 20,
     "metadata": {},
     "output_type": "execute_result"
    },
    {
     "data": {
      "image/png": "[encoded data removed]",
      "text/plain": [
       "<Figure size 432x288 with 1 Axes>"
      ]
     },
     "metadata": {
      "needs_background": "light"
     },
     "output_type": "display_data"
    }
   ],
   "source": [
    "sns.histplot(taxi_fare_outliers_removed).set(title=\"Taxi Fares without Outliers\",ylabel=\"Number of Rides\",xlabel=\"Fare Amount\")"
   ]
  },
  {
   "cell_type": "markdown",
   "id": "c274bb75",
   "metadata": {},
   "source": [
    "As we can see, the distribution for both uber and taxi fares are mostly contained within $50. However, the presence of extreme outliers cause the stretching of the axes significantly.\n",
    "\n",
    "We therefore set the price limit at $100 to remove outliers later on when we run a regression"
   ]
  },
  {
   "cell_type": "markdown",
   "id": "eb19b145",
   "metadata": {},
   "source": [
    "---\n",
    "### Additional Data Cleaning: Removing Distance Outliers (See Appendix Two)\n",
    "\n",
    "**Calculating Euclidean Distances**\n",
    "\n",
    "1.) In this section, we calculate the distance between the coordinates. We will calculate distance using the Pythagorean Theorem since we can use the Pythagorean Theorem to calculate distances between coordinates if the total distance is relatively small compared to the size of the earth, which in this case, it true.\n",
    "\n",
    "2.) For ease of understanding, we can then convert the distances calculated to the desired unit in miles\n",
    "\n",
    "**Removing Distance Outliers (Part 1)**\n",
    "\n",
    "Now that we have our distances, we want to make sure that our data does not include outliers in terms of distances. For example, some people may utilize long distance ubers or taxis that span more than what the typical car ride in New York City is. This would distort our data and therefore, we set a threshold to filter out the data by only including trips where the distance is less than 15 miles.\n",
    "\n",
    "**Removing Distance Outliers (Part 2)**\n",
    "\n",
    "In the dataset, some rides had distances of 0, which does not make sense and could potentially correspond to canceled rides. To deal with this, we removed all the rows from both dataframes where the distance is less than 0.5 miles"
   ]
  },
  {
   "cell_type": "markdown",
   "id": "5d71fcb9",
   "metadata": {},
   "source": [
    "**Distance Summary Statistics**\n",
    "\n",
    "Once we load in the cleaned datasets from the appendix, we are then able to compute single variable summary statistics for the distances for both uber and taxi rides based on our datasets as follows"
   ]
  },
  {
   "cell_type": "code",
   "execution_count": 21,
   "id": "a8280d0e",
   "metadata": {},
   "outputs": [],
   "source": [
    "uber_df = pd.read_csv('uber_df_cleaned_distances.csv')\n",
    "taxi_df = pd.read_csv('taxi_df_cleaned_distances.csv')"
   ]
  },
  {
   "cell_type": "code",
   "execution_count": 22,
   "id": "dc78d1e3",
   "metadata": {},
   "outputs": [
    {
     "name": "stdout",
     "output_type": "stream",
     "text": [
      "Average Distance of an Uber Ride:\n"
     ]
    },
    {
     "data": {
      "text/plain": [
       "2.679177101125635"
      ]
     },
     "execution_count": 22,
     "metadata": {},
     "output_type": "execute_result"
    }
   ],
   "source": [
    "print(\"Average Distance of an Uber Ride:\")\n",
    "uber_df['distance'].mean(axis = 0)"
   ]
  },
  {
   "cell_type": "code",
   "execution_count": 23,
   "id": "6217fd86",
   "metadata": {},
   "outputs": [
    {
     "name": "stdout",
     "output_type": "stream",
     "text": [
      "Median Distance of an Uber Ride:\n"
     ]
    },
    {
     "data": {
      "text/plain": [
       "1.9148053402940717"
      ]
     },
     "execution_count": 23,
     "metadata": {},
     "output_type": "execute_result"
    }
   ],
   "source": [
    "print(\"Median Distance of an Uber Ride:\")\n",
    "uber_df['distance'].median(axis = 0)"
   ]
  },
  {
   "cell_type": "code",
   "execution_count": 24,
   "id": "7d243cdf",
   "metadata": {},
   "outputs": [
    {
     "name": "stdout",
     "output_type": "stream",
     "text": [
      "Standard Deviation of the Distance of an Uber Ride:\n"
     ]
    },
    {
     "data": {
      "text/plain": [
       "2.313425760761496"
      ]
     },
     "execution_count": 24,
     "metadata": {},
     "output_type": "execute_result"
    }
   ],
   "source": [
    "print(\"Standard Deviation of the Distance of an Uber Ride:\")\n",
    "uber_df['distance'].std(axis = 0)"
   ]
  },
  {
   "cell_type": "markdown",
   "id": "b661eb3a",
   "metadata": {},
   "source": [
    "The distribution for the distances of uber rides is shown below"
   ]
  },
  {
   "cell_type": "code",
   "execution_count": 25,
   "id": "f4f2c69d",
   "metadata": {},
   "outputs": [
    {
     "data": {
      "text/plain": [
       "[Text(0.5, 1.0, 'Uber Ride Distances in Miles')]"
      ]
     },
     "execution_count": 25,
     "metadata": {},
     "output_type": "execute_result"
    },
    {
     "data": {
      "image/png": "[encoded data removed]",
      "text/plain": [
       "<Figure size 432x288 with 1 Axes>"
      ]
     },
     "metadata": {
      "needs_background": "light"
     },
     "output_type": "display_data"
    }
   ],
   "source": [
    "sns.histplot(uber_df['distance']).set(title=\"Uber Ride Distances in Miles\")"
   ]
  },
  {
   "cell_type": "markdown",
   "id": "e7ab3ef1",
   "metadata": {},
   "source": [
    "We can see that majority of the data occur in the zero to six mile range, with a long tail going up to fourteen miles"
   ]
  },
  {
   "cell_type": "code",
   "execution_count": 26,
   "id": "2b65a052",
   "metadata": {},
   "outputs": [
    {
     "name": "stdout",
     "output_type": "stream",
     "text": [
      "Average Distance of a Taxi Ride:\n"
     ]
    },
    {
     "data": {
      "text/plain": [
       "2.687877921577635"
      ]
     },
     "execution_count": 26,
     "metadata": {},
     "output_type": "execute_result"
    }
   ],
   "source": [
    "print(\"Average Distance of a Taxi Ride:\")\n",
    "taxi_df['distance'].mean(axis = 0)"
   ]
  },
  {
   "cell_type": "code",
   "execution_count": 27,
   "id": "f6b1ad4a",
   "metadata": {},
   "outputs": [
    {
     "name": "stdout",
     "output_type": "stream",
     "text": [
      "Median Distance of a Taxi Ride:\n"
     ]
    },
    {
     "data": {
      "text/plain": [
       "1.9179470406274184"
      ]
     },
     "execution_count": 27,
     "metadata": {},
     "output_type": "execute_result"
    }
   ],
   "source": [
    "print(\"Median Distance of a Taxi Ride:\")\n",
    "taxi_df['distance'].median(axis = 0)"
   ]
  },
  {
   "cell_type": "code",
   "execution_count": 28,
   "id": "0359eba2",
   "metadata": {},
   "outputs": [
    {
     "name": "stdout",
     "output_type": "stream",
     "text": [
      "Standard Deviation of the Taxi Rides:\n"
     ]
    },
    {
     "data": {
      "text/plain": [
       "2.317825183927853"
      ]
     },
     "execution_count": 28,
     "metadata": {},
     "output_type": "execute_result"
    }
   ],
   "source": [
    "print(\"Standard Deviation of the Taxi Rides:\")\n",
    "taxi_df['distance'].std(axis = 0)"
   ]
  },
  {
   "cell_type": "code",
   "execution_count": 29,
   "id": "9e855b11",
   "metadata": {},
   "outputs": [
    {
     "data": {
      "text/plain": [
       "[Text(0.5, 1.0, 'Taxi Ride Distances in Miles')]"
      ]
     },
     "execution_count": 29,
     "metadata": {},
     "output_type": "execute_result"
    },
    {
     "data": {
      "image/png": "[encoded data removed]",
      "text/plain": [
       "<Figure size 432x288 with 1 Axes>"
      ]
     },
     "metadata": {
      "needs_background": "light"
     },
     "output_type": "display_data"
    }
   ],
   "source": [
    "sns.histplot(taxi_df['distance']).set(title=\"Taxi Ride Distances in Miles\")"
   ]
  },
  {
   "cell_type": "markdown",
   "id": "d1884fac",
   "metadata": {},
   "source": [
    "We can see that majority of the data occur in the zero to six mile range, with a long tail going up to around fourteen miles"
   ]
  },
  {
   "cell_type": "markdown",
   "id": "b2a399b0",
   "metadata": {},
   "source": [
    "**Comparison of distance summary statistics**\n",
    "\n",
    "Overall, the average, median, and standard deviation of distances among the two mediums of transport are fairly similar, as can be expected from two very similar services in New York City"
   ]
  },
  {
   "cell_type": "markdown",
   "id": "9de0382c",
   "metadata": {},
   "source": [
    "---\n",
    "### Additional Data Cleaning: Removing Fare Outliers \n",
    "\n",
    "We also wanted to remove outliers in terms of price so as to make sure our dataset is not distorted, so we decided to remove rows where the fare amounts exceed are more than or equal to $150 for both Uber and taxi datasets.\n"
   ]
  },
  {
   "cell_type": "code",
   "execution_count": 30,
   "id": "6740f751",
   "metadata": {},
   "outputs": [],
   "source": [
    "uber_df = uber_df[uber_df['fare_amount'] < 150]"
   ]
  },
  {
   "cell_type": "code",
   "execution_count": 31,
   "id": "32f7ef44",
   "metadata": {},
   "outputs": [],
   "source": [
    "taxi_df = taxi_df[taxi_df['fare_amount'] < 150]"
   ]
  },
  {
   "cell_type": "markdown",
   "id": "77585f88",
   "metadata": {},
   "source": [
    "---\n",
    "### Data Visualizations"
   ]
  },
  {
   "cell_type": "markdown",
   "id": "aab53e59",
   "metadata": {},
   "source": [
    "Below, we visualize the relationship between the fare and the distance of the uber/taxi ride using seaborn scatterplots"
   ]
  },
  {
   "cell_type": "code",
   "execution_count": 32,
   "id": "9d01c6af",
   "metadata": {},
   "outputs": [
    {
     "data": {
      "text/plain": [
       "[Text(0.5, 1.0, 'Relationship Between Uber Fares and Ride Distances')]"
      ]
     },
     "execution_count": 32,
     "metadata": {},
     "output_type": "execute_result"
    },
    {
     "data": {
      "image/png": "[encoded data removed]",
      "text/plain": [
       "<Figure size 432x288 with 1 Axes>"
      ]
     },
     "metadata": {
      "needs_background": "light"
     },
     "output_type": "display_data"
    }
   ],
   "source": [
    "sns.scatterplot(data=uber_df, x='distance', y='fare_amount').set(title=\"Relationship Between Uber Fares and Ride Distances\")"
   ]
  },
  {
   "cell_type": "code",
   "execution_count": 33,
   "id": "b311a28e",
   "metadata": {},
   "outputs": [
    {
     "data": {
      "text/plain": [
       "[Text(0.5, 1.0, 'Relationship Between Taxi Fares and Ride Distances')]"
      ]
     },
     "execution_count": 33,
     "metadata": {},
     "output_type": "execute_result"
    },
    {
     "data": {
      "image/png": "[encoded data removed]",
      "text/plain": [
       "<Figure size 432x288 with 1 Axes>"
      ]
     },
     "metadata": {
      "needs_background": "light"
     },
     "output_type": "display_data"
    }
   ],
   "source": [
    "sns.scatterplot(data=taxi_df, x='distance', y='fare_amount').set(title=\"Relationship Between Taxi Fares and Ride Distances\")"
   ]
  },
  {
   "cell_type": "markdown",
   "id": "6d5e32a0",
   "metadata": {},
   "source": [
    "We can then calculate the correlation coefficient between distance and fare amounts for both of the datasets"
   ]
  },
  {
   "cell_type": "code",
   "execution_count": 34,
   "id": "4e6705ad",
   "metadata": {},
   "outputs": [
    {
     "name": "stdout",
     "output_type": "stream",
     "text": [
      "Returning data to local variable uber_dist_fare\n"
     ]
    }
   ],
   "source": [
    "%sql uber_dist_fare << SELECT fare_amount, distance FROM uber_df"
   ]
  },
  {
   "cell_type": "code",
   "execution_count": 35,
   "id": "beaffd2a",
   "metadata": {},
   "outputs": [
    {
     "name": "stdout",
     "output_type": "stream",
     "text": [
      "Correlation Coefficients for Uber Ride Distances and Fares\n"
     ]
    },
    {
     "data": {
      "text/html": [
       "<div>\n",
       "<style scoped>\n",
       "    .dataframe tbody tr th:only-of-type {\n",
       "        vertical-align: middle;\n",
       "    }\n",
       "\n",
       "    .dataframe tbody tr th {\n",
       "        vertical-align: top;\n",
       "    }\n",
       "\n",
       "    .dataframe thead th {\n",
       "        text-align: right;\n",
       "    }\n",
       "</style>\n",
       "<table border=\"1\" class=\"dataframe\">\n",
       "  <thead>\n",
       "    <tr style=\"text-align: right;\">\n",
       "      <th></th>\n",
       "      <th>fare_amount</th>\n",
       "      <th>distance</th>\n",
       "    </tr>\n",
       "  </thead>\n",
       "  <tbody>\n",
       "    <tr>\n",
       "      <th>fare_amount</th>\n",
       "      <td>1.000000</td>\n",
       "      <td>0.866752</td>\n",
       "    </tr>\n",
       "    <tr>\n",
       "      <th>distance</th>\n",
       "      <td>0.866752</td>\n",
       "      <td>1.000000</td>\n",
       "    </tr>\n",
       "  </tbody>\n",
       "</table>\n",
       "</div>"
      ],
      "text/plain": [
       "             fare_amount  distance\n",
       "fare_amount     1.000000  0.866752\n",
       "distance        0.866752  1.000000"
      ]
     },
     "execution_count": 35,
     "metadata": {},
     "output_type": "execute_result"
    }
   ],
   "source": [
    "print(\"Correlation Coefficients for Uber Ride Distances and Fares\")\n",
    "uber_dist_fare.corr()"
   ]
  },
  {
   "cell_type": "code",
   "execution_count": 36,
   "id": "5bf73a14",
   "metadata": {},
   "outputs": [
    {
     "name": "stdout",
     "output_type": "stream",
     "text": [
      "Returning data to local variable taxi_dist_fare\n"
     ]
    }
   ],
   "source": [
    "%sql taxi_dist_fare << SELECT fare_amount, distance FROM taxi_df"
   ]
  },
  {
   "cell_type": "code",
   "execution_count": 37,
   "id": "c2890e13",
   "metadata": {},
   "outputs": [
    {
     "name": "stdout",
     "output_type": "stream",
     "text": [
      "Correlation Coefficients for Taxi Ride Distances and Fares\n"
     ]
    },
    {
     "data": {
      "text/html": [
       "<div>\n",
       "<style scoped>\n",
       "    .dataframe tbody tr th:only-of-type {\n",
       "        vertical-align: middle;\n",
       "    }\n",
       "\n",
       "    .dataframe tbody tr th {\n",
       "        vertical-align: top;\n",
       "    }\n",
       "\n",
       "    .dataframe thead th {\n",
       "        text-align: right;\n",
       "    }\n",
       "</style>\n",
       "<table border=\"1\" class=\"dataframe\">\n",
       "  <thead>\n",
       "    <tr style=\"text-align: right;\">\n",
       "      <th></th>\n",
       "      <th>fare_amount</th>\n",
       "      <th>distance</th>\n",
       "    </tr>\n",
       "  </thead>\n",
       "  <tbody>\n",
       "    <tr>\n",
       "      <th>fare_amount</th>\n",
       "      <td>1.000000</td>\n",
       "      <td>0.867082</td>\n",
       "    </tr>\n",
       "    <tr>\n",
       "      <th>distance</th>\n",
       "      <td>0.867082</td>\n",
       "      <td>1.000000</td>\n",
       "    </tr>\n",
       "  </tbody>\n",
       "</table>\n",
       "</div>"
      ],
      "text/plain": [
       "             fare_amount  distance\n",
       "fare_amount     1.000000  0.867082\n",
       "distance        0.867082  1.000000"
      ]
     },
     "execution_count": 37,
     "metadata": {},
     "output_type": "execute_result"
    }
   ],
   "source": [
    "print(\"Correlation Coefficients for Taxi Ride Distances and Fares\")\n",
    "taxi_dist_fare.corr()"
   ]
  },
  {
   "cell_type": "markdown",
   "id": "8b99efa1",
   "metadata": {},
   "source": [
    "**Comparison of Distance Correlation Statistics**\n",
    "\n",
    "We observe a strong positive linear relationship between the fare amount and the distance of the ride for both ubers and taxis, which makes intuitive sense given that rides to further places would cost more given factors such as increased fuel costs and time needed for driver to complete the ride."
   ]
  },
  {
   "cell_type": "markdown",
   "id": "43685e70",
   "metadata": {},
   "source": [
    "__\n",
    "\n",
    "Now, we will see if there is a relationship between the time of day and the fare price, and calculate the correlation coefficients"
   ]
  },
  {
   "cell_type": "code",
   "execution_count": 38,
   "id": "44ac7ccf",
   "metadata": {},
   "outputs": [
    {
     "name": "stdout",
     "output_type": "stream",
     "text": [
      "Returning data to local variable uber_hour_price\n"
     ]
    }
   ],
   "source": [
    "%sql uber_hour_price << SELECT fare_amount, hour FROM uber_df"
   ]
  },
  {
   "cell_type": "code",
   "execution_count": 39,
   "id": "e3339bab",
   "metadata": {},
   "outputs": [
    {
     "name": "stdout",
     "output_type": "stream",
     "text": [
      "Correlation Coefficients for Uber Ride Time of Day and Fares\n"
     ]
    },
    {
     "data": {
      "text/html": [
       "<div>\n",
       "<style scoped>\n",
       "    .dataframe tbody tr th:only-of-type {\n",
       "        vertical-align: middle;\n",
       "    }\n",
       "\n",
       "    .dataframe tbody tr th {\n",
       "        vertical-align: top;\n",
       "    }\n",
       "\n",
       "    .dataframe thead th {\n",
       "        text-align: right;\n",
       "    }\n",
       "</style>\n",
       "<table border=\"1\" class=\"dataframe\">\n",
       "  <thead>\n",
       "    <tr style=\"text-align: right;\">\n",
       "      <th></th>\n",
       "      <th>fare_amount</th>\n",
       "      <th>hour</th>\n",
       "    </tr>\n",
       "  </thead>\n",
       "  <tbody>\n",
       "    <tr>\n",
       "      <th>fare_amount</th>\n",
       "      <td>1.000000</td>\n",
       "      <td>-0.023719</td>\n",
       "    </tr>\n",
       "    <tr>\n",
       "      <th>hour</th>\n",
       "      <td>-0.023719</td>\n",
       "      <td>1.000000</td>\n",
       "    </tr>\n",
       "  </tbody>\n",
       "</table>\n",
       "</div>"
      ],
      "text/plain": [
       "             fare_amount      hour\n",
       "fare_amount     1.000000 -0.023719\n",
       "hour           -0.023719  1.000000"
      ]
     },
     "execution_count": 39,
     "metadata": {},
     "output_type": "execute_result"
    }
   ],
   "source": [
    "print(\"Correlation Coefficients for Uber Ride Time of Day and Fares\")\n",
    "uber_hour_price.corr()"
   ]
  },
  {
   "cell_type": "code",
   "execution_count": 40,
   "id": "9e11174e",
   "metadata": {},
   "outputs": [
    {
     "name": "stdout",
     "output_type": "stream",
     "text": [
      "Returning data to local variable taxi_hour_price\n"
     ]
    }
   ],
   "source": [
    "%sql taxi_hour_price << SELECT fare_amount, hour FROM taxi_df"
   ]
  },
  {
   "cell_type": "code",
   "execution_count": 41,
   "id": "d5bf3d36",
   "metadata": {},
   "outputs": [
    {
     "name": "stdout",
     "output_type": "stream",
     "text": [
      "Correlation Coefficients for Taxi Ride Time of Day and Fares\n"
     ]
    },
    {
     "data": {
      "text/html": [
       "<div>\n",
       "<style scoped>\n",
       "    .dataframe tbody tr th:only-of-type {\n",
       "        vertical-align: middle;\n",
       "    }\n",
       "\n",
       "    .dataframe tbody tr th {\n",
       "        vertical-align: top;\n",
       "    }\n",
       "\n",
       "    .dataframe thead th {\n",
       "        text-align: right;\n",
       "    }\n",
       "</style>\n",
       "<table border=\"1\" class=\"dataframe\">\n",
       "  <thead>\n",
       "    <tr style=\"text-align: right;\">\n",
       "      <th></th>\n",
       "      <th>fare_amount</th>\n",
       "      <th>hour</th>\n",
       "    </tr>\n",
       "  </thead>\n",
       "  <tbody>\n",
       "    <tr>\n",
       "      <th>fare_amount</th>\n",
       "      <td>1.00000</td>\n",
       "      <td>-0.02393</td>\n",
       "    </tr>\n",
       "    <tr>\n",
       "      <th>hour</th>\n",
       "      <td>-0.02393</td>\n",
       "      <td>1.00000</td>\n",
       "    </tr>\n",
       "  </tbody>\n",
       "</table>\n",
       "</div>"
      ],
      "text/plain": [
       "             fare_amount     hour\n",
       "fare_amount      1.00000 -0.02393\n",
       "hour            -0.02393  1.00000"
      ]
     },
     "execution_count": 41,
     "metadata": {},
     "output_type": "execute_result"
    }
   ],
   "source": [
    "print(\"Correlation Coefficients for Taxi Ride Time of Day and Fares\")\n",
    "taxi_hour_price.corr()"
   ]
  },
  {
   "cell_type": "code",
   "execution_count": 42,
   "id": "6845a3aa",
   "metadata": {},
   "outputs": [
    {
     "data": {
      "text/plain": [
       "[Text(0.5, 1.0, 'Uber Ride Time of Day and Fare')]"
      ]
     },
     "execution_count": 42,
     "metadata": {},
     "output_type": "execute_result"
    },
    {
     "data": {
      "image/png": "[encoded data removed]",
      "text/plain": [
       "<Figure size 432x288 with 1 Axes>"
      ]
     },
     "metadata": {
      "needs_background": "light"
     },
     "output_type": "display_data"
    }
   ],
   "source": [
    "sns.scatterplot(data=uber_hour_price, x='hour', y='fare_amount').set(title=\"Uber Ride Time of Day and Fare\")"
   ]
  },
  {
   "cell_type": "code",
   "execution_count": 43,
   "id": "745f681d",
   "metadata": {},
   "outputs": [
    {
     "data": {
      "text/plain": [
       "[Text(0.5, 1.0, 'Taxi Ride Time of Day and Fare')]"
      ]
     },
     "execution_count": 43,
     "metadata": {},
     "output_type": "execute_result"
    },
    {
     "data": {
      "image/png": "[encoded data removed]",
      "text/plain": [
       "<Figure size 432x288 with 1 Axes>"
      ]
     },
     "metadata": {
      "needs_background": "light"
     },
     "output_type": "display_data"
    }
   ],
   "source": [
    "sns.scatterplot(data=taxi_hour_price, x='hour', y='fare_amount').set(title=\"Taxi Ride Time of Day and Fare\")"
   ]
  },
  {
   "cell_type": "markdown",
   "id": "b97e6d43",
   "metadata": {},
   "source": [
    "**Summary of Time of Day Correlation Statistics**\n",
    "\n",
    "We notice here that there does not appear to be a correlation between the hour of the day and the price of the taxi or uber ride, which is a little surprising since we would expect at least some relationship especially during rush hours. In order to visualize this relationship, decided to create a bar chart for both ubers and taxis to see if there is a difference in average prices during rush hour or non rush hour traffic"
   ]
  },
  {
   "cell_type": "markdown",
   "id": "5ddf3ffe",
   "metadata": {},
   "source": [
    "---\n",
    "### Weather Dataset Cleaning Process (See Appendix Three)"
   ]
  },
  {
   "cell_type": "markdown",
   "id": "9b3458af",
   "metadata": {},
   "source": [
    "**Incorporating Additional Weather Data**\n",
    "\n",
    "To further inform our machine learning model's predictions, we thought it would be a good idea to incorporate weather information to see if the prices of uber and taxi rides are impacted by precipitation. The reasoning for this is that we would assume that since rain makes it inconvenient for people to leave the house, they would be more inclined to spend money on a taxi ride or uber instead. "
   ]
  },
  {
   "cell_type": "markdown",
   "id": "74987728",
   "metadata": {},
   "source": [
    "**Data Cleaning Process**\n",
    "\n",
    "This data was obtained from the National Oceanic and Atmospheric Administration, provided by the US Department of Commerce. We requested data from their database for daily precipitation and snow data from the beginning of 2009 to the end of 2015, to ensure that the data overlaps with both the uber and taxi data. To make data processing easier, we changed the titles in the csv file to be lower case so that it would be easier to reference later on. All the weather data is obtained from the JFK Airport weather station, associated with the station id of USW00094789.\n",
    "\n",
    "**Limitations of Weather Data**\n",
    "\n",
    "A key limitation of historical weather data is that they tell us the precipitation and snowfall levels for the 24 hour period of each day. However, since we are dealing with humans taking uber or taxi rides, we would ideally have liked the data to be split into hourly boolean values that indicated whether there was rain within the hour or not. However, such data was not readily available even on national databases, and therefore we have to use data aggregated on a daily basis as a proxy for whether the day was rainy or not. As a result, we may run into cases where for example, 0.1 inch of rainfall during 3am would classify the day as a rainy day. Nevertheless, we are determined to explore if such a relationship exists. Therefore, in order to alleviate this issue, we have set the threshold for what is considered to be a rainy day as more than or equal to 0.3 inches of rain for the full day. We used 0.3 because 0.3 inches per hour is what is usually defined as one hour of heavy rain, and we will use that as a proxy indicator as to whether a day was rainy or not.\n",
    "\n",
    "**Note on the Data Cleaning Process**\n",
    "\n",
    "For the sake of joining the dataframes, the unique id common to both the uber, taxi, and weather dataframes is the date column. Thererfore, to reduce the complexity of this weather dataset, we will drop the station column and name column since all the rows have the same value for them."
   ]
  },
  {
   "cell_type": "markdown",
   "id": "46579aab",
   "metadata": {},
   "source": [
    "Once we have this, we can run an inner join for both uber and taxi dataframes together with the weather_df so that our dataframe has all the data we need to run the model"
   ]
  },
  {
   "cell_type": "code",
   "execution_count": 44,
   "id": "17216fe0",
   "metadata": {},
   "outputs": [],
   "source": [
    "uber_combined_df = pd.read_csv(\"uber_weather_cleaned.csv\")\n",
    "taxi_combined_df = pd.read_csv(\"taxi_weather_cleaned.csv\")"
   ]
  },
  {
   "cell_type": "markdown",
   "id": "3e665280",
   "metadata": {},
   "source": [
    "**Plotting Rainfall in inches against fare amount** "
   ]
  },
  {
   "cell_type": "code",
   "execution_count": 45,
   "id": "924bb4de",
   "metadata": {},
   "outputs": [
    {
     "data": {
      "text/plain": [
       "[Text(0.5, 1.0, 'Uber Precipitation versus Fare Amount')]"
      ]
     },
     "execution_count": 45,
     "metadata": {},
     "output_type": "execute_result"
    },
    {
     "data": {
      "image/png": "[encoded data removed]",
      "text/plain": [
       "<Figure size 432x288 with 1 Axes>"
      ]
     },
     "metadata": {
      "needs_background": "light"
     },
     "output_type": "display_data"
    }
   ],
   "source": [
    "sns.regplot(x='prcp', y='fare_amount', data=uber_combined_df).set(title=\"Uber Precipitation versus Fare Amount\")"
   ]
  },
  {
   "cell_type": "code",
   "execution_count": 46,
   "id": "e5523152",
   "metadata": {},
   "outputs": [
    {
     "data": {
      "text/plain": [
       "[Text(0.5, 1.0, 'Taxi Precipitation versus Fare Amount')]"
      ]
     },
     "execution_count": 46,
     "metadata": {},
     "output_type": "execute_result"
    },
    {
     "data": {
      "image/png": "[encoded data removed]",
      "text/plain": [
       "<Figure size 432x288 with 1 Axes>"
      ]
     },
     "metadata": {
      "needs_background": "light"
     },
     "output_type": "display_data"
    }
   ],
   "source": [
    "sns.regplot(x='prcp', y='fare_amount', data=taxi_combined_df).set(title=\"Taxi Precipitation versus Fare Amount\")"
   ]
  },
  {
   "cell_type": "markdown",
   "id": "3ec2382f",
   "metadata": {},
   "source": [
    "**Interpreting the Precipitation and Fare Graphs**\n",
    "\n",
    "We see here that because we did not control for the distance and distance is a significant determinant of fare prices, the relationship between fare and precipitation is difficult to observe"
   ]
  },
  {
   "cell_type": "markdown",
   "id": "e065f4e3",
   "metadata": {},
   "source": [
    "___\n",
    "### Price Prediction Model"
   ]
  },
  {
   "cell_type": "markdown",
   "id": "089c406b",
   "metadata": {},
   "source": [
    "**Average Prices over time**\n",
    "\n",
    "Now we want to see if there is a trend in terms of how prices have changed over the years, so we can select the relevant fare amounts and group them by year to see if the average price of an uber of taxi ride differs over the years."
   ]
  },
  {
   "cell_type": "code",
   "execution_count": 47,
   "id": "842be99d",
   "metadata": {},
   "outputs": [
    {
     "name": "stdout",
     "output_type": "stream",
     "text": [
      "Average Annual Uber Fares\n"
     ]
    },
    {
     "data": {
      "text/html": [
       "<div>\n",
       "<style scoped>\n",
       "    .dataframe tbody tr th:only-of-type {\n",
       "        vertical-align: middle;\n",
       "    }\n",
       "\n",
       "    .dataframe tbody tr th {\n",
       "        vertical-align: top;\n",
       "    }\n",
       "\n",
       "    .dataframe thead th {\n",
       "        text-align: right;\n",
       "    }\n",
       "</style>\n",
       "<table border=\"1\" class=\"dataframe\">\n",
       "  <thead>\n",
       "    <tr style=\"text-align: right;\">\n",
       "      <th></th>\n",
       "      <th>year</th>\n",
       "      <th>avg(fare_amount)</th>\n",
       "    </tr>\n",
       "  </thead>\n",
       "  <tbody>\n",
       "    <tr>\n",
       "      <th>0</th>\n",
       "      <td>2009</td>\n",
       "      <td>9.497754</td>\n",
       "    </tr>\n",
       "    <tr>\n",
       "      <th>1</th>\n",
       "      <td>2010</td>\n",
       "      <td>9.636012</td>\n",
       "    </tr>\n",
       "    <tr>\n",
       "      <th>2</th>\n",
       "      <td>2011</td>\n",
       "      <td>9.727595</td>\n",
       "    </tr>\n",
       "    <tr>\n",
       "      <th>3</th>\n",
       "      <td>2012</td>\n",
       "      <td>10.477254</td>\n",
       "    </tr>\n",
       "    <tr>\n",
       "      <th>4</th>\n",
       "      <td>2013</td>\n",
       "      <td>11.829826</td>\n",
       "    </tr>\n",
       "    <tr>\n",
       "      <th>5</th>\n",
       "      <td>2014</td>\n",
       "      <td>12.053371</td>\n",
       "    </tr>\n",
       "    <tr>\n",
       "      <th>6</th>\n",
       "      <td>2015</td>\n",
       "      <td>11.928384</td>\n",
       "    </tr>\n",
       "  </tbody>\n",
       "</table>\n",
       "</div>"
      ],
      "text/plain": [
       "   year  avg(fare_amount)\n",
       "0  2009          9.497754\n",
       "1  2010          9.636012\n",
       "2  2011          9.727595\n",
       "3  2012         10.477254\n",
       "4  2013         11.829826\n",
       "5  2014         12.053371\n",
       "6  2015         11.928384"
      ]
     },
     "execution_count": 47,
     "metadata": {},
     "output_type": "execute_result"
    }
   ],
   "source": [
    "print(\"Average Annual Uber Fares\")\n",
    "uber_yearly_mean_prices = %sql SELECT year, AVG(fare_amount) FROM uber_df GROUP BY year ORDER BY year ASC\n",
    "uber_yearly_mean_prices"
   ]
  },
  {
   "cell_type": "markdown",
   "id": "ed2477bb",
   "metadata": {},
   "source": [
    "We can see that on average, fare prices have rise over the years, most likely as a result of inflation for uber rides"
   ]
  },
  {
   "cell_type": "code",
   "execution_count": 48,
   "id": "6e860540",
   "metadata": {},
   "outputs": [
    {
     "name": "stdout",
     "output_type": "stream",
     "text": [
      "Average Annual Taxi Fares\n"
     ]
    },
    {
     "data": {
      "text/html": [
       "<div>\n",
       "<style scoped>\n",
       "    .dataframe tbody tr th:only-of-type {\n",
       "        vertical-align: middle;\n",
       "    }\n",
       "\n",
       "    .dataframe tbody tr th {\n",
       "        vertical-align: top;\n",
       "    }\n",
       "\n",
       "    .dataframe thead th {\n",
       "        text-align: right;\n",
       "    }\n",
       "</style>\n",
       "<table border=\"1\" class=\"dataframe\">\n",
       "  <thead>\n",
       "    <tr style=\"text-align: right;\">\n",
       "      <th></th>\n",
       "      <th>year</th>\n",
       "      <th>avg(fare_amount)</th>\n",
       "    </tr>\n",
       "  </thead>\n",
       "  <tbody>\n",
       "    <tr>\n",
       "      <th>0</th>\n",
       "      <td>2009</td>\n",
       "      <td>9.502345</td>\n",
       "    </tr>\n",
       "    <tr>\n",
       "      <th>1</th>\n",
       "      <td>2010</td>\n",
       "      <td>9.614947</td>\n",
       "    </tr>\n",
       "    <tr>\n",
       "      <th>2</th>\n",
       "      <td>2011</td>\n",
       "      <td>9.817569</td>\n",
       "    </tr>\n",
       "    <tr>\n",
       "      <th>3</th>\n",
       "      <td>2012</td>\n",
       "      <td>10.481382</td>\n",
       "    </tr>\n",
       "    <tr>\n",
       "      <th>4</th>\n",
       "      <td>2013</td>\n",
       "      <td>11.904691</td>\n",
       "    </tr>\n",
       "    <tr>\n",
       "      <th>5</th>\n",
       "      <td>2014</td>\n",
       "      <td>11.978657</td>\n",
       "    </tr>\n",
       "    <tr>\n",
       "      <th>6</th>\n",
       "      <td>2015</td>\n",
       "      <td>12.080033</td>\n",
       "    </tr>\n",
       "  </tbody>\n",
       "</table>\n",
       "</div>"
      ],
      "text/plain": [
       "   year  avg(fare_amount)\n",
       "0  2009          9.502345\n",
       "1  2010          9.614947\n",
       "2  2011          9.817569\n",
       "3  2012         10.481382\n",
       "4  2013         11.904691\n",
       "5  2014         11.978657\n",
       "6  2015         12.080033"
      ]
     },
     "execution_count": 48,
     "metadata": {},
     "output_type": "execute_result"
    }
   ],
   "source": [
    "print(\"Average Annual Taxi Fares\")\n",
    "taxi_yearly_mean_prices = %sql SELECT year, AVG(fare_amount) FROM taxi_df GROUP BY year ORDER BY year ASC\n",
    "taxi_yearly_mean_prices"
   ]
  },
  {
   "cell_type": "markdown",
   "id": "fd28d936",
   "metadata": {},
   "source": [
    "The same rising price trend is captured in the taxi dataset, most likely due to inflation as well. To dig deeper and truly understand if the underlying economics of price per mile has changed over the years, we can calculate the average price per mile over the years"
   ]
  },
  {
   "cell_type": "code",
   "execution_count": 49,
   "id": "094f87cf",
   "metadata": {},
   "outputs": [
    {
     "name": "stdout",
     "output_type": "stream",
     "text": [
      "Average Annual Uber Price per Mile\n"
     ]
    },
    {
     "data": {
      "text/html": [
       "<div>\n",
       "<style scoped>\n",
       "    .dataframe tbody tr th:only-of-type {\n",
       "        vertical-align: middle;\n",
       "    }\n",
       "\n",
       "    .dataframe tbody tr th {\n",
       "        vertical-align: top;\n",
       "    }\n",
       "\n",
       "    .dataframe thead th {\n",
       "        text-align: right;\n",
       "    }\n",
       "</style>\n",
       "<table border=\"1\" class=\"dataframe\">\n",
       "  <thead>\n",
       "    <tr style=\"text-align: right;\">\n",
       "      <th></th>\n",
       "      <th>year</th>\n",
       "      <th>avg(price_per_mile)</th>\n",
       "    </tr>\n",
       "  </thead>\n",
       "  <tbody>\n",
       "    <tr>\n",
       "      <th>0</th>\n",
       "      <td>2009</td>\n",
       "      <td>4.460676</td>\n",
       "    </tr>\n",
       "    <tr>\n",
       "      <th>1</th>\n",
       "      <td>2010</td>\n",
       "      <td>4.516712</td>\n",
       "    </tr>\n",
       "    <tr>\n",
       "      <th>2</th>\n",
       "      <td>2011</td>\n",
       "      <td>4.460454</td>\n",
       "    </tr>\n",
       "    <tr>\n",
       "      <th>3</th>\n",
       "      <td>2012</td>\n",
       "      <td>4.675196</td>\n",
       "    </tr>\n",
       "    <tr>\n",
       "      <th>4</th>\n",
       "      <td>2013</td>\n",
       "      <td>5.225913</td>\n",
       "    </tr>\n",
       "    <tr>\n",
       "      <th>5</th>\n",
       "      <td>2014</td>\n",
       "      <td>5.359202</td>\n",
       "    </tr>\n",
       "    <tr>\n",
       "      <th>6</th>\n",
       "      <td>2015</td>\n",
       "      <td>5.414393</td>\n",
       "    </tr>\n",
       "  </tbody>\n",
       "</table>\n",
       "</div>"
      ],
      "text/plain": [
       "   year  avg(price_per_mile)\n",
       "0  2009             4.460676\n",
       "1  2010             4.516712\n",
       "2  2011             4.460454\n",
       "3  2012             4.675196\n",
       "4  2013             5.225913\n",
       "5  2014             5.359202\n",
       "6  2015             5.414393"
      ]
     },
     "execution_count": 49,
     "metadata": {},
     "output_type": "execute_result"
    }
   ],
   "source": [
    "print(\"Average Annual Uber Price per Mile\")\n",
    "uber_df['price_per_mile'] = uber_df['fare_amount']/uber_df['distance']\n",
    "uber_yearly_mean_price_per_mile = %sql SELECT year, AVG(price_per_mile) FROM uber_df GROUP BY year ORDER BY year ASC\n",
    "uber_yearly_mean_price_per_mile"
   ]
  },
  {
   "cell_type": "code",
   "execution_count": 50,
   "id": "8e37228a",
   "metadata": {},
   "outputs": [
    {
     "name": "stdout",
     "output_type": "stream",
     "text": [
      "Average Annual Taxi Price per Mile\n"
     ]
    },
    {
     "data": {
      "text/html": [
       "<div>\n",
       "<style scoped>\n",
       "    .dataframe tbody tr th:only-of-type {\n",
       "        vertical-align: middle;\n",
       "    }\n",
       "\n",
       "    .dataframe tbody tr th {\n",
       "        vertical-align: top;\n",
       "    }\n",
       "\n",
       "    .dataframe thead th {\n",
       "        text-align: right;\n",
       "    }\n",
       "</style>\n",
       "<table border=\"1\" class=\"dataframe\">\n",
       "  <thead>\n",
       "    <tr style=\"text-align: right;\">\n",
       "      <th></th>\n",
       "      <th>year</th>\n",
       "      <th>avg(price_per_mile)</th>\n",
       "    </tr>\n",
       "  </thead>\n",
       "  <tbody>\n",
       "    <tr>\n",
       "      <th>0</th>\n",
       "      <td>2009</td>\n",
       "      <td>4.478109</td>\n",
       "    </tr>\n",
       "    <tr>\n",
       "      <th>1</th>\n",
       "      <td>2010</td>\n",
       "      <td>4.547096</td>\n",
       "    </tr>\n",
       "    <tr>\n",
       "      <th>2</th>\n",
       "      <td>2011</td>\n",
       "      <td>4.454363</td>\n",
       "    </tr>\n",
       "    <tr>\n",
       "      <th>3</th>\n",
       "      <td>2012</td>\n",
       "      <td>4.670439</td>\n",
       "    </tr>\n",
       "    <tr>\n",
       "      <th>4</th>\n",
       "      <td>2013</td>\n",
       "      <td>5.192325</td>\n",
       "    </tr>\n",
       "    <tr>\n",
       "      <th>5</th>\n",
       "      <td>2014</td>\n",
       "      <td>5.346273</td>\n",
       "    </tr>\n",
       "    <tr>\n",
       "      <th>6</th>\n",
       "      <td>2015</td>\n",
       "      <td>5.423557</td>\n",
       "    </tr>\n",
       "  </tbody>\n",
       "</table>\n",
       "</div>"
      ],
      "text/plain": [
       "   year  avg(price_per_mile)\n",
       "0  2009             4.478109\n",
       "1  2010             4.547096\n",
       "2  2011             4.454363\n",
       "3  2012             4.670439\n",
       "4  2013             5.192325\n",
       "5  2014             5.346273\n",
       "6  2015             5.423557"
      ]
     },
     "execution_count": 50,
     "metadata": {},
     "output_type": "execute_result"
    }
   ],
   "source": [
    "print(\"Average Annual Taxi Price per Mile\")\n",
    "taxi_df['price_per_mile'] = taxi_df['fare_amount']/taxi_df['distance']\n",
    "taxi_yearly_mean_price_per_mile = %sql SELECT year, AVG(price_per_mile) FROM taxi_df GROUP BY year ORDER BY year ASC\n",
    "taxi_yearly_mean_price_per_mile"
   ]
  },
  {
   "cell_type": "code",
   "execution_count": 51,
   "id": "3a658f51",
   "metadata": {},
   "outputs": [
    {
     "data": {
      "text/plain": [
       "[Text(0.5, 1.0, 'Average Uber Price per Mile from 2009 to 2015'),\n",
       " Text(0.5, 0, 'Year'),\n",
       " Text(0, 0.5, 'Average Price per Mile')]"
      ]
     },
     "execution_count": 51,
     "metadata": {},
     "output_type": "execute_result"
    },
    {
     "data": {
      "image/png": "[encoded data removed]",
      "text/plain": [
       "<Figure size 432x288 with 1 Axes>"
      ]
     },
     "metadata": {
      "needs_background": "light"
     },
     "output_type": "display_data"
    }
   ],
   "source": [
    "sns.regplot(x='year', y='avg(price_per_mile)', data=uber_yearly_mean_price_per_mile).set(title=\"Average Uber Price per Mile from 2009 to 2015\",xlabel=\"Year\",ylabel=\"Average Price per Mile\")"
   ]
  },
  {
   "cell_type": "code",
   "execution_count": 52,
   "id": "9a0c68b2",
   "metadata": {},
   "outputs": [
    {
     "data": {
      "text/plain": [
       "[Text(0.5, 1.0, 'Average Taxi Price per Mile from 2009 to 2015'),\n",
       " Text(0.5, 0, 'Year'),\n",
       " Text(0, 0.5, 'Average Price per Mile')]"
      ]
     },
     "execution_count": 52,
     "metadata": {},
     "output_type": "execute_result"
    },
    {
     "data": {
      "image/png": "[encoded data removed]",
      "text/plain": [
       "<Figure size 432x288 with 1 Axes>"
      ]
     },
     "metadata": {
      "needs_background": "light"
     },
     "output_type": "display_data"
    }
   ],
   "source": [
    "sns.regplot(x='year', y='avg(price_per_mile)', data=taxi_yearly_mean_price_per_mile).set(title=\"Average Taxi Price per Mile from 2009 to 2015\",xlabel=\"Year\",ylabel=\"Average Price per Mile\")"
   ]
  },
  {
   "cell_type": "markdown",
   "id": "79b1189d",
   "metadata": {},
   "source": [
    "**Price per Mile Analysis**\n",
    "\n",
    "This supports our position that prices have been rising for both uber and taxi rides over time due to inflation, since the price for the same mile traveled has been increasing over time. A key implication is that this tells us that the year is an important feature to incorporate into a regression model since it seems to be correlated with the price of a ride"
   ]
  },
  {
   "cell_type": "markdown",
   "id": "3259d4ae",
   "metadata": {},
   "source": [
    "__\n",
    "\n",
    "**Average Prices based on whether rides were taken during Rush Hour**\n",
    "\n",
    "In this scenario, a 1 represents that the ride is taken during a rush hour, and a 0 indicates a ride occuring outside of rush hours. For the purposes of the illustration and later hypothesis tests, since distance is such a large factor in pricing, we decided to control for it when trying to isolate the impact other variables such as Rush Hour. We have used 2 and 3 miles as the lower and upper bound respectively"
   ]
  },
  {
   "cell_type": "code",
   "execution_count": 53,
   "id": "675cdbc1",
   "metadata": {},
   "outputs": [
    {
     "name": "stdout",
     "output_type": "stream",
     "text": [
      "Average Rush Hour Prices for Ubers\n"
     ]
    },
    {
     "data": {
      "text/html": [
       "<div>\n",
       "<style scoped>\n",
       "    .dataframe tbody tr th:only-of-type {\n",
       "        vertical-align: middle;\n",
       "    }\n",
       "\n",
       "    .dataframe tbody tr th {\n",
       "        vertical-align: top;\n",
       "    }\n",
       "\n",
       "    .dataframe thead th {\n",
       "        text-align: right;\n",
       "    }\n",
       "</style>\n",
       "<table border=\"1\" class=\"dataframe\">\n",
       "  <thead>\n",
       "    <tr style=\"text-align: right;\">\n",
       "      <th></th>\n",
       "      <th>rush_hour</th>\n",
       "      <th>avg(fare_amount)</th>\n",
       "    </tr>\n",
       "  </thead>\n",
       "  <tbody>\n",
       "    <tr>\n",
       "      <th>0</th>\n",
       "      <td>0</td>\n",
       "      <td>10.033819</td>\n",
       "    </tr>\n",
       "    <tr>\n",
       "      <th>1</th>\n",
       "      <td>1</td>\n",
       "      <td>10.220604</td>\n",
       "    </tr>\n",
       "  </tbody>\n",
       "</table>\n",
       "</div>"
      ],
      "text/plain": [
       "   rush_hour  avg(fare_amount)\n",
       "0          0         10.033819\n",
       "1          1         10.220604"
      ]
     },
     "execution_count": 53,
     "metadata": {},
     "output_type": "execute_result"
    }
   ],
   "source": [
    "print(\"Average Rush Hour Prices for Ubers\")\n",
    "uber_bar_chart_data = %sql SELECT rush_hour, AVG(fare_amount) FROM uber_df WHERE distance < 3 AND distance > 2 GROUP BY rush_hour\n",
    "uber_bar_chart_data"
   ]
  },
  {
   "cell_type": "code",
   "execution_count": 54,
   "id": "7ef47796",
   "metadata": {},
   "outputs": [
    {
     "name": "stdout",
     "output_type": "stream",
     "text": [
      "Average Rush Hour Prices for Taxis\n"
     ]
    },
    {
     "data": {
      "text/html": [
       "<div>\n",
       "<style scoped>\n",
       "    .dataframe tbody tr th:only-of-type {\n",
       "        vertical-align: middle;\n",
       "    }\n",
       "\n",
       "    .dataframe tbody tr th {\n",
       "        vertical-align: top;\n",
       "    }\n",
       "\n",
       "    .dataframe thead th {\n",
       "        text-align: right;\n",
       "    }\n",
       "</style>\n",
       "<table border=\"1\" class=\"dataframe\">\n",
       "  <thead>\n",
       "    <tr style=\"text-align: right;\">\n",
       "      <th></th>\n",
       "      <th>rush_hour</th>\n",
       "      <th>avg(fare_amount)</th>\n",
       "    </tr>\n",
       "  </thead>\n",
       "  <tbody>\n",
       "    <tr>\n",
       "      <th>0</th>\n",
       "      <td>0</td>\n",
       "      <td>10.020754</td>\n",
       "    </tr>\n",
       "    <tr>\n",
       "      <th>1</th>\n",
       "      <td>1</td>\n",
       "      <td>10.280824</td>\n",
       "    </tr>\n",
       "  </tbody>\n",
       "</table>\n",
       "</div>"
      ],
      "text/plain": [
       "   rush_hour  avg(fare_amount)\n",
       "0          0         10.020754\n",
       "1          1         10.280824"
      ]
     },
     "execution_count": 54,
     "metadata": {},
     "output_type": "execute_result"
    }
   ],
   "source": [
    "print(\"Average Rush Hour Prices for Taxis\")\n",
    "taxi_bar_chart_data = %sql SELECT rush_hour, AVG(fare_amount) FROM taxi_df WHERE distance < 3 AND distance > 2 GROUP BY rush_hour\n",
    "taxi_bar_chart_data"
   ]
  },
  {
   "cell_type": "code",
   "execution_count": 55,
   "id": "1f2a8a0d",
   "metadata": {},
   "outputs": [
    {
     "data": {
      "text/plain": [
       "[Text(0.5, 1.0, 'Average Rush Hour Fare Amount versus the Average Non-Rush Hour Fare Amount for Ubers'),\n",
       " Text(0, 0.5, 'Average Rush Amount'),\n",
       " Text(0.5, 0, 'Rush Hour versus Non Rush Hour')]"
      ]
     },
     "execution_count": 55,
     "metadata": {},
     "output_type": "execute_result"
    },
    {
     "data": {
      "image/png": "[encoded data removed]",
      "text/plain": [
       "<Figure size 432x288 with 1 Axes>"
      ]
     },
     "metadata": {
      "needs_background": "light"
     },
     "output_type": "display_data"
    }
   ],
   "source": [
    "sns.barplot(data=uber_bar_chart_data, x='rush_hour', y='avg(fare_amount)').set(title=\"Average Rush Hour Fare Amount versus the Average Non-Rush Hour Fare Amount for Ubers\",ylabel=\"Average Rush Amount\",xlabel=\"Rush Hour versus Non Rush Hour\")"
   ]
  },
  {
   "cell_type": "code",
   "execution_count": 56,
   "id": "bd3c9ced",
   "metadata": {},
   "outputs": [
    {
     "data": {
      "text/plain": [
       "[Text(0.5, 1.0, 'Average Rush Hour Fare Amount versus the Average Non-Rush Hour Fare Amount for Taxis'),\n",
       " Text(0, 0.5, 'Average Rush Amount'),\n",
       " Text(0.5, 0, 'Rush Hour versus Non Rush Hour')]"
      ]
     },
     "execution_count": 56,
     "metadata": {},
     "output_type": "execute_result"
    },
    {
     "data": {
      "image/png": "[encoded data removed]",
      "text/plain": [
       "<Figure size 432x288 with 1 Axes>"
      ]
     },
     "metadata": {
      "needs_background": "light"
     },
     "output_type": "display_data"
    }
   ],
   "source": [
    "sns.barplot(data=taxi_bar_chart_data, x='rush_hour', y='avg(fare_amount)').set(title=\"Average Rush Hour Fare Amount versus the Average Non-Rush Hour Fare Amount for Taxis\",ylabel=\"Average Rush Amount\",xlabel=\"Rush Hour versus Non Rush Hour\")"
   ]
  },
  {
   "cell_type": "markdown",
   "id": "7ba531e2",
   "metadata": {},
   "source": [
    "**Rush Hour Impact**\n",
    "\n",
    "When distance is controlled for within 2 to 3 miles, we see that on average, rush hour prices are higher than non rush_hour prices for both taxis and ubers."
   ]
  },
  {
   "cell_type": "markdown",
   "id": "0a41d78f",
   "metadata": {},
   "source": [
    "__\n",
    "\n",
    "**Average Prices by day of the week**\n",
    "\n",
    "We can also see if the average fares differ based on the day of the week, since presumably there would less demand on weekends when people do not have to work"
   ]
  },
  {
   "cell_type": "code",
   "execution_count": 57,
   "id": "80f6f36f",
   "metadata": {},
   "outputs": [
    {
     "name": "stdout",
     "output_type": "stream",
     "text": [
      "Daily Average Uber Prices\n"
     ]
    },
    {
     "data": {
      "text/html": [
       "<div>\n",
       "<style scoped>\n",
       "    .dataframe tbody tr th:only-of-type {\n",
       "        vertical-align: middle;\n",
       "    }\n",
       "\n",
       "    .dataframe tbody tr th {\n",
       "        vertical-align: top;\n",
       "    }\n",
       "\n",
       "    .dataframe thead th {\n",
       "        text-align: right;\n",
       "    }\n",
       "</style>\n",
       "<table border=\"1\" class=\"dataframe\">\n",
       "  <thead>\n",
       "    <tr style=\"text-align: right;\">\n",
       "      <th></th>\n",
       "      <th>day_of_week</th>\n",
       "      <th>avg(fare_amount)</th>\n",
       "    </tr>\n",
       "  </thead>\n",
       "  <tbody>\n",
       "    <tr>\n",
       "      <th>0</th>\n",
       "      <td>0</td>\n",
       "      <td>10.497393</td>\n",
       "    </tr>\n",
       "    <tr>\n",
       "      <th>1</th>\n",
       "      <td>1</td>\n",
       "      <td>10.438860</td>\n",
       "    </tr>\n",
       "    <tr>\n",
       "      <th>2</th>\n",
       "      <td>2</td>\n",
       "      <td>10.693109</td>\n",
       "    </tr>\n",
       "    <tr>\n",
       "      <th>3</th>\n",
       "      <td>3</td>\n",
       "      <td>10.801069</td>\n",
       "    </tr>\n",
       "    <tr>\n",
       "      <th>4</th>\n",
       "      <td>4</td>\n",
       "      <td>10.720320</td>\n",
       "    </tr>\n",
       "    <tr>\n",
       "      <th>5</th>\n",
       "      <td>5</td>\n",
       "      <td>10.456595</td>\n",
       "    </tr>\n",
       "    <tr>\n",
       "      <th>6</th>\n",
       "      <td>6</td>\n",
       "      <td>10.786543</td>\n",
       "    </tr>\n",
       "  </tbody>\n",
       "</table>\n",
       "</div>"
      ],
      "text/plain": [
       "   day_of_week  avg(fare_amount)\n",
       "0            0         10.497393\n",
       "1            1         10.438860\n",
       "2            2         10.693109\n",
       "3            3         10.801069\n",
       "4            4         10.720320\n",
       "5            5         10.456595\n",
       "6            6         10.786543"
      ]
     },
     "execution_count": 57,
     "metadata": {},
     "output_type": "execute_result"
    }
   ],
   "source": [
    "print(\"Daily Average Uber Prices\")\n",
    "uber_mean_prices_by_day = %sql SELECT day_of_week, AVG(fare_amount) FROM uber_df GROUP BY day_of_week ORDER BY day_of_week ASC\n",
    "uber_mean_prices_by_day"
   ]
  },
  {
   "cell_type": "code",
   "execution_count": 58,
   "id": "cc7710be",
   "metadata": {},
   "outputs": [
    {
     "name": "stdout",
     "output_type": "stream",
     "text": [
      "Daily Average Taxi Prices\n"
     ]
    },
    {
     "data": {
      "text/html": [
       "<div>\n",
       "<style scoped>\n",
       "    .dataframe tbody tr th:only-of-type {\n",
       "        vertical-align: middle;\n",
       "    }\n",
       "\n",
       "    .dataframe tbody tr th {\n",
       "        vertical-align: top;\n",
       "    }\n",
       "\n",
       "    .dataframe thead th {\n",
       "        text-align: right;\n",
       "    }\n",
       "</style>\n",
       "<table border=\"1\" class=\"dataframe\">\n",
       "  <thead>\n",
       "    <tr style=\"text-align: right;\">\n",
       "      <th></th>\n",
       "      <th>day_of_week</th>\n",
       "      <th>avg(fare_amount)</th>\n",
       "    </tr>\n",
       "  </thead>\n",
       "  <tbody>\n",
       "    <tr>\n",
       "      <th>0</th>\n",
       "      <td>0</td>\n",
       "      <td>10.508342</td>\n",
       "    </tr>\n",
       "    <tr>\n",
       "      <th>1</th>\n",
       "      <td>1</td>\n",
       "      <td>10.545120</td>\n",
       "    </tr>\n",
       "    <tr>\n",
       "      <th>2</th>\n",
       "      <td>2</td>\n",
       "      <td>10.671531</td>\n",
       "    </tr>\n",
       "    <tr>\n",
       "      <th>3</th>\n",
       "      <td>3</td>\n",
       "      <td>10.840679</td>\n",
       "    </tr>\n",
       "    <tr>\n",
       "      <th>4</th>\n",
       "      <td>4</td>\n",
       "      <td>10.763538</td>\n",
       "    </tr>\n",
       "    <tr>\n",
       "      <th>5</th>\n",
       "      <td>5</td>\n",
       "      <td>10.453138</td>\n",
       "    </tr>\n",
       "    <tr>\n",
       "      <th>6</th>\n",
       "      <td>6</td>\n",
       "      <td>10.778010</td>\n",
       "    </tr>\n",
       "  </tbody>\n",
       "</table>\n",
       "</div>"
      ],
      "text/plain": [
       "   day_of_week  avg(fare_amount)\n",
       "0            0         10.508342\n",
       "1            1         10.545120\n",
       "2            2         10.671531\n",
       "3            3         10.840679\n",
       "4            4         10.763538\n",
       "5            5         10.453138\n",
       "6            6         10.778010"
      ]
     },
     "execution_count": 58,
     "metadata": {},
     "output_type": "execute_result"
    }
   ],
   "source": [
    "print(\"Daily Average Taxi Prices\")\n",
    "taxi_mean_prices_by_day = %sql SELECT day_of_week, AVG(fare_amount) FROM taxi_df GROUP BY day_of_week ORDER BY day_of_week ASC\n",
    "taxi_mean_prices_by_day"
   ]
  },
  {
   "cell_type": "markdown",
   "id": "11b16c23",
   "metadata": {},
   "source": [
    "**Impact of Day of Week**\n",
    "\n",
    "As we can see, there is not much variation, in terms of the average prices for both ubers and taxis based on the day of the week. While we would expect that weekdays would have higher average prices due to the higher demand for ubers or taxis heading to and from work, this does not seem to be the case. This could be due to the fact that many locals in New York City do not take taxis or ubers to and from work and instead rely on the subway."
   ]
  },
  {
   "cell_type": "markdown",
   "id": "168f23b9",
   "metadata": {},
   "source": [
    "### Hypothesis Tests"
   ]
  },
  {
   "cell_type": "markdown",
   "id": "9cf1c50c",
   "metadata": {},
   "source": [
    "**Hypothesis Tests - Correlation significance**\n",
    "\n",
    "*For the sake of simplicity, we will use a p value of 5% as the threshold when conducting statistical tests to determine if results are significant*"
   ]
  },
  {
   "cell_type": "markdown",
   "id": "2de758b5",
   "metadata": {},
   "source": [
    "We are performing a hypothesis test for our first hypothesis on the taxi data first:\n",
    "\n",
    "\n",
    "H0: Non-positive correlation between distance travelled and fare during rush hour \n",
    "   \n",
    "   `it is not the case that β > 0 significantly `\n",
    "\n",
    "   \n",
    "\n",
    "\n",
    "H-Alt: Positive correlation between distance travelled and fare during rush hour  \n",
    "\n",
    "` β > 0 (significantly) `"
   ]
  },
  {
   "cell_type": "code",
   "execution_count": 59,
   "id": "6915cef1",
   "metadata": {},
   "outputs": [
    {
     "name": "stdout",
     "output_type": "stream",
     "text": [
      "Returning data to local variable taxi\n",
      "                            OLS Regression Results                            \n",
      "==============================================================================\n",
      "Dep. Variable:                      y   R-squared:                       0.752\n",
      "Model:                            OLS   Adj. R-squared:                  0.752\n",
      "Method:                 Least Squares   F-statistic:                 5.495e+05\n",
      "Date:                Fri, 09 Dec 2022   Prob (F-statistic):               0.00\n",
      "Time:                        21:17:12   Log-Likelihood:            -4.8636e+05\n",
      "No. Observations:              181375   AIC:                         9.727e+05\n",
      "Df Residuals:                  181373   BIC:                         9.727e+05\n",
      "Df Model:                           1                                         \n",
      "Covariance Type:            nonrobust                                         \n",
      "==============================================================================\n",
      "                 coef    std err          t      P>|t|      [0.025      0.975]\n",
      "------------------------------------------------------------------------------\n",
      "const          3.5187      0.013    276.884      0.000       3.494       3.544\n",
      "x1             2.6542      0.004    741.265      0.000       2.647       2.661\n",
      "==============================================================================\n",
      "Omnibus:                   156726.887   Durbin-Watson:                   1.805\n",
      "Prob(Omnibus):                  0.000   Jarque-Bera (JB):         17389918.585\n",
      "Skew:                           3.644   Prob(JB):                         0.00\n",
      "Kurtosis:                      50.413   Cond. No.                         5.69\n",
      "==============================================================================\n",
      "\n",
      "Notes:\n",
      "[1] Standard Errors assume that the covariance matrix of the errors is correctly specified.\n"
     ]
    }
   ],
   "source": [
    "#taxi\n",
    "%sql taxi << SELECT distance, fare_amount from taxi_df\n",
    "X = taxi['distance'].to_numpy().reshape(-1, 1)\n",
    "y = taxi['fare_amount'].to_numpy()\n",
    "X = sm.add_constant(X)\n",
    "model = sm.OLS(y,X)\n",
    "results = model.fit()\n",
    "print(results.summary())\n",
    "\n"
   ]
  },
  {
   "cell_type": "code",
   "execution_count": 60,
   "id": "c3352f9b",
   "metadata": {},
   "outputs": [
    {
     "name": "stdout",
     "output_type": "stream",
     "text": [
      "Returning data to local variable uber\n",
      "                            OLS Regression Results                            \n",
      "==============================================================================\n",
      "Dep. Variable:                      y   R-squared:                       0.752\n",
      "Model:                            OLS   Adj. R-squared:                  0.752\n",
      "Method:                 Least Squares   F-statistic:                 5.495e+05\n",
      "Date:                Fri, 09 Dec 2022   Prob (F-statistic):               0.00\n",
      "Time:                        21:17:13   Log-Likelihood:            -4.8636e+05\n",
      "No. Observations:              181375   AIC:                         9.727e+05\n",
      "Df Residuals:                  181373   BIC:                         9.727e+05\n",
      "Df Model:                           1                                         \n",
      "Covariance Type:            nonrobust                                         \n",
      "==============================================================================\n",
      "                 coef    std err          t      P>|t|      [0.025      0.975]\n",
      "------------------------------------------------------------------------------\n",
      "const          3.5187      0.013    276.884      0.000       3.494       3.544\n",
      "x1             2.6542      0.004    741.265      0.000       2.647       2.661\n",
      "==============================================================================\n",
      "Omnibus:                   156726.887   Durbin-Watson:                   1.805\n",
      "Prob(Omnibus):                  0.000   Jarque-Bera (JB):         17389918.585\n",
      "Skew:                           3.644   Prob(JB):                         0.00\n",
      "Kurtosis:                      50.413   Cond. No.                         5.69\n",
      "==============================================================================\n",
      "\n",
      "Notes:\n",
      "[1] Standard Errors assume that the covariance matrix of the errors is correctly specified.\n"
     ]
    }
   ],
   "source": [
    "#uber\n",
    "%sql uber << SELECT distance, fare_amount from taxi_df\n",
    "X = uber['distance'].to_numpy().reshape(-1, 1)\n",
    "y = uber['fare_amount'].to_numpy()\n",
    "X = sm.add_constant(X)\n",
    "model = sm.OLS(y,X)\n",
    "results = model.fit()\n",
    "print(results.summary())"
   ]
  },
  {
   "cell_type": "markdown",
   "id": "677a43ab",
   "metadata": {},
   "source": [
    "*Significance Interpretation*\n",
    "\n",
    "Let us reiterate our null and alternative hypotheses \n",
    "\n",
    "Hypothesis 1:\n",
    "There is a significant positive correlation between the distance traveled during a ride for both taxis and ubers with the fare of the ride in New York City.\n",
    "\n",
    "H0: Non-positive correlation between distance travelled and fare during rush hour \n",
    "   \n",
    "   `it is not the case that β > 0 significantly `\n",
    "\n",
    "This H0 is a refinement of H0:` β = 0 `\n",
    "   \n",
    "\n",
    "\n",
    "H-Alt: Positive correlation between distance travelled and fare during rush hour  \n",
    "\n",
    "` β > 0 (significantly) `\n",
    " \n",
    "Based on our results it is the case that\n",
    "\n",
    "\n",
    "`P>|t| =  0.000`\n",
    "\n",
    "`0.000` is less than our α = 0.05, we reject the H-null `β=0`. Based on our results we see a positive `β` indicating a positive relationship between the distance of the journey and the journey's price, that is to say that the `β` is strongly positive enough to yield a `P>|t| =  0.000`. Hence we can realise and conclude that it is not the case that `β=0` nor is it the case that `β<0`, any rejection of `β=0` would necessarily include a rejection of `β<0` based on our value for `β`. \n",
    "\n",
    "Thus based on this reasoning we can reject our more refined H-null that `it is not the case that β > 0`"
   ]
  },
  {
   "cell_type": "markdown",
   "id": "fa24c62b",
   "metadata": {},
   "source": [
    "__\n",
    "\n",
    "**Hypothesis Testing - Difference between rush hours fares for uber and taxi**\n",
    "\n",
    "Now we will perform hypothesis test on our second hypothesis which is that there is a significant difference between the prices of ubers and taxis during the rush hours of New York City.\n",
    "\n",
    "\n",
    "\n",
    "H0: μ(taxi_rush) = μ(uber_rush)  \n",
    "H1: μ(taxi_rush) != μ(uber_rush) "
   ]
  },
  {
   "cell_type": "code",
   "execution_count": 61,
   "id": "698609a2",
   "metadata": {},
   "outputs": [
    {
     "name": "stdout",
     "output_type": "stream",
     "text": [
      "Returning data to local variable taxi_rush\n",
      "Returning data to local variable uber_rush\n"
     ]
    }
   ],
   "source": [
    "%sql taxi_rush << SELECT fare_amount FROM taxi_df WHERE rush_hour=1.0\n",
    "%sql uber_rush << SELECT fare_amount FROM uber_df WHERE rush_hour=1.0"
   ]
  },
  {
   "cell_type": "code",
   "execution_count": 62,
   "id": "e56157a5",
   "metadata": {},
   "outputs": [
    {
     "data": {
      "text/plain": [
       "Ttest_indResult(statistic=array([0.35298672]), pvalue=array([0.72409908]))"
      ]
     },
     "execution_count": 62,
     "metadata": {},
     "output_type": "execute_result"
    }
   ],
   "source": [
    "stats.ttest_ind(taxi_rush, uber_rush)"
   ]
  },
  {
   "cell_type": "markdown",
   "id": "9c97e6ef",
   "metadata": {},
   "source": [
    "*Significance Interpretation*\n",
    "\n",
    "Based on our p-value, `pvalue=array([0.72409908])`, or about `0.7241`, our p-value is greater than `α = 0.05` ( 0.7241 > 0.05) thus we fail to reject our null hypothesis: we have found no significant difference between the prices of ubers during rush hour in New York City and the prices of taxis during rush hour in New York City. "
   ]
  },
  {
   "cell_type": "code",
   "execution_count": 63,
   "id": "d08cb1a8",
   "metadata": {},
   "outputs": [
    {
     "data": {
      "text/html": [
       "<div>\n",
       "<style scoped>\n",
       "    .dataframe tbody tr th:only-of-type {\n",
       "        vertical-align: middle;\n",
       "    }\n",
       "\n",
       "    .dataframe tbody tr th {\n",
       "        vertical-align: top;\n",
       "    }\n",
       "\n",
       "    .dataframe thead th {\n",
       "        text-align: right;\n",
       "    }\n",
       "</style>\n",
       "<table border=\"1\" class=\"dataframe\">\n",
       "  <thead>\n",
       "    <tr style=\"text-align: right;\">\n",
       "      <th></th>\n",
       "      <th>Unnamed: 0.1</th>\n",
       "      <th>Unnamed: 0</th>\n",
       "      <th>fare_amount</th>\n",
       "      <th>pickup_datetime</th>\n",
       "      <th>pickup_longitude</th>\n",
       "      <th>pickup_latitude</th>\n",
       "      <th>dropoff_longitude</th>\n",
       "      <th>dropoff_latitude</th>\n",
       "      <th>passenger_count</th>\n",
       "      <th>year</th>\n",
       "      <th>month</th>\n",
       "      <th>day</th>\n",
       "      <th>day_of_week</th>\n",
       "      <th>hour</th>\n",
       "      <th>minute</th>\n",
       "      <th>rush_hour</th>\n",
       "      <th>distance</th>\n",
       "      <th>price_per_mile</th>\n",
       "    </tr>\n",
       "  </thead>\n",
       "  <tbody>\n",
       "    <tr>\n",
       "      <th>0</th>\n",
       "      <td>0</td>\n",
       "      <td>56318</td>\n",
       "      <td>18.9</td>\n",
       "      <td>2009-01-01 14:30:00+00:00</td>\n",
       "      <td>-73.974530</td>\n",
       "      <td>40.747325</td>\n",
       "      <td>-73.870905</td>\n",
       "      <td>40.774162</td>\n",
       "      <td>1</td>\n",
       "      <td>2009</td>\n",
       "      <td>1</td>\n",
       "      <td>1</td>\n",
       "      <td>3</td>\n",
       "      <td>14</td>\n",
       "      <td>30</td>\n",
       "      <td>0</td>\n",
       "      <td>9.098719</td>\n",
       "      <td>2.077215</td>\n",
       "    </tr>\n",
       "    <tr>\n",
       "      <th>1</th>\n",
       "      <td>1</td>\n",
       "      <td>63542</td>\n",
       "      <td>6.1</td>\n",
       "      <td>2009-01-01 20:37:55+00:00</td>\n",
       "      <td>-73.967279</td>\n",
       "      <td>40.763312</td>\n",
       "      <td>-73.980449</td>\n",
       "      <td>40.742468</td>\n",
       "      <td>1</td>\n",
       "      <td>2009</td>\n",
       "      <td>1</td>\n",
       "      <td>1</td>\n",
       "      <td>3</td>\n",
       "      <td>20</td>\n",
       "      <td>37</td>\n",
       "      <td>0</td>\n",
       "      <td>2.095765</td>\n",
       "      <td>2.910632</td>\n",
       "    </tr>\n",
       "    <tr>\n",
       "      <th>2</th>\n",
       "      <td>2</td>\n",
       "      <td>73339</td>\n",
       "      <td>13.0</td>\n",
       "      <td>2009-01-01 21:15:39+00:00</td>\n",
       "      <td>-73.989820</td>\n",
       "      <td>40.756642</td>\n",
       "      <td>-73.977597</td>\n",
       "      <td>40.721436</td>\n",
       "      <td>3</td>\n",
       "      <td>2009</td>\n",
       "      <td>1</td>\n",
       "      <td>1</td>\n",
       "      <td>3</td>\n",
       "      <td>21</td>\n",
       "      <td>15</td>\n",
       "      <td>0</td>\n",
       "      <td>3.167735</td>\n",
       "      <td>4.103879</td>\n",
       "    </tr>\n",
       "    <tr>\n",
       "      <th>3</th>\n",
       "      <td>3</td>\n",
       "      <td>76459</td>\n",
       "      <td>7.8</td>\n",
       "      <td>2009-01-01 04:07:28+00:00</td>\n",
       "      <td>-73.990737</td>\n",
       "      <td>40.730586</td>\n",
       "      <td>-73.977891</td>\n",
       "      <td>40.751837</td>\n",
       "      <td>1</td>\n",
       "      <td>2009</td>\n",
       "      <td>1</td>\n",
       "      <td>1</td>\n",
       "      <td>3</td>\n",
       "      <td>4</td>\n",
       "      <td>7</td>\n",
       "      <td>0</td>\n",
       "      <td>2.110714</td>\n",
       "      <td>3.695432</td>\n",
       "    </tr>\n",
       "    <tr>\n",
       "      <th>4</th>\n",
       "      <td>4</td>\n",
       "      <td>78835</td>\n",
       "      <td>6.9</td>\n",
       "      <td>2009-01-01 12:33:40+00:00</td>\n",
       "      <td>-73.973905</td>\n",
       "      <td>40.764441</td>\n",
       "      <td>-73.956406</td>\n",
       "      <td>40.784593</td>\n",
       "      <td>1</td>\n",
       "      <td>2009</td>\n",
       "      <td>1</td>\n",
       "      <td>1</td>\n",
       "      <td>3</td>\n",
       "      <td>12</td>\n",
       "      <td>33</td>\n",
       "      <td>0</td>\n",
       "      <td>2.268589</td>\n",
       "      <td>3.041537</td>\n",
       "    </tr>\n",
       "  </tbody>\n",
       "</table>\n",
       "</div>"
      ],
      "text/plain": [
       "   Unnamed: 0.1  Unnamed: 0  fare_amount            pickup_datetime  \\\n",
       "0             0       56318         18.9  2009-01-01 14:30:00+00:00   \n",
       "1             1       63542          6.1  2009-01-01 20:37:55+00:00   \n",
       "2             2       73339         13.0  2009-01-01 21:15:39+00:00   \n",
       "3             3       76459          7.8  2009-01-01 04:07:28+00:00   \n",
       "4             4       78835          6.9  2009-01-01 12:33:40+00:00   \n",
       "\n",
       "   pickup_longitude  pickup_latitude  dropoff_longitude  dropoff_latitude  \\\n",
       "0        -73.974530        40.747325         -73.870905         40.774162   \n",
       "1        -73.967279        40.763312         -73.980449         40.742468   \n",
       "2        -73.989820        40.756642         -73.977597         40.721436   \n",
       "3        -73.990737        40.730586         -73.977891         40.751837   \n",
       "4        -73.973905        40.764441         -73.956406         40.784593   \n",
       "\n",
       "   passenger_count  year  month  day  day_of_week  hour  minute  rush_hour  \\\n",
       "0                1  2009      1    1            3    14      30          0   \n",
       "1                1  2009      1    1            3    20      37          0   \n",
       "2                3  2009      1    1            3    21      15          0   \n",
       "3                1  2009      1    1            3     4       7          0   \n",
       "4                1  2009      1    1            3    12      33          0   \n",
       "\n",
       "   distance  price_per_mile  \n",
       "0  9.098719        2.077215  \n",
       "1  2.095765        2.910632  \n",
       "2  3.167735        4.103879  \n",
       "3  2.110714        3.695432  \n",
       "4  2.268589        3.041537  "
      ]
     },
     "execution_count": 63,
     "metadata": {},
     "output_type": "execute_result"
    }
   ],
   "source": [
    "uber_df.head()"
   ]
  },
  {
   "cell_type": "markdown",
   "id": "a28a5005",
   "metadata": {},
   "source": [
    "__\n",
    "\n",
    "**Hypothesis Testing - Uber and Rainfall**\n",
    "\n",
    "Now that we have the combined columns with all our data, we want to run a hypothesis test to see if there is a significant difference between fares on precipitation days and non-precipitation days\n",
    "\n",
    "*Uber*\n",
    "\n",
    "H0: There is no significant difference in uber fares on precipitation and non-precipitation days (i.e. u1 <= u2) for rides between 2 to 3 miles\n",
    "\n",
    "H1: Uber fares are higher on precipitation than on non-precipitation days (i.e. u1 > u2 ) for rides between 2 to 3 miles\n",
    "\n",
    "\n",
    "The reason behind specifying the two to three mile range is because we want to keep distance as constant as possible since we know that distance is a significant variable that affects the fare. Therefore, we had to limit the hypothesis test to a certain distance range in order to control for the impact of distance. Since New York City is not that large, we figured that we would have a large enough sample for the t test if we limited distance to between 2 and 3 miles."
   ]
  },
  {
   "cell_type": "code",
   "execution_count": 64,
   "id": "ebb541c8",
   "metadata": {},
   "outputs": [],
   "source": [
    "uber_rain = %sql SELECT fare_amount, date_id, prcp FROM uber_combined_df WHERE prcp >= 0.3 AND distance BETWEEN 2 AND 3\n",
    "uber_dry = %sql SELECT fare_amount, date_id, prcp FROM uber_combined_df WHERE prcp < 0.3 AND distance BETWEEN 2 AND 3"
   ]
  },
  {
   "cell_type": "code",
   "execution_count": 65,
   "id": "d320b29c",
   "metadata": {},
   "outputs": [
    {
     "data": {
      "text/plain": [
       "Ttest_indResult(statistic=2.70163025406549, pvalue=0.003451667907886109)"
      ]
     },
     "execution_count": 65,
     "metadata": {},
     "output_type": "execute_result"
    }
   ],
   "source": [
    "stats.ttest_ind(uber_rain['fare_amount'], uber_dry['fare_amount'], alternative='greater')"
   ]
  },
  {
   "cell_type": "markdown",
   "id": "71023924",
   "metadata": {},
   "source": [
    "*Significance Interpretation*\n",
    "\n",
    "We see here that the p_value is less than 0.05, so we are able to reject the null hypothesis and conclude that rainy days are in fact associated with higher fare amounts on average for uber, within distances of 2 to 3 miles.\n",
    "\n",
    "This result indicates that with distance controlled for, we generally associate rainfall with higher uber fares. Although we did not run a t-test for every single distance range, this provides us with an instance of verification for our intuition. "
   ]
  },
  {
   "cell_type": "markdown",
   "id": "13beeb40",
   "metadata": {},
   "source": [
    "**Hypothesis Testing - Taxi and Rainfall**\n",
    "\n",
    "*Taxi*\n",
    "\n",
    "H0: There is no significant difference in taxi fares on precipitation and non-precipitation days (i.e. u1 <= u2) for rides between 2 to 3 miles\n",
    "\n",
    "H1: Taxi fares are higher on precipitation days than on non-precipitation days (i.e. u1 > u2 ) for rides between 2 to 3 miles\n"
   ]
  },
  {
   "cell_type": "code",
   "execution_count": 66,
   "id": "430900f6",
   "metadata": {},
   "outputs": [],
   "source": [
    "taxi_rain = %sql SELECT fare_amount, date_id, prcp FROM taxi_combined_df WHERE prcp >= 0.3 AND distance BETWEEN 2 AND 3\n",
    "taxi_dry = %sql SELECT fare_amount, date_id, prcp FROM taxi_combined_df WHERE prcp < 0.3 AND distance BETWEEN 2 AND 3"
   ]
  },
  {
   "cell_type": "code",
   "execution_count": 67,
   "id": "5c5a4687",
   "metadata": {},
   "outputs": [
    {
     "data": {
      "text/plain": [
       "Ttest_indResult(statistic=0.5129817294901293, pvalue=0.30398366476760874)"
      ]
     },
     "execution_count": 67,
     "metadata": {},
     "output_type": "execute_result"
    }
   ],
   "source": [
    "stats.ttest_ind(taxi_rain['fare_amount'], taxi_dry['fare_amount'], alternative='greater')"
   ]
  },
  {
   "cell_type": "markdown",
   "id": "f057447f",
   "metadata": {},
   "source": [
    "*Significance Interpretation*\n",
    "\n",
    "Our results from the t-test ran on taxi data gives use a p value of  0.33, which exceeds our threshold of 5%, leading us to reject the alternative hypothesis (H1) as there is insufficient evidence to indicate that the average fare for taxi fares on rainy days are higher than that of non-rainy days for trips within 2 to 3 miles. \n"
   ]
  },
  {
   "cell_type": "markdown",
   "id": "d9dfedcc",
   "metadata": {},
   "source": [
    "**Plausible explanation of the differing effects of rainfall on uber vs taxi fares**\n",
    "\n",
    "A key reason behind why rainfall is significant in determining uber fares in contrast to not being significant in determing taxi fares could be due to how the fares are calculated in the first place. Uber fares are determined upon booking of the ride, and take into account supply and demand dynamics. Therefore, when it rains, more people are likely to be requesting ubers and therefore locking in a higher fare. On the other hand, taxi fares are determined by meters and since the meters are unlikely to be able to sense the weather, may not take this into account. While we initially expected that rain would cause heavier traffic in New York City and thus cause taxi fares to rise because of the increased time spent in traffic, the results of our t-test did not support this conclusion"
   ]
  },
  {
   "cell_type": "markdown",
   "id": "4d95e04b",
   "metadata": {},
   "source": [
    "__\n",
    "\n",
    "**Hypothesis Testing - Rain and Number of Uber Rides**\n",
    "\n",
    "Now that we have the combined columns with all our data, we want to run a hypothesis test to see if there is a significant difference between the number of uber rides on precipitation days and non-precipitation days\n",
    "\n",
    "*Uber*\n",
    "\n",
    "H0: There is no significant difference in the number of uber rides on precipitation and non-precipitation days (i.e. u1 <= u2) \n",
    "\n",
    "H1: The number of uber rides on precipitation days are higher than on non-precipitation days (i.e. u1 > u2 ) "
   ]
  },
  {
   "cell_type": "code",
   "execution_count": 68,
   "id": "31f8d9e2",
   "metadata": {},
   "outputs": [],
   "source": [
    "uber_rain_count = %sql SELECT COUNT(fare_amount), date_id FROM uber_combined_df WHERE prcp >= 0.3 GROUP BY date_id\n",
    "uber_dry_count = %sql SELECT COUNT(fare_amount), date_id FROM uber_combined_df WHERE prcp < 0.3 GROUP BY date_id"
   ]
  },
  {
   "cell_type": "code",
   "execution_count": 69,
   "id": "40f2b62b",
   "metadata": {},
   "outputs": [
    {
     "data": {
      "text/plain": [
       "Ttest_indResult(statistic=-1.3702536802754401, pvalue=0.9146312474822084)"
      ]
     },
     "execution_count": 69,
     "metadata": {},
     "output_type": "execute_result"
    }
   ],
   "source": [
    "stats.ttest_ind(uber_rain_count['count(fare_amount)'], uber_dry_count['count(fare_amount)'], alternative='greater')"
   ]
  },
  {
   "cell_type": "markdown",
   "id": "4f806d9a",
   "metadata": {},
   "source": [
    "*Significance Interpretation*\n",
    "\n",
    "Based on the p value obtained here, there is insufficient evidence to conclude that there are more uber rides taken during rainy days compared to dry days as p is greater than 0.05. Given how large p is, we decided to run the test in the reverse manner to see if more uber rides are taken during dry days than rainy days\n",
    "\n",
    "*Uber*\n",
    "\n",
    "H0: There is no significant difference in the number of uber rides on precipitation and non-precipitation days (i.e. u1 <= u2) \n",
    "\n",
    "H1: The number of uber rides on precipitation days are lower than on non-precipitation days (i.e. u1 < u2 ) \n"
   ]
  },
  {
   "cell_type": "code",
   "execution_count": 70,
   "id": "b8b6c3f7",
   "metadata": {},
   "outputs": [
    {
     "data": {
      "text/plain": [
       "Ttest_indResult(statistic=-1.3702536802754401, pvalue=0.08536875251779157)"
      ]
     },
     "execution_count": 70,
     "metadata": {},
     "output_type": "execute_result"
    }
   ],
   "source": [
    "stats.ttest_ind(uber_rain_count['count(fare_amount)'], uber_dry_count['count(fare_amount)'], alternative='less')"
   ]
  },
  {
   "cell_type": "markdown",
   "id": "983e5b26",
   "metadata": {},
   "source": [
    "*Significance Interpretation*\n",
    "\n",
    "While the results are still not significant at the 5% level, it is significant at the 10% level, which is the opposite of what we expected, since we would expect more people to take ubers when it is a rainy day. A plausible explanation for this could be that people just generally choose not to go out on rainy days, or cancel their plans and therefore lead to a fewer number of uber rides when it rains. However, this clashes with our earlier result where we see that uber prices are higher during rainy days, which could indicate that perhaps instead of just increased passenger demand driving uber prices, supply could be lower during rainy days as well since drivers may not like to drive during rainy days potentially due to unpleasant traffic. \n",
    "\n",
    "We cannot know for sure what is the driving factor, but these are just some potential deductions that can be made from the data analysis done"
   ]
  },
  {
   "cell_type": "markdown",
   "id": "31a056b6",
   "metadata": {},
   "source": [
    "__\n",
    "\n",
    "**Hypothesis Testing - Rain and Number of Taxi Rides**\n",
    "\n",
    "Using the intuition we obtained from the hypothesis test with uber, we decided to change the direction of the hypothesis test \n",
    "\n",
    "Now that we have the combined columns with all our data, we want to run a hypothesis test to see if there is a significant difference between the number of uber rides on precipitation days and non-precipitation days\n",
    "\n",
    "*Taxi*\n",
    "\n",
    "H0: There is no significant difference in the number of taxi rides on precipitation and non-precipitation days (i.e. u1 <= u2) \n",
    "\n",
    "H1: The number of taxi rides on precipitation day are lower than on non-precipitation days (i.e. u1 < u2 ) "
   ]
  },
  {
   "cell_type": "code",
   "execution_count": 71,
   "id": "ac57772d",
   "metadata": {},
   "outputs": [],
   "source": [
    "taxi_rain_count = %sql SELECT COUNT(fare_amount), date_id FROM taxi_combined_df WHERE prcp >= 0.3 GROUP BY date_id\n",
    "taxi_dry_count = %sql SELECT COUNT(fare_amount), date_id FROM taxi_combined_df WHERE prcp < 0.3 GROUP BY date_id"
   ]
  },
  {
   "cell_type": "code",
   "execution_count": 72,
   "id": "55b3504d",
   "metadata": {},
   "outputs": [
    {
     "data": {
      "text/plain": [
       "Ttest_indResult(statistic=-1.7053487751962275, pvalue=0.044130218371108)"
      ]
     },
     "execution_count": 72,
     "metadata": {},
     "output_type": "execute_result"
    }
   ],
   "source": [
    "stats.ttest_ind(taxi_rain_count['count(fare_amount)'], taxi_dry_count['count(fare_amount)'], alternative='less')"
   ]
  },
  {
   "cell_type": "markdown",
   "id": "453dab01",
   "metadata": {},
   "source": [
    "*Significance Interpretation*\n",
    "\n",
    "Based on our p value, it appears that the number of taxi rides are significantly lower on rainy days than on non-rainy days. Prehaps the reason behind the hypothesis test on taxi rides having a significant result at the 5% threshold level could be due to the increased resistance from getting a taxi as opposed to getting an uber in the rain, since most people try to flag down taxis on the street in New York City. If it is raining, that would make flagging a cab harder and thus potentially lead to fewer rides.  "
   ]
  },
  {
   "cell_type": "markdown",
   "id": "cdb97826",
   "metadata": {},
   "source": [
    "__\n",
    "\n",
    "**Hypothesis Test - Rush Hour vs Non Rush Hour Prices**\n",
    "\n",
    "*Uber*\n",
    "\n",
    "\n",
    "H0: There is no significant difference in fares of uber rides during rush hours and non-rush hours for rides between 2 and 3 miles(i.e. u1 <= u2) \n",
    "\n",
    "H1: The uber fares during rush hours are higher than during non-rush hours for rides between 2 and 3 miles (i.e. u1 < u2 ) "
   ]
  },
  {
   "cell_type": "code",
   "execution_count": 73,
   "id": "4ca33241",
   "metadata": {},
   "outputs": [],
   "source": [
    "uber_rush = %sql SELECT fare_amount, rush_hour FROM uber_combined_df WHERE rush_hour=1 AND distance > 2 AND distance <3\n",
    "uber_non_rush = %sql SELECT fare_amount, rush_hour FROM uber_combined_df WHERE rush_hour=0 AND distance > 2 AND distance <3"
   ]
  },
  {
   "cell_type": "code",
   "execution_count": 74,
   "id": "3b67082d",
   "metadata": {},
   "outputs": [
    {
     "data": {
      "text/plain": [
       "Ttest_indResult(statistic=5.170406307341777, pvalue=1.1742811518163441e-07)"
      ]
     },
     "execution_count": 74,
     "metadata": {},
     "output_type": "execute_result"
    }
   ],
   "source": [
    "stats.ttest_ind(uber_rush['fare_amount'], uber_non_rush['fare_amount'], alternative='greater')"
   ]
  },
  {
   "cell_type": "markdown",
   "id": "cd26ea2f",
   "metadata": {},
   "source": [
    "*Significance Interpretation*\n",
    "\n",
    "Based on the p value, it appears that the prices of uber fares are significantly greater during rush hours than during non-rush hours when distance is controlled for between 2 and 3 miles. This makes sense since rush hours would see a greater demand for ubers as opposed to non rush hours and that will drive up the price"
   ]
  },
  {
   "cell_type": "markdown",
   "id": "71d0a248",
   "metadata": {},
   "source": [
    "__\n",
    "\n",
    "**Hypothesis Test - Rush Hour vs Non Rush Hour Prices**\n",
    "\n",
    "*Taxi*\n",
    "\n",
    "\n",
    "H0: There is no significant difference in fares of taxi rides during rush hours and non-rush hours for rides between 2 and 3 miles(i.e. u1 <= u2) \n",
    "\n",
    "H1: The taxi fares during rush hours are higher than during non-rush hours for rides between 2 and 3 miles (i.e. u1 < u2 ) "
   ]
  },
  {
   "cell_type": "code",
   "execution_count": 75,
   "id": "a035a9ce",
   "metadata": {},
   "outputs": [],
   "source": [
    "taxi_rush = %sql SELECT fare_amount, rush_hour FROM taxi_combined_df WHERE rush_hour=1 AND distance > 2 AND distance <3\n",
    "taxi_non_rush = %sql SELECT fare_amount, rush_hour FROM taxi_combined_df WHERE rush_hour=0 AND distance > 2 AND distance <3"
   ]
  },
  {
   "cell_type": "code",
   "execution_count": 76,
   "id": "0968269d",
   "metadata": {},
   "outputs": [
    {
     "data": {
      "text/plain": [
       "Ttest_indResult(statistic=7.215383251618692, pvalue=2.743495258171407e-13)"
      ]
     },
     "execution_count": 76,
     "metadata": {},
     "output_type": "execute_result"
    }
   ],
   "source": [
    "stats.ttest_ind(taxi_rush['fare_amount'], taxi_non_rush['fare_amount'], alternative='greater')"
   ]
  },
  {
   "cell_type": "markdown",
   "id": "ea4b58d7",
   "metadata": {},
   "source": [
    "*Significance Interpretation*\n",
    "\n",
    "Based on the p value, it appears that the prices of taxi fares are also significantly greater during rush hours than during non-rush hours when distance is controlled for between 2 and 3 miles. This makes sense since rush hours entail a longer time waiting in traffic, and therefore a higher price obtained from a taxi meter"
   ]
  },
  {
   "cell_type": "markdown",
   "id": "4134783c",
   "metadata": {},
   "source": [
    "**Building a linear regression model to predict uber and taxi prices**\n",
    "\n",
    "Based on our data exploration and hypotheses testing, we want to include rush hour, rainfall data, year, and distance as important features for the model since we know greater distance and rainfall, and rush hours are associated with higher fares. In addition, due to inflation expectations, we know the year also influences the price since we do see a positive trend in prices over time. The target variable is the fare amount"
   ]
  },
  {
   "cell_type": "markdown",
   "id": "b17e955e",
   "metadata": {},
   "source": [
    "Before we start training the model, we wanted to generate a correlation matrix between all the feautures to ensure that we can identify and prevent colinearity of the features\n"
   ]
  },
  {
   "cell_type": "markdown",
   "id": "a9f3c2cc",
   "metadata": {},
   "source": [
    "Based on the correlation matrices generated below, we see no indication of colinearity between the variables and can therefore proceed with training the model."
   ]
  },
  {
   "cell_type": "markdown",
   "id": "4fb89a77",
   "metadata": {},
   "source": [
    "**Uber**"
   ]
  },
  {
   "cell_type": "code",
   "execution_count": 77,
   "id": "d7cf2b4e",
   "metadata": {},
   "outputs": [],
   "source": [
    "uber_features = uber_combined_df[['year', 'distance', 'rush_hour', 'prcp']] \n",
    "uber_targets = uber_combined_df['fare_amount']\n",
    "variables = ['year', 'distance', 'rush_hour', 'prcp']"
   ]
  },
  {
   "cell_type": "code",
   "execution_count": 78,
   "id": "660431c9",
   "metadata": {},
   "outputs": [
    {
     "name": "stdout",
     "output_type": "stream",
     "text": [
      "               year  distance  rush_hour      prcp\n",
      "year       1.000000  0.012661  -0.007233 -0.008387\n",
      "distance   0.012661  1.000000  -0.053832 -0.011383\n",
      "rush_hour -0.007233 -0.053832   1.000000 -0.001240\n",
      "prcp      -0.008387 -0.011383  -0.001240  1.000000\n"
     ]
    }
   ],
   "source": [
    "print(uber_combined_df.corr().loc[variables, variables])"
   ]
  },
  {
   "cell_type": "markdown",
   "id": "325b7249",
   "metadata": {},
   "source": [
    "Here, we are defining a function to run the regression for us so that we can call it on the taxi data later on too."
   ]
  },
  {
   "cell_type": "code",
   "execution_count": 79,
   "id": "e2c73b74",
   "metadata": {},
   "outputs": [
    {
     "name": "stdout",
     "output_type": "stream",
     "text": [
      "               year  distance  rush_hour      prcp\n",
      "year       1.000000  0.014872  -0.002908 -0.008760\n",
      "distance   0.014872  1.000000  -0.052812 -0.005425\n",
      "rush_hour -0.002908 -0.052812   1.000000 -0.000340\n",
      "prcp      -0.008760 -0.005425  -0.000340  1.000000\n"
     ]
    }
   ],
   "source": [
    "print(taxi_combined_df.corr().loc[variables, variables])"
   ]
  },
  {
   "cell_type": "code",
   "execution_count": 80,
   "id": "02e8375d",
   "metadata": {},
   "outputs": [],
   "source": [
    "def run_regression(features, targets, variables):\n",
    "    X_train, X_test, y_train, y_test = train_test_split(features, targets, test_size=0.2, random_state=1)\n",
    "    model = LinearRegression().fit(X_train, y_train)\n",
    "    train_predict = model.predict(X_train)\n",
    "    test_predict = model.predict(X_test)\n",
    "    train_mse = (np.square(train_predict - y_train)).mean()\n",
    "    test_mse = (np.square(test_predict - y_test)).mean()\n",
    "    train_mae = mean_absolute_error(train_predict, y_train)\n",
    "    test_mae = mean_absolute_error(test_predict, y_test)\n",
    "    print(variables)\n",
    "    print(model.coef_)\n",
    "    print(model.intercept_)\n",
    "    print('Train RMSE:', train_mse**0.5)\n",
    "    print('Test RMSE:', test_mse**0.5)\n",
    "    print('Train MAE:', train_mae)\n",
    "    print('Test MAE:', test_mae)\n",
    "    return model\n",
    "    "
   ]
  },
  {
   "cell_type": "code",
   "execution_count": 81,
   "id": "343141ef",
   "metadata": {},
   "outputs": [
    {
     "name": "stdout",
     "output_type": "stream",
     "text": [
      "['year', 'distance', 'rush_hour', 'prcp']\n",
      "[0.49543972 2.65148284 0.29835545 0.08881186]\n",
      "-993.2746201339708\n",
      "Train RMSE: 3.3821985607703433\n",
      "Test RMSE: 3.276888332061176\n",
      "Train MAE: 1.9787745012128077\n",
      "Test MAE: 1.968216906855114\n",
      "<statsmodels.regression.linear_model.OLS object at 0x00000182D3EB8EE0>\n"
     ]
    }
   ],
   "source": [
    "model_uber = run_regression(uber_features, uber_targets, variables )\n",
    "print(model)"
   ]
  },
  {
   "cell_type": "markdown",
   "id": "0f25e4ad",
   "metadata": {},
   "source": [
    "After running the linear regression model, we see that all the features selected appear to be have a fairly discernible impact on the uber fare\n",
    "\n",
    "**Coefficient interpretations**\n",
    "\n",
    "Year: A one unit change in year is associated with a $0.50 change in the uberfare\n",
    "\n",
    "Distance: A one mile change in distance is associated with a $2.65 change in fare\n",
    "\n",
    "Rush hour: During a rush hour, we can expect the fare to increase by $0.30 relative to when it is not during a rush hour\n",
    "\n",
    "Precipitation: Every 1 inch change in rainfall is associated with a $0.09 change in the fare\n",
    "\n",
    "We are not too concerned with the intercept since no ride will realistically occur when distance or year is 0\n",
    "\n",
    "*Note that the interpretations round the changes to the nearest cent*\n",
    "\n",
    "\n",
    "**Model Evaluation**\n",
    "\n",
    "The root mean square error and the mean absolute error are both relatively low, which is indicative of a model that is a good fit for the data. In addition, since the testing and training RMSE and MAE are relatively similar, we do not need to be concerned about overfitting. While RMSE and MAE are in the range of around 3 dollars and 2 dollars respectively and are not insignificant when expressed in relation to a taxi fare, New York City Uber prices vary widely and therefore, variation is to be expected. There are a number of factors that uber may take into account in their algorithms that we are not privy to, and if we were to re-run the data analysis with such information, we could incorporate that and reduce the error."
   ]
  },
  {
   "cell_type": "markdown",
   "id": "7ad16e44",
   "metadata": {},
   "source": [
    "**Taxi**\n"
   ]
  },
  {
   "cell_type": "code",
   "execution_count": 82,
   "id": "887c646b",
   "metadata": {},
   "outputs": [],
   "source": [
    "taxi_features = taxi_combined_df[['year', 'distance', 'rush_hour', 'prcp']] \n",
    "taxi_targets = taxi_combined_df['fare_amount']"
   ]
  },
  {
   "cell_type": "code",
   "execution_count": 83,
   "id": "df9ad491",
   "metadata": {},
   "outputs": [
    {
     "name": "stdout",
     "output_type": "stream",
     "text": [
      "['year', 'distance', 'rush_hour', 'prcp']\n",
      "[0.49157756 2.64917003 0.26959843 0.0363199 ]\n",
      "-985.4812455763233\n",
      "Train RMSE: 3.405206277982284\n",
      "Test RMSE: 3.3508989717319775\n",
      "Train MAE: 1.9996863747814928\n",
      "Test MAE: 1.9681817251365084\n",
      "LinearRegression()\n"
     ]
    }
   ],
   "source": [
    "model_taxi = run_regression(taxi_features, taxi_targets, variables)\n",
    "print(model_taxi)"
   ]
  },
  {
   "cell_type": "markdown",
   "id": "18a041b7",
   "metadata": {},
   "source": [
    "**Coefficient interpretations**\n",
    "\n",
    "**Year**: A one unit change in year is associated with a $0.49 change in the fare\n",
    "\n",
    "**Distance**: A one mile change in distance is associated with a $2.65 change in fare\n",
    "\n",
    "**Rush hour**: During a rush hour, we can expect the fare to increase by $0.27 relative to when it is not during a rush hour\n",
    "\n",
    "**Precipitation**: Every 1 inch change in rainfall is associated with a $0.04 change in the fare\n",
    "\n",
    "We are not too concerned with the intercept since no ride will realistically occur when distance or year is 0\n",
    "\n",
    "*Note that the interpretations round the changes to the nearest cent*\n",
    "\n",
    "**Model Evaluation**\n",
    "\n",
    "The root mean square error and the mean absolute error are both relatively low, which is indicative of a model that is a good fit for the data. In addition, since the testing and training RMSE and MAE are relatively similar, we do not need to be concerned about overfitting. While RMSE and MAE are in the range of around 3 dollars and 2 dollars respectively and are not insignificant when expressed in relation to a taxi fare, New York City prices vary widely and therefore, variation is to be expected. There are a number of factors that taxi companies may take into account in their algorithms that we are not privy to, and if we were to re-run the data analysis with such information, we could incorporate that and reduce the error.\n"
   ]
  },
  {
   "cell_type": "markdown",
   "id": "8eb63b25",
   "metadata": {},
   "source": [
    "__\n",
    "\n",
    "**Bootstrapping**"
   ]
  },
  {
   "cell_type": "markdown",
   "id": "38df1f0a",
   "metadata": {},
   "source": [
    "To provide further credibility on the coefficients generated from our linear regression models, we can incorporate bootstrapping to find the distributions of the beta coefficients for each of the features: year, distance, rush_hour, and prcp (precipitation). We have used a sample size of 1000 for the purposes of bootstrapping. "
   ]
  },
  {
   "cell_type": "markdown",
   "id": "0def3f2e",
   "metadata": {},
   "source": [
    "**Uber Boostrapping**"
   ]
  },
  {
   "cell_type": "code",
   "execution_count": 97,
   "id": "7fe34241",
   "metadata": {},
   "outputs": [],
   "source": [
    "year_beta_coefficients = []\n",
    "distance_beta_coefficients = []\n",
    "rush_hour_beta_coefficients = []\n",
    "prcp_beta_coefficients = []\n",
    "rows = uber_combined_df.shape[0]\n",
    "for sample in range(1000):\n",
    "    bootstrap = uber_combined_df.sample(n=rows, replace = True)\n",
    "    model = LinearRegression().fit(bootstrap[['year', 'distance', 'rush_hour', 'prcp']], bootstrap['fare_amount'])\n",
    "    year_beta_coefficients.append(model.coef_[0])\n",
    "    distance_beta_coefficients.append(model.coef_[1])\n",
    "    rush_hour_beta_coefficients.append(model.coef_[2])\n",
    "    prcp_beta_coefficients.append(model.coef_[3])\n",
    "    "
   ]
  },
  {
   "cell_type": "code",
   "execution_count": 99,
   "id": "bead854f",
   "metadata": {},
   "outputs": [
    {
     "data": {
      "text/plain": [
       "Text(0, 0.5, 'Frequency')"
      ]
     },
     "execution_count": 99,
     "metadata": {},
     "output_type": "execute_result"
    },
    {
     "data": {
      "image/png": "[encoded data removed]",
      "text/plain": [
       "<Figure size 432x288 with 1 Axes>"
      ]
     },
     "metadata": {
      "needs_background": "light"
     },
     "output_type": "display_data"
    }
   ],
   "source": [
    "plt.hist(year_beta_coefficients)\n",
    "plt.title('Beta Distribution for Year Feature')\n",
    "plt.xlabel('Beta Coefficient')\n",
    "plt.ylabel('Frequency')"
   ]
  },
  {
   "cell_type": "code",
   "execution_count": 105,
   "id": "08120a7e",
   "metadata": {},
   "outputs": [
    {
     "data": {
      "text/plain": [
       "Text(0, 0.5, 'Frequency')"
      ]
     },
     "execution_count": 105,
     "metadata": {},
     "output_type": "execute_result"
    },
    {
     "data": {
      "image/png": "[encoded data removed]",
      "text/plain": [
       "<Figure size 432x288 with 1 Axes>"
      ]
     },
     "metadata": {
      "needs_background": "light"
     },
     "output_type": "display_data"
    }
   ],
   "source": [
    "plt.hist(distance_beta_coefficients)\n",
    "plt.title('Bootstrap Beta Distribution for Distance Feature')\n",
    "plt.xlabel('Beta Coefficient')\n",
    "plt.ylabel('Frequency')"
   ]
  },
  {
   "cell_type": "code",
   "execution_count": 106,
   "id": "331f50ac",
   "metadata": {},
   "outputs": [
    {
     "data": {
      "text/plain": [
       "Text(0, 0.5, 'Frequency')"
      ]
     },
     "execution_count": 106,
     "metadata": {},
     "output_type": "execute_result"
    },
    {
     "data": {
      "image/png": "[encoded data removed]",
      "text/plain": [
       "<Figure size 432x288 with 1 Axes>"
      ]
     },
     "metadata": {
      "needs_background": "light"
     },
     "output_type": "display_data"
    }
   ],
   "source": [
    "plt.hist(rush_hour_beta_coefficients)\n",
    "plt.title('Bootstrap Beta Distribution for Rush Hour Feature')\n",
    "plt.xlabel('Beta Coefficient')\n",
    "plt.ylabel('Frequency')"
   ]
  },
  {
   "cell_type": "code",
   "execution_count": 107,
   "id": "13cce7d7",
   "metadata": {},
   "outputs": [
    {
     "data": {
      "text/plain": [
       "Text(0, 0.5, 'Frequency')"
      ]
     },
     "execution_count": 107,
     "metadata": {},
     "output_type": "execute_result"
    },
    {
     "data": {
      "image/png": "[encoded data removed]",
      "text/plain": [
       "<Figure size 432x288 with 1 Axes>"
      ]
     },
     "metadata": {
      "needs_background": "light"
     },
     "output_type": "display_data"
    }
   ],
   "source": [
    "plt.hist(prcp_beta_coefficients)\n",
    "plt.title('Bootstrap Beta Distribution for Precipitation Feature')\n",
    "plt.xlabel('Beta Coefficient')\n",
    "plt.ylabel('Frequency')"
   ]
  },
  {
   "cell_type": "markdown",
   "id": "62b2ed04",
   "metadata": {},
   "source": [
    "*Bootstrapping Analysis*\n",
    "\n",
    "Our overall model returned the beta coefficients for the features as shown below:\n",
    "\n",
    "**Year**: 0.49543972 \n",
    "\n",
    "**Distance**: 2.65148284 \n",
    "\n",
    "**Rush Hour**: 0.29835545 \n",
    "\n",
    "**Precipitation**: 0.08881186\n",
    "\n",
    "As we can see from the visualizations, all of these coefficients lie within or close to the modal range of the beta distributions generated from bootstrapping and therefore is a good indication that the coefficients generated are accurate"
   ]
  },
  {
   "cell_type": "markdown",
   "id": "a169664d",
   "metadata": {},
   "source": [
    "**Taxi Bootstrapping**"
   ]
  },
  {
   "cell_type": "code",
   "execution_count": 108,
   "id": "5ce3c5b2",
   "metadata": {},
   "outputs": [],
   "source": [
    "year_beta_coefficients1 = []\n",
    "distance_beta_coefficients1 = []\n",
    "rush_hour_beta_coefficients1 = []\n",
    "prcp_beta_coefficients1 = []\n",
    "rows = taxi_combined_df.shape[0]\n",
    "for sample in range(1000):\n",
    "    bootstrap = taxi_combined_df.sample(n=rows, replace = True)\n",
    "    model = LinearRegression().fit(bootstrap[['year', 'distance', 'rush_hour', 'prcp']], bootstrap['fare_amount'])\n",
    "    year_beta_coefficients1.append(model.coef_[0])\n",
    "    distance_beta_coefficients1.append(model.coef_[1])\n",
    "    rush_hour_beta_coefficients1.append(model.coef_[2])\n",
    "    prcp_beta_coefficients1.append(model.coef_[3])\n"
   ]
  },
  {
   "cell_type": "code",
   "execution_count": 109,
   "id": "3e9191f7",
   "metadata": {},
   "outputs": [
    {
     "data": {
      "text/plain": [
       "Text(0, 0.5, 'Frequency')"
      ]
     },
     "execution_count": 109,
     "metadata": {},
     "output_type": "execute_result"
    },
    {
     "data": {
      "image/png": "[encoded data removed]",
      "text/plain": [
       "<Figure size 432x288 with 1 Axes>"
      ]
     },
     "metadata": {
      "needs_background": "light"
     },
     "output_type": "display_data"
    }
   ],
   "source": [
    "plt.hist(year_beta_coefficients1)\n",
    "plt.title('Bootstrap Beta Distribution for Year Feature')\n",
    "plt.xlabel('Beta Coefficient')\n",
    "plt.ylabel('Frequency')"
   ]
  },
  {
   "cell_type": "code",
   "execution_count": 110,
   "id": "e38f56c6",
   "metadata": {},
   "outputs": [
    {
     "data": {
      "text/plain": [
       "Text(0, 0.5, 'Frequency')"
      ]
     },
     "execution_count": 110,
     "metadata": {},
     "output_type": "execute_result"
    },
    {
     "data": {
      "image/png": "[encoded data removed]",
      "text/plain": [
       "<Figure size 432x288 with 1 Axes>"
      ]
     },
     "metadata": {
      "needs_background": "light"
     },
     "output_type": "display_data"
    }
   ],
   "source": [
    "plt.hist(distance_beta_coefficients1)\n",
    "plt.title('Bootstrap Beta Distribution for Distance Feature')\n",
    "plt.xlabel('Beta Coefficient')\n",
    "plt.ylabel('Frequency')"
   ]
  },
  {
   "cell_type": "code",
   "execution_count": 111,
   "id": "4e2ebc99",
   "metadata": {},
   "outputs": [
    {
     "data": {
      "text/plain": [
       "Text(0, 0.5, 'Frequency')"
      ]
     },
     "execution_count": 111,
     "metadata": {},
     "output_type": "execute_result"
    },
    {
     "data": {
      "image/png": "[encoded data removed]",
      "text/plain": [
       "<Figure size 432x288 with 1 Axes>"
      ]
     },
     "metadata": {
      "needs_background": "light"
     },
     "output_type": "display_data"
    }
   ],
   "source": [
    "plt.hist(rush_hour_beta_coefficients1)\n",
    "plt.title('Bootstrap Beta Distribution for Rush Hour Feature')\n",
    "plt.xlabel('Beta Coefficient')\n",
    "plt.ylabel('Frequency')"
   ]
  },
  {
   "cell_type": "code",
   "execution_count": 112,
   "id": "e10e0db7",
   "metadata": {},
   "outputs": [
    {
     "data": {
      "text/plain": [
       "Text(0, 0.5, 'Frequency')"
      ]
     },
     "execution_count": 112,
     "metadata": {},
     "output_type": "execute_result"
    },
    {
     "data": {
      "image/png": "[encoded data removed]",
      "text/plain": [
       "<Figure size 432x288 with 1 Axes>"
      ]
     },
     "metadata": {
      "needs_background": "light"
     },
     "output_type": "display_data"
    }
   ],
   "source": [
    "plt.hist(prcp_beta_coefficients1)\n",
    "plt.title('Bootstrap Beta Distribution for Precipitation Feature')\n",
    "plt.xlabel('Beta Coefficient')\n",
    "plt.ylabel('Frequency')"
   ]
  },
  {
   "cell_type": "markdown",
   "id": "d4ce4eab",
   "metadata": {},
   "source": [
    "*Bootstrapping Analysis*\n",
    "\n",
    "Our overall model returned the beta coefficients for the features as shown below:\n",
    "\n",
    "**Year**: 0.49157756 \n",
    "\n",
    "**Distance**: 2.64917003 \n",
    "\n",
    "**Rush Hour**: 0.26959843 \n",
    "\n",
    "**Precipitation**: 0.0363199 \n",
    "\n",
    "\n",
    "As we can see from the visualizations, all of these coefficients lie within or close to the modal range of the beta distributions generated from bootstrapping and therefore is a good indication that the coefficients generated are accurate. "
   ]
  },
  {
   "cell_type": "markdown",
   "id": "67ed7a01",
   "metadata": {},
   "source": [
    "__\n",
    "\n",
    "**Model Demonstrations**\n",
    "\n",
    "We can now demonstrate the ability of our model to predict taxi or uber prices. In this example, we predict uber and taxi fares for a two mile ride with 2 inches of rain in 2022 during rush hour"
   ]
  },
  {
   "cell_type": "code",
   "execution_count": 92,
   "id": "6c66cb5c",
   "metadata": {},
   "outputs": [
    {
     "data": {
      "text/plain": [
       "array([14.28344014])"
      ]
     },
     "execution_count": 92,
     "metadata": {},
     "output_type": "execute_result"
    }
   ],
   "source": [
    "sample_ride = pd.DataFrame({'year': [2022], 'distance': [2], 'rush_hour': [1], 'prcp': [2]})\n",
    "\n",
    "model_uber.predict(sample_ride)"
   ]
  },
  {
   "cell_type": "code",
   "execution_count": 93,
   "id": "31cd63ef",
   "metadata": {},
   "outputs": [
    {
     "data": {
      "text/plain": [
       "array([14.12914947])"
      ]
     },
     "execution_count": 93,
     "metadata": {},
     "output_type": "execute_result"
    }
   ],
   "source": [
    "sample_ride = pd.DataFrame({'year': [2022], 'distance': [2], 'rush_hour': [1], 'prcp': [2]})\n",
    "\n",
    "model_taxi.predict(sample_ride)"
   ]
  },
  {
   "cell_type": "markdown",
   "id": "61435b76",
   "metadata": {},
   "source": [
    "For practical purposes, we can then define a funcion to compare which ride will be cheaper for a hypothetical ride in New York City"
   ]
  },
  {
   "cell_type": "code",
   "execution_count": 94,
   "id": "25109148",
   "metadata": {},
   "outputs": [],
   "source": [
    "def cheaper_ride(year, distance, rush_hour=0, precipitation=0):\n",
    "    sample_ride = pd.DataFrame({'year': [year], 'distance': [distance], 'rush_hour': [rush_hour], 'prcp': [precipitation]})\n",
    "    uber_price = model_uber.predict(sample_ride)\n",
    "    taxi_price = model_taxi.predict(sample_ride)\n",
    "    if uber_price[0] > taxi_price[0]:\n",
    "        print(\"Take a taxi!\")\n",
    "    else:\n",
    "        print(\"Take an Uber!\")"
   ]
  },
  {
   "cell_type": "code",
   "execution_count": 95,
   "id": "17eead4a",
   "metadata": {},
   "outputs": [
    {
     "name": "stdout",
     "output_type": "stream",
     "text": [
      "Take a taxi!\n"
     ]
    }
   ],
   "source": [
    "cheaper_ride(2022, 2, 1, 2)"
   ]
  },
  {
   "cell_type": "markdown",
   "id": "fa8aa8a1",
   "metadata": {},
   "source": [
    "# Interpretation and Conclusion\n",
    "\n",
    "We began building our linear regression model by identifying what features we believed would be appropriate and significant in determining uber and taxi fares. We used domain expertise based on our own experiences and what we know about Uber and Taxi pricing in New York City to identify which features we wanted to run hypothesis tests and visualizations on. When visualizing the trend in pricing per mile over time, it was apparent that the year was an important factor to consider based on the principle of inflation. In addition, the hypothesis tests on features that gave us significant results were distance, whether or not the ride was taken during a rush hour, and precipitation (significant for Uber, insignificant for Taxi). Once we had evidence of the significance of each feature, we were able to train a linear regression model with an 80-20 train-test-split.\n",
    "\n",
    "We then evaluated the model based on root mean squared error and mean absolute error metrics, and found some expected variation in pricing which was expected given that NYC prices do vary a fair bit. We also evaluated the model using Bootstrapping, to ensure the validity of the beta coefficients generated from our linear regression model. We found that the coefficients were often times within the modal range in the bootstrapped sample beta distributions, and concluded that it provides us with more confidence that the coefficients generated from the model were accurate. \n",
    "\n",
    "We were then able to demonstrate the model's practical applicability by predicting the price of a sample ride in New York City. In addition, given that ideally our model should be able to tell a user whether an Uber or Taxi would be cheaper given a set of starting and ending locations, we defined a function that called both models and compared the prices, outputting the cheaper alternative. \n",
    "\n",
    "Ultimately, based on the coefficients of the models generated, Uber tends to be slightly more expensive than taxi rides. According to the coefficients generated from the respective Uber and Taxi models, the coefficient for each feature (year, distance, rush hour, precipitation) was higher in the case of Uber than that of Taxis. This is corroborated with anecdotal ride experience in New York City this past summer from some of our group mates and friends. However, we understand that prices may not be the only concern when booking a ride, especially when the price differences are small. People may value other things such as the convenience of an uber showing up to your doorstep and the ability to track where the uber is on your app as opposed to going outside and waiting to flag a taxi. \n",
    "\n",
    "Through this project, we have determined a few statistically significant features that impact uber and taxi pricing, and gained greater insight into the mechanics behind Uber and Taxi pricing. While we encountered some surprises such as potentially fewer people taking taxis and ubers in the rain, it has widened our perspective and allowed us to consider some aspects of human behavior such as people potentially canceling their plans when it rains to help inform the trends captured in our data analysis.\n",
    "\n",
    "Going forward, it would be beneficial to consider additional factors when training our Uber and Taxi price prediction models. For example, it would be beneficial to consider the supply and demand impacts on transportation prices. Although this information is currently not at our disposal, it would help reduce the RMSE and MSE values for our models. Other factors that we could consider are the type of Uber that is associated with each price (ex. Uber Comfort versus Uber Black), whether the day is a holiday, amd other factors.\n",
    "\n"
   ]
  },
  {
   "cell_type": "markdown",
   "id": "f50b0b31",
   "metadata": {},
   "source": [
    "# Limitations\n",
    "\n",
    "**Taxi and Uber Data**\n",
    "\n",
    "**(1)** One potential limitation is that since we did not collect the data ourselves and the datasets are obtained from kaggle, we do not know how accurate the data collected it.\n",
    "\n",
    "**(2)** Another limitation of the initial data is that it may not include external factors that affect ride pricing.\n",
    "\n",
    "**(3)** Another limitation is that the dataset does not take into account cash tips given since drivers typically do not report cash tips on their ride income since this would lead to taxation on the marginal income. As a result, some of these fares, especially for taxis could be understated since it is customary to tip on a taxi, but not necesarily so on uber.\n",
    "\n",
    "**(4)** Because the data is fairly old, with some oberservations being more than 10 years old, some of the older data may be less relevant given the rising prices due to inflation year over year. In addition, the data does not go past 2015, so the the ability of the data to assist in predicting current prices may deteriorate since taxi meters or uber may have had their pricing algorithms changed. \n",
    "\n",
    "**(5)** Our conclusions might be outdated in the next few years since you can now call regular taxis on the Uber platform, and there is now also a Taxi App that functions in a similar way to Uber.\n",
    "\n",
    "**Weather Data**\n",
    "\n",
    "**(1)** A key limitation of historical weather data is that they tell us the precipitation and snowfall levels for the 24 hour period of each day. However, since we are dealing with humans taking uber or taxi rides, we would ideally have liked the data to be split into hourly boolean values that indicated whether there was rain within the hour or not. However, such data was not readily available even on national databases, and therefore we have to use data aggregated on a daily basis as a proxy for whether the day was rainy or not. As a result, we may run into cases where for example, 0.1 inch of rainfall during 3am would classify the day as a rainy day. Nevertheless, we are determined to explore if such a relationship exists. Therefore, in order to alleviate this issue, we have set the threshold for what is considered to be a rainy day as more than or equal to 0.3 inches of rain for the full day. We used 0.3 because 0.3 inches per hour is what is usually defined as one hour of heavy rain, and we will use that as a proxy indicator as to whether a day was rainy or not.\n",
    "\n",
    "**(2)** We also did not collect the weather data ourselves given the infrastructure and equipment needed to do so, and therefore have to rely on data collected the government\n",
    "\n",
    "**Impact on People**\n",
    "\n",
    "While the data has been anonymized, in the aggregate, taxi and uber pickup and destination data have an impact on people by potentially publicizing popular pickup and dropoff locations, which companies and landlords may be able to charge higher prices based on popular pickup and dropoff locations when viewed in the aggregate and therefore impact people monetarily. This is something to be mindful about when large datasets get published. While inidivual privacy is relatively safe and anonymous, aggregate data also plays a large part in how companies and organizations make decisions and that could impact individuals as well.\n",
    "\n",
    "***"
   ]
  },
  {
   "cell_type": "markdown",
   "id": "b0b06ee0",
   "metadata": {},
   "source": [
    "# Source Code and Resources\n",
    "\n",
    "**Link to Google Drive with the datasets used**\n",
    "\n",
    "https://drive.google.com/drive/folders/1zpyKQnmFfWrFfb2cYPAJ2dDc6xE0OtTI?usp=sharing\n",
    "\n",
    "https://github.coecis.cornell.edu/ag969/INFO-2950-Project.git\n",
    "\n",
    "***"
   ]
  },
  {
   "cell_type": "markdown",
   "id": "d484fba7",
   "metadata": {},
   "source": [
    "# Acknowledgments\n",
    "\n",
    "We would like to thank the INFO 2950 teaching staff for their unwavering support and feedback as we narrowed the scope of our project and completed the analyses of our research questions. Additionally, we would like to acknowledge the fact that we benefitted from the public information available on Stack Overflow, as we used this source while coding our project.\n",
    "***"
   ]
  },
  {
   "cell_type": "markdown",
   "id": "eaaa3f1a",
   "metadata": {},
   "source": [
    "# Appendix\n",
    "\n",
    "\n",
    "See Appendix file in Google Drive named p5_Appendix.ipynb"
   ]
  }
 ],
 "metadata": {
  "kernelspec": {
   "display_name": "Python 3 (ipykernel)",
   "language": "python",
   "name": "python3"
  },
  "language_info": {
   "codemirror_mode": {
    "name": "ipython",
    "version": 3
   },
   "file_extension": ".py",
   "mimetype": "text/x-python",
   "name": "python",
   "nbconvert_exporter": "python",
   "pygments_lexer": "ipython3",
   "version": "3.8.13"
  }
 },
 "nbformat": 4,
 "nbformat_minor": 5
}
