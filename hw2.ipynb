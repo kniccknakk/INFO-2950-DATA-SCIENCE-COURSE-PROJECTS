{
 "cells": [
  {
   "cell_type": "markdown",
   "metadata": {},
   "source": [
    "# INFO 2950 Fall 2022 Homework 2"
   ]
  },
  {
   "cell_type": "markdown",
   "metadata": {},
   "source": [
    "## Discussion\n",
    "\n",
    "We described some connections between variables in class. Now think about pairs of variables that you might like to compare. For each pair, discuss:\n",
    "\n",
    "Number of students majoring in the Cornell English Department and Number of annual murders in Tompkins County\n",
    "\n",
    "* How much variation do you expect to see in each variable individually?\n",
    "\n",
    "I expect to see some variation in the year to year cornell english majors and also in the number of annual murders, probably within 1-10 variation in English majoring people and murdered people. \n",
    "\n",
    "* What relationship would you expect to observe between the two variables? Why?\n",
    "\n",
    "I would not expect to see any relationship between the two variables unless people who major in english are predisposed to being commiting murder, or are somehow more murderable. These two variables seem to have nothing in common so no relationship is expected. \n",
    "\n",
    "\n",
    "* For each variable, how would that variable be recorded? \n",
    "    Who is monitoring it, and how are they making that information available? \n",
    "    Do you trust that process? \n",
    "    Why or why not?\n",
    "\n",
    "It is being respectively recorded in terms of discrete value by Cornell University and the Ithaca/Tompkins County police department, and monitored by both. It's probably publicly available but I would need to look into it. Yes I trust this process because both monitoring parties have an interest in getting the information correct. \n",
    "\n",
    "\n",
    "* Would you expect both variables to be provided by the same source? If not, how would you combine them? For example, what variable might link pairs of values between the two variables?\n",
    "\n",
    "I would probably do some type of JOIN function using SQL on the year, since this is commonality between the two variables. "
   ]
  },
  {
   "cell_type": "markdown",
   "metadata": {
    "narrative": true
   },
   "source": [
    "## Coding\n",
    "\n",
    "You will turn in this notebook without any of the data files. We will not run your code, all cells must be executed and the notebook saved with output included.\n",
    "\n",
    "The goal of this homework is to consider correlations in the context of real-world data. You will practice working with data files that can be inconsistent, incomplete, and subject to sampling biases.\n",
    "\n",
    "Based on the experience you have from the `numpy` and `pandas` skill drills, you will apply those skills to manipulating columns and rows of a data file of COVID case numbers from Tompkins County, NY (ie Ithaca and surrounding areas). We will ask you to do the same thing in both `pandas` and `SQL` syntax.\n",
    "\n",
    "The data file is a snapshot of the [Tompkins County Heath Department's daily COVID case information spreadsheet](https://docs.google.com/spreadsheets/d/e/2PACX-1vQvvugFsb4GePXQnmEZbgrtqmJRiaA7tO1UGSBwvBdhbJEmf2ntzE0am-x-Lo6mLPj9ASLpAg6UZsCF/pubhtml?gid=1214476126&single=true). The local health department has updated this daily for 2.5 years.\n",
    "\n",
    "Part of this homework will involve practicing how to use online resources. *Nobody* remembers everything. There is no level of experience that will allow you to never use documentation and question-answer forums. The key is to use these in ways that help you grow your skills, not in ways that prevent you from growing. They also provide an opportunity to express gratitude for people who helped you."
   ]
  },
  {
   "cell_type": "code",
   "execution_count": 1,
   "metadata": {
    "narrative": true
   },
   "outputs": [
    {
     "name": "stderr",
     "output_type": "stream",
     "text": [
      "/Applications/anaconda3/envs/info2950/lib/python3.8/site-packages/scipy/__init__.py:146: UserWarning: A NumPy version >=1.16.5 and <1.23.0 is required for this version of SciPy (detected version 1.23.1\n",
      "  warnings.warn(f\"A NumPy version >={np_minversion} and <{np_maxversion}\"\n"
     ]
    }
   ],
   "source": [
    "import numpy as np\n",
    "import pandas as pd\n",
    "\n",
    "import seaborn\n",
    "from matplotlib import pyplot as plt\n",
    "\n",
    "import duckdb, sqlalchemy"
   ]
  },
  {
   "cell_type": "code",
   "execution_count": 2,
   "metadata": {},
   "outputs": [],
   "source": [
    "%load_ext sql\n",
    "\n",
    "%config SqlMagic.autopandas = True\n",
    "%config SqlMagic.feedback = False\n",
    "%config SqlMagic.displaycon = False\n",
    "\n",
    "%sql duckdb:///:memory:"
   ]
  },
  {
   "cell_type": "markdown",
   "metadata": {
    "problem": 1
   },
   "source": [
    "---\n",
    "\n",
    "## Problem 1 (5 pts)\n",
    "Do not move or modify this cell, we use it for automated homework analysis. \n",
    "\n",
    "You will update this problem over the course of the homework. Describe problems, error messages, and bugs you encountered, and how you fixed or addressed them. List URLs for any online resources you found useful and mention fellow students, TAs, or other people who helped you.\n",
    "\n",
    "---"
   ]
  },
  {
   "cell_type": "markdown",
   "metadata": {},
   "source": [
    "**Describe problems you encountered, how you fixed them, and who or what was helpful here**\n",
    "\n",
    "problem 2: implementing a means to deal with NaNs: I used this: \" If you're reading in from csv then you can use the thousands arg:\n",
    "\n",
    "df.read_csv('foo.tsv', sep='\\t', thousands=',')\n",
    "\n",
    "This method is likely to be more efficient than performing the operation as a separate step. \" \n",
    "\n",
    "from: https://stackoverflow.com/questions/22137723/convert-number-strings-with-commas-in-pandas-dataframe-to-float \n",
    "\n",
    "\n",
    "3: renaming columns from: https://www.statology.org/pandas-rename-columns/ \n",
    "\n",
    "4: https://pandas.pydata.org/docs/reference/api/pandas.DatetimeIndex.dayofweek.html \n",
    "\n",
    "5: UsageError: Line magic function `%sql` not found. \n",
    "    trying to do `import sys !pip \\ install ipython-sql` but not sure if working \n",
    "\n",
    "\n"
   ]
  },
  {
   "cell_type": "markdown",
   "metadata": {
    "problem": 2
   },
   "source": [
    "---\n",
    "\n",
    "## Problem 2 (15 pts)\n",
    "\n",
    "The zip file contains a file `tompkins_covid.tsv`. Load it using `pandas` to create a variable `tompkins_covid_df`. Print the shape of the data frame. **Confidence check: the data frame should have 903 rows and 13 columns.** Display the first five rows using `head`.\n",
    "\n",
    "The `dtype` for the column `\"Daily Tests (ECLRS)\"` will be `object` (ie a string) instead of a number because the values contain commas. Find a Stack Overflow post about converting number strings with commas to floats in `pandas`. List the URL. There are several methods for solving this problem. Pick one and implement it. **Confidence check: numbers in `Total Tests` will appear with decimal points.** In the markdown cell below the code cell, describe which method you chose. Consider giving an upvote to the answer!\n",
    "\n",
    "You will notice many `NaN` values in the first rows. Look at the data file. In the markdown cell, explain what `NaN` means, why these values appear, and provide a possible explanation for why these values appear in the first rows of the data file.\n",
    "\n",
    "---"
   ]
  },
  {
   "cell_type": "code",
   "execution_count": 3,
   "metadata": {},
   "outputs": [
    {
     "name": "stdout",
     "output_type": "stream",
     "text": [
      "(903, 13)\n"
     ]
    },
    {
     "data": {
      "text/html": [
       "<div>\n",
       "<style scoped>\n",
       "    .dataframe tbody tr th:only-of-type {\n",
       "        vertical-align: middle;\n",
       "    }\n",
       "\n",
       "    .dataframe tbody tr th {\n",
       "        vertical-align: top;\n",
       "    }\n",
       "\n",
       "    .dataframe thead th {\n",
       "        text-align: right;\n",
       "    }\n",
       "</style>\n",
       "<table border=\"1\" class=\"dataframe\">\n",
       "  <thead>\n",
       "    <tr style=\"text-align: right;\">\n",
       "      <th></th>\n",
       "      <th>Date</th>\n",
       "      <th>Total Tests</th>\n",
       "      <th>Daily Tests (ECLRS)</th>\n",
       "      <th>New Positive Cases (NYSDOH)</th>\n",
       "      <th>Total Positive Cases (TCHD)</th>\n",
       "      <th>Released from Isolation (TCHD)</th>\n",
       "      <th>Active Cases (TCHD)</th>\n",
       "      <th>Active COVID-19 Hospitalizations (CHS)</th>\n",
       "      <th>Total TC Resident Deaths (TCHD)</th>\n",
       "      <th>NYS Vaccine Tracker: Tompkins County 1st Dose</th>\n",
       "      <th>NYS Vaccine Tracker: Tompkins County Complete Series</th>\n",
       "      <th>Reported Positive Self-Tests</th>\n",
       "      <th>Total Positive Self-Tests</th>\n",
       "    </tr>\n",
       "  </thead>\n",
       "  <tbody>\n",
       "    <tr>\n",
       "      <th>0</th>\n",
       "      <td>3/14/20</td>\n",
       "      <td>NaN</td>\n",
       "      <td>NaN</td>\n",
       "      <td>NaN</td>\n",
       "      <td>1</td>\n",
       "      <td>NaN</td>\n",
       "      <td>NaN</td>\n",
       "      <td>NaN</td>\n",
       "      <td>NaN</td>\n",
       "      <td>NaN</td>\n",
       "      <td>NaN</td>\n",
       "      <td>NaN</td>\n",
       "      <td>NaN</td>\n",
       "    </tr>\n",
       "    <tr>\n",
       "      <th>1</th>\n",
       "      <td>3/15/20</td>\n",
       "      <td>46.0</td>\n",
       "      <td>NaN</td>\n",
       "      <td>0.0</td>\n",
       "      <td>1</td>\n",
       "      <td>NaN</td>\n",
       "      <td>NaN</td>\n",
       "      <td>NaN</td>\n",
       "      <td>NaN</td>\n",
       "      <td>NaN</td>\n",
       "      <td>NaN</td>\n",
       "      <td>NaN</td>\n",
       "      <td>NaN</td>\n",
       "    </tr>\n",
       "    <tr>\n",
       "      <th>2</th>\n",
       "      <td>3/16/20</td>\n",
       "      <td>51.0</td>\n",
       "      <td>NaN</td>\n",
       "      <td>1.0</td>\n",
       "      <td>2</td>\n",
       "      <td>NaN</td>\n",
       "      <td>NaN</td>\n",
       "      <td>NaN</td>\n",
       "      <td>NaN</td>\n",
       "      <td>NaN</td>\n",
       "      <td>NaN</td>\n",
       "      <td>NaN</td>\n",
       "      <td>NaN</td>\n",
       "    </tr>\n",
       "    <tr>\n",
       "      <th>3</th>\n",
       "      <td>3/17/20</td>\n",
       "      <td>107.0</td>\n",
       "      <td>NaN</td>\n",
       "      <td>1.0</td>\n",
       "      <td>3</td>\n",
       "      <td>NaN</td>\n",
       "      <td>NaN</td>\n",
       "      <td>NaN</td>\n",
       "      <td>NaN</td>\n",
       "      <td>NaN</td>\n",
       "      <td>NaN</td>\n",
       "      <td>NaN</td>\n",
       "      <td>NaN</td>\n",
       "    </tr>\n",
       "    <tr>\n",
       "      <th>4</th>\n",
       "      <td>3/18/20</td>\n",
       "      <td>145.0</td>\n",
       "      <td>NaN</td>\n",
       "      <td>3.0</td>\n",
       "      <td>6</td>\n",
       "      <td>NaN</td>\n",
       "      <td>NaN</td>\n",
       "      <td>NaN</td>\n",
       "      <td>NaN</td>\n",
       "      <td>NaN</td>\n",
       "      <td>NaN</td>\n",
       "      <td>NaN</td>\n",
       "      <td>NaN</td>\n",
       "    </tr>\n",
       "  </tbody>\n",
       "</table>\n",
       "</div>"
      ],
      "text/plain": [
       "      Date  Total Tests  Daily Tests (ECLRS)  New Positive Cases (NYSDOH)  \\\n",
       "0  3/14/20          NaN                  NaN                          NaN   \n",
       "1  3/15/20         46.0                  NaN                          0.0   \n",
       "2  3/16/20         51.0                  NaN                          1.0   \n",
       "3  3/17/20        107.0                  NaN                          1.0   \n",
       "4  3/18/20        145.0                  NaN                          3.0   \n",
       "\n",
       "   Total Positive Cases (TCHD)  Released from Isolation (TCHD)  \\\n",
       "0                            1                             NaN   \n",
       "1                            1                             NaN   \n",
       "2                            2                             NaN   \n",
       "3                            3                             NaN   \n",
       "4                            6                             NaN   \n",
       "\n",
       "   Active Cases (TCHD)  Active COVID-19 Hospitalizations (CHS)  \\\n",
       "0                  NaN                                     NaN   \n",
       "1                  NaN                                     NaN   \n",
       "2                  NaN                                     NaN   \n",
       "3                  NaN                                     NaN   \n",
       "4                  NaN                                     NaN   \n",
       "\n",
       "   Total TC Resident Deaths (TCHD)  \\\n",
       "0                              NaN   \n",
       "1                              NaN   \n",
       "2                              NaN   \n",
       "3                              NaN   \n",
       "4                              NaN   \n",
       "\n",
       "   NYS Vaccine Tracker: Tompkins County 1st Dose  \\\n",
       "0                                            NaN   \n",
       "1                                            NaN   \n",
       "2                                            NaN   \n",
       "3                                            NaN   \n",
       "4                                            NaN   \n",
       "\n",
       "   NYS Vaccine Tracker: Tompkins County Complete Series  \\\n",
       "0                                                NaN      \n",
       "1                                                NaN      \n",
       "2                                                NaN      \n",
       "3                                                NaN      \n",
       "4                                                NaN      \n",
       "\n",
       "   Reported Positive Self-Tests  Total Positive Self-Tests  \n",
       "0                           NaN                        NaN  \n",
       "1                           NaN                        NaN  \n",
       "2                           NaN                        NaN  \n",
       "3                           NaN                        NaN  \n",
       "4                           NaN                        NaN  "
      ]
     },
     "execution_count": 3,
     "metadata": {},
     "output_type": "execute_result"
    }
   ],
   "source": [
    "tompkins_covid_df = pd.read_csv('tompkins_covid.tsv', sep='\\t', thousands=',' )\n",
    "\n",
    "\n",
    "print(tompkins_covid_df.shape)\n",
    "tompkins_covid_df.head(n=5)\n"
   ]
  },
  {
   "cell_type": "markdown",
   "metadata": {},
   "source": [
    "**Describe which method you decided to use to handle numbers with commas; explain the `NaN` values and why they might appear especially in the first rows of the data file**\n",
    "\n",
    "NaNs might appear either for numbers that have commas or non-number values or possibly might not have been recorded and so there is nothing in that position\n",
    ". I decided to handle the problem by using the thousandths arg. "
   ]
  },
  {
   "cell_type": "markdown",
   "metadata": {
    "problem": 3
   },
   "source": [
    "---\n",
    "\n",
    "## Problem 3 (5 pts)\n",
    "\n",
    "The column names of the data frame are intended to be read by people. Change them to names that are easier to use as variables. Replace the following column headers: \n",
    "\n",
    "    \"New Positive Cases (NYSDOH)\" -> \"PositivePCR\",\n",
    "    \"Daily Tests (ECLRS)\" -> \"DailyTests\",\n",
    "    \"Reported Positive Self-Tests\" -> \"PositiveSelf\"\n",
    "    \n",
    "Display the first five rows again to show the effect of your change.\n",
    "\n",
    "---"
   ]
  },
  {
   "cell_type": "code",
   "execution_count": 4,
   "metadata": {},
   "outputs": [
    {
     "data": {
      "text/html": [
       "<div>\n",
       "<style scoped>\n",
       "    .dataframe tbody tr th:only-of-type {\n",
       "        vertical-align: middle;\n",
       "    }\n",
       "\n",
       "    .dataframe tbody tr th {\n",
       "        vertical-align: top;\n",
       "    }\n",
       "\n",
       "    .dataframe thead th {\n",
       "        text-align: right;\n",
       "    }\n",
       "</style>\n",
       "<table border=\"1\" class=\"dataframe\">\n",
       "  <thead>\n",
       "    <tr style=\"text-align: right;\">\n",
       "      <th></th>\n",
       "      <th>Date</th>\n",
       "      <th>Total Tests</th>\n",
       "      <th>DailyTests</th>\n",
       "      <th>PositivePCR</th>\n",
       "      <th>Total Positive Cases (TCHD)</th>\n",
       "      <th>Released from Isolation (TCHD)</th>\n",
       "      <th>Active Cases (TCHD)</th>\n",
       "      <th>Active COVID-19 Hospitalizations (CHS)</th>\n",
       "      <th>Total TC Resident Deaths (TCHD)</th>\n",
       "      <th>NYS Vaccine Tracker: Tompkins County 1st Dose</th>\n",
       "      <th>NYS Vaccine Tracker: Tompkins County Complete Series</th>\n",
       "      <th>PositiveSelf</th>\n",
       "      <th>Total Positive Self-Tests</th>\n",
       "    </tr>\n",
       "  </thead>\n",
       "  <tbody>\n",
       "    <tr>\n",
       "      <th>0</th>\n",
       "      <td>3/14/20</td>\n",
       "      <td>NaN</td>\n",
       "      <td>NaN</td>\n",
       "      <td>NaN</td>\n",
       "      <td>1</td>\n",
       "      <td>NaN</td>\n",
       "      <td>NaN</td>\n",
       "      <td>NaN</td>\n",
       "      <td>NaN</td>\n",
       "      <td>NaN</td>\n",
       "      <td>NaN</td>\n",
       "      <td>NaN</td>\n",
       "      <td>NaN</td>\n",
       "    </tr>\n",
       "    <tr>\n",
       "      <th>1</th>\n",
       "      <td>3/15/20</td>\n",
       "      <td>46.0</td>\n",
       "      <td>NaN</td>\n",
       "      <td>0.0</td>\n",
       "      <td>1</td>\n",
       "      <td>NaN</td>\n",
       "      <td>NaN</td>\n",
       "      <td>NaN</td>\n",
       "      <td>NaN</td>\n",
       "      <td>NaN</td>\n",
       "      <td>NaN</td>\n",
       "      <td>NaN</td>\n",
       "      <td>NaN</td>\n",
       "    </tr>\n",
       "    <tr>\n",
       "      <th>2</th>\n",
       "      <td>3/16/20</td>\n",
       "      <td>51.0</td>\n",
       "      <td>NaN</td>\n",
       "      <td>1.0</td>\n",
       "      <td>2</td>\n",
       "      <td>NaN</td>\n",
       "      <td>NaN</td>\n",
       "      <td>NaN</td>\n",
       "      <td>NaN</td>\n",
       "      <td>NaN</td>\n",
       "      <td>NaN</td>\n",
       "      <td>NaN</td>\n",
       "      <td>NaN</td>\n",
       "    </tr>\n",
       "    <tr>\n",
       "      <th>3</th>\n",
       "      <td>3/17/20</td>\n",
       "      <td>107.0</td>\n",
       "      <td>NaN</td>\n",
       "      <td>1.0</td>\n",
       "      <td>3</td>\n",
       "      <td>NaN</td>\n",
       "      <td>NaN</td>\n",
       "      <td>NaN</td>\n",
       "      <td>NaN</td>\n",
       "      <td>NaN</td>\n",
       "      <td>NaN</td>\n",
       "      <td>NaN</td>\n",
       "      <td>NaN</td>\n",
       "    </tr>\n",
       "    <tr>\n",
       "      <th>4</th>\n",
       "      <td>3/18/20</td>\n",
       "      <td>145.0</td>\n",
       "      <td>NaN</td>\n",
       "      <td>3.0</td>\n",
       "      <td>6</td>\n",
       "      <td>NaN</td>\n",
       "      <td>NaN</td>\n",
       "      <td>NaN</td>\n",
       "      <td>NaN</td>\n",
       "      <td>NaN</td>\n",
       "      <td>NaN</td>\n",
       "      <td>NaN</td>\n",
       "      <td>NaN</td>\n",
       "    </tr>\n",
       "  </tbody>\n",
       "</table>\n",
       "</div>"
      ],
      "text/plain": [
       "      Date  Total Tests  DailyTests  PositivePCR  Total Positive Cases (TCHD)  \\\n",
       "0  3/14/20          NaN         NaN          NaN                            1   \n",
       "1  3/15/20         46.0         NaN          0.0                            1   \n",
       "2  3/16/20         51.0         NaN          1.0                            2   \n",
       "3  3/17/20        107.0         NaN          1.0                            3   \n",
       "4  3/18/20        145.0         NaN          3.0                            6   \n",
       "\n",
       "   Released from Isolation (TCHD)  Active Cases (TCHD)  \\\n",
       "0                             NaN                  NaN   \n",
       "1                             NaN                  NaN   \n",
       "2                             NaN                  NaN   \n",
       "3                             NaN                  NaN   \n",
       "4                             NaN                  NaN   \n",
       "\n",
       "   Active COVID-19 Hospitalizations (CHS)  Total TC Resident Deaths (TCHD)  \\\n",
       "0                                     NaN                              NaN   \n",
       "1                                     NaN                              NaN   \n",
       "2                                     NaN                              NaN   \n",
       "3                                     NaN                              NaN   \n",
       "4                                     NaN                              NaN   \n",
       "\n",
       "   NYS Vaccine Tracker: Tompkins County 1st Dose  \\\n",
       "0                                            NaN   \n",
       "1                                            NaN   \n",
       "2                                            NaN   \n",
       "3                                            NaN   \n",
       "4                                            NaN   \n",
       "\n",
       "   NYS Vaccine Tracker: Tompkins County Complete Series  PositiveSelf  \\\n",
       "0                                                NaN              NaN   \n",
       "1                                                NaN              NaN   \n",
       "2                                                NaN              NaN   \n",
       "3                                                NaN              NaN   \n",
       "4                                                NaN              NaN   \n",
       "\n",
       "   Total Positive Self-Tests  \n",
       "0                        NaN  \n",
       "1                        NaN  \n",
       "2                        NaN  \n",
       "3                        NaN  \n",
       "4                        NaN  "
      ]
     },
     "execution_count": 4,
     "metadata": {},
     "output_type": "execute_result"
    }
   ],
   "source": [
    "tompkins_covid_df.rename(columns = {\"New Positive Cases (NYSDOH)\" :\"PositivePCR\", \"Daily Tests (ECLRS)\" :\"DailyTests\", \"Reported Positive Self-Tests\": \"PositiveSelf\"}, inplace = True)\n",
    "tompkins_covid_df.head(n=5)\n",
    "\n",
    "                                    \n",
    "                                    \n",
    "                                \n",
    "                                    \n",
    "                                    \n",
    "                                    \n",
    "                                    "
   ]
  },
  {
   "cell_type": "markdown",
   "metadata": {
    "problem": 4
   },
   "source": [
    "---\n",
    "\n",
    "## Problem 4 (15 pts)\n",
    "\n",
    "The `Date` field is being read as a string. Convert this field to a date using the `pandas` function `to_datetime`.\n",
    "\n",
    "Add new columns `Year`, `Month`, and `DayOfWeek`. Set these to the value of the `year`, `month`, and `dayofweek` properties for the `Date` field. Record the URL of the documentation for the `dayofweek` property.\n",
    "\n",
    "Display the first five rows to show the effect of the change. **Confidence check: the date should appear with the year first**\n",
    "\n",
    "In the markdown cell below, describe at least one advantage to a parsed date object over a string representation. Then describe the data type and interpretation of values for the `dayofweek` property.\n",
    "\n",
    "---"
   ]
  },
  {
   "cell_type": "code",
   "execution_count": 5,
   "metadata": {},
   "outputs": [
    {
     "name": "stdout",
     "output_type": "stream",
     "text": [
      "        Date  Total Tests  DailyTests  PositivePCR  \\\n",
      "0 2020-03-14          NaN         NaN          NaN   \n",
      "1 2020-03-15         46.0         NaN          0.0   \n",
      "\n",
      "   Total Positive Cases (TCHD)  Released from Isolation (TCHD)  \\\n",
      "0                            1                             NaN   \n",
      "1                            1                             NaN   \n",
      "\n",
      "   Active Cases (TCHD)  Active COVID-19 Hospitalizations (CHS)  \\\n",
      "0                  NaN                                     NaN   \n",
      "1                  NaN                                     NaN   \n",
      "\n",
      "   Total TC Resident Deaths (TCHD)  \\\n",
      "0                              NaN   \n",
      "1                              NaN   \n",
      "\n",
      "   NYS Vaccine Tracker: Tompkins County 1st Dose  \\\n",
      "0                                            NaN   \n",
      "1                                            NaN   \n",
      "\n",
      "   NYS Vaccine Tracker: Tompkins County Complete Series  PositiveSelf  \\\n",
      "0                                                NaN              NaN   \n",
      "1                                                NaN              NaN   \n",
      "\n",
      "   Total Positive Self-Tests  Year  Month  DayOfWeek  \n",
      "0                        NaN  2020      3          5  \n",
      "1                        NaN  2020      3          6  \n",
      "<class 'pandas.core.series.Series'>\n"
     ]
    }
   ],
   "source": [
    "tompkins_covid_df['Date'] = pd.to_datetime(tompkins_covid_df.loc[:,\"Date\"])\n",
    "\n",
    "# print(type(pd.to_datetime(tompkins_covid_df.loc[:,\"Date\"])))\n",
    "\n",
    "tompkins_covid_df['Year'] = tompkins_covid_df[\"Date\"].dt.year\n",
    "tompkins_covid_df['Month'] = tompkins_covid_df[\"Date\"].dt.month\n",
    "tompkins_covid_df['DayOfWeek'] = tompkins_covid_df[\"Date\"].dt.dayofweek\n",
    "\n",
    "tompkins_covid_df.head(n=5) \n",
    "print(tompkins_covid_df.head(n=2))\n",
    "print(type(tompkins_covid_df['Year'])) \n",
    "\n"
   ]
  },
  {
   "cell_type": "markdown",
   "metadata": {},
   "source": [
    "### **Describe one or more advantages of using a date object rather than a string to represent dates; describe the format of the `dayofweek` property of a date object** \n",
    "\n",
    "\"In the markdown cell below, describe at least one advantage to a parsed date object over a string representation.\n",
    "\n",
    "One advantage of using a date object is that it allows you more ease in sorting by different similarities such as month and year. the format of `dayofweek` is the day of the week, thus monday is represented as 0 and sunday is represented as 6. According to when I print the type of the data, it reads \"<class 'pandas.core.series.Series'>\" so it is a series. \n",
    "\n",
    "\n",
    "\n"
   ]
  },
  {
   "cell_type": "markdown",
   "metadata": {
    "problem": 5
   },
   "source": [
    "---\n",
    "\n",
    "## Problem 5 (20 pts)\n",
    "\n",
    "Use a SQL `SELECT` statement to display the year, month, and total number of positive PCR tests per month from March 2020 to September 2022.\n",
    "\n",
    "Then use pandas `groupby()` and `sum()` to display the same information (year, month, total PCR positives).\n",
    "\n",
    "In the markdown cell, describe which you prefer and why.\n",
    "\n",
    "---"
   ]
  },
  {
   "cell_type": "code",
   "execution_count": 6,
   "metadata": {},
   "outputs": [
    {
     "name": "stdout",
     "output_type": "stream",
     "text": [
      "Requirement already satisfied: ipython-sql in /Applications/anaconda3/envs/info2950/lib/python3.8/site-packages (0.4.1)\n",
      "Requirement already satisfied: prettytable<1 in /Applications/anaconda3/envs/info2950/lib/python3.8/site-packages (from ipython-sql) (0.7.2)\n",
      "Requirement already satisfied: ipython>=1.0 in /Applications/anaconda3/envs/info2950/lib/python3.8/site-packages (from ipython-sql) (8.4.0)\n",
      "Requirement already satisfied: sqlalchemy>=0.6.7 in /Applications/anaconda3/envs/info2950/lib/python3.8/site-packages (from ipython-sql) (1.4.40)\n",
      "Requirement already satisfied: sqlparse in /Applications/anaconda3/envs/info2950/lib/python3.8/site-packages (from ipython-sql) (0.4.2)\n",
      "Requirement already satisfied: ipython-genutils>=0.1.0 in /Applications/anaconda3/envs/info2950/lib/python3.8/site-packages (from ipython-sql) (0.2.0)\n",
      "Requirement already satisfied: six in /Applications/anaconda3/envs/info2950/lib/python3.8/site-packages (from ipython-sql) (1.16.0)\n",
      "Requirement already satisfied: pygments>=2.4.0 in /Applications/anaconda3/envs/info2950/lib/python3.8/site-packages (from ipython>=1.0->ipython-sql) (2.11.2)\n",
      "Requirement already satisfied: setuptools>=18.5 in /Applications/anaconda3/envs/info2950/lib/python3.8/site-packages (from ipython>=1.0->ipython-sql) (63.4.1)\n",
      "Requirement already satisfied: pexpect>4.3 in /Applications/anaconda3/envs/info2950/lib/python3.8/site-packages (from ipython>=1.0->ipython-sql) (4.8.0)\n",
      "Requirement already satisfied: prompt-toolkit!=3.0.0,!=3.0.1,<3.1.0,>=2.0.0 in /Applications/anaconda3/envs/info2950/lib/python3.8/site-packages (from ipython>=1.0->ipython-sql) (3.0.20)\n",
      "Requirement already satisfied: decorator in /Applications/anaconda3/envs/info2950/lib/python3.8/site-packages (from ipython>=1.0->ipython-sql) (5.1.1)\n",
      "Requirement already satisfied: jedi>=0.16 in /Applications/anaconda3/envs/info2950/lib/python3.8/site-packages (from ipython>=1.0->ipython-sql) (0.18.1)\n",
      "Requirement already satisfied: backcall in /Applications/anaconda3/envs/info2950/lib/python3.8/site-packages (from ipython>=1.0->ipython-sql) (0.2.0)\n",
      "Requirement already satisfied: matplotlib-inline in /Applications/anaconda3/envs/info2950/lib/python3.8/site-packages (from ipython>=1.0->ipython-sql) (0.1.2)\n",
      "Requirement already satisfied: stack-data in /Applications/anaconda3/envs/info2950/lib/python3.8/site-packages (from ipython>=1.0->ipython-sql) (0.2.0)\n",
      "Requirement already satisfied: pickleshare in /Applications/anaconda3/envs/info2950/lib/python3.8/site-packages (from ipython>=1.0->ipython-sql) (0.7.5)\n",
      "Requirement already satisfied: traitlets>=5 in /Applications/anaconda3/envs/info2950/lib/python3.8/site-packages (from ipython>=1.0->ipython-sql) (5.1.1)\n",
      "Requirement already satisfied: appnope in /Applications/anaconda3/envs/info2950/lib/python3.8/site-packages (from ipython>=1.0->ipython-sql) (0.1.2)\n",
      "Requirement already satisfied: greenlet!=0.4.17 in /Applications/anaconda3/envs/info2950/lib/python3.8/site-packages (from sqlalchemy>=0.6.7->ipython-sql) (1.1.3)\n",
      "Requirement already satisfied: parso<0.9.0,>=0.8.0 in /Applications/anaconda3/envs/info2950/lib/python3.8/site-packages (from jedi>=0.16->ipython>=1.0->ipython-sql) (0.8.3)\n",
      "Requirement already satisfied: ptyprocess>=0.5 in /Applications/anaconda3/envs/info2950/lib/python3.8/site-packages (from pexpect>4.3->ipython>=1.0->ipython-sql) (0.7.0)\n",
      "Requirement already satisfied: wcwidth in /Applications/anaconda3/envs/info2950/lib/python3.8/site-packages (from prompt-toolkit!=3.0.0,!=3.0.1,<3.1.0,>=2.0.0->ipython>=1.0->ipython-sql) (0.2.5)\n",
      "Requirement already satisfied: pure-eval in /Applications/anaconda3/envs/info2950/lib/python3.8/site-packages (from stack-data->ipython>=1.0->ipython-sql) (0.2.2)\n",
      "Requirement already satisfied: asttokens in /Applications/anaconda3/envs/info2950/lib/python3.8/site-packages (from stack-data->ipython>=1.0->ipython-sql) (2.0.5)\n",
      "Requirement already satisfied: executing in /Applications/anaconda3/envs/info2950/lib/python3.8/site-packages (from stack-data->ipython>=1.0->ipython-sql) (0.8.3)\n"
     ]
    }
   ],
   "source": [
    "\n",
    "import sys \n",
    "!pip install ipython-sql"
   ]
  },
  {
   "cell_type": "code",
   "execution_count": 118,
   "metadata": {},
   "outputs": [
    {
     "data": {
      "text/html": [
       "<div>\n",
       "<style scoped>\n",
       "    .dataframe tbody tr th:only-of-type {\n",
       "        vertical-align: middle;\n",
       "    }\n",
       "\n",
       "    .dataframe tbody tr th {\n",
       "        vertical-align: top;\n",
       "    }\n",
       "\n",
       "    .dataframe thead th {\n",
       "        text-align: right;\n",
       "    }\n",
       "</style>\n",
       "<table border=\"1\" class=\"dataframe\">\n",
       "  <thead>\n",
       "    <tr style=\"text-align: right;\">\n",
       "      <th></th>\n",
       "      <th>Year</th>\n",
       "      <th>Month</th>\n",
       "      <th>numpcr</th>\n",
       "    </tr>\n",
       "  </thead>\n",
       "  <tbody>\n",
       "    <tr>\n",
       "      <th>0</th>\n",
       "      <td>2020</td>\n",
       "      <td>3</td>\n",
       "      <td>73.0</td>\n",
       "    </tr>\n",
       "    <tr>\n",
       "      <th>1</th>\n",
       "      <td>2020</td>\n",
       "      <td>4</td>\n",
       "      <td>56.0</td>\n",
       "    </tr>\n",
       "    <tr>\n",
       "      <th>2</th>\n",
       "      <td>2020</td>\n",
       "      <td>5</td>\n",
       "      <td>28.0</td>\n",
       "    </tr>\n",
       "    <tr>\n",
       "      <th>3</th>\n",
       "      <td>2020</td>\n",
       "      <td>6</td>\n",
       "      <td>8.0</td>\n",
       "    </tr>\n",
       "    <tr>\n",
       "      <th>4</th>\n",
       "      <td>2020</td>\n",
       "      <td>7</td>\n",
       "      <td>54.0</td>\n",
       "    </tr>\n",
       "    <tr>\n",
       "      <th>5</th>\n",
       "      <td>2020</td>\n",
       "      <td>8</td>\n",
       "      <td>42.0</td>\n",
       "    </tr>\n",
       "    <tr>\n",
       "      <th>6</th>\n",
       "      <td>2020</td>\n",
       "      <td>9</td>\n",
       "      <td>154.0</td>\n",
       "    </tr>\n",
       "    <tr>\n",
       "      <th>7</th>\n",
       "      <td>2020</td>\n",
       "      <td>10</td>\n",
       "      <td>219.0</td>\n",
       "    </tr>\n",
       "    <tr>\n",
       "      <th>8</th>\n",
       "      <td>2020</td>\n",
       "      <td>11</td>\n",
       "      <td>492.0</td>\n",
       "    </tr>\n",
       "    <tr>\n",
       "      <th>9</th>\n",
       "      <td>2020</td>\n",
       "      <td>12</td>\n",
       "      <td>940.0</td>\n",
       "    </tr>\n",
       "    <tr>\n",
       "      <th>10</th>\n",
       "      <td>2021</td>\n",
       "      <td>1</td>\n",
       "      <td>906.0</td>\n",
       "    </tr>\n",
       "    <tr>\n",
       "      <th>11</th>\n",
       "      <td>2021</td>\n",
       "      <td>2</td>\n",
       "      <td>457.0</td>\n",
       "    </tr>\n",
       "    <tr>\n",
       "      <th>12</th>\n",
       "      <td>2021</td>\n",
       "      <td>3</td>\n",
       "      <td>482.0</td>\n",
       "    </tr>\n",
       "    <tr>\n",
       "      <th>13</th>\n",
       "      <td>2021</td>\n",
       "      <td>4</td>\n",
       "      <td>256.0</td>\n",
       "    </tr>\n",
       "    <tr>\n",
       "      <th>14</th>\n",
       "      <td>2021</td>\n",
       "      <td>5</td>\n",
       "      <td>187.0</td>\n",
       "    </tr>\n",
       "    <tr>\n",
       "      <th>15</th>\n",
       "      <td>2021</td>\n",
       "      <td>6</td>\n",
       "      <td>45.0</td>\n",
       "    </tr>\n",
       "    <tr>\n",
       "      <th>16</th>\n",
       "      <td>2021</td>\n",
       "      <td>7</td>\n",
       "      <td>98.0</td>\n",
       "    </tr>\n",
       "    <tr>\n",
       "      <th>17</th>\n",
       "      <td>2021</td>\n",
       "      <td>8</td>\n",
       "      <td>732.0</td>\n",
       "    </tr>\n",
       "    <tr>\n",
       "      <th>18</th>\n",
       "      <td>2021</td>\n",
       "      <td>9</td>\n",
       "      <td>1151.0</td>\n",
       "    </tr>\n",
       "    <tr>\n",
       "      <th>19</th>\n",
       "      <td>2021</td>\n",
       "      <td>10</td>\n",
       "      <td>561.0</td>\n",
       "    </tr>\n",
       "    <tr>\n",
       "      <th>20</th>\n",
       "      <td>2021</td>\n",
       "      <td>11</td>\n",
       "      <td>802.0</td>\n",
       "    </tr>\n",
       "    <tr>\n",
       "      <th>21</th>\n",
       "      <td>2021</td>\n",
       "      <td>12</td>\n",
       "      <td>4474.0</td>\n",
       "    </tr>\n",
       "    <tr>\n",
       "      <th>22</th>\n",
       "      <td>2022</td>\n",
       "      <td>1</td>\n",
       "      <td>4520.0</td>\n",
       "    </tr>\n",
       "    <tr>\n",
       "      <th>23</th>\n",
       "      <td>2022</td>\n",
       "      <td>2</td>\n",
       "      <td>1011.0</td>\n",
       "    </tr>\n",
       "    <tr>\n",
       "      <th>24</th>\n",
       "      <td>2022</td>\n",
       "      <td>3</td>\n",
       "      <td>1057.0</td>\n",
       "    </tr>\n",
       "    <tr>\n",
       "      <th>25</th>\n",
       "      <td>2022</td>\n",
       "      <td>4</td>\n",
       "      <td>1490.0</td>\n",
       "    </tr>\n",
       "    <tr>\n",
       "      <th>26</th>\n",
       "      <td>2022</td>\n",
       "      <td>5</td>\n",
       "      <td>1601.0</td>\n",
       "    </tr>\n",
       "    <tr>\n",
       "      <th>27</th>\n",
       "      <td>2022</td>\n",
       "      <td>6</td>\n",
       "      <td>537.0</td>\n",
       "    </tr>\n",
       "    <tr>\n",
       "      <th>28</th>\n",
       "      <td>2022</td>\n",
       "      <td>7</td>\n",
       "      <td>650.0</td>\n",
       "    </tr>\n",
       "    <tr>\n",
       "      <th>29</th>\n",
       "      <td>2022</td>\n",
       "      <td>8</td>\n",
       "      <td>610.0</td>\n",
       "    </tr>\n",
       "    <tr>\n",
       "      <th>30</th>\n",
       "      <td>2022</td>\n",
       "      <td>9</td>\n",
       "      <td>164.0</td>\n",
       "    </tr>\n",
       "  </tbody>\n",
       "</table>\n",
       "</div>"
      ],
      "text/plain": [
       "    Year  Month  numpcr\n",
       "0   2020      3    73.0\n",
       "1   2020      4    56.0\n",
       "2   2020      5    28.0\n",
       "3   2020      6     8.0\n",
       "4   2020      7    54.0\n",
       "5   2020      8    42.0\n",
       "6   2020      9   154.0\n",
       "7   2020     10   219.0\n",
       "8   2020     11   492.0\n",
       "9   2020     12   940.0\n",
       "10  2021      1   906.0\n",
       "11  2021      2   457.0\n",
       "12  2021      3   482.0\n",
       "13  2021      4   256.0\n",
       "14  2021      5   187.0\n",
       "15  2021      6    45.0\n",
       "16  2021      7    98.0\n",
       "17  2021      8   732.0\n",
       "18  2021      9  1151.0\n",
       "19  2021     10   561.0\n",
       "20  2021     11   802.0\n",
       "21  2021     12  4474.0\n",
       "22  2022      1  4520.0\n",
       "23  2022      2  1011.0\n",
       "24  2022      3  1057.0\n",
       "25  2022      4  1490.0\n",
       "26  2022      5  1601.0\n",
       "27  2022      6   537.0\n",
       "28  2022      7   650.0\n",
       "29  2022      8   610.0\n",
       "30  2022      9   164.0"
      ]
     },
     "execution_count": 118,
     "metadata": {},
     "output_type": "execute_result"
    }
   ],
   "source": [
    "\n",
    "\n",
    "%sql SELECT Year, Month, sum(PositivePCR) AS numpcr FROM tompkins_covid_df GROUP BY Year, Month\n",
    "\n",
    "\n",
    "# 2020-3 to 2022-9 \n",
    "\n",
    "\n"
   ]
  },
  {
   "cell_type": "code",
   "execution_count": 75,
   "metadata": {},
   "outputs": [
    {
     "name": "stdout",
     "output_type": "stream",
     "text": [
      "Year  Month\n",
      "2020  3          73.0\n",
      "      4          56.0\n",
      "      5          28.0\n",
      "      6           8.0\n",
      "      7          54.0\n",
      "      8          42.0\n",
      "      9         154.0\n",
      "      10        219.0\n",
      "      11        492.0\n",
      "      12        940.0\n",
      "2021  1         906.0\n",
      "      2         457.0\n",
      "      3         482.0\n",
      "      4         256.0\n",
      "      5         187.0\n",
      "      6          45.0\n",
      "      7          98.0\n",
      "      8         732.0\n",
      "      9        1151.0\n",
      "      10        561.0\n",
      "      11        802.0\n",
      "      12       4474.0\n",
      "2022  1        4520.0\n",
      "      2        1011.0\n",
      "      3        1057.0\n",
      "      4        1490.0\n",
      "      5        1601.0\n",
      "      6         537.0\n",
      "      7         650.0\n",
      "      8         610.0\n",
      "      9         164.0\n",
      "Name: PositivePCR, dtype: float64\n"
     ]
    }
   ],
   "source": [
    "df1 = tompkins_covid_df.groupby([\"Year\",\"Month\"])[\"PositivePCR\"].sum()\n",
    "\n",
    "#print(tompkins_covid_df.groupby([\"Year\",\"Month\"])[\"PositivePCR\"].sum())\n",
    "\n",
    "print (df1) "
   ]
  },
  {
   "cell_type": "code",
   "execution_count": null,
   "metadata": {},
   "outputs": [],
   "source": []
  },
  {
   "cell_type": "markdown",
   "metadata": {},
   "source": [
    "**Describe which method you prefer and why**\n",
    "\n",
    "I preferred the SQL because it uses less syntax and makes more intuitive sense to me "
   ]
  },
  {
   "cell_type": "markdown",
   "metadata": {
    "problem": 6
   },
   "source": [
    "---\n",
    "\n",
    "## Problem 6 (20 pts)\n",
    "\n",
    "Use the `seaborn` function `lineplot` to display a plot of the number of PCR tests recorded per day in Tompkins county (`DailyTests`) over time (`Date`). Use the `pyplot` function `xticks` to rotate the tick labels for the dates in the x-axis by 60 degrees. In the markdown cell below, describe the plot and any observations you have.\n",
    "\n",
    "Use SQL to create a new dataframe that contains only the data from 2022. Create the same subset in `pandas` and verify that it has the same number of elements. Plot the daily number of tests for this subset.\n",
    "\n",
    "Finally, use SQL or pandas to create a new dataframe that contains only the data from April, 2022. **Confidence check: check that the data frame has 30 days** Plot the daily number of tests for this subset.\n",
    "\n",
    "In the markdown cell, describe any patterns you observe. Comment on alternative visualizations that might make the pattern(s) you observe more visible.\n",
    "\n",
    "---"
   ]
  },
  {
   "cell_type": "code",
   "execution_count": 123,
   "metadata": {},
   "outputs": [
    {
     "data": {
      "image/png": "[encoded data removed]",
      "text/plain": [
       "<Figure size 432x288 with 1 Axes>"
      ]
     },
     "metadata": {
      "needs_background": "light"
     },
     "output_type": "display_data"
    }
   ],
   "source": [
    "seaborn.lineplot(data=tompkins_covid_df, x='Date', y='DailyTests')\n",
    "plt.xticks(rotation=60)\n",
    "plt.show()"
   ]
  },
  {
   "cell_type": "code",
   "execution_count": 124,
   "metadata": {},
   "outputs": [
    {
     "name": "stdout",
     "output_type": "stream",
     "text": [
      "Returning data to local variable df2\n"
     ]
    },
    {
     "data": {
      "image/png": "[encoded data removed]",
      "text/plain": [
       "<Figure size 432x288 with 1 Axes>"
      ]
     },
     "metadata": {
      "needs_background": "light"
     },
     "output_type": "display_data"
    }
   ],
   "source": [
    "#Use SQL to create a new dataframe that contains only the data from 2022. Create the same subset in `pandas` \n",
    "#and verify that it has the same number of elements. Plot the daily number of tests for this subset.\n",
    "\n",
    "\n",
    "%sql df2 << SELECT * FROM tompkins_covid_df WHERE Date > '2021-12-31'\n",
    "\n",
    "%sql SELECT COUNT(Date) FROM df2 \n",
    "\n",
    "df3 = tompkins_covid_df[tompkins_covid_df[\"Date\"] > '2021-12-31']\n",
    "\n",
    "\n",
    "seaborn.lineplot(data=df2, x='Date', y='DailyTests')\n",
    "plt.xticks(rotation=60)\n",
    "plt.show()"
   ]
  },
  {
   "cell_type": "code",
   "execution_count": 99,
   "metadata": {},
   "outputs": [
    {
     "name": "stdout",
     "output_type": "stream",
     "text": [
      "Returning data to local variable df4\n"
     ]
    },
    {
     "data": {
      "image/png": "[encoded data removed]",
      "text/plain": [
       "<Figure size 432x288 with 1 Axes>"
      ]
     },
     "metadata": {
      "needs_background": "light"
     },
     "output_type": "display_data"
    }
   ],
   "source": [
    "%sql df4 << SELECT * FROM tompkins_covid_df WHERE Date < '2022-05-01' AND Date > '2022-3-31'\n",
    "seaborn.lineplot(data=df4, x='Date', y='DailyTests')\n",
    "plt.xticks(rotation=60)\n",
    "plt.show()\n"
   ]
  },
  {
   "cell_type": "markdown",
   "metadata": {},
   "source": [
    "In the markdown cell, describe any patterns you observe. Comment on alternative visualizations that might make the pattern(s) you observe more visible.\n",
    "\n",
    "\n",
    "I observed a cyclic nature of daily tests-- they rise and fall in a more or less consistent manner over time. A way to increase visibility would be maybe to show all dates on the X axis. "
   ]
  },
  {
   "cell_type": "markdown",
   "metadata": {},
   "source": [
    "**Describe what you notice about the number of tests recorded per day. Describe other visualizations that might make any patterns you notice easier to spot.**"
   ]
  },
  {
   "cell_type": "markdown",
   "metadata": {
    "problem": 7
   },
   "source": [
    "---\n",
    "\n",
    "## Problem 7 (20 pts)\n",
    "\n",
    "Tompkins County started recording self-reported at-home tests in late 2021. Create a dataframe using SQL that contains only the rows where `PositiveSelf` is present. **Hint: handling missing values is sometimes inconsistent across systems, so we'll give you this one. Use `isnan(PositiveSelf) is not null`**\n",
    "\n",
    "Do the same selection using `pandas`. Confirm that the number of rows is the same.\n",
    "\n",
    "Use the `.cov()` and `.corr()` functions of a data frame to display the covariance and correlation of `DailyTests`, `PositivePCR`,  `PositiveSelf`, and `DayOfWeek`.\n",
    "\n",
    "In separate plots, create a line plot showing the values for PCR positives and at-home positives.\n",
    "\n",
    "We want you to be able to calculate values like correlation, but also think critically about data. In a markdown cell, describe why you think PCR and at-home tests would and would not be correlated.\n",
    "\n",
    "---"
   ]
  },
  {
   "cell_type": "code",
   "execution_count": 117,
   "metadata": {},
   "outputs": [
    {
     "name": "stdout",
     "output_type": "stream",
     "text": [
      "Returning data to local variable df5\n",
      "                 DailyTests   PositivePCR  PositiveSelf   DayOfWeek\n",
      "DailyTests    917494.945374  29813.907459   5382.020782  229.217899\n",
      "PositivePCR    29813.907459   3332.116671    562.668054   20.684825\n",
      "PositiveSelf    5382.020782    562.668054    215.750189   -3.789883\n",
      "DayOfWeek        229.217899     20.684825     -3.789883    4.031128\n",
      "              DailyTests  PositivePCR  PositiveSelf  DayOfWeek\n",
      "DailyTests      1.000000     0.539209      0.382532   0.119188\n",
      "PositivePCR     0.539209     1.000000      0.663616   0.178475\n",
      "PositiveSelf    0.382532     0.663616      1.000000  -0.128510\n",
      "DayOfWeek       0.119188     0.178475     -0.128510   1.000000\n"
     ]
    },
    {
     "data": {
      "image/png": "[encoded data removed]",
      "text/plain": [
       "<Figure size 432x288 with 1 Axes>"
      ]
     },
     "metadata": {
      "needs_background": "light"
     },
     "output_type": "display_data"
    },
    {
     "data": {
      "image/png": "[encoded data removed]",
      "text/plain": [
       "<Figure size 432x288 with 1 Axes>"
      ]
     },
     "metadata": {
      "needs_background": "light"
     },
     "output_type": "display_data"
    }
   ],
   "source": [
    "%sql df5 << SELECT * FROM tompkins_covid_df WHERE isnan(PositiveSelf) is not null\n",
    "\n",
    "df6 = tompkins_covid_df[tompkins_covid_df[\"PositiveSelf\"].isna() == False ]\n",
    "\n",
    "print((df6[[\"DailyTests\", \"PositivePCR\", \"PositiveSelf\", \"DayOfWeek\"]]).cov())\n",
    "\n",
    "print((df6[[\"DailyTests\", \"PositivePCR\", \"PositiveSelf\", \"DayOfWeek\"]]).corr()) \n",
    "\n",
    "seaborn.lineplot(data=df6, x='Date', y='PositivePCR')\n",
    "plt.xticks(rotation=60)\n",
    "plt.show()\n",
    "\n",
    "seaborn.lineplot(data=df6, x='Date', y='PositiveSelf')\n",
    "plt.xticks(rotation=60)\n",
    "plt.show()"
   ]
  },
  {
   "cell_type": "markdown",
   "metadata": {},
   "source": [
    "**Describe your observations about correlation between recorded PCR and at-home positive tests**\n",
    "\n",
    " In a markdown cell, describe why you think PCR and at-home tests would and would not be correlated.\n",
    " \n",
    " \n",
    "PCR and at-home tests might be correlated because people who take PCR tests may be predisposed to taking an at home test as well, and also vice-versa because they might question the reliability of exclusively using one or the other. \n",
    "\n",
    "Conversely, they might not be correlated because people who take PCR tests would be predisposed to not take an at home test because they already took a PCR test (and don't need tot take a second test, and the inverse regarding self-testers may also be true) and also there might a confounding variable such as Covid infection rate overall that leads to similar spikes in the positive testing for PCR and Self-tests"
   ]
  }
 ],
 "metadata": {
  "kernelspec": {
   "display_name": "Python 3 (ipykernel)",
   "language": "python",
   "name": "python3"
  },
  "language_info": {
   "codemirror_mode": {
    "name": "ipython",
    "version": 3
   },
   "file_extension": ".py",
   "mimetype": "text/x-python",
   "name": "python",
   "nbconvert_exporter": "python",
   "pygments_lexer": "ipython3",
   "version": "3.8.13"
  }
 },
 "nbformat": 4,
 "nbformat_minor": 4
}
