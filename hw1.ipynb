{
 "cells": [
  {
   "cell_type": "markdown",
   "metadata": {},
   "source": [
    "# Homework 1\n",
    "\n",
    "You will turn in this notebook without any of the data files. We will *not* run your code, all cells must be executed and the notebook saved with output included.\n",
    "\n",
    "All of the **Problem** cells serve as markers. We will use them to divide all of the submitted notebooks into new notebooks that contain ONLY answers to one problem at a time. **Do not move or edit the Problem cells**. Always put your answers in the provided code or markdown cells.\n",
    "\n",
    "Debugging tip: Python error messages are terrible! It can be scary and confusing to see hundreds of lines of errors pop up. **Most of the error is just *smoke*. Ignore it and scroll to the bottom to find the *fire*.**\n",
    "\n",
    "If you get stuck for more than 30 minutes on one problem when working alone, ask a TA or post on Ed Discussion. If you are working with others, ask if you get stuck for more than 15 minutes. \n",
    "\n",
    "## Part 1: Discussion question\n",
    "\n",
    "As a data scientist, you'll be asked to build various tools and systems all the time. While you might be *capable* of performing these tasks, it's always worth asking yourself: should you?\n",
    "\n",
    "Below is a list of scenarios. In each case, answer the discussion question: **If you were to build this system, how might its use affect people (be it positively or negatively)?**\n",
    "\n",
    "### Scenarios\n",
    "1. You work for an e-commerce site that wants to direct customers to items they would be interested in, to avoid serving customers irrelevant ads. You've been asked to build a advertisement system that recommends products to customers based on a variety of attributes, including their self-reported gender.\n",
    "\n",
    "This might be complicated or marginalise groups who are genderfluid or don't conform to gender norms or a gender binary. So I don't think it's a good idea. \n",
    "\n",
    "\n",
    "1. You work for a news site that lives or dies from ad revenue. Advertisers don't want their ads next to \"controversial\" news items. You've been asked to build a classifier for \"touchy subjects\".\n",
    "\n",
    "Might result in a lot of bias because touchy subjects is super subjective, so no I would not implement it. \n",
    "\n",
    "1. You work for a public health agency that wants to identify people exposed to a disease for testing. You've been asked to build a system that will trace phone locations and estimate proximity between individuals to infer exposure. \n",
    "I consider this a big invasion of personal privacy although it sounds effective in terms of the goal. I dont think it's ethical to implement. \n",
    "\n",
    "1. You work for a university that wants to identify students having difficulties with stress and mental health. You've been asked to build a system that will keep track of where students are on campus, including dorms, dining halls, and classrooms.\n",
    "\n",
    "Big invasion of personal privacy again so no I would not implement it. \n",
    "\n",
    "*(Note: all of these scenarios are based on true stories!)*"
   ]
  },
  {
   "cell_type": "markdown",
   "metadata": {
    "narrative": true
   },
   "source": [
    "## Part 2: Programming\n",
    "\n",
    "Read through the entire assignment during the Friday session. Make sure that you have a good idea of how to solve them before you leave.\n",
    "\n",
    "\n",
    "\n",
    "The goals of these problems are:\n",
    "\n",
    "* Develop intuitions for mean and variance\n",
    "* Practice applying numpy functions for 2D arrays\n",
    "* Explore the relationship between sample and population mean and variance\n",
    "* Merge tables for real data\n",
    "* Generate histograms and compare them to summary statistics\n"
   ]
  },
  {
   "cell_type": "code",
   "execution_count": 47,
   "metadata": {
    "narrative": true
   },
   "outputs": [],
   "source": [
    "## this code cell is also marked as 'narrative'\n",
    "import numpy as np\n",
    "import pandas as pd\n",
    "from matplotlib import pyplot\n",
    "import seaborn as sns\n",
    "\n",
    "import duckdb, sqlalchemy"
   ]
  },
  {
   "cell_type": "code",
   "execution_count": 2,
   "metadata": {
    "narrative": true
   },
   "outputs": [],
   "source": [
    "%load_ext sql\n",
    "\n",
    "%config SqlMagic.autopandas = True\n",
    "%config SqlMagic.feedback = False\n",
    "%config SqlMagic.displaycon = False\n",
    "\n",
    "%sql duckdb:///:memory:"
   ]
  },
  {
   "cell_type": "markdown",
   "metadata": {
    "problem": 1
   },
   "source": [
    "---\n",
    "\n",
    "## Problem 1 (10 pts)\n",
    "Do not move or modify this cell, we use it for automated homework analysis.\n",
    "\n",
    "In the code cell below:\n",
    "\n",
    "* Use `linspace` to create an array called `one_to_five` of 10 numbers starting at 1.0 and ending at 5.0.\n",
    "* Print the array to make sure that you got this right.\n",
    "* Print the mean and variance of this array.\n",
    "\n",
    "---"
   ]
  },
  {
   "cell_type": "code",
   "execution_count": 3,
   "metadata": {},
   "outputs": [
    {
     "name": "stdout",
     "output_type": "stream",
     "text": [
      "[1.         1.44444444 1.88888889 2.33333333 2.77777778 3.22222222\n",
      " 3.66666667 4.11111111 4.55555556 5.        ]\n",
      "3.0\n",
      "1.6296296296296293\n"
     ]
    }
   ],
   "source": [
    "# put your code for Problem 1 in this cell\n",
    "\n",
    "one_to_five = np.linspace(1.0, 5.0, num=10)\n",
    "\n",
    "\n",
    "print(one_to_five)\n",
    "print(np.mean(one_to_five)) \n",
    "print(np.var(one_to_five))"
   ]
  },
  {
   "cell_type": "markdown",
   "metadata": {
    "problem": 2
   },
   "source": [
    "---\n",
    "\n",
    "## Problem 2 (10 pts)\n",
    "\n",
    "In the code cell below:\n",
    "\n",
    "* Use `numpy` broadcasting to create an array `two_to_six` that is the previous array plus 1.0. (Do not use a `for` loop.)\n",
    "* Print the array to make sure that you got this right.\n",
    "* Print the mean and variance of this array.\n",
    "* Use `numpy` broadcasting to create an array `three_to_seven` that is the first array plus 2.0. (Do not use a `for` loop.)\n",
    "* Print the array to make sure that you got this right.\n",
    "* Print the mean and variance of this array.\n",
    "\n",
    "In the text cell below the code cell, describe in words what happens to mean and variance when you add a constant.\n",
    "\n",
    "---"
   ]
  },
  {
   "cell_type": "code",
   "execution_count": 4,
   "metadata": {},
   "outputs": [
    {
     "name": "stdout",
     "output_type": "stream",
     "text": [
      "[2.         2.44444444 2.88888889 3.33333333 3.77777778 4.22222222\n",
      " 4.66666667 5.11111111 5.55555556 6.        ]\n",
      "4.0\n",
      "1.6296296296296293\n",
      "[3.         3.44444444 3.88888889 4.33333333 4.77777778 5.22222222\n",
      " 5.66666667 6.11111111 6.55555556 7.        ]\n",
      "5.0\n",
      "1.6296296296296293\n"
     ]
    }
   ],
   "source": [
    "# Put your code for problem 2 here\n",
    "two_to_six = one_to_five + 1\n",
    "print(two_to_six)\n",
    "print(np.mean(two_to_six)) \n",
    "print(np.var(two_to_six))\n",
    "\n",
    "three_to_seven = one_to_five + 2\n",
    "print(three_to_seven)\n",
    "print(np.mean(three_to_seven)) \n",
    "print(np.var(three_to_seven))\n",
    "\n",
    "\n"
   ]
  },
  {
   "cell_type": "markdown",
   "metadata": {},
   "source": [
    "**Put your description of the effect of adding a constant here**\n",
    "\n",
    "the variance stays the same, but the mean changes depending on the constant-- in this case it increased by the contstant that was added to all the numbers. so: two_to_six's mean was increased by +1 and three_to_seven's mean increased by +2 "
   ]
  },
  {
   "cell_type": "markdown",
   "metadata": {
    "problem": 3
   },
   "source": [
    "---\n",
    "## Problem 3 (10 pts)\n",
    "\n",
    "In the code cell below:\n",
    "\n",
    "* Use `numpy` broadcasting to create an array `two_to_ten` that is the first array times 2.0. (Do not use a `for` loop.)\n",
    "* Print the array to make sure that you got this right.\n",
    "* Print the mean and variance of this array.\n",
    "* Use `numpy` broadcasting to create an array `three_to_fifteen` that is the first array times 3.0. (Do not use a `for` loop.)\n",
    "* Print the array to make sure that you got this right.\n",
    "* Print the mean and variance of this array.\n",
    "\n",
    "In the text cell below the code cell, describe in words what happens to mean and variance when you multiply by a constant.\n",
    "\n",
    "---"
   ]
  },
  {
   "cell_type": "code",
   "execution_count": 5,
   "metadata": {},
   "outputs": [
    {
     "name": "stdout",
     "output_type": "stream",
     "text": [
      "[ 2.          2.88888889  3.77777778  4.66666667  5.55555556  6.44444444\n",
      "  7.33333333  8.22222222  9.11111111 10.        ]\n",
      "6.0\n",
      "6.518518518518517\n",
      "[ 3.          4.33333333  5.66666667  7.          8.33333333  9.66666667\n",
      " 11.         12.33333333 13.66666667 15.        ]\n",
      "9.0\n",
      "14.666666666666668\n"
     ]
    }
   ],
   "source": [
    "two_to_ten = (one_to_five)*2 \n",
    "print(two_to_ten)\n",
    "print(np.mean(two_to_ten)) \n",
    "print(np.var(two_to_ten))\n",
    "\n",
    "three_to_fifteen = (one_to_five)*3 \n",
    "print(three_to_fifteen)\n",
    "print(np.mean(three_to_fifteen)) \n",
    "print(np.var(three_to_fifteen))\n",
    "\n",
    "\n"
   ]
  },
  {
   "cell_type": "markdown",
   "metadata": {},
   "source": [
    "**Describe the effects of adding here**\n",
    "\n",
    "the mean becomes mupltiplied by this constant (c) and the variance is muplied by (c)^2 "
   ]
  },
  {
   "cell_type": "markdown",
   "metadata": {
    "problem": 4
   },
   "source": [
    "---\n",
    "\n",
    "## Problem 4 (10 pts)\n",
    "\n",
    "In real data we usually can't observe the \"true\" population mean and variance. *Simulation* is the process of generating artificial samples from a known distribution. It's a powerful tool for describing the properties of samples given properties of a distribution.\n",
    "\n",
    "For this problem you will generate a large number of small samples from a Normal distribution. We'll construct a single large array 2D array where each column will represent one sample.\n",
    "\n",
    "The function `np.random.normal(0, 1, (5, 10))` will create a sample from a Normal distribution with a population mean of 0 and population standard deviation 1.0. The sample will have 50 elements, in 5 rows and 10 columns.\n",
    "\n",
    "Use this function to create a sample called `normal_samples` with 10 rows and 100 columns, with mean 5.0 and standard deviation 1.0 (this is the special case where variance is also equal to 1.0).\n",
    "\n",
    "Use the `mean` function with the `axis` parameter to calculate the mean of each column. Print the string `\"column sample means\"` and then print these values.\n",
    "\n",
    "Then print the string `\"mean of means\"` and print the mean of the array of means.\n",
    "\n",
    "**Confidence check: the means should be an array of 100 numbers that are within about 0.5 of 5.0**\n",
    "\n",
    "Use the `var` function with the `axis` parameter to calculate the variance of each column. Print the string `\"column sample variances\"` and then print these values.\n",
    "\n",
    "Then print the string `\"mean of variances\"` and print the mean of the array of variances.\n",
    "\n",
    "By default, numpy's `var` function gives you the mean of the squared distances to the sample mean (dividing by $N$). Print the string `\"mean of variances (N-1)\"` and print the mean of the array of variances *multiplied by the quantity $N$ divided by $N-1$).\n",
    "\n",
    "---"
   ]
  },
  {
   "cell_type": "code",
   "execution_count": 43,
   "metadata": {},
   "outputs": [
    {
     "name": "stdout",
     "output_type": "stream",
     "text": [
      "column sample means\n",
      "[4.75705498 5.19100349 4.74184854 4.58737045 5.09438505 5.5864227\n",
      " 4.54899156 4.82922177 4.78280732 5.28175092 5.74195932 5.05331179\n",
      " 5.13675675 4.67365349 4.63443924 4.31869213 4.63684397 4.8677192\n",
      " 4.94190814 5.0440894  5.09350943 5.00100421 5.25552021 4.59259814\n",
      " 5.03054422 5.17918705 4.64733911 5.02005669 5.40628475 4.88245932\n",
      " 4.35352738 4.74912468 5.15666076 4.66163831 4.89099203 5.2664241\n",
      " 5.03745704 4.90441626 5.07826055 3.92813252 5.21980866 4.97810872\n",
      " 4.96618831 5.03113923 5.4669809  5.46999572 4.78442933 4.56242973\n",
      " 4.32887104 4.76717753 4.88734187 4.85042279 4.81179714 5.13876745\n",
      " 5.3314549  4.62332123 5.20899122 5.03085619 4.88430914 5.26661871\n",
      " 5.15629071 4.92486047 4.86262958 5.04581036 5.0255128  5.18882234\n",
      " 5.15817299 5.36287932 4.81640544 5.02468392 5.19321163 5.29751977\n",
      " 5.46789287 4.7456966  5.68610875 5.17181071 5.16698947 5.29927096\n",
      " 5.17415839 5.03365238 5.14344379 4.8925343  4.85852404 4.56060894\n",
      " 5.3209937  5.34667656 4.7300466  5.12736532 4.73882619 5.53994708\n",
      " 5.00303171 4.7880042  4.77348212 4.81648359 5.91587708 5.54226758\n",
      " 4.62237244 4.67147544 4.95039199 5.51665105]\n",
      "mean of means\n",
      "4.998557599784048\n",
      "column sample variances\n",
      "[0.44887493 1.17558801 0.56184307 1.13287789 1.43248814 1.00608815\n",
      " 0.43916172 1.08862994 0.5386858  0.4483207  0.50718851 1.08861169\n",
      " 0.45114457 1.23239815 1.09460828 1.76342936 1.01023988 0.91513151\n",
      " 0.63286728 0.94201307 0.69381957 1.0490178  0.71367283 2.01492363\n",
      " 0.7959811  0.4611255  1.45909234 1.24373731 0.88406319 0.87465772\n",
      " 1.11594293 1.21115281 0.54557151 0.53474052 0.78458169 0.53854023\n",
      " 0.54911896 1.43417011 0.64630065 1.32649897 1.12985865 1.27866132\n",
      " 0.91787709 1.66280669 0.42238343 1.17776655 1.08390838 0.43338851\n",
      " 0.40564011 1.10850712 1.33606052 0.93873188 0.43154691 0.69376466\n",
      " 1.25340321 1.16745678 0.9120423  0.48768262 0.32481302 0.3172737\n",
      " 0.61575563 0.93888924 0.56681527 0.15400085 0.89959078 0.54154097\n",
      " 0.47768549 0.4802776  1.71936018 0.8821314  0.46659644 1.5271224\n",
      " 0.6355341  0.36406101 1.09929022 0.78380256 1.00824424 1.02118448\n",
      " 0.43314038 1.1441981  0.44145743 0.25832105 0.65738569 0.8058026\n",
      " 0.90285408 0.65666266 0.79252421 0.59495576 0.83462739 0.89610889\n",
      " 0.61728971 0.62637677 0.49279869 0.838132   1.38044621 0.63998207\n",
      " 0.47077906 1.14526928 1.37018649 0.74415045]\n",
      "mean of variances\n",
      "0.851958052854814\n",
      "mean of variances (N-1)\n",
      "0.946620058727571\n"
     ]
    }
   ],
   "source": [
    "normal_samples = np.random.normal(5, 1, (10, 100))\n",
    "print(\"column sample means\")\n",
    "column_sample_means = (normal_samples.mean(0)) \n",
    "print(column_sample_means) \n",
    "print(\"mean of means\")\n",
    "mean_of_means = np.mean(column_sample_means)\n",
    "print (mean_of_means)\n",
    "\n",
    "column_sample_variances = normal_samples.var(0) \n",
    "print (\"column sample variances\")\n",
    "print (column_sample_variances)\n",
    "print (\"mean of variances\")\n",
    "print (np.mean(column_sample_variances))\n",
    "print (\"mean of variances (N-1)\") \n",
    "print (np.mean(column_sample_variances)*10/9)"
   ]
  },
  {
   "cell_type": "markdown",
   "metadata": {},
   "source": [
    "**Describe the effect of multiplying here**\n",
    "Multiplying by N/(N-1) because we want to use N-1 because variance is calculated using the sample mean. We would rather underestimate and be more conservative and careful in our estimation. "
   ]
  },
  {
   "cell_type": "markdown",
   "metadata": {
    "problem": 5
   },
   "source": [
    "---\n",
    "\n",
    "## Problem 5 (10 pts)\n",
    "\n",
    "Use `seaborn.histplot` to create a histogram of the sample means. Use the command `pyplot.axvline()` to place a vertical line at the mean of the sample means. Consult the [documentation for axvline](https://matplotlib.org/stable/api/_as_gen/matplotlib.pyplot.axvline.html) to set the color of the line to `\"red\"`.\n",
    "\n",
    "Do the same process to create another histogram of the sample variances. Include a red vertical line at the mean of the sample variances.\n",
    "\n",
    "\n",
    "\n",
    "---"
   ]
  },
  {
   "cell_type": "code",
   "execution_count": 7,
   "metadata": {
    "scrolled": false
   },
   "outputs": [
    {
     "data": {
      "image/png": "[encoded data removed]",
      "text/plain": [
       "<Figure size 432x288 with 1 Axes>"
      ]
     },
     "metadata": {
      "needs_background": "light"
     },
     "output_type": "display_data"
    },
    {
     "data": {
      "image/png": "[encoded data removed]",
      "text/plain": [
       "<Figure size 432x288 with 1 Axes>"
      ]
     },
     "metadata": {
      "needs_background": "light"
     },
     "output_type": "display_data"
    }
   ],
   "source": [
    "seaborn.histplot(column_sample_means)\n",
    "pyplot.axvline(np.mean(column_sample_means), color= 'r' )\n",
    "pyplot.show()\n",
    "\n",
    "\n",
    "seaborn.histplot(column_sample_variances)\n",
    "pyplot.axvline((np.mean(column_sample_variances)), color= 'r' )\n",
    "pyplot.show()\n",
    "\n"
   ]
  },
  {
   "cell_type": "markdown",
   "metadata": {
    "problem": 6
   },
   "source": [
    "---\n",
    "\n",
    "## Problem 6 (10 pts)\n",
    "\n",
    "Replicate the process from problems 4 and 5 but increase the size of each sample from 10 to 20. Print the mean of sample means, mean of sample variances, and mean of sample variances multiplied by $\\frac{N}{N-1}$. Show the sample means and sample variances in separate histograms with a red line indicating the mean of the means/variances.\n",
    "\n",
    "In the markdown cell below, describe what you noticed about sample mean and sample variance. Compare the histograms for $N=10$ and $N=20$. How are they similar or different? Pay attention to the $x$-axis.\n",
    "\n",
    "---"
   ]
  },
  {
   "cell_type": "code",
   "execution_count": 42,
   "metadata": {},
   "outputs": [
    {
     "name": "stdout",
     "output_type": "stream",
     "text": [
      "column sample means\n",
      "[4.73188136 5.07501196 5.26429636 5.30693253 5.27450466 4.80266781\n",
      " 5.19390355 4.58412772 4.78922682 5.17252354 4.66576206 5.44491963\n",
      " 5.10897896 5.17471432 4.98016343 5.17366843 4.75155437 4.94758736\n",
      " 5.03863849 5.02308124 4.83100711 5.14907303 4.99690966 4.92245311\n",
      " 4.96916207 4.85330116 4.76461393 4.84587527 5.38592796 4.80982165\n",
      " 5.03915051 4.9107546  4.72511988 5.35671528 5.33646742 4.94952796\n",
      " 5.34646945 5.33247186 5.35428516 4.31039471 4.83435188 4.77907436\n",
      " 5.06025793 5.00939405 4.89031207 4.9698471  4.5972031  5.05140039\n",
      " 4.91079741 4.97503332 5.33872584 5.00061996 4.97924312 5.31173645\n",
      " 4.90329307 5.0512212  5.23637394 5.45696614 5.23292547 5.24170349\n",
      " 4.99768499 4.77657199 4.87221821 5.17986932 5.24981649 5.25289516\n",
      " 4.98716271 5.06514397 4.70603737 5.17740959 5.14555433 4.18134082\n",
      " 4.77436322 5.18267571 4.72188941 5.13052755 5.13424282 4.84047826\n",
      " 5.18769964 4.85717976 5.12754013 5.11531497 5.14107488 4.61177305\n",
      " 4.89789424 5.16744076 5.01902455 4.93867081 4.8707089  5.21459739\n",
      " 5.04767413 5.40090293 5.22919774 5.01532044 5.29302816 5.14920726\n",
      " 5.14634459 5.13450225 5.17399141 5.40302949]\n",
      "mean of means\n",
      "5.030421261024668\n",
      "column sample variances\n",
      "[0.53083332 0.94231131 0.93946316 1.09037954 0.62087789 0.45746269\n",
      " 0.91098743 1.48672468 1.62155023 1.08469358 0.99356635 1.48935016\n",
      " 1.03758754 0.63413108 1.19601286 0.96779145 0.40317543 0.49392223\n",
      " 0.6638516  1.5278627  0.65375797 0.87623946 0.80074587 1.13884627\n",
      " 1.14696471 1.39701534 0.57272419 1.13625052 1.06046462 1.16140069\n",
      " 1.15132567 0.92935998 0.98339722 0.72497605 0.86792906 1.62949899\n",
      " 0.75201025 0.99418446 0.55959803 0.72414953 0.70934693 0.57182181\n",
      " 1.55571987 0.86521781 0.98734245 0.49990953 1.09575332 1.00739084\n",
      " 1.04102525 0.76136071 1.88248358 0.63387631 0.54799974 0.56705576\n",
      " 0.54574798 0.96391152 1.35456166 1.1914242  1.34818345 0.57849141\n",
      " 0.84037036 1.34466119 0.76047689 0.77050924 1.10482928 1.32327344\n",
      " 1.08656611 1.13738558 0.31136976 1.06472758 0.98713269 0.69889904\n",
      " 0.51186569 0.91807729 0.97867843 0.59389388 0.82633519 0.52924516\n",
      " 0.66203034 1.18801911 1.17791683 0.94686054 0.41351429 1.07447273\n",
      " 0.5104109  0.85166626 0.66692015 1.27075719 0.6623429  0.9266086\n",
      " 1.40647944 0.74046928 0.79366514 0.97974227 1.21027112 1.03800807\n",
      " 0.28217851 0.70530593 0.84504598 0.88410294]\n",
      "mean of variances\n",
      "0.9208708353900056\n",
      "mean of variances (N-1)\n",
      "0.9693377214631638\n"
     ]
    },
    {
     "data": {
      "image/png": "[encoded data removed]",
      "text/plain": [
       "<Figure size 432x288 with 1 Axes>"
      ]
     },
     "metadata": {
      "needs_background": "light"
     },
     "output_type": "display_data"
    },
    {
     "data": {
      "image/png": "[encoded data removed]",
      "text/plain": [
       "<Figure size 432x288 with 1 Axes>"
      ]
     },
     "metadata": {
      "needs_background": "light"
     },
     "output_type": "display_data"
    }
   ],
   "source": [
    "normal_samples = np.random.normal(5, 1, (20, 100))\n",
    "print(\"column sample means\")\n",
    "column_sample_means = (normal_samples.mean(0)) \n",
    "print(column_sample_means) \n",
    "print(\"mean of means\")\n",
    "mean_of_means = np.mean(column_sample_means)\n",
    "print (mean_of_means)\n",
    "\n",
    "column_sample_variances = normal_samples.var(0) \n",
    "print (\"column sample variances\")\n",
    "print (column_sample_variances)\n",
    "print (\"mean of variances\")\n",
    "print (np.mean(column_sample_variances))\n",
    "print (\"mean of variances (N-1)\") \n",
    "print (np.mean(column_sample_variances)*20/19)\n",
    "\n",
    "seaborn.histplot(column_sample_means)\n",
    "pyplot.axvline(np.mean(column_sample_means), color= 'r' )\n",
    "pyplot.show()\n",
    "\n",
    "\n",
    "seaborn.histplot(column_sample_variances)\n",
    "pyplot.axvline((np.mean(column_sample_variances)), color= 'r' )\n",
    "pyplot.show()\n",
    "\n"
   ]
  },
  {
   "cell_type": "markdown",
   "metadata": {},
   "source": [
    "**Describe your observations here**\n",
    "\n",
    "the means and variances are approaching 5 and 1 respectively: the spread is narrower. "
   ]
  },
  {
   "cell_type": "markdown",
   "metadata": {
    "problem": 7
   },
   "source": [
    "---\n",
    "\n",
    "## Problem 7 (10 pts)\n",
    "\n",
    "In this problem we will consider some real data from Goodreads. We provide you with two data files, one containing information about 20 popular books and a second containing reviews of those books.\n",
    "\n",
    "Load the CSV files into two pandas data frames called `books_df` and `reviews_df`. Print the `.shape` property of the two data frames. The zip file that contains this notebook will also contain the two CSV files in a subdirectory. You should include that directory in the file path when you load the data.\n",
    "\n",
    "**Confidence check: The `shape` property of these data frames should be `((20, 17), (4770, 13))`**\n",
    "\n",
    "Print the `book_title` column of the books data frame.\n",
    "\n",
    "---"
   ]
  },
  {
   "cell_type": "code",
   "execution_count": 64,
   "metadata": {},
   "outputs": [
    {
     "name": "stdout",
     "output_type": "stream",
     "text": [
      "(20, 17)\n",
      "(4770, 13)\n",
      "0                                 Clockwork Angel\n",
      "1                                     The Martian\n",
      "2                                 Throne of Glass\n",
      "3                            A Dance with Dragons\n",
      "4                                      Mockingjay\n",
      "5                                            Room\n",
      "6                                          Wonder\n",
      "7                                       Gone Girl\n",
      "8                                       Insurgent\n",
      "9                                       Divergent\n",
      "10                                  Me Before You\n",
      "11                                  The Lost Hero\n",
      "12                               The Night Circus\n",
      "13    Miss Peregrine's Home for Peculiar Children\n",
      "14                                         Cinder\n",
      "15                          The Girl on the Train\n",
      "16                               Ready Player One\n",
      "17                    All the Light We Cannot See\n",
      "18                                  The Selection\n",
      "19                                 Eleanor & Park\n",
      "Name: book_title, dtype: object\n"
     ]
    }
   ],
   "source": [
    "books_df =pd.read_csv('/Users/Nic/Desktop/Fall 2022/INFO 2950/week 2/hw1/data/all_books.csv')\n",
    "reviews_df =pd.read_csv('/Users/Nic/Desktop/Fall 2022/INFO 2950/week 2/hw1/data/all_reviews.csv')\n",
    "\n",
    "\n",
    "\n",
    "print(books_df.shape)\n",
    "print(reviews_df.shape)\n",
    "print(books_df.loc[:,\"book_title\"]) "
   ]
  },
  {
   "cell_type": "markdown",
   "metadata": {
    "problem": 8
   },
   "source": [
    "---\n",
    "\n",
    "## Problem 8 (10 pts)\n",
    "\n",
    "Create a data frame `book_reviews_df` with a `%sql` cell. Use SQL to select all columns from the inner join of books_df and reviews_df where the `book_id` value is the same.\n",
    "\n",
    "**Confidence check: this should display the string `Returning data to local variable book_reviews_df`**\n",
    "\n",
    "Use the `columns` property to compare the columns of the new data frame to the columns of the two original data frames. In a markdown cell, list the columns that came from the books table, the columns that came from the reviews table, and the columns that were present in both tables.\n",
    "\n",
    "In a SQL code cell, use a SQL statement to show the book title, author, and number of rows for each work (use the `COUNT` function with a `GROUP BY`), sorted in reverse alphabetical order by title. You will need to determine which fields to include in the `GROUP BY` statement.\n",
    "\n",
    "**Hint: We know that all the rows with the same title have the same author, but SQL doesn't. To return a column in a query with a GROUP BY, that column either has to have an aggregation function like SUM or AVG, or it needs to appear in the GROUP BY clause**\n",
    "\n",
    "---"
   ]
  },
  {
   "cell_type": "code",
   "execution_count": 10,
   "metadata": {},
   "outputs": [
    {
     "name": "stdout",
     "output_type": "stream",
     "text": [
      "Requirement already satisfied: ipython-sql in /Applications/anaconda3/envs/info2950/lib/python3.8/site-packages (0.4.1)\n",
      "Requirement already satisfied: ipython>=1.0 in /Applications/anaconda3/envs/info2950/lib/python3.8/site-packages (from ipython-sql) (8.4.0)\n",
      "Requirement already satisfied: sqlparse in /Applications/anaconda3/envs/info2950/lib/python3.8/site-packages (from ipython-sql) (0.4.2)\n",
      "Requirement already satisfied: six in /Applications/anaconda3/envs/info2950/lib/python3.8/site-packages (from ipython-sql) (1.16.0)\n",
      "Requirement already satisfied: ipython-genutils>=0.1.0 in /Applications/anaconda3/envs/info2950/lib/python3.8/site-packages (from ipython-sql) (0.2.0)\n",
      "Requirement already satisfied: sqlalchemy>=0.6.7 in /Applications/anaconda3/envs/info2950/lib/python3.8/site-packages (from ipython-sql) (1.4.40)\n",
      "Requirement already satisfied: prettytable<1 in /Applications/anaconda3/envs/info2950/lib/python3.8/site-packages (from ipython-sql) (0.7.2)\n",
      "Requirement already satisfied: pexpect>4.3 in /Applications/anaconda3/envs/info2950/lib/python3.8/site-packages (from ipython>=1.0->ipython-sql) (4.8.0)\n",
      "Requirement already satisfied: jedi>=0.16 in /Applications/anaconda3/envs/info2950/lib/python3.8/site-packages (from ipython>=1.0->ipython-sql) (0.18.1)\n",
      "Requirement already satisfied: prompt-toolkit!=3.0.0,!=3.0.1,<3.1.0,>=2.0.0 in /Applications/anaconda3/envs/info2950/lib/python3.8/site-packages (from ipython>=1.0->ipython-sql) (3.0.20)\n",
      "Requirement already satisfied: setuptools>=18.5 in /Applications/anaconda3/envs/info2950/lib/python3.8/site-packages (from ipython>=1.0->ipython-sql) (63.4.1)\n",
      "Requirement already satisfied: matplotlib-inline in /Applications/anaconda3/envs/info2950/lib/python3.8/site-packages (from ipython>=1.0->ipython-sql) (0.1.2)\n",
      "Requirement already satisfied: pygments>=2.4.0 in /Applications/anaconda3/envs/info2950/lib/python3.8/site-packages (from ipython>=1.0->ipython-sql) (2.11.2)\n",
      "Requirement already satisfied: pickleshare in /Applications/anaconda3/envs/info2950/lib/python3.8/site-packages (from ipython>=1.0->ipython-sql) (0.7.5)\n",
      "Requirement already satisfied: backcall in /Applications/anaconda3/envs/info2950/lib/python3.8/site-packages (from ipython>=1.0->ipython-sql) (0.2.0)\n",
      "Requirement already satisfied: decorator in /Applications/anaconda3/envs/info2950/lib/python3.8/site-packages (from ipython>=1.0->ipython-sql) (5.1.1)\n",
      "Requirement already satisfied: appnope in /Applications/anaconda3/envs/info2950/lib/python3.8/site-packages (from ipython>=1.0->ipython-sql) (0.1.2)\n",
      "Requirement already satisfied: traitlets>=5 in /Applications/anaconda3/envs/info2950/lib/python3.8/site-packages (from ipython>=1.0->ipython-sql) (5.1.1)\n",
      "Requirement already satisfied: stack-data in /Applications/anaconda3/envs/info2950/lib/python3.8/site-packages (from ipython>=1.0->ipython-sql) (0.2.0)\n",
      "Requirement already satisfied: greenlet!=0.4.17 in /Applications/anaconda3/envs/info2950/lib/python3.8/site-packages (from sqlalchemy>=0.6.7->ipython-sql) (1.1.3)\n",
      "Requirement already satisfied: parso<0.9.0,>=0.8.0 in /Applications/anaconda3/envs/info2950/lib/python3.8/site-packages (from jedi>=0.16->ipython>=1.0->ipython-sql) (0.8.3)\n",
      "Requirement already satisfied: ptyprocess>=0.5 in /Applications/anaconda3/envs/info2950/lib/python3.8/site-packages (from pexpect>4.3->ipython>=1.0->ipython-sql) (0.7.0)\n",
      "Requirement already satisfied: wcwidth in /Applications/anaconda3/envs/info2950/lib/python3.8/site-packages (from prompt-toolkit!=3.0.0,!=3.0.1,<3.1.0,>=2.0.0->ipython>=1.0->ipython-sql) (0.2.5)\n",
      "Requirement already satisfied: executing in /Applications/anaconda3/envs/info2950/lib/python3.8/site-packages (from stack-data->ipython>=1.0->ipython-sql) (0.8.3)\n",
      "Requirement already satisfied: asttokens in /Applications/anaconda3/envs/info2950/lib/python3.8/site-packages (from stack-data->ipython>=1.0->ipython-sql) (2.0.5)\n",
      "Requirement already satisfied: pure-eval in /Applications/anaconda3/envs/info2950/lib/python3.8/site-packages (from stack-data->ipython>=1.0->ipython-sql) (0.2.2)\n"
     ]
    }
   ],
   "source": [
    "import sys \n",
    "!{sys.executable} -m pip install ipython-sql\n",
    "\n",
    "    \n"
   ]
  },
  {
   "cell_type": "code",
   "execution_count": 39,
   "metadata": {},
   "outputs": [
    {
     "name": "stdout",
     "output_type": "stream",
     "text": [
      "Returning data to local variable book_reviews_df\n",
      "Index(['book_id_title', 'book_id', 'book_title', 'book_series',\n",
      "       'book_series_uri', 'isbn', 'isbn13', 'year_first_published', 'author',\n",
      "       'num_pages', 'genres', 'shelves', 'lists', 'num_ratings', 'num_reviews',\n",
      "       'average_rating', 'rating_distribution', 'book_id_title', 'book_id',\n",
      "       'book_title', 'review_url', 'review_id', 'date', 'rating', 'user_name',\n",
      "       'user_url', 'text', 'num_likes', 'sort_order', 'shelves'],\n",
      "      dtype='object')\n",
      "Index(['book_id_title', 'book_id', 'book_title', 'book_series',\n",
      "       'book_series_uri', 'isbn', 'isbn13', 'year_first_published', 'author',\n",
      "       'num_pages', 'genres', 'shelves', 'lists', 'num_ratings', 'num_reviews',\n",
      "       'average_rating', 'rating_distribution'],\n",
      "      dtype='object')\n",
      "Index(['book_id_title', 'book_id', 'book_title', 'review_url', 'review_id',\n",
      "       'date', 'rating', 'user_name', 'user_url', 'text', 'num_likes',\n",
      "       'sort_order', 'shelves'],\n",
      "      dtype='object')\n"
     ]
    },
    {
     "data": {
      "text/html": [
       "<div>\n",
       "<style scoped>\n",
       "    .dataframe tbody tr th:only-of-type {\n",
       "        vertical-align: middle;\n",
       "    }\n",
       "\n",
       "    .dataframe tbody tr th {\n",
       "        vertical-align: top;\n",
       "    }\n",
       "\n",
       "    .dataframe thead th {\n",
       "        text-align: right;\n",
       "    }\n",
       "</style>\n",
       "<table border=\"1\" class=\"dataframe\">\n",
       "  <thead>\n",
       "    <tr style=\"text-align: right;\">\n",
       "      <th></th>\n",
       "      <th>book_title</th>\n",
       "      <th>author</th>\n",
       "      <th>numrow</th>\n",
       "    </tr>\n",
       "  </thead>\n",
       "  <tbody>\n",
       "    <tr>\n",
       "      <th>0</th>\n",
       "      <td>Wonder</td>\n",
       "      <td>R.J. Palacio</td>\n",
       "      <td>300</td>\n",
       "    </tr>\n",
       "    <tr>\n",
       "      <th>1</th>\n",
       "      <td>Throne of Glass</td>\n",
       "      <td>Sarah J. Maas</td>\n",
       "      <td>300</td>\n",
       "    </tr>\n",
       "    <tr>\n",
       "      <th>2</th>\n",
       "      <td>The Selection</td>\n",
       "      <td>Kiera Cass</td>\n",
       "      <td>180</td>\n",
       "    </tr>\n",
       "    <tr>\n",
       "      <th>3</th>\n",
       "      <td>The Night Circus</td>\n",
       "      <td>Erin Morgenstern</td>\n",
       "      <td>300</td>\n",
       "    </tr>\n",
       "    <tr>\n",
       "      <th>4</th>\n",
       "      <td>The Martian</td>\n",
       "      <td>Andy Weir</td>\n",
       "      <td>300</td>\n",
       "    </tr>\n",
       "    <tr>\n",
       "      <th>5</th>\n",
       "      <td>The Lost Hero</td>\n",
       "      <td>Rick Riordan</td>\n",
       "      <td>150</td>\n",
       "    </tr>\n",
       "    <tr>\n",
       "      <th>6</th>\n",
       "      <td>The Girl on the Train</td>\n",
       "      <td>Paula Hawkins</td>\n",
       "      <td>210</td>\n",
       "    </tr>\n",
       "    <tr>\n",
       "      <th>7</th>\n",
       "      <td>Room</td>\n",
       "      <td>Emma Donoghue</td>\n",
       "      <td>300</td>\n",
       "    </tr>\n",
       "    <tr>\n",
       "      <th>8</th>\n",
       "      <td>Ready Player One</td>\n",
       "      <td>Ernest Cline</td>\n",
       "      <td>210</td>\n",
       "    </tr>\n",
       "    <tr>\n",
       "      <th>9</th>\n",
       "      <td>Mockingjay</td>\n",
       "      <td>Suzanne Collins</td>\n",
       "      <td>300</td>\n",
       "    </tr>\n",
       "    <tr>\n",
       "      <th>10</th>\n",
       "      <td>Miss Peregrine's Home for Peculiar Children</td>\n",
       "      <td>Ransom Riggs</td>\n",
       "      <td>210</td>\n",
       "    </tr>\n",
       "    <tr>\n",
       "      <th>11</th>\n",
       "      <td>Me Before You</td>\n",
       "      <td>Jojo Moyes</td>\n",
       "      <td>300</td>\n",
       "    </tr>\n",
       "    <tr>\n",
       "      <th>12</th>\n",
       "      <td>Insurgent</td>\n",
       "      <td>Veronica Roth</td>\n",
       "      <td>150</td>\n",
       "    </tr>\n",
       "    <tr>\n",
       "      <th>13</th>\n",
       "      <td>Gone Girl</td>\n",
       "      <td>Gillian Flynn</td>\n",
       "      <td>300</td>\n",
       "    </tr>\n",
       "    <tr>\n",
       "      <th>14</th>\n",
       "      <td>Eleanor &amp; Park</td>\n",
       "      <td>Rainbow Rowell</td>\n",
       "      <td>150</td>\n",
       "    </tr>\n",
       "    <tr>\n",
       "      <th>15</th>\n",
       "      <td>Divergent</td>\n",
       "      <td>Veronica Roth</td>\n",
       "      <td>30</td>\n",
       "    </tr>\n",
       "    <tr>\n",
       "      <th>16</th>\n",
       "      <td>Clockwork Angel</td>\n",
       "      <td>Cassandra Clare</td>\n",
       "      <td>300</td>\n",
       "    </tr>\n",
       "    <tr>\n",
       "      <th>17</th>\n",
       "      <td>Cinder</td>\n",
       "      <td>Marissa Meyer</td>\n",
       "      <td>300</td>\n",
       "    </tr>\n",
       "    <tr>\n",
       "      <th>18</th>\n",
       "      <td>All the Light We Cannot See</td>\n",
       "      <td>Anthony Doerr</td>\n",
       "      <td>180</td>\n",
       "    </tr>\n",
       "    <tr>\n",
       "      <th>19</th>\n",
       "      <td>A Dance with Dragons</td>\n",
       "      <td>George R.R. Martin</td>\n",
       "      <td>300</td>\n",
       "    </tr>\n",
       "  </tbody>\n",
       "</table>\n",
       "</div>"
      ],
      "text/plain": [
       "                                     book_title              author  numrow\n",
       "0                                        Wonder        R.J. Palacio     300\n",
       "1                               Throne of Glass       Sarah J. Maas     300\n",
       "2                                 The Selection          Kiera Cass     180\n",
       "3                              The Night Circus    Erin Morgenstern     300\n",
       "4                                   The Martian           Andy Weir     300\n",
       "5                                 The Lost Hero        Rick Riordan     150\n",
       "6                         The Girl on the Train       Paula Hawkins     210\n",
       "7                                          Room       Emma Donoghue     300\n",
       "8                              Ready Player One        Ernest Cline     210\n",
       "9                                    Mockingjay     Suzanne Collins     300\n",
       "10  Miss Peregrine's Home for Peculiar Children        Ransom Riggs     210\n",
       "11                                Me Before You          Jojo Moyes     300\n",
       "12                                    Insurgent       Veronica Roth     150\n",
       "13                                    Gone Girl       Gillian Flynn     300\n",
       "14                               Eleanor & Park      Rainbow Rowell     150\n",
       "15                                    Divergent       Veronica Roth      30\n",
       "16                              Clockwork Angel     Cassandra Clare     300\n",
       "17                                       Cinder       Marissa Meyer     300\n",
       "18                  All the Light We Cannot See       Anthony Doerr     180\n",
       "19                         A Dance with Dragons  George R.R. Martin     300"
      ]
     },
     "execution_count": 39,
     "metadata": {},
     "output_type": "execute_result"
    }
   ],
   "source": [
    "%sql book_reviews_df <<  SELECT * FROM books_df INNER JOIN reviews_df ON books_df.book_id = reviews_df.book_id\n",
    "\n",
    "print(book_reviews_df.columns)\n",
    "print(books_df.columns)\n",
    "print(reviews_df.columns)\n",
    "\n",
    "\n",
    "# #In a SQL code cell, use a SQL statement to show the book title, author, \n",
    "# and number of rows for each work (use the COUNT function with a GROUP BY), \n",
    "# sorted in reverse alphabetical order by title. You will need to determine which fields \n",
    "# to include in the GROUP BY statement.\n",
    "# #Hint: We know that all the rows with the same title have the same author, \n",
    "# but SQL doesn't. To return a column in a query with a GROUP BY, that column \n",
    "# either has to have an aggregation function like SUM or AVG, or it needs to appear\n",
    "# in the GROUP BY clause\n",
    "\n",
    "\n",
    "%sql SELECT books_df.book_title, books_df.author, COUNT(books_df.author) AS numrow FROM books_df INNER JOIN reviews_df on books_df.book_id = reviews_df.book_id GROUP BY books_df.book_title, books_df.author ORDER BY books_df.book_title DESC \n",
    "\n"
   ]
  },
  {
   "cell_type": "markdown",
   "metadata": {},
   "source": [
    " In a markdown cell, list the columns that came from the books table, the columns that came from the reviews table, and the columns that were present in both tables: \n",
    " \n",
    "Columns present in both: \n",
    "'book_id_title', 'book_id', 'book_title', n 'shelves'\n",
    "\n",
    "Columns from books table: \n",
    "'book_series_uri', 'isbn', 'isbn13', 'year_first_published', 'author',\n",
    "       'num_pages', 'genres', 'shelves', 'lists', 'num_ratings', 'num_reviews',\n",
    "       'average_rating', 'rating_distribution'\n",
    "\n",
    "Columns from reviews table: \n",
    "'review_url', 'review_id',\n",
    "       'date', 'rating', 'user_name', 'user_url', 'text', 'num_likes',\n",
    "       'sort_order',\n",
    "\n",
    "\n",
    " \n",
    " \n",
    " "
   ]
  },
  {
   "cell_type": "markdown",
   "metadata": {
    "problem": 9
   },
   "source": [
    "---\n",
    "\n",
    "## Problem 9 (10 pts)\n",
    "\n",
    "Goodreads only lets us scrape at most 300 reviews for each book (oldest, newest, most highly rated). The `num_ratings` and `average_rating` fields in the books dataset record the total number of ratings and the average score.\n",
    "\n",
    "Use a SQL SELECT query to get\n",
    "* the book title\n",
    "* the author name\n",
    "* the total number of ratings in Goodreads (ie `num_ratings`)\n",
    "* the average rating (ie `average_rating`)\n",
    "* the mean of each review's `rating` for the reviews in our data set as `sample_average`\n",
    "* the standard deviation of each review's `rating` as `sample_std`\n",
    "\n",
    "Sort the output by the sample average in descending order. You will also need to determine which columns to include in the GROUP BY statement.\n",
    "\n",
    "In a markdown cell, describe any differences between the overall average rating and the average ratings in our sample. Compare the size of the sample to the total. Comment on whether you think this sample is representative, and why.\n",
    "\n",
    "---"
   ]
  },
  {
   "cell_type": "code",
   "execution_count": 71,
   "metadata": {},
   "outputs": [
    {
     "data": {
      "text/html": [
       "<div>\n",
       "<style scoped>\n",
       "    .dataframe tbody tr th:only-of-type {\n",
       "        vertical-align: middle;\n",
       "    }\n",
       "\n",
       "    .dataframe tbody tr th {\n",
       "        vertical-align: top;\n",
       "    }\n",
       "\n",
       "    .dataframe thead th {\n",
       "        text-align: right;\n",
       "    }\n",
       "</style>\n",
       "<table border=\"1\" class=\"dataframe\">\n",
       "  <thead>\n",
       "    <tr style=\"text-align: right;\">\n",
       "      <th></th>\n",
       "      <th>book_title</th>\n",
       "      <th>author</th>\n",
       "      <th>num_ratings</th>\n",
       "      <th>average_rating</th>\n",
       "      <th>sample_average</th>\n",
       "      <th>sample_std</th>\n",
       "    </tr>\n",
       "  </thead>\n",
       "  <tbody>\n",
       "    <tr>\n",
       "      <th>0</th>\n",
       "      <td>Wonder</td>\n",
       "      <td>R.J. Palacio</td>\n",
       "      <td>959488</td>\n",
       "      <td>4.39</td>\n",
       "      <td>4.491582</td>\n",
       "      <td>0.858638</td>\n",
       "    </tr>\n",
       "    <tr>\n",
       "      <th>1</th>\n",
       "      <td>Me Before You</td>\n",
       "      <td>Jojo Moyes</td>\n",
       "      <td>1425019</td>\n",
       "      <td>4.26</td>\n",
       "      <td>4.286689</td>\n",
       "      <td>1.104037</td>\n",
       "    </tr>\n",
       "    <tr>\n",
       "      <th>2</th>\n",
       "      <td>The Martian</td>\n",
       "      <td>Andy Weir</td>\n",
       "      <td>981701</td>\n",
       "      <td>4.41</td>\n",
       "      <td>4.178451</td>\n",
       "      <td>1.035750</td>\n",
       "    </tr>\n",
       "    <tr>\n",
       "      <th>3</th>\n",
       "      <td>Clockwork Angel</td>\n",
       "      <td>Cassandra Clare</td>\n",
       "      <td>774774</td>\n",
       "      <td>4.31</td>\n",
       "      <td>4.126280</td>\n",
       "      <td>1.000561</td>\n",
       "    </tr>\n",
       "    <tr>\n",
       "      <th>4</th>\n",
       "      <td>The Lost Hero</td>\n",
       "      <td>Rick Riordan</td>\n",
       "      <td>745475</td>\n",
       "      <td>4.32</td>\n",
       "      <td>4.110345</td>\n",
       "      <td>0.874938</td>\n",
       "    </tr>\n",
       "    <tr>\n",
       "      <th>5</th>\n",
       "      <td>All the Light We Cannot See</td>\n",
       "      <td>Anthony Doerr</td>\n",
       "      <td>1336192</td>\n",
       "      <td>4.32</td>\n",
       "      <td>4.078212</td>\n",
       "      <td>1.191979</td>\n",
       "    </tr>\n",
       "    <tr>\n",
       "      <th>6</th>\n",
       "      <td>Cinder</td>\n",
       "      <td>Marissa Meyer</td>\n",
       "      <td>827752</td>\n",
       "      <td>4.13</td>\n",
       "      <td>4.040678</td>\n",
       "      <td>1.045743</td>\n",
       "    </tr>\n",
       "    <tr>\n",
       "      <th>7</th>\n",
       "      <td>Ready Player One</td>\n",
       "      <td>Ernest Cline</td>\n",
       "      <td>1037697</td>\n",
       "      <td>4.24</td>\n",
       "      <td>4.033493</td>\n",
       "      <td>1.190438</td>\n",
       "    </tr>\n",
       "    <tr>\n",
       "      <th>8</th>\n",
       "      <td>The Night Circus</td>\n",
       "      <td>Erin Morgenstern</td>\n",
       "      <td>843432</td>\n",
       "      <td>4.03</td>\n",
       "      <td>3.944637</td>\n",
       "      <td>1.183090</td>\n",
       "    </tr>\n",
       "    <tr>\n",
       "      <th>9</th>\n",
       "      <td>Room</td>\n",
       "      <td>Emma Donoghue</td>\n",
       "      <td>774026</td>\n",
       "      <td>4.07</td>\n",
       "      <td>3.817568</td>\n",
       "      <td>1.144106</td>\n",
       "    </tr>\n",
       "    <tr>\n",
       "      <th>10</th>\n",
       "      <td>Mockingjay</td>\n",
       "      <td>Suzanne Collins</td>\n",
       "      <td>2786281</td>\n",
       "      <td>4.06</td>\n",
       "      <td>3.790541</td>\n",
       "      <td>1.236471</td>\n",
       "    </tr>\n",
       "    <tr>\n",
       "      <th>11</th>\n",
       "      <td>Gone Girl</td>\n",
       "      <td>Gillian Flynn</td>\n",
       "      <td>2731222</td>\n",
       "      <td>4.11</td>\n",
       "      <td>3.778912</td>\n",
       "      <td>1.195311</td>\n",
       "    </tr>\n",
       "    <tr>\n",
       "      <th>12</th>\n",
       "      <td>A Dance with Dragons</td>\n",
       "      <td>George R.R. Martin</td>\n",
       "      <td>606327</td>\n",
       "      <td>4.33</td>\n",
       "      <td>3.737931</td>\n",
       "      <td>1.188298</td>\n",
       "    </tr>\n",
       "    <tr>\n",
       "      <th>13</th>\n",
       "      <td>Eleanor &amp; Park</td>\n",
       "      <td>Rainbow Rowell</td>\n",
       "      <td>1059803</td>\n",
       "      <td>3.97</td>\n",
       "      <td>3.556338</td>\n",
       "      <td>1.499525</td>\n",
       "    </tr>\n",
       "    <tr>\n",
       "      <th>14</th>\n",
       "      <td>Insurgent</td>\n",
       "      <td>Veronica Roth</td>\n",
       "      <td>1361186</td>\n",
       "      <td>3.99</td>\n",
       "      <td>3.551724</td>\n",
       "      <td>1.263434</td>\n",
       "    </tr>\n",
       "    <tr>\n",
       "      <th>15</th>\n",
       "      <td>Throne of Glass</td>\n",
       "      <td>Sarah J. Maas</td>\n",
       "      <td>884387</td>\n",
       "      <td>4.19</td>\n",
       "      <td>3.525952</td>\n",
       "      <td>1.361748</td>\n",
       "    </tr>\n",
       "    <tr>\n",
       "      <th>16</th>\n",
       "      <td>The Girl on the Train</td>\n",
       "      <td>Paula Hawkins</td>\n",
       "      <td>2573364</td>\n",
       "      <td>3.95</td>\n",
       "      <td>3.495146</td>\n",
       "      <td>1.142302</td>\n",
       "    </tr>\n",
       "    <tr>\n",
       "      <th>17</th>\n",
       "      <td>Miss Peregrine's Home for Peculiar Children</td>\n",
       "      <td>Ransom Riggs</td>\n",
       "      <td>1149966</td>\n",
       "      <td>3.92</td>\n",
       "      <td>3.470588</td>\n",
       "      <td>1.061701</td>\n",
       "    </tr>\n",
       "    <tr>\n",
       "      <th>18</th>\n",
       "      <td>Divergent</td>\n",
       "      <td>Veronica Roth</td>\n",
       "      <td>3516724</td>\n",
       "      <td>4.16</td>\n",
       "      <td>3.275862</td>\n",
       "      <td>1.386067</td>\n",
       "    </tr>\n",
       "    <tr>\n",
       "      <th>19</th>\n",
       "      <td>The Selection</td>\n",
       "      <td>Kiera Cass</td>\n",
       "      <td>1291125</td>\n",
       "      <td>4.10</td>\n",
       "      <td>3.156977</td>\n",
       "      <td>1.456507</td>\n",
       "    </tr>\n",
       "  </tbody>\n",
       "</table>\n",
       "</div>"
      ],
      "text/plain": [
       "                                     book_title              author  \\\n",
       "0                                        Wonder        R.J. Palacio   \n",
       "1                                 Me Before You          Jojo Moyes   \n",
       "2                                   The Martian           Andy Weir   \n",
       "3                               Clockwork Angel     Cassandra Clare   \n",
       "4                                 The Lost Hero        Rick Riordan   \n",
       "5                   All the Light We Cannot See       Anthony Doerr   \n",
       "6                                        Cinder       Marissa Meyer   \n",
       "7                              Ready Player One        Ernest Cline   \n",
       "8                              The Night Circus    Erin Morgenstern   \n",
       "9                                          Room       Emma Donoghue   \n",
       "10                                   Mockingjay     Suzanne Collins   \n",
       "11                                    Gone Girl       Gillian Flynn   \n",
       "12                         A Dance with Dragons  George R.R. Martin   \n",
       "13                               Eleanor & Park      Rainbow Rowell   \n",
       "14                                    Insurgent       Veronica Roth   \n",
       "15                              Throne of Glass       Sarah J. Maas   \n",
       "16                        The Girl on the Train       Paula Hawkins   \n",
       "17  Miss Peregrine's Home for Peculiar Children        Ransom Riggs   \n",
       "18                                    Divergent       Veronica Roth   \n",
       "19                                The Selection          Kiera Cass   \n",
       "\n",
       "    num_ratings  average_rating  sample_average  sample_std  \n",
       "0        959488            4.39        4.491582    0.858638  \n",
       "1       1425019            4.26        4.286689    1.104037  \n",
       "2        981701            4.41        4.178451    1.035750  \n",
       "3        774774            4.31        4.126280    1.000561  \n",
       "4        745475            4.32        4.110345    0.874938  \n",
       "5       1336192            4.32        4.078212    1.191979  \n",
       "6        827752            4.13        4.040678    1.045743  \n",
       "7       1037697            4.24        4.033493    1.190438  \n",
       "8        843432            4.03        3.944637    1.183090  \n",
       "9        774026            4.07        3.817568    1.144106  \n",
       "10      2786281            4.06        3.790541    1.236471  \n",
       "11      2731222            4.11        3.778912    1.195311  \n",
       "12       606327            4.33        3.737931    1.188298  \n",
       "13      1059803            3.97        3.556338    1.499525  \n",
       "14      1361186            3.99        3.551724    1.263434  \n",
       "15       884387            4.19        3.525952    1.361748  \n",
       "16      2573364            3.95        3.495146    1.142302  \n",
       "17      1149966            3.92        3.470588    1.061701  \n",
       "18      3516724            4.16        3.275862    1.386067  \n",
       "19      1291125            4.10        3.156977    1.456507  "
      ]
     },
     "execution_count": 71,
     "metadata": {},
     "output_type": "execute_result"
    }
   ],
   "source": [
    "%sql SELECT books_df.book_title, books_df.author, books_df.num_ratings, \\\n",
    "books_df.average_rating, AVG(rating) AS sample_average, STDDEV(rating) AS sample_std,\\\n",
    "FROM books_df INNER JOIN reviews_df on books_df.book_id = reviews_df.book_id\\\n",
    "GROUP BY books_df.book_title, books_df.author, num_ratings, average_rating, ORDER BY AVG(rating) DESC "
   ]
  },
  {
   "cell_type": "markdown",
   "metadata": {},
   "source": [
    "In a markdown cell, describe any differences between the overall average rating and the average ratings in our sample. Compare the size of the sample to the total. Comment on whether you think this sample is representative, and why.\n",
    "\n",
    "\n",
    "the sample average has a larger variance than the overall average and that's because you take a sample and it is thus a smaller subset of the total. I think the sample average is generally an OK and useable metric but obviously not as good as the overall average-- it gives you a generally good overview of the total average rating and you're able to use to to compare and sort the books. "
   ]
  },
  {
   "cell_type": "markdown",
   "metadata": {
    "problem": 10
   },
   "source": [
    "---\n",
    "\n",
    "## Problem 10 (10 pts)\n",
    "\n",
    "This is a challenging problem that will require you to consult documentation.\n",
    "\n",
    "Create a new data frame `four_books` containing only the ratings for four book titles, which you may select yourself. **Remember to use single quotes `'` for strings in SQL, not double quotes `\"`. Otherwise you will get a RuntimeError stating that a column is missing.**\n",
    "\n",
    "Use a seaborn `FacetGrid` with `book_title` as the columns and `rating` as the `x` variable to display histograms for each book. See the [documentation for FacetGrid](https://seaborn.pydata.org/generated/seaborn.FacetGrid.html) for examples.\n",
    "\n",
    "**Hint: In most cases we have called a function from the seaborn package and passed arguments to that function specifying which variables to use for attributes. For a FacetGrid we first specify the variable to use to divide into multiple sub-plots, then use `map()` to tell seaborn what to put into each sub-plot. Instad of *calling* the function `histplot` we will pass the function itself as an argument.**\n",
    "\n",
    "In a markdown cell, describe the differences and similarities between the distribution of ratings for each of the books.\n",
    "\n",
    "---"
   ]
  },
  {
   "cell_type": "code",
   "execution_count": 62,
   "metadata": {
    "scrolled": true
   },
   "outputs": [
    {
     "name": "stdout",
     "output_type": "stream",
     "text": [
      "Returning data to local variable four_books\n"
     ]
    },
    {
     "data": {
      "text/plain": [
       "<seaborn.axisgrid.FacetGrid at 0x14726faf0>"
      ]
     },
     "execution_count": 62,
     "metadata": {},
     "output_type": "execute_result"
    },
    {
     "data": {
      "image/png": "[encoded data removed]",
      "text/plain": [
       "<Figure size 864x216 with 4 Axes>"
      ]
     },
     "metadata": {
      "needs_background": "light"
     },
     "output_type": "display_data"
    }
   ],
   "source": [
    "%sql four_books << SELECT * FROM book_reviews_df WHERE book_title IN ('The Lost Hero', 'Mockingjay', 'The Girl on the Train', 'Gone Girl' )\n",
    "\n",
    "g = sns.FacetGrid(four_books, col=\"book_title\")\n",
    "g.map_dataframe(sns.histplot, x=\"rating\")\n",
    "\n"
   ]
  },
  {
   "cell_type": "markdown",
   "metadata": {},
   "source": [
    "In a markdown cell, describe the differences and similarities between the distribution of ratings for each of the books.\n",
    "\n",
    "\n",
    "All books have a distribution of rating ranging from 1-5, but it is clear that not all books ranked the same. For example, \"The Lost Hero\" has the fewest bad and also not as many high reviews when compared to the other books, but overall the highest  "
   ]
  },
  {
   "cell_type": "markdown",
   "metadata": {},
   "source": []
  }
 ],
 "metadata": {
  "celltoolbar": "Edit Metadata",
  "kernelspec": {
   "display_name": "Python 3 (ipykernel)",
   "language": "python",
   "name": "python3"
  },
  "language_info": {
   "codemirror_mode": {
    "name": "ipython",
    "version": 3
   },
   "file_extension": ".py",
   "mimetype": "text/x-python",
   "name": "python",
   "nbconvert_exporter": "python",
   "pygments_lexer": "ipython3",
   "version": "3.8.13"
  }
 },
 "nbformat": 4,
 "nbformat_minor": 4
}
