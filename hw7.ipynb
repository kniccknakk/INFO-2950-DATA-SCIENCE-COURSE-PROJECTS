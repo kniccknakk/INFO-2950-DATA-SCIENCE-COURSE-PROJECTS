{
 "cells": [
  {
   "cell_type": "markdown",
   "metadata": {
    "id": "KFFvx1E-CnIc"
   },
   "source": [
    "# INFO 2950 Homework 7"
   ]
  },
  {
   "cell_type": "code",
   "execution_count": 1,
   "metadata": {
    "id": "_goQe0IXC-ld"
   },
   "outputs": [],
   "source": [
    "import numpy as np\n",
    "import pandas as pd"
   ]
  },
  {
   "cell_type": "markdown",
   "metadata": {
    "id": "iMeSHa0uZXIT"
   },
   "source": [
    "## Part 1: Joint and Conditional Probabilities, Bayes' Rule\n",
    "\n",
    "Let's start with a dataset describing El Clásico Primera División soccer matches between Real Madrid and FC Barcelona (data source: https://en.wikipedia.org/wiki/List_of_El_Cl%C3%A1sico_matches). The data are represented by a two dimensional grid where indices (indexed starting at 0) correspond to the number of goals scored by Real Madrid (rows) and Barcelona (columns). \n",
    "\n",
    "The number of matches where Real Madrid scored **i** goals and FC Barcelona scored **j** goals can be found in the cell `soccer_data[i][j]`.  For example, `soccer_data[3, 2]` indicates the number of matches where Real Madrid scored 3 goals and FC Barcelona scored 2 goals; there are 7 matches where this was the final score.\n",
    "\n",
    "We consider an array of size `(9, 9)`, implying that the range of goals scored by either Real Madrid or Barcelona (in any match) is between 0 and 8."
   ]
  },
  {
   "cell_type": "code",
   "execution_count": 2,
   "metadata": {
    "id": "RrwxUU3PBSll"
   },
   "outputs": [],
   "source": [
    "soccer_data = np.array([[9, 14, 9, 8, 3, 5, 0, 0, 0], [8, 16, 13, 9, 0, 2, 0, 0, 0], [11, 21, 7, 5, 2, 0, 1, 1, 0], [7, 6, 7, 2, 1, 0, 0, 0, 0], [3, 4, 1, 1, 0, 0, 0, 0, 0], [2, 3, 0, 1, 0, 1, 0, 0, 0], [0, 1, 0, 0, 0, 0, 0, 0, 0], [0, 0, 0, 0, 0, 0, 0, 0, 0], [0, 0, 1, 0, 0, 0, 0, 0, 0]])"
   ]
  },
  {
   "cell_type": "code",
   "execution_count": 3,
   "metadata": {
    "id": "TSXBqyTPXcf6"
   },
   "outputs": [
    {
     "name": "stdout",
     "output_type": "stream",
     "text": [
      "(9, 9)\n",
      "[[ 9 14  9  8  3  5  0  0  0]\n",
      " [ 8 16 13  9  0  2  0  0  0]\n",
      " [11 21  7  5  2  0  1  1  0]\n",
      " [ 7  6  7  2  1  0  0  0  0]\n",
      " [ 3  4  1  1  0  0  0  0  0]\n",
      " [ 2  3  0  1  0  1  0  0  0]\n",
      " [ 0  1  0  0  0  0  0  0  0]\n",
      " [ 0  0  0  0  0  0  0  0  0]\n",
      " [ 0  0  1  0  0  0  0  0  0]]\n"
     ]
    }
   ],
   "source": [
    "print(soccer_data.shape)\n",
    "print(soccer_data)"
   ]
  },
  {
   "cell_type": "markdown",
   "metadata": {
    "id": "gMxJcUsKWIvM"
   },
   "source": [
    "Let's assume that random variables `R` and `B` denote the number of goals scored by Real Madrid and FC Barcelona, respectively. Remember that `R` and `B` can each take any integer value between 0 and 8.\n",
    "\n",
    "We can think about `El Clásico` statistically by reframing \"matches\" as \"trials\". Then, we let variable `N` represent the total number of trials (in which we sample both of variables `R` and `B`)."
   ]
  },
  {
   "cell_type": "markdown",
   "metadata": {
    "deletable": false,
    "editable": false,
    "id": "P3mnarAoYxP_",
    "problem": 0
   },
   "source": [
    "## Problem 0 (5 Points)"
   ]
  },
  {
   "cell_type": "markdown",
   "metadata": {
    "id": "RWFtH-ofYdM9"
   },
   "source": [
    "Use numpy to compute `N` from `soccer_data`:"
   ]
  },
  {
   "cell_type": "code",
   "execution_count": 4,
   "metadata": {},
   "outputs": [],
   "source": [
    "# your code here\n",
    "N = np.sum(soccer_data)"
   ]
  },
  {
   "cell_type": "markdown",
   "metadata": {
    "deletable": false,
    "editable": false,
    "problem": 1
   },
   "source": [
    "## Problem 1 (10 Points)\n",
    "\n",
    "The probability that `R` will take the value `i` and `B` will take the value `j` is denoted as `Pr(R = i, B = j)` and is called the joint probability of `R = i` and `B = j`.\n",
    "\n",
    "Compute the joint probablity `Pr(R = 4, B = 1)` where Real Madrid scores 4 goals and FC Barcelona scores 1 goal."
   ]
  },
  {
   "cell_type": "code",
   "execution_count": 5,
   "metadata": {},
   "outputs": [
    {
     "name": "stdout",
     "output_type": "stream",
     "text": [
      "0.021621621621621623\n"
     ]
    }
   ],
   "source": [
    "# your code here\n",
    "print((soccer_data[4,1])/N) "
   ]
  },
  {
   "cell_type": "markdown",
   "metadata": {
    "deletable": false,
    "editable": false,
    "problem": 2
   },
   "source": [
    "## Problem 2 (10 Points)\n",
    "\n",
    "`Pr(R = i)` can be derived by marginalizing the random variable from the joint probabilty computed in the previous problem.\n",
    "\n",
    "Compute the probabilty `Pr(R = 4)`. (You may code this either by calculating the probability directly, or though marginalizing the random variable `B` from joint probabilities)."
   ]
  },
  {
   "cell_type": "code",
   "execution_count": 6,
   "metadata": {},
   "outputs": [
    {
     "name": "stdout",
     "output_type": "stream",
     "text": [
      "0.04864864864864865\n"
     ]
    }
   ],
   "source": [
    "# your code here\n",
    "print(np.sum(soccer_data[4])/N) "
   ]
  },
  {
   "cell_type": "markdown",
   "metadata": {
    "narrative": true
   },
   "source": [
    "Now, calculate the conditional probability of FC Barcelona scoring 4 goals given Real Madrid scores 2 goals in that match. Save this value as a variable called `prob_b4_r2` and print the value.  Recall that $$\\Pr \\left[ A | B \\right] = \\frac{\\Pr \\left[ A, B \\right]}{\\Pr \\left[ B \\right]}$$\n",
    "\n",
    "(Notation hint: the conditional probability of `B = j` given `R = i` is expressed as `Pr(B = j | R = i)`.)"
   ]
  },
  {
   "cell_type": "code",
   "execution_count": 7,
   "metadata": {},
   "outputs": [
    {
     "name": "stdout",
     "output_type": "stream",
     "text": [
      "0.041666666666666664\n"
     ]
    }
   ],
   "source": [
    "# your code here\n",
    "prob_b4_r2 = (np.sum(soccer_data[2,4])) / (np.sum(soccer_data[2])) \n",
    "print(prob_b4_r2 ) "
   ]
  },
  {
   "cell_type": "markdown",
   "metadata": {
    "deletable": false,
    "editable": false,
    "problem": 3
   },
   "source": [
    "## Problem 3 (10 Points)"
   ]
  },
  {
   "cell_type": "markdown",
   "metadata": {
    "id": "M0X6ruEW0BuV"
   },
   "source": [
    "Compute the conditional probabilty of Real Madrid scoring 2 goals given that FC Barcelona scores exactly 4 goals in that match by applying Bayes' Rule using the following three steps:\n",
    "\n",
    "First, make a variable called `prob_r2` that calculates the marginal probability that R = 2.\n",
    "\n",
    "Second, make a variable called `prob_b4` that calculates the marginal probability that B = 4.\n",
    "\n",
    "Then, make a variable called `cond_prob` that uses `prob_b4_r2` (from Problem 2), `prob_r2`, and `prob_b4` to calculate the conditional (using Bayes' rule). \n",
    "\n",
    "Finally, print `cond_prob`."
   ]
  },
  {
   "cell_type": "markdown",
   "metadata": {
    "id": "oJKQpkNlztUm"
   },
   "source": [
    "#### Bayes' rule\n",
    "\n",
    "Bayes' rule relates the conditional probability $\\Pr \\left[ A | B \\right]$ to the conditional probability $\\Pr \\left[ B | A \\right]$:\n",
    "\n",
    "$$\\Pr \\left[ A | B \\right] = \\frac{\\Pr \\left[ B | A \\right] \\Pr \\left[ A \\right] }{\\Pr \\left[ B \\right]}$$\n",
    "\n",
    "While this may initially seem mysterious, we can actually derive Bayes' rule by applying two definitions:\n",
    "\n",
    "1. We start with the definition of the probability of $A$ conditioned on $B$:\n",
    "\n",
    "$$\\Pr \\left[ A | B \\right] = \\frac{\\Pr \\left[ A, B \\right]}{\\Pr \\left[ B \\right]}$$\n",
    "\n",
    "2. Now, we can plug in the definition of the joint probability $\\Pr \\left[ A, B \\right] = \\Pr \\left[ B | A \\right] \\Pr \\left[ A \\right]$ in the numerator on the right hand side:\n",
    "\n",
    "$$\\Pr \\left[ A | B \\right] = \\frac{\\Pr \\left[ B | A \\right] \\Pr \\left[ A \\right] }{\\Pr \\left[ B \\right]}$$\n",
    "\n",
    "And we have just derived Bayes' rule!"
   ]
  },
  {
   "cell_type": "code",
   "execution_count": 8,
   "metadata": {},
   "outputs": [
    {
     "name": "stdout",
     "output_type": "stream",
     "text": [
      "0.3333333333333333\n"
     ]
    }
   ],
   "source": [
    "# your code here\n",
    "\n",
    "prob_r2 = (np.sum(soccer_data[2])) \n",
    "prob_b4 = (np.sum(soccer_data[:,4]))\n",
    "\n",
    "cond_prop = (prob_b4_r2)*(prob_r2 )/prob_b4\n",
    "print(cond_prop)\n"
   ]
  },
  {
   "cell_type": "markdown",
   "metadata": {
    "deletable": false,
    "editable": false,
    "problem": 4
   },
   "source": [
    "## Problem 4 (15 Points)\n",
    "Let's say you have a friend with whom you regularly bet against. This friend only ever uses one of four coins (all of the coins have two sides: either heads or tails). Three of these coins are perfectly balanced, landing on heads with 50% probability and tails with 50% probability. The fourth coin is your friend's \"lucky\" coin, which lands on heads 75% of the time (and on tails 25% of the time). Aside from these probabilities, the four coins are perfectly identical. You know your friend has an equal chance of using any of the four coins, but you don't know which one they are using today (perhaps you should reconsider this friendship).\n",
    "\n",
    "Your friend flips one of these coins and it lands on heads. What is the probability that it is your friend's \"lucky\" coin?\n",
    "\n",
    "**Use markdown to write an explanation of your solution. Use the Python cell below to type your arithmetic calculations and output your answer.**"
   ]
  },
  {
   "cell_type": "markdown",
   "metadata": {},
   "source": [
    "**Answer here**\n",
    "\n",
    "we can use bayes' theorem to solve this problem. \n",
    "pr(lucky|heads) = pr(heads|lucky)pr(lucky)/pr(heads) \n",
    "\n",
    "pr(heads|lucky) = probability of heads given the lucky coin = .75 \n",
    "\n",
    "pr(lucky) = probability of using the lucky coin = .25 \n",
    "\n",
    "pr(heads) = probability of getting heads overall =  pr(heads|lucky) * pr(lucky) + pr(heads|notlucky) * pr(notlucky) = .75*.25 + .5*.75\n",
    "\n",
    "\n",
    "we plug these values into our formula like this: \n",
    "((.25*.75)/ (.75*.25 + .5*.75)) = 1/3 \n",
    "\n",
    "1/3 is our answer"
   ]
  },
  {
   "cell_type": "code",
   "execution_count": 9,
   "metadata": {},
   "outputs": [
    {
     "name": "stdout",
     "output_type": "stream",
     "text": [
      "0.3333333333333333\n"
     ]
    }
   ],
   "source": [
    "# your code here\n",
    "\n",
    "print((.25*.75)/ (.75*.25 + .5*.75)) "
   ]
  },
  {
   "cell_type": "markdown",
   "metadata": {
    "deletable": false,
    "editable": false,
    "problem": 5
   },
   "source": [
    "## Part 2: Log probability and sequences of events\n",
    "\n",
    "## Problem 5 (10 Points)\n",
    "\n",
    "In class we calculated the probability of ghost or pumpkin from two \"urns\", and used those numbers to guess which urn was more likely to have produced that sequence of emoji.\n",
    "In this problem you will do the same thing but with a sequence of letters. Instead of urns, you will compare the probability of each sequence of letters to the probability of each letter for several European languages.\n",
    "\n",
    "Start by loading letter frequency data from the file `letter_frequency.csv`. This data is from [Wikipedia](https://en.wikipedia.org/wiki/Letter_frequency#Relative_frequencies_of_letters_in_other_languages), collected by Adrianus Kleemans in a data file at [this Github repo](https://github.com/akleemans/letter-frequency).\n",
    "\n",
    "Look at the contents of the file `letter_frequency.csv` in a text editor, or through Jupyter. Describe one fact that is unusual about this CSV file."
   ]
  },
  {
   "cell_type": "code",
   "execution_count": 10,
   "metadata": {},
   "outputs": [
    {
     "data": {
      "text/html": [
       "<div>\n",
       "<style scoped>\n",
       "    .dataframe tbody tr th:only-of-type {\n",
       "        vertical-align: middle;\n",
       "    }\n",
       "\n",
       "    .dataframe tbody tr th {\n",
       "        vertical-align: top;\n",
       "    }\n",
       "\n",
       "    .dataframe thead th {\n",
       "        text-align: right;\n",
       "    }\n",
       "</style>\n",
       "<table border=\"1\" class=\"dataframe\">\n",
       "  <thead>\n",
       "    <tr style=\"text-align: right;\">\n",
       "      <th></th>\n",
       "      <th>Letter;French;German;Spanish;Portuguese;Esperanto;Italian;Turkish;Swedish;Polish;Dutch;Danish;Icelandic;Finnish;Czech</th>\n",
       "    </tr>\n",
       "  </thead>\n",
       "  <tbody>\n",
       "    <tr>\n",
       "      <th>0</th>\n",
       "      <td>a;7.636;6.516;11.525;14.634;12.117;11.745;12.9...</td>\n",
       "    </tr>\n",
       "    <tr>\n",
       "      <th>1</th>\n",
       "      <td>b;0.901;1.886;2.215;1.043;0.980;0.927;2.844;1....</td>\n",
       "    </tr>\n",
       "    <tr>\n",
       "      <th>2</th>\n",
       "      <td>c;3.260;2.732;4.019;3.882;0.776;4.501;1.463;1....</td>\n",
       "    </tr>\n",
       "    <tr>\n",
       "      <th>3</th>\n",
       "      <td>d;3.669;5.076;5.010;4.992;3.044;3.736;5.206;4....</td>\n",
       "    </tr>\n",
       "    <tr>\n",
       "      <th>4</th>\n",
       "      <td>e;14.715;16.396;12.181;12.570;8.995;11.792;9.9...</td>\n",
       "    </tr>\n",
       "    <tr>\n",
       "      <th>...</th>\n",
       "      <td>...</td>\n",
       "    </tr>\n",
       "    <tr>\n",
       "      <th>77</th>\n",
       "      <td>ŭ;0;0;0;0;0.520;0;0;0;0;0;0;0;0;0</td>\n",
       "    </tr>\n",
       "    <tr>\n",
       "      <th>78</th>\n",
       "      <td>ů;0;0;0;0;0;0;0;0;0;0;0;0;0;0.204</td>\n",
       "    </tr>\n",
       "    <tr>\n",
       "      <th>79</th>\n",
       "      <td>ź;0;0;0;0;0;0;0;0;0.078;0;0;0;0;0</td>\n",
       "    </tr>\n",
       "    <tr>\n",
       "      <th>80</th>\n",
       "      <td>ż;0;0;0;0;0;0;0;0;0.706;0;0;0;0;0</td>\n",
       "    </tr>\n",
       "    <tr>\n",
       "      <th>81</th>\n",
       "      <td>ž;0;0;0;0;0;0;0;0;0;0;0;0;0;0.721</td>\n",
       "    </tr>\n",
       "  </tbody>\n",
       "</table>\n",
       "<p>82 rows × 1 columns</p>\n",
       "</div>"
      ],
      "text/plain": [
       "   Letter;French;German;Spanish;Portuguese;Esperanto;Italian;Turkish;Swedish;Polish;Dutch;Danish;Icelandic;Finnish;Czech\n",
       "0   a;7.636;6.516;11.525;14.634;12.117;11.745;12.9...                                                                   \n",
       "1   b;0.901;1.886;2.215;1.043;0.980;0.927;2.844;1....                                                                   \n",
       "2   c;3.260;2.732;4.019;3.882;0.776;4.501;1.463;1....                                                                   \n",
       "3   d;3.669;5.076;5.010;4.992;3.044;3.736;5.206;4....                                                                   \n",
       "4   e;14.715;16.396;12.181;12.570;8.995;11.792;9.9...                                                                   \n",
       "..                                                ...                                                                   \n",
       "77                  ŭ;0;0;0;0;0.520;0;0;0;0;0;0;0;0;0                                                                   \n",
       "78                  ů;0;0;0;0;0;0;0;0;0;0;0;0;0;0.204                                                                   \n",
       "79                  ź;0;0;0;0;0;0;0;0;0.078;0;0;0;0;0                                                                   \n",
       "80                  ż;0;0;0;0;0;0;0;0;0.706;0;0;0;0;0                                                                   \n",
       "81                  ž;0;0;0;0;0;0;0;0;0;0;0;0;0;0.721                                                                   \n",
       "\n",
       "[82 rows x 1 columns]"
      ]
     },
     "execution_count": 10,
     "metadata": {},
     "output_type": "execute_result"
    }
   ],
   "source": [
    "pd.read_csv(\"letter_frequency.csv\")"
   ]
  },
  {
   "cell_type": "markdown",
   "metadata": {},
   "source": [
    "**Answer here**\n",
    "The semicolons are something I found unusual, and its not really in a standard dataframe format. \n"
   ]
  },
  {
   "cell_type": "markdown",
   "metadata": {
    "deletable": false,
    "editable": false,
    "problem": 6
   },
   "source": [
    "## Problem 6 (10 Points)\n",
    "\n",
    "Use the function `pandas.read_csv` to load the letter frequencies file. Consult the documentation for this function to specify the correct delimiter and to use the field `Letter` as the index column. Save the output in a variable `letter_data`.\n",
    "\n",
    "The numeric values in the file are percentages, but we want probabilities. Multiply the `letter_data` data frame by `0.01`. Use the function `head` to display the first five rows of the data frame, to confirm that you separated the fields correctly. The value for `a` in `French` should be 0.07636."
   ]
  },
  {
   "cell_type": "code",
   "execution_count": 11,
   "metadata": {},
   "outputs": [
    {
     "data": {
      "text/html": [
       "<div>\n",
       "<style scoped>\n",
       "    .dataframe tbody tr th:only-of-type {\n",
       "        vertical-align: middle;\n",
       "    }\n",
       "\n",
       "    .dataframe tbody tr th {\n",
       "        vertical-align: top;\n",
       "    }\n",
       "\n",
       "    .dataframe thead th {\n",
       "        text-align: right;\n",
       "    }\n",
       "</style>\n",
       "<table border=\"1\" class=\"dataframe\">\n",
       "  <thead>\n",
       "    <tr style=\"text-align: right;\">\n",
       "      <th></th>\n",
       "      <th>French</th>\n",
       "      <th>German</th>\n",
       "      <th>Spanish</th>\n",
       "      <th>Portuguese</th>\n",
       "      <th>Esperanto</th>\n",
       "      <th>Italian</th>\n",
       "      <th>Turkish</th>\n",
       "      <th>Swedish</th>\n",
       "      <th>Polish</th>\n",
       "      <th>Dutch</th>\n",
       "      <th>Danish</th>\n",
       "      <th>Icelandic</th>\n",
       "      <th>Finnish</th>\n",
       "      <th>Czech</th>\n",
       "    </tr>\n",
       "    <tr>\n",
       "      <th>Letter</th>\n",
       "      <th></th>\n",
       "      <th></th>\n",
       "      <th></th>\n",
       "      <th></th>\n",
       "      <th></th>\n",
       "      <th></th>\n",
       "      <th></th>\n",
       "      <th></th>\n",
       "      <th></th>\n",
       "      <th></th>\n",
       "      <th></th>\n",
       "      <th></th>\n",
       "      <th></th>\n",
       "      <th></th>\n",
       "    </tr>\n",
       "  </thead>\n",
       "  <tbody>\n",
       "    <tr>\n",
       "      <th>a</th>\n",
       "      <td>0.07636</td>\n",
       "      <td>0.06516</td>\n",
       "      <td>0.11525</td>\n",
       "      <td>0.14634</td>\n",
       "      <td>0.12117</td>\n",
       "      <td>0.11745</td>\n",
       "      <td>0.12920</td>\n",
       "      <td>0.09383</td>\n",
       "      <td>0.10503</td>\n",
       "      <td>0.07486</td>\n",
       "      <td>0.06025</td>\n",
       "      <td>0.10110</td>\n",
       "      <td>0.12217</td>\n",
       "      <td>0.08421</td>\n",
       "    </tr>\n",
       "    <tr>\n",
       "      <th>b</th>\n",
       "      <td>0.00901</td>\n",
       "      <td>0.01886</td>\n",
       "      <td>0.02215</td>\n",
       "      <td>0.01043</td>\n",
       "      <td>0.00980</td>\n",
       "      <td>0.00927</td>\n",
       "      <td>0.02844</td>\n",
       "      <td>0.01535</td>\n",
       "      <td>0.01740</td>\n",
       "      <td>0.01584</td>\n",
       "      <td>0.02000</td>\n",
       "      <td>0.01043</td>\n",
       "      <td>0.00281</td>\n",
       "      <td>0.00822</td>\n",
       "    </tr>\n",
       "    <tr>\n",
       "      <th>c</th>\n",
       "      <td>0.03260</td>\n",
       "      <td>0.02732</td>\n",
       "      <td>0.04019</td>\n",
       "      <td>0.03882</td>\n",
       "      <td>0.00776</td>\n",
       "      <td>0.04501</td>\n",
       "      <td>0.01463</td>\n",
       "      <td>0.01486</td>\n",
       "      <td>0.03895</td>\n",
       "      <td>0.01242</td>\n",
       "      <td>0.00565</td>\n",
       "      <td>0.00000</td>\n",
       "      <td>0.00281</td>\n",
       "      <td>0.00740</td>\n",
       "    </tr>\n",
       "    <tr>\n",
       "      <th>d</th>\n",
       "      <td>0.03669</td>\n",
       "      <td>0.05076</td>\n",
       "      <td>0.05010</td>\n",
       "      <td>0.04992</td>\n",
       "      <td>0.03044</td>\n",
       "      <td>0.03736</td>\n",
       "      <td>0.05206</td>\n",
       "      <td>0.04702</td>\n",
       "      <td>0.03725</td>\n",
       "      <td>0.05933</td>\n",
       "      <td>0.05858</td>\n",
       "      <td>0.01575</td>\n",
       "      <td>0.01043</td>\n",
       "      <td>0.03475</td>\n",
       "    </tr>\n",
       "    <tr>\n",
       "      <th>e</th>\n",
       "      <td>0.14715</td>\n",
       "      <td>0.16396</td>\n",
       "      <td>0.12181</td>\n",
       "      <td>0.12570</td>\n",
       "      <td>0.08995</td>\n",
       "      <td>0.11792</td>\n",
       "      <td>0.09912</td>\n",
       "      <td>0.10149</td>\n",
       "      <td>0.07352</td>\n",
       "      <td>0.17324</td>\n",
       "      <td>0.15453</td>\n",
       "      <td>0.06418</td>\n",
       "      <td>0.07968</td>\n",
       "      <td>0.07562</td>\n",
       "    </tr>\n",
       "  </tbody>\n",
       "</table>\n",
       "</div>"
      ],
      "text/plain": [
       "         French   German  Spanish  Portuguese  Esperanto  Italian  Turkish  \\\n",
       "Letter                                                                       \n",
       "a       0.07636  0.06516  0.11525     0.14634    0.12117  0.11745  0.12920   \n",
       "b       0.00901  0.01886  0.02215     0.01043    0.00980  0.00927  0.02844   \n",
       "c       0.03260  0.02732  0.04019     0.03882    0.00776  0.04501  0.01463   \n",
       "d       0.03669  0.05076  0.05010     0.04992    0.03044  0.03736  0.05206   \n",
       "e       0.14715  0.16396  0.12181     0.12570    0.08995  0.11792  0.09912   \n",
       "\n",
       "        Swedish   Polish    Dutch   Danish  Icelandic  Finnish    Czech  \n",
       "Letter                                                                   \n",
       "a       0.09383  0.10503  0.07486  0.06025    0.10110  0.12217  0.08421  \n",
       "b       0.01535  0.01740  0.01584  0.02000    0.01043  0.00281  0.00822  \n",
       "c       0.01486  0.03895  0.01242  0.00565    0.00000  0.00281  0.00740  \n",
       "d       0.04702  0.03725  0.05933  0.05858    0.01575  0.01043  0.03475  \n",
       "e       0.10149  0.07352  0.17324  0.15453    0.06418  0.07968  0.07562  "
      ]
     },
     "execution_count": 11,
     "metadata": {},
     "output_type": "execute_result"
    }
   ],
   "source": [
    "# your code here\n",
    "letter_data = pd.read_csv(\"letter_frequency.csv\", delimiter=\";\", index_col=\"Letter\")\n",
    "letter_data = letter_data*0.01\n",
    "letter_data.head()"
   ]
  },
  {
   "cell_type": "markdown",
   "metadata": {
    "deletable": false,
    "editable": false,
    "problem": 7
   },
   "source": [
    "## Problem 7 (10 Points)\n",
    "\n",
    "Create a variable `polish` and set it equal to the column for `\"Polish\"` from the data frame. Print the first 26 values of this series. Which English letters are not used in Polish?\n",
    "\n",
    "Use the `.loc` accessor to get the row in the original data set for `\"c\"`. Print this row. Then print the log of the row (use `np.log()`). \n",
    "\n",
    "Which language has the highest probability of *c*? \n",
    "How can you tell from the log probabilities which language has the highest probability?\n",
    "Which language does not use the letter *c*? What happens to the log probability for that language?"
   ]
  },
  {
   "cell_type": "code",
   "execution_count": 12,
   "metadata": {},
   "outputs": [
    {
     "name": "stdout",
     "output_type": "stream",
     "text": [
      "Letter\n",
      "a    0.10503\n",
      "b    0.01740\n",
      "c    0.03895\n",
      "d    0.03725\n",
      "e    0.07352\n",
      "f    0.00143\n",
      "g    0.01731\n",
      "h    0.01015\n",
      "i    0.08328\n",
      "j    0.01836\n",
      "k    0.02753\n",
      "l    0.02564\n",
      "m    0.02515\n",
      "n    0.06237\n",
      "o    0.06667\n",
      "p    0.02445\n",
      "q    0.00000\n",
      "r    0.05243\n",
      "s    0.05224\n",
      "t    0.02475\n",
      "u    0.02062\n",
      "v    0.00012\n",
      "w    0.05813\n",
      "x    0.00004\n",
      "y    0.03206\n",
      "z    0.04852\n",
      "Name: Polish, dtype: float64\n",
      "French        0.03260\n",
      "German        0.02732\n",
      "Spanish       0.04019\n",
      "Portuguese    0.03882\n",
      "Esperanto     0.00776\n",
      "Italian       0.04501\n",
      "Turkish       0.01463\n",
      "Swedish       0.01486\n",
      "Polish        0.03895\n",
      "Dutch         0.01242\n",
      "Danish        0.00565\n",
      "Icelandic     0.00000\n",
      "Finnish       0.00281\n",
      "Czech         0.00740\n",
      "Name: c, dtype: float64\n",
      "French       -3.423443\n",
      "German       -3.600136\n",
      "Spanish      -3.214137\n",
      "Portuguese   -3.248820\n",
      "Esperanto    -4.858773\n",
      "Italian      -3.100871\n",
      "Turkish      -4.224681\n",
      "Swedish      -4.209082\n",
      "Polish       -3.245477\n",
      "Dutch        -4.388447\n",
      "Danish       -5.176100\n",
      "Icelandic         -inf\n",
      "Finnish      -5.874571\n",
      "Czech        -4.906275\n",
      "Name: c, dtype: float64\n"
     ]
    },
    {
     "name": "stderr",
     "output_type": "stream",
     "text": [
      "/Applications/anaconda3/envs/info2950/lib/python3.8/site-packages/pandas/core/arraylike.py:397: RuntimeWarning: divide by zero encountered in log\n",
      "  result = getattr(ufunc, method)(*inputs, **kwargs)\n"
     ]
    }
   ],
   "source": [
    "# your code here\n",
    "polish = letter_data[\"Polish\"]\n",
    "print(polish.head(n=26) ) \n",
    "\n",
    "crow = letter_data.loc[\"c\"]\n",
    "print(crow) \n",
    "\n",
    "print(np.log(crow)) "
   ]
  },
  {
   "cell_type": "markdown",
   "metadata": {},
   "source": [
    "**Answer here**\n",
    "\n",
    "q, x, and v do not seem to be used in polish.\n",
    "\n",
    "Italian has the highest probability and from log probabilities I can tell because Italian has the highest log probability (they're all negative and it is the closest to 0) Icelandic does not use the letter C and for this, the log probability is negative infinity. \n"
   ]
  },
  {
   "cell_type": "markdown",
   "metadata": {
    "deletable": false,
    "editable": false,
    "problem": 8
   },
   "source": [
    "## Problem 8 (10 Points)\n",
    "\n",
    "Create a function `get_scores` that takes one argument, a string `s`.\n",
    "\n",
    "In this function:\n",
    "\n",
    "* Set `s` equal to `s` but lower case.\n",
    "* Use the function `np.zeros` to create a variable `language_scores` that allocates an array of 14 zeros (one for each language).\n",
    "* Write a `for` loop that iterates over each letter in `s`. Remember that a Python string is an array of letters! If the letter is in the `index` for `letter_data`, add the log of the row for the letter to `language_scores` (remember in numpy you can add the entire array with one operation).\n",
    "* Return `language_scores`.\n",
    "\n",
    "Use the `get_scores` function to evaluate the log probability of the string `\"abc\"`.  The log function may produce errors, you can ignore these. The value for French should be -10.705159 and `-inf` for Icelandic.\n",
    "\n",
    "Which language is most likely to have produced this string? Why is Icelandic negative infinity?"
   ]
  },
  {
   "cell_type": "code",
   "execution_count": 13,
   "metadata": {},
   "outputs": [
    {
     "data": {
      "text/plain": [
       "French       -10.705159\n",
       "German       -10.301758\n",
       "Spanish       -9.184706\n",
       "Portuguese    -9.733711\n",
       "Esperanto    -11.594707\n",
       "Italian       -9.923585\n",
       "Turkish       -9.831033\n",
       "Swedish      -10.751993\n",
       "Polish        -9.550271\n",
       "Dutch        -11.125800\n",
       "Danish       -11.897375\n",
       "Icelandic          -inf\n",
       "Finnish      -13.851483\n",
       "Czech        -12.181902\n",
       "Name: a, dtype: float64"
      ]
     },
     "execution_count": 13,
     "metadata": {},
     "output_type": "execute_result"
    }
   ],
   "source": [
    "# your code here\n",
    "\n",
    "def get_scores(s): \n",
    "    language_scores = np.zeros(14) \n",
    "    for i in s: \n",
    "        if i in letter_data.index: \n",
    "            language_scores+= (np.log(letter_data.loc[i])) \n",
    "    return language_scores\n",
    "\n",
    "get_scores(\"abc\")"
   ]
  },
  {
   "cell_type": "markdown",
   "metadata": {},
   "source": [
    "**Answer here**\n",
    "\n",
    "the log probability for spanish is the closet to 0 so it is the most likely to have produced this string. Icelandic is negative infinity because the string contains the letter c, which does not occur in icelandic, so icelandic could not have produced this string (according to our previous coding work and knowledge). "
   ]
  },
  {
   "cell_type": "markdown",
   "metadata": {
    "deletable": false,
    "editable": false,
    "problem": 9
   },
   "source": [
    "## Problem 9 (10 Points)\n",
    "\n",
    "We have selected several short passages from Wikipedias in different languages. These languages are (in alphabetical order---not necessarily the order of the questions below) Dutch, Finnish, German, Icelandic, Italian, Polish, and Portuguese. Attempt to identify each language by computing log-likelihood of each observation under each language model. Compare your guess with your own knowledge OR the result you get by using Google Translate to auto-detect the language of each passage. If your guess doesn't agree with the auto-detected language, comment on why that might be (for example, by specifying any letters or phrases that might be particularly identifying of a language)."
   ]
  },
  {
   "cell_type": "markdown",
   "metadata": {
    "id": "_bjnqfz-G4MW"
   },
   "source": [
    "**(9.1)** `Shorttrack is een schaatsrace op een ijshockeybaan. In tegenstelling tot het langebaanschaatsen is de tijd van een rijder niet van belang: vier tot zes rijders starten tegelijk en wie als eerste over de finish komt, heeft gewonnen.`"
   ]
  },
  {
   "cell_type": "code",
   "execution_count": 14,
   "metadata": {},
   "outputs": [
    {
     "data": {
      "text/plain": [
       "French       -575.739088\n",
       "German       -547.545694\n",
       "Spanish      -585.844154\n",
       "Portuguese   -600.353705\n",
       "Esperanto           -inf\n",
       "Italian      -603.701997\n",
       "Turkish             -inf\n",
       "Swedish      -552.569848\n",
       "Polish       -607.324313\n",
       "Dutch        -532.972669\n",
       "Danish       -554.421066\n",
       "Icelandic           -inf\n",
       "Finnish      -583.866066\n",
       "Czech        -614.471165\n",
       "Name: h, dtype: float64"
      ]
     },
     "execution_count": 14,
     "metadata": {},
     "output_type": "execute_result"
    }
   ],
   "source": [
    "# your code here\n",
    "s = \"Shorttrack is een schaatsrace op een ijshockeybaan. In tegenstelling tot het langebaanschaatsen is de tijd van een rijder niet van belang: vier tot zes rijders starten tegelijk en wie als eerste over de finish komt, heeft gewonnen.\"\n",
    "get_scores(s)"
   ]
  },
  {
   "cell_type": "markdown",
   "metadata": {},
   "source": [
    "**Answer here**\n",
    "\n",
    "Dutch        -532.972669 is the highest log-likelihood. This is the correct answer. \n"
   ]
  },
  {
   "cell_type": "markdown",
   "metadata": {
    "id": "gp3aZcMUHH0Y"
   },
   "source": [
    "**(9.2)** `Per poetica e pensiero di Alessandro Manzoni si intendono le convinzioni poetiche, stilistiche, linguistiche ed ideologiche che hanno delineato la parabola esistenziale e letteraria di Manzoni dagli esordi giacobini e neoclassici fino alla morte.`"
   ]
  },
  {
   "cell_type": "code",
   "execution_count": 15,
   "metadata": {},
   "outputs": [
    {
     "data": {
      "text/plain": [
       "French       -588.514487\n",
       "German       -594.089831\n",
       "Spanish      -582.306212\n",
       "Portuguese   -595.651396\n",
       "Esperanto    -597.590241\n",
       "Italian      -563.438855\n",
       "Turkish      -609.347687\n",
       "Swedish      -606.164488\n",
       "Polish       -617.853315\n",
       "Dutch        -581.886110\n",
       "Danish       -616.670512\n",
       "Icelandic           -inf\n",
       "Finnish      -632.107166\n",
       "Czech        -645.158867\n",
       "Name: e, dtype: float64"
      ]
     },
     "execution_count": 15,
     "metadata": {},
     "output_type": "execute_result"
    }
   ],
   "source": [
    "# your code here\n",
    "s = 'Per poetica e pensiero di Alessandro Manzoni si intendono le convinzioni poetiche, stilistiche, linguistiche ed ideologiche che hanno delineato la parabola esistenziale e letteraria di Manzoni dagli esordi giacobini e neoclassici fino alla morte.'\n",
    "get_scores(s)"
   ]
  },
  {
   "cell_type": "markdown",
   "metadata": {},
   "source": [
    "**Answer here**\n",
    "Italian      -563.438855 is the highest log likelihood. This is the correct answer. \n"
   ]
  },
  {
   "cell_type": "markdown",
   "metadata": {
    "id": "vLLbu85OHRpt"
   },
   "source": [
    "**(9.3)** `Kiinalaisen Wuhanin kaupungin hallinto määräsi koronaviruksen oireita osoittavat henkilöt erityiselle karanteenivyöhykkeelle hallintopakon uhalla.`"
   ]
  },
  {
   "cell_type": "code",
   "execution_count": 16,
   "metadata": {},
   "outputs": [
    {
     "data": {
      "text/plain": [
       "French              -inf\n",
       "German       -412.444311\n",
       "Spanish             -inf\n",
       "Portuguese          -inf\n",
       "Esperanto           -inf\n",
       "Italian             -inf\n",
       "Turkish             -inf\n",
       "Swedish      -386.896675\n",
       "Polish              -inf\n",
       "Dutch               -inf\n",
       "Danish              -inf\n",
       "Icelandic           -inf\n",
       "Finnish      -368.933277\n",
       "Czech               -inf\n",
       "Name: i, dtype: float64"
      ]
     },
     "execution_count": 16,
     "metadata": {},
     "output_type": "execute_result"
    }
   ],
   "source": [
    "# your code here\n",
    "s = 'Kiinalaisen Wuhanin kaupungin hallinto määräsi koronaviruksen oireita osoittavat henkilöt erityiselle karanteenivyöhykkeelle hallintopakon uhalla'\n",
    "get_scores(s)"
   ]
  },
  {
   "cell_type": "markdown",
   "metadata": {},
   "source": [
    "**Answer here**\n",
    "\n",
    "Finnish      -368.933277 is the highest log-likelihood, this is the correct answer. "
   ]
  },
  {
   "cell_type": "markdown",
   "metadata": {
    "id": "tYQbq7JtHW9m"
   },
   "source": [
    "**(9.4)** `Útganga Breta úr Evrópusambandinu eða í daglegu tali Brexit (sambland af ensku orðunum British „breskur“ og exit „útganga“) var úrsögn Bretlands úr Evrópusambandinu (ESB).`"
   ]
  },
  {
   "cell_type": "code",
   "execution_count": 17,
   "metadata": {},
   "outputs": [
    {
     "data": {
      "text/plain": [
       "French              -inf\n",
       "German              -inf\n",
       "Spanish             -inf\n",
       "Portuguese          -inf\n",
       "Esperanto           -inf\n",
       "Italian             -inf\n",
       "Turkish             -inf\n",
       "Swedish             -inf\n",
       "Polish              -inf\n",
       "Dutch               -inf\n",
       "Danish              -inf\n",
       "Icelandic    -406.460008\n",
       "Finnish             -inf\n",
       "Czech               -inf\n",
       "Name: t, dtype: float64"
      ]
     },
     "execution_count": 17,
     "metadata": {},
     "output_type": "execute_result"
    }
   ],
   "source": [
    "# your code here\n",
    "s = 'Útganga Breta úr Evrópusambandinu eða í daglegu tali Brexit (sambland af ensku orðunum British „breskur“ og exit „útganga“) var úrsögn Bretlands úr Evrópusambandinu (ESB).'\n",
    "get_scores(s)"
   ]
  },
  {
   "cell_type": "markdown",
   "metadata": {},
   "source": [
    "**Answer here**\n",
    "\n",
    "Icelandic has the highest log likelihood and this is the correct answer. \n"
   ]
  },
  {
   "cell_type": "markdown",
   "metadata": {
    "id": "PmO8ygu3Hkdi"
   },
   "source": [
    "**(9.5)** `Ihre Bausteine sind vier verschiedene Nukleotide, die jeweils aus einem Phosphatrest, dem Zucker Desoxyribose und einer von vier organischen Basen bestehen.`"
   ]
  },
  {
   "cell_type": "code",
   "execution_count": 18,
   "metadata": {},
   "outputs": [
    {
     "data": {
      "text/plain": [
       "French       -371.322146\n",
       "German       -360.742677\n",
       "Spanish      -381.337360\n",
       "Portuguese   -388.961882\n",
       "Esperanto           -inf\n",
       "Italian      -393.382415\n",
       "Turkish             -inf\n",
       "Swedish      -370.749294\n",
       "Polish       -412.096882\n",
       "Dutch        -358.896398\n",
       "Danish       -368.541993\n",
       "Icelandic           -inf\n",
       "Finnish      -388.617096\n",
       "Czech        -400.647911\n",
       "Name: h, dtype: float64"
      ]
     },
     "execution_count": 18,
     "metadata": {},
     "output_type": "execute_result"
    }
   ],
   "source": [
    "# your code here\n",
    "s = 'Ihre Bausteine sind vier verschiedene Nukleotide, die jeweils aus einem Phosphatrest, dem Zucker Desoxyribose und einer von vier organischen Basen bestehen.'\n",
    "get_scores(s)"
   ]
  },
  {
   "cell_type": "markdown",
   "metadata": {},
   "source": [
    "**Answer here**\n",
    "\n",
    "German       -360.742677 has the highest log likelihood and this is the correct answer. "
   ]
  },
  {
   "cell_type": "markdown",
   "metadata": {
    "id": "n6L0l3OrHgYZ"
   },
   "source": [
    "**(9.6)** `Facebook, a maior mídia social e rede social virtual do mundo, é fundada por Mark Zuckerberg e seus colegas Eduardo Saverin, Andrew McCollum, Dustin Moskovitz e Chris Hughes, alunos da Universidade de Harvard.`"
   ]
  },
  {
   "cell_type": "code",
   "execution_count": 19,
   "metadata": {},
   "outputs": [
    {
     "data": {
      "text/plain": [
       "French              -inf\n",
       "German              -inf\n",
       "Spanish      -483.625323\n",
       "Portuguese   -483.514258\n",
       "Esperanto           -inf\n",
       "Italian             -inf\n",
       "Turkish             -inf\n",
       "Swedish             -inf\n",
       "Polish              -inf\n",
       "Dutch               -inf\n",
       "Danish              -inf\n",
       "Icelandic           -inf\n",
       "Finnish             -inf\n",
       "Czech        -510.976585\n",
       "Name: a, dtype: float64"
      ]
     },
     "execution_count": 19,
     "metadata": {},
     "output_type": "execute_result"
    }
   ],
   "source": [
    "# your code here\n",
    "s = 'Facebook, a maior mídia social e rede social virtual do mundo, é fundada por Mark Zuckerberg e seus colegas Eduardo Saverin, Andrew McCollum, Dustin Moskovitz e Chris Hughes, alunos da Universidade de Harvard'\n",
    "get_scores(s)"
   ]
  },
  {
   "cell_type": "markdown",
   "metadata": {},
   "source": [
    "**Answer here**\n",
    "Portuguese   -483.514258 has the highest log-likelihood and this is the correct answer"
   ]
  },
  {
   "cell_type": "markdown",
   "metadata": {
    "id": "ulGDeOftHbdp"
   },
   "source": [
    "**(9.7)** `Od początku zawodowej kariery zawodnik Los Angeles Lakers. Razem z Shaquille’em O’Nealem poprowadził zespół do trzech mistrzostw z rzędu w latach 2000–2002. Po odejściu z Lakers O’Neala, Bryant został główną postacią klubu.`"
   ]
  },
  {
   "cell_type": "code",
   "execution_count": 20,
   "metadata": {},
   "outputs": [
    {
     "data": {
      "text/plain": [
       "French       -inf\n",
       "German       -inf\n",
       "Spanish      -inf\n",
       "Portuguese   -inf\n",
       "Esperanto    -inf\n",
       "Italian      -inf\n",
       "Turkish      -inf\n",
       "Swedish      -inf\n",
       "Polish       -inf\n",
       "Dutch        -inf\n",
       "Danish       -inf\n",
       "Icelandic    -inf\n",
       "Finnish      -inf\n",
       "Czech        -inf\n",
       "Name: d, dtype: float64"
      ]
     },
     "execution_count": 20,
     "metadata": {},
     "output_type": "execute_result"
    }
   ],
   "source": [
    "# your code here\n",
    "s = 'Od początku zawodowej kariery zawodnik Los Angeles Lakers. Razem z Shaquille’em O’Nealem poprowadził zespół do trzech mistrzostw z rzędu w latach 2000–2002. Po odejściu z Lakers O’Neala, Bryant został główną postacią klubu.'\n",
    "get_scores(s)"
   ]
  },
  {
   "cell_type": "markdown",
   "metadata": {},
   "source": [
    "**Answer here**\n",
    "\n",
    "the output returns `-inf` for each language so we are not really able to make a guess. the correct answer is polish, and the reason why our code ruled out polish is because the sentence contains the letter \"q\" in someone's name, which of course is allowed in the polish language but our code/algorithm has not made an allowance for this: q can be used in polish in names and quotes, but it is not a naturally occuring letter. Our code doesn't make this key distinction"
   ]
  },
  {
   "cell_type": "code",
   "execution_count": null,
   "metadata": {},
   "outputs": [],
   "source": []
  }
 ],
 "metadata": {
  "celltoolbar": "Edit Metadata",
  "colab": {
   "collapsed_sections": [],
   "provenance": []
  },
  "kernelspec": {
   "display_name": "Python 3 (ipykernel)",
   "language": "python",
   "name": "python3"
  },
  "language_info": {
   "codemirror_mode": {
    "name": "ipython",
    "version": 3
   },
   "file_extension": ".py",
   "mimetype": "text/x-python",
   "name": "python",
   "nbconvert_exporter": "python",
   "pygments_lexer": "ipython3",
   "version": "3.8.13"
  }
 },
 "nbformat": 4,
 "nbformat_minor": 1
}
